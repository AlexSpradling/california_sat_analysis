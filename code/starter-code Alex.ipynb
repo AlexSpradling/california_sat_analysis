{
 "cells": [
  {
   "cell_type": "markdown",
   "metadata": {},
   "source": [
    "<img src=\"http://imgur.com/1ZcRyrc.png\" style=\"float: left; margin: 20px; height: 55px\">\n",
    "\n",
    "# Project 1: Standardized Test Analysis"
   ]
  },
  {
   "cell_type": "markdown",
   "metadata": {},
   "source": [
    "--- \n",
    "# Part 1\n",
    "\n",
    "Part 1 requires knowledge of basic Python.\n",
    "\n",
    "---"
   ]
  },
  {
   "cell_type": "markdown",
   "metadata": {},
   "source": [
    "## Problem Statement"
   ]
  },
  {
   "cell_type": "markdown",
   "metadata": {},
   "source": [
    "Decide on your problem statement that will guide your analysis for this project. For guidelines, sample prompts, or inspiration, check out the README.\n",
    "\n",
    "**To-Do:** *Replace this cell with your problem statement.*"
   ]
  },
  {
   "cell_type": "markdown",
   "metadata": {},
   "source": [
    "### Contents:\n",
    "- [Background](#Background)\n",
    "- [Data Import & Cleaning](#Data-Import-and-Cleaning)\n",
    "- [Exploratory Data Analysis](#Exploratory-Data-Analysis)\n",
    "- [Data Visualization](#Visualize-the-Data)\n",
    "- [Conclusions and Recommendations](#Conclusions-and-Recommendations)"
   ]
  },
  {
   "cell_type": "markdown",
   "metadata": {},
   "source": [
    "## Background"
   ]
  },
  {
   "cell_type": "markdown",
   "metadata": {},
   "source": [
    "The SAT and ACT are standardized tests that many colleges and universities in the United States require for their admissions process. This score is used along with other materials such as grade point average (GPA) and essay responses to determine whether or not a potential student will be accepted to the university.\n",
    "\n",
    "The SAT has two sections of the test: Evidence-Based Reading and Writing and Math ([*source*](https://www.princetonreview.com/college/sat-sections)). The ACT has 4 sections: English, Mathematics, Reading, and Science, with an additional optional writing section ([*source*](https://www.act.org/content/act/en/products-and-services/the-act/scores/understanding-your-scores.html)). They have different score ranges, which you can read more about on their websites or additional outside sources (a quick Google search will help you understand the scores for each test):\n",
    "* [SAT](https://collegereadiness.collegeboard.org/sat)\n",
    "* [ACT](https://www.act.org/content/act/en.html)\n",
    "\n",
    "Standardized tests have long been a controversial topic for students, administrators, and legislators. Since the 1940's, an increasing number of colleges have been using scores from sudents' performances on tests like the SAT and the ACT as a measure for college readiness and aptitude ([*source*](https://www.minotdailynews.com/news/local-news/2017/04/a-brief-history-of-the-sat-and-act/)). Supporters of these tests argue that these scores can be used as an objective measure to determine college admittance. Opponents of these tests claim that these tests are not accurate measures of students potential or ability and serve as an inequitable barrier to entry. Lately, more and more schools are opting to drop the SAT/ACT requirement for their Fall 2021 applications ([*read more about this here*](https://www.cnn.com/2020/04/14/us/coronavirus-colleges-sat-act-test-trnd/index.html))."
   ]
  },
  {
   "cell_type": "markdown",
   "metadata": {},
   "source": [
    "**To-Do:** *Fill out this cell (or edit the above cell) with any other background or information that is necessary for your problem statement.*"
   ]
  },
  {
   "cell_type": "markdown",
   "metadata": {},
   "source": [
    "### Choose your Data\n",
    "\n",
    "There are 10 datasets included in the [`data`](./data/) folder for this project. You are required to pick **at least two** of these to complete your analysis. Feel free to use more than two if you would like, or add other relevant datasets you find online.\n",
    "\n",
    "* [`act_2017.csv`](./data/act_2017.csv): 2017 ACT Scores by State\n",
    "* [`act_2018.csv`](./data/act_2018.csv): 2018 ACT Scores by State\n",
    "* [`act_2019.csv`](./data/act_2019.csv): 2019 ACT Scores by State\n",
    "* [`act_2019_ca.csv`](./data/act_2019_ca.csv): 2019 ACT Scores in California by School\n",
    "* [`sat_2017.csv`](./data/sat_2017.csv): 2017 SAT Scores by State\n",
    "* [`sat_2018.csv`](./data/sat_2018.csv): 2018 SAT Scores by State\n",
    "* [`sat_2019.csv`](./data/sat_2019.csv): 2019 SAT Scores by State\n",
    "* [`sat_2019_by_intended_college_major.csv`](./data/sat_2019_by_intended_college_major.csv): 2019 SAT Scores by Intended College Major\n",
    "* [`sat_2019_ca.csv`](./data/sat_2019_ca.csv): 2019 SAT Scores in California by School\n",
    "* [`sat_act_by_college.csv`](./data/sat_act_by_college.csv): Ranges of Accepted ACT & SAT Student Scores by Colleges"
   ]
  },
  {
   "cell_type": "markdown",
   "metadata": {},
   "source": [
    "**To-Do:** *Fill out this cell with the datasets you will use for your analysis. Write a brief description of the contents for each dataset that you choose.*"
   ]
  },
  {
   "cell_type": "markdown",
   "metadata": {},
   "source": [
    "### Outside Research"
   ]
  },
  {
   "cell_type": "markdown",
   "metadata": {},
   "source": [
    "Based on your problem statement and your chosen datasets, spend some time doing outside research on state policies or additional information that might be relevant. Summarize your findings below. If you bring in any outside tables or charts, make sure you are explicit about having borrowed them. If you quote any text, make sure that it renders as being quoted. **Make sure that you cite your sources.**"
   ]
  },
  {
   "cell_type": "markdown",
   "metadata": {},
   "source": [
    "**To-Do:** *Fill out this cell with outside research or any additional background information that will support your analysis.*"
   ]
  },
  {
   "cell_type": "markdown",
   "metadata": {},
   "source": [
    "### Coding Challenges\n",
    "\n",
    "1. Manually calculate mean:\n",
    "\n",
    "    Write a function that takes in values and returns the mean of the values. Create a list of numbers that you test on your function to check to make sure your function works!\n",
    "    \n",
    "    *Note*: Do not use any mean methods built-in to any Python libraries to do this! This should be done without importing any additional libraries."
   ]
  },
  {
   "cell_type": "code",
   "execution_count": 171,
   "metadata": {},
   "outputs": [],
   "source": [
    "# Code:\n",
    "def mean (args):\n",
    "    holder = []\n",
    "    for i in args:\n",
    "        if np.isnan(i):\n",
    "            args.remove(i)\n",
    "        else:\n",
    "            holder.append(i)\n",
    "    return sum(holder)/len(holder)"
   ]
  },
  {
   "cell_type": "markdown",
   "metadata": {},
   "source": [
    "2. Manually calculate standard deviation:\n",
    "\n",
    "    The formula for standard deviation is below:\n",
    "\n",
    "    $$\\sigma = \\sqrt{\\frac{1}{n}\\sum_{i=1}^n(x_i - \\mu)^2}$$\n",
    "\n",
    "    Where $x_i$ represents each value in the dataset, $\\mu$ represents the mean of all values in the dataset and $n$ represents the number of values in the dataset.\n",
    "\n",
    "    Write a function that takes in values and returns the standard deviation of the values using the formula above. Hint: use the function you wrote above to calculate the mean! Use the list of numbers you created above to test on your function.\n",
    "    \n",
    "    *Note*: Do not use any standard deviation methods built-in to any Python libraries to do this! This should be done without importing any additional libraries."
   ]
  },
  {
   "cell_type": "code",
   "execution_count": 129,
   "outputs": [],
   "source": [
    "import numpy as np"
   ],
   "metadata": {
    "collapsed": false
   }
  },
  {
   "cell_type": "code",
   "execution_count": 175,
   "outputs": [],
   "source": [
    "# Code:\n",
    "# find variance\n",
    "def variance(args):\n",
    "    mean_val = mean(args)\n",
    "    numerator = 0\n",
    "    for i in args:\n",
    "        if np.isnan(i):\n",
    "            args.remove(i)\n",
    "        else:\n",
    "            numerator += (i-mean_val)**2\n",
    "    # population variance\n",
    "    denominator = len(args) \n",
    "    return numerator/denominator\n",
    "\n",
    " # find standard deviation\n",
    "def standard_deviation(args):\n",
    "    return (variance(args))**.5\n",
    "\n"
   ],
   "metadata": {
    "collapsed": false
   }
  },
  {
   "cell_type": "markdown",
   "metadata": {},
   "source": [
    "3. Data cleaning function:\n",
    "    \n",
    "    Write a function that takes in a string that is a number and a percent symbol (ex. '50%', '30.5%', etc.) and converts this to a float that is the decimal approximation of the percent. For example, inputting '50%' in your function should return 0.5, '30.5%' should return 0.305, etc. Make sure to test your function to make sure it works!\n",
    "\n",
    "You will use these functions later on in the project!"
   ]
  },
  {
   "cell_type": "code",
   "execution_count": 3,
   "metadata": {},
   "outputs": [
    {
     "data": {
      "text/plain": "0.305"
     },
     "execution_count": 3,
     "metadata": {},
     "output_type": "execute_result"
    }
   ],
   "source": [
    "# Code:\n",
    "def str_to_float(args):\n",
    "     try: \n",
    "          converted_num = float(args.replace('%','')) / 100\n",
    "          return converted_num\n",
    "     except:\n",
    "          return None\n",
    "str_to_float('30.5%')"
   ]
  },
  {
   "cell_type": "markdown",
   "metadata": {},
   "source": [
    "--- \n",
    "# Part 2\n",
    "\n",
    "Part 2 requires knowledge of Pandas, EDA, data cleaning, and data visualization.\n",
    "\n",
    "---"
   ]
  },
  {
   "cell_type": "markdown",
   "metadata": {},
   "source": [
    "*All libraries used should be added here*"
   ]
  },
  {
   "cell_type": "code",
   "execution_count": 4,
   "metadata": {},
   "outputs": [],
   "source": [
    "# Imports:\n",
    "import pandas as pd\n",
    "import numpy as np\n",
    "import matplotlib.pyplot as plt\n",
    "import plotly.express as px\n"
   ]
  },
  {
   "cell_type": "markdown",
   "metadata": {},
   "source": [
    "## Data Import and Cleaning"
   ]
  },
  {
   "cell_type": "markdown",
   "metadata": {},
   "source": [
    "### Data Import & Cleaning\n",
    "\n",
    "Import the datasets that you selected for this project and go through the following steps at a minimum. You are welcome to do further cleaning as you feel necessary:\n",
    "1. Display the data: print the first 5 rows of each dataframe to your Jupyter notebook.\n",
    "2. Check for missing values.\n",
    "3. Check for any obvious issues with the observations (keep in mind the minimum & maximum possible values for each test/subtest).\n",
    "4. Fix any errors you identified in steps 2-3.\n",
    "5. Display the data types of each feature.\n",
    "6. Fix any incorrect data types found in step 5.\n",
    "    - Fix any individual values preventing other columns from being the appropriate type.\n",
    "    - If your dataset has a column of percents (ex. '50%', '30.5%', etc.), use the function you wrote in Part 1 (coding challenges, number 3) to convert this to floats! *Hint*: use `.map()` or `.apply()`.\n",
    "7. Rename Columns.\n",
    "    - Column names should be all lowercase.\n",
    "    - Column names should not contain spaces (underscores will suffice--this allows for using the `df.column_name` method to access columns in addition to `df['column_name']`).\n",
    "    - Column names should be unique and informative.\n",
    "8. Drop unnecessary rows (if needed).\n",
    "9. Merge dataframes that can be merged.\n",
    "10. Perform any additional cleaning that you feel is necessary.\n",
    "11. Save your cleaned and merged dataframes as csv files."
   ]
  },
  {
   "cell_type": "code",
   "execution_count": 5,
   "metadata": {},
   "outputs": [],
   "source": [
    "import re\n",
    "def clean_columns(df):\n",
    "    df.columns = [col.lower().replace(' ', '_').replace('-','_') for col in df.columns]\n",
    "    df.columns = [col.replace('\\n', '_') for col in df.columns]\n",
    "    return df"
   ]
  },
  {
   "cell_type": "markdown",
   "metadata": {},
   "source": [
    "ACT 2017-2019"
   ]
  },
  {
   "cell_type": "markdown",
   "metadata": {},
   "source": [
    "SAT 2017-2019"
   ]
  },
  {
   "cell_type": "code",
   "execution_count": 26,
   "metadata": {},
   "outputs": [],
   "source": [
    "# # sat_2019\n",
    "# sat_2019_df = pd.read_csv('../data/sat_2019.csv')\n",
    "# sat_2019_df = clean_columns(sat_2019_df)\n",
    "# sat_2019_df['participation_rate'] = [str_to_float(x) for x in sat_2019_df['participation_rate']]\n",
    "# sat_2019_df.rename({'ebrw':'evidence_based_reading_and_writing'}, axis = 1, inplace = True)\n",
    "# sat_2019_df.info()\n",
    "# sat_2019_df.shape\n",
    "# sat_2019_df.head()\n"
   ]
  },
  {
   "cell_type": "markdown",
   "metadata": {},
   "source": [
    "### California SAT ACT"
   ]
  },
  {
   "cell_type": "code",
   "execution_count": 252,
   "metadata": {},
   "outputs": [],
   "source": [
    "# sat_2019_ca\n",
    "sat_2019_ca_df = pd.read_csv('../data/sat_2019_ca.csv')\n",
    "\n",
    "# drop columns we're not interested - only want to look at 11th graders\n",
    "sat_2019_ca_df.drop(sat_2019_ca_df.columns[[0,1,2,3,4,5,8,9,10,11,12,13,20,21]], axis=1, inplace=True)\n",
    "sat_2019_ca_df.drop('Unnamed: 25', axis=1, inplace = True)\n",
    "# snake case everything\n",
    "sat_2019_ca_df.columns = ['_'.join(re.findall('[A-Z][a-z]*',x)) for x in sat_2019_ca_df.columns]\n",
    "# clean columns\n",
    "sat_2019_ca_df = clean_columns(sat_2019_ca_df)\n",
    "sat_2019_ca_df.columns = [x.replace('_e_r_w_', '_erw_') for x in sat_2019_ca_df.columns]\n",
    "sat_2019_ca_df.columns = [x.replace('_t_s_t_', '_tst_') for x in sat_2019_ca_df.columns]\n",
    "# remove asterisks\n",
    "sat_2019_ca_df.replace({'*': np.nan}, inplace = True)\n",
    "# make everything floats that needs to be\n",
    "sat_2019_ca_df = sat_2019_ca_df.astype({col:'float' for col in sat_2019_ca_df.columns if col not in ['d_name', 'c_name', 'year']})\n",
    "sat_2019_ca_df['pct_both_benchmark'] = sat_2019_ca_df['pct_both_benchmark']/100\n",
    "sat_2019_ca_df['pct_erw_benchmark']= sat_2019_ca_df['pct_erw_benchmark']/100\n",
    "sat_2019_ca_df['pct_math_benchmark']= sat_2019_ca_df['pct_math_benchmark']/100"
   ]
  },
  {
   "cell_type": "code",
   "execution_count": 253,
   "outputs": [
    {
     "data": {
      "text/plain": "                   d_name         c_name   enroll  num_tst_takr  \\\n0          Colusa Unified         Colusa     18.0           0.0   \n1         Maxwell Unified         Colusa     26.0           6.0   \n2     Los Angeles Unified    Los Angeles    219.0         174.0   \n3     Los Angeles Unified    Los Angeles    333.0         275.0   \n4     Los Angeles Unified    Los Angeles     17.0           5.0   \n...                   ...            ...      ...           ...   \n2575  Davis Joint Unified           Yolo    739.0         474.0   \n2576                  NaN   Contra Costa  14120.0        5157.0   \n2577                  NaN           Lake    731.0         126.0   \n2578                  NaN  San Francisco   4500.0        2042.0   \n2579                  NaN            NaN      NaN           NaN   \n\n      num_erw_benchmark  pct_erw_benchmark  num_math_benchmark  \\\n0                   NaN                NaN                 NaN   \n1                   NaN                NaN                 NaN   \n2                  42.0             0.2414                12.0   \n3                  97.0             0.3527                37.0   \n4                   NaN                NaN                 NaN   \n...                 ...                ...                 ...   \n2575              454.0             0.9578               428.0   \n2576             4583.0             0.8887              3933.0   \n2577               94.0             0.7460                50.0   \n2578             1702.0             0.8335              1566.0   \n2579                NaN                NaN                 NaN   \n\n      pct_math_benchmark  tot_num_both_benchmark  pct_both_benchmark     year  \n0                    NaN                     NaN                 NaN  2018-19  \n1                    NaN                     NaN                 NaN  2018-19  \n2                 0.0690                    11.0              0.0632  2018-19  \n3                 0.1345                    35.0              0.1273  2018-19  \n4                    NaN                     NaN                 NaN  2018-19  \n...                  ...                     ...                 ...      ...  \n2575              0.9030                   421.0              0.8882  2018-19  \n2576              0.7627                  3853.0              0.7471  2018-19  \n2577              0.3968                    47.0              0.3730  2018-19  \n2578              0.7669                  1482.0              0.7258  2018-19  \n2579                 NaN                     NaN                 NaN      NaN  \n\n[2580 rows x 11 columns]",
      "text/html": "<div>\n<style scoped>\n    .dataframe tbody tr th:only-of-type {\n        vertical-align: middle;\n    }\n\n    .dataframe tbody tr th {\n        vertical-align: top;\n    }\n\n    .dataframe thead th {\n        text-align: right;\n    }\n</style>\n<table border=\"1\" class=\"dataframe\">\n  <thead>\n    <tr style=\"text-align: right;\">\n      <th></th>\n      <th>d_name</th>\n      <th>c_name</th>\n      <th>enroll</th>\n      <th>num_tst_takr</th>\n      <th>num_erw_benchmark</th>\n      <th>pct_erw_benchmark</th>\n      <th>num_math_benchmark</th>\n      <th>pct_math_benchmark</th>\n      <th>tot_num_both_benchmark</th>\n      <th>pct_both_benchmark</th>\n      <th>year</th>\n    </tr>\n  </thead>\n  <tbody>\n    <tr>\n      <th>0</th>\n      <td>Colusa Unified</td>\n      <td>Colusa</td>\n      <td>18.0</td>\n      <td>0.0</td>\n      <td>NaN</td>\n      <td>NaN</td>\n      <td>NaN</td>\n      <td>NaN</td>\n      <td>NaN</td>\n      <td>NaN</td>\n      <td>2018-19</td>\n    </tr>\n    <tr>\n      <th>1</th>\n      <td>Maxwell Unified</td>\n      <td>Colusa</td>\n      <td>26.0</td>\n      <td>6.0</td>\n      <td>NaN</td>\n      <td>NaN</td>\n      <td>NaN</td>\n      <td>NaN</td>\n      <td>NaN</td>\n      <td>NaN</td>\n      <td>2018-19</td>\n    </tr>\n    <tr>\n      <th>2</th>\n      <td>Los Angeles Unified</td>\n      <td>Los Angeles</td>\n      <td>219.0</td>\n      <td>174.0</td>\n      <td>42.0</td>\n      <td>0.2414</td>\n      <td>12.0</td>\n      <td>0.0690</td>\n      <td>11.0</td>\n      <td>0.0632</td>\n      <td>2018-19</td>\n    </tr>\n    <tr>\n      <th>3</th>\n      <td>Los Angeles Unified</td>\n      <td>Los Angeles</td>\n      <td>333.0</td>\n      <td>275.0</td>\n      <td>97.0</td>\n      <td>0.3527</td>\n      <td>37.0</td>\n      <td>0.1345</td>\n      <td>35.0</td>\n      <td>0.1273</td>\n      <td>2018-19</td>\n    </tr>\n    <tr>\n      <th>4</th>\n      <td>Los Angeles Unified</td>\n      <td>Los Angeles</td>\n      <td>17.0</td>\n      <td>5.0</td>\n      <td>NaN</td>\n      <td>NaN</td>\n      <td>NaN</td>\n      <td>NaN</td>\n      <td>NaN</td>\n      <td>NaN</td>\n      <td>2018-19</td>\n    </tr>\n    <tr>\n      <th>...</th>\n      <td>...</td>\n      <td>...</td>\n      <td>...</td>\n      <td>...</td>\n      <td>...</td>\n      <td>...</td>\n      <td>...</td>\n      <td>...</td>\n      <td>...</td>\n      <td>...</td>\n      <td>...</td>\n    </tr>\n    <tr>\n      <th>2575</th>\n      <td>Davis Joint Unified</td>\n      <td>Yolo</td>\n      <td>739.0</td>\n      <td>474.0</td>\n      <td>454.0</td>\n      <td>0.9578</td>\n      <td>428.0</td>\n      <td>0.9030</td>\n      <td>421.0</td>\n      <td>0.8882</td>\n      <td>2018-19</td>\n    </tr>\n    <tr>\n      <th>2576</th>\n      <td>NaN</td>\n      <td>Contra Costa</td>\n      <td>14120.0</td>\n      <td>5157.0</td>\n      <td>4583.0</td>\n      <td>0.8887</td>\n      <td>3933.0</td>\n      <td>0.7627</td>\n      <td>3853.0</td>\n      <td>0.7471</td>\n      <td>2018-19</td>\n    </tr>\n    <tr>\n      <th>2577</th>\n      <td>NaN</td>\n      <td>Lake</td>\n      <td>731.0</td>\n      <td>126.0</td>\n      <td>94.0</td>\n      <td>0.7460</td>\n      <td>50.0</td>\n      <td>0.3968</td>\n      <td>47.0</td>\n      <td>0.3730</td>\n      <td>2018-19</td>\n    </tr>\n    <tr>\n      <th>2578</th>\n      <td>NaN</td>\n      <td>San Francisco</td>\n      <td>4500.0</td>\n      <td>2042.0</td>\n      <td>1702.0</td>\n      <td>0.8335</td>\n      <td>1566.0</td>\n      <td>0.7669</td>\n      <td>1482.0</td>\n      <td>0.7258</td>\n      <td>2018-19</td>\n    </tr>\n    <tr>\n      <th>2579</th>\n      <td>NaN</td>\n      <td>NaN</td>\n      <td>NaN</td>\n      <td>NaN</td>\n      <td>NaN</td>\n      <td>NaN</td>\n      <td>NaN</td>\n      <td>NaN</td>\n      <td>NaN</td>\n      <td>NaN</td>\n      <td>NaN</td>\n    </tr>\n  </tbody>\n</table>\n<p>2580 rows × 11 columns</p>\n</div>"
     },
     "execution_count": 253,
     "metadata": {},
     "output_type": "execute_result"
    }
   ],
   "source": [
    "sat_2019_ca_df"
   ],
   "metadata": {
    "collapsed": false
   }
  },
  {
   "cell_type": "code",
   "execution_count": 254,
   "metadata": {},
   "outputs": [],
   "source": [
    "# aggregate by school district, using mean\n",
    "agg_functions = {col:'sum' if 'num' in col else 'mean' if 'pct' in col else 'sum' for col in sat_2019_ca_df.columns if col not in ['d_name', 'c_name', 'year']}\n",
    "sat_2019_ca_df = sat_2019_ca_df.groupby(sat_2019_ca_df['d_name']).aggregate(agg_functions)"
   ]
  },
  {
   "cell_type": "markdown",
   "source": [
    "### School District Budget Data\n",
    "\n",
    "https://www.cde.ca.gov/ds/fd/ec/currentexpense.asp"
   ],
   "metadata": {
    "collapsed": false
   }
  },
  {
   "cell_type": "code",
   "execution_count": 255,
   "metadata": {},
   "outputs": [],
   "source": [
    "ca_budgets_sd = pd.read_excel('../data/currentexpense1819.xlsx')\n",
    "\n",
    "# clean columns\n",
    "ca_budgets_sd.columns = ca_budgets_sd.loc[9]\n",
    "ca_budgets_sd = ca_budgets_sd[10:].reset_index()\n",
    "ca_budgets_sd = clean_columns(ca_budgets_sd)\n",
    "ca_budgets_sd.drop(ca_budgets_sd.columns[[0,1,2]], axis=1, inplace=True)\n",
    "ca_budgets_sd.rename(columns = {'district':'d_name'}, inplace=True)\n",
    "\n",
    "# drop unused columns\n",
    "ca_budgets_sd = ca_budgets_sd.astype({col:'float' for col in ca_budgets_sd.columns if col not in ['d_name', 'lea_type']})\n",
    "ca_budgets_sd = ca_budgets_sd.query('lea_type != \"Elementary\"')"
   ]
  },
  {
   "cell_type": "markdown",
   "metadata": {},
   "source": [
    "Merge SD budget and SD sat Dataframes"
   ]
  },
  {
   "cell_type": "code",
   "execution_count": 256,
   "metadata": {},
   "outputs": [],
   "source": [
    "merged_ca_sat_rev = pd.merge(sat_2019_ca_df,ca_budgets_sd, left_on='d_name', right_on = 'd_name')"
   ]
  },
  {
   "cell_type": "markdown",
   "source": [
    "### Student Enrollment Data\n",
    "https://www.cde.ca.gov/ds/ad/filesenrcum.asp"
   ],
   "metadata": {
    "collapsed": false
   }
  },
  {
   "cell_type": "markdown",
   "source": [],
   "metadata": {
    "collapsed": false
   }
  },
  {
   "cell_type": "code",
   "execution_count": 465,
   "outputs": [],
   "source": [
    "# read in data\n",
    "student_enrollment_db = pd.read_csv('../data/cenroll1819.csv', encoding = 'ISO-8859-1')"
   ],
   "metadata": {
    "collapsed": false
   }
  },
  {
   "cell_type": "code",
   "execution_count": 466,
   "outputs": [],
   "source": [
    "# read in enrollment data for students below poverty level\n",
    "student_enrollment_db_pov = student_enrollment_db.query('ReportingCategory == \"SS\" and AggregateLevel == \"S\" and Charter == \"All\"').copy()\n",
    "student_enrollment_db_pov.replace({'*': 0}, inplace = True)\n",
    "student_enrollment_db_pov['CumulativeEnrollment_P'] = student_enrollment_db_pov['CumulativeEnrollment'].astype(float)\n",
    "student_enrollment_db_pov = student_enrollment_db_pov[['DistrictName', 'CumulativeEnrollment_P']]\n",
    "# aggregate districs\n",
    "student_enrollment_db_pov = student_enrollment_db_pov.groupby(student_enrollment_db_pov['DistrictName']).aggregate('sum')\n",
    "student_enrollment_db_pov.index.names = ['d_name']\n",
    "student_enrollment_db_pov.rename(columns = {'CumulativeEnrollment_P':'cum_enrollment_p'},inplace = True)"
   ],
   "metadata": {
    "collapsed": false
   }
  },
  {
   "cell_type": "code",
   "execution_count": 467,
   "outputs": [],
   "source": [
    "\n",
    "# Repeat but for all students and remove aggregating data so we don't get 107 billion students\n",
    "student_enrollment_db = student_enrollment_db.query('ReportingCategory == \"TA\" and AggregateLevel == \"S\" and Charter == \"All\"')\n",
    "# fix nan values\n",
    "student_enrollment_db.replace({'*': 0}, inplace = True)\n",
    "student_enrollment_db['CumulativeEnrollment'] = student_enrollment_db['CumulativeEnrollment'].astype(float)\n",
    "# drop columns we won't use\n",
    "student_enrollment_db.drop(['SchoolCode', 'AcademicYear', 'AggregateLevel', 'CountyCode', 'DistrictCode', 'CountyName', 'SchoolName', 'Charter', 'ReportingCategory'], axis=1, inplace=True)\n",
    "# snake case columns\n",
    "student_enrollment_db.columns = ['_'.join(re.findall('[A-Z][a-z]*',x)) for x in student_enrollment_db.columns]\n",
    "# clean\n",
    "student_enrollment_db = clean_columns(student_enrollment_db)\n",
    "student_enrollment_db_agg = student_enrollment_db.groupby(student_enrollment_db['district_name']).aggregate('sum')\n",
    "student_enrollment_db_agg.index.names = ['d_name']"
   ],
   "metadata": {
    "collapsed": false
   }
  },
  {
   "cell_type": "code",
   "execution_count": 468,
   "outputs": [],
   "source": [
    "student_enrollment_db_agg = student_enrollment_db_agg.merge(student_enrollment_db_pov, left_on='d_name', right_on = 'd_name')\n",
    "student_enrollment_db_agg['poverty_pct'] = student_enrollment_db_agg['cum_enrollment_p']/student_enrollment_db_agg['cumulative_enrollment']"
   ],
   "metadata": {
    "collapsed": false
   }
  },
  {
   "cell_type": "code",
   "execution_count": 469,
   "outputs": [
    {
     "data": {
      "text/plain": "                                 cumulative_enrollment  cum_enrollment_p  \\\nd_name                                                                     \nABC Unified                                    21624.0           11463.0   \nAcalanes Union High                             5803.0             453.0   \nAckerman Charter                                 615.0             203.0   \nActon-Agua Dulce Unified                       28688.0           15525.0   \nAdelanto Elementary                            10545.0            8825.0   \n...                                                ...               ...   \nYreka Union Elementary                          1119.0             832.0   \nYreka Union High                                 711.0             393.0   \nYuba City Unified                              14625.0           11173.0   \nYuba County Office of Education                  943.0             727.0   \nYucaipa-Calimesa Joint Unified                 10881.0            5957.0   \n\n                                 poverty_pct  \nd_name                                        \nABC Unified                         0.530105  \nAcalanes Union High                 0.078063  \nAckerman Charter                    0.330081  \nActon-Agua Dulce Unified            0.541167  \nAdelanto Elementary                 0.836890  \n...                                      ...  \nYreka Union Elementary              0.743521  \nYreka Union High                    0.552743  \nYuba City Unified                   0.763966  \nYuba County Office of Education     0.770944  \nYucaipa-Calimesa Joint Unified      0.547468  \n\n[1029 rows x 3 columns]",
      "text/html": "<div>\n<style scoped>\n    .dataframe tbody tr th:only-of-type {\n        vertical-align: middle;\n    }\n\n    .dataframe tbody tr th {\n        vertical-align: top;\n    }\n\n    .dataframe thead th {\n        text-align: right;\n    }\n</style>\n<table border=\"1\" class=\"dataframe\">\n  <thead>\n    <tr style=\"text-align: right;\">\n      <th></th>\n      <th>cumulative_enrollment</th>\n      <th>cum_enrollment_p</th>\n      <th>poverty_pct</th>\n    </tr>\n    <tr>\n      <th>d_name</th>\n      <th></th>\n      <th></th>\n      <th></th>\n    </tr>\n  </thead>\n  <tbody>\n    <tr>\n      <th>ABC Unified</th>\n      <td>21624.0</td>\n      <td>11463.0</td>\n      <td>0.530105</td>\n    </tr>\n    <tr>\n      <th>Acalanes Union High</th>\n      <td>5803.0</td>\n      <td>453.0</td>\n      <td>0.078063</td>\n    </tr>\n    <tr>\n      <th>Ackerman Charter</th>\n      <td>615.0</td>\n      <td>203.0</td>\n      <td>0.330081</td>\n    </tr>\n    <tr>\n      <th>Acton-Agua Dulce Unified</th>\n      <td>28688.0</td>\n      <td>15525.0</td>\n      <td>0.541167</td>\n    </tr>\n    <tr>\n      <th>Adelanto Elementary</th>\n      <td>10545.0</td>\n      <td>8825.0</td>\n      <td>0.836890</td>\n    </tr>\n    <tr>\n      <th>...</th>\n      <td>...</td>\n      <td>...</td>\n      <td>...</td>\n    </tr>\n    <tr>\n      <th>Yreka Union Elementary</th>\n      <td>1119.0</td>\n      <td>832.0</td>\n      <td>0.743521</td>\n    </tr>\n    <tr>\n      <th>Yreka Union High</th>\n      <td>711.0</td>\n      <td>393.0</td>\n      <td>0.552743</td>\n    </tr>\n    <tr>\n      <th>Yuba City Unified</th>\n      <td>14625.0</td>\n      <td>11173.0</td>\n      <td>0.763966</td>\n    </tr>\n    <tr>\n      <th>Yuba County Office of Education</th>\n      <td>943.0</td>\n      <td>727.0</td>\n      <td>0.770944</td>\n    </tr>\n    <tr>\n      <th>Yucaipa-Calimesa Joint Unified</th>\n      <td>10881.0</td>\n      <td>5957.0</td>\n      <td>0.547468</td>\n    </tr>\n  </tbody>\n</table>\n<p>1029 rows × 3 columns</p>\n</div>"
     },
     "execution_count": 469,
     "metadata": {},
     "output_type": "execute_result"
    }
   ],
   "source": [
    "student_enrollment_db_agg"
   ],
   "metadata": {
    "collapsed": false
   }
  },
  {
   "cell_type": "markdown",
   "source": [
    "### Teacher Demographic Data\n",
    "https://www.cde.ca.gov/ds/ad/staffdemo.asp"
   ],
   "metadata": {
    "collapsed": false
   }
  },
  {
   "cell_type": "code",
   "execution_count": 470,
   "outputs": [],
   "source": [
    "# read in csv data\n",
    "teacher_demo_db = pd.read_csv('../data/StaffDemo18.csv')\n",
    "# snake case dolumns\n",
    "teacher_demo_db.columns = ['_'.join(re.findall('[A-Z][a-z]*',x)) for x in teacher_demo_db.columns]\n",
    "# clean columns\n",
    "teacher_demo_db = clean_columns(teacher_demo_db)\n",
    "# Quantify Education Level\n",
    "edu_level_dict = {'D':10,'S':9,'V':8,'M':7,'U':6,'Y':5,'F':4,'C':3,'B':2,'A':1,'N':0}\n",
    "teacher_demo_db.replace({\"education_level\":edu_level_dict}, inplace=True)\n",
    "# Quantify Sex\n",
    "sex_dict = {'M':0, 'F':1}\n",
    "teacher_demo_db.replace({\"gender_code\":sex_dict}, inplace = True)\n",
    "# Teachers per District\n",
    "teachers_per_district = teacher_demo_db['district_name'].value_counts()\n",
    "# drop columns we don't need\n",
    "teacher_demo_db.drop(['academic_year', 'rec_i_d', 'district_code', 'county_name', 'ethnic_group', 'employment_status_code', 'f_t_e_teaching', 'f_t_e', 'f_t_e_pupil_services', 'file_created'], axis = 1, inplace=True)\n",
    "# aggregate by mean statistics per school district\n",
    "teacher_demo_db_agg = teacher_demo_db.groupby(teacher_demo_db['district_name']).aggregate('mean')\n",
    "# San Marcos School district data is erroneous, remove San Marcos\n",
    "teacher_demo_db_agg.drop('San Marcos Unified', inplace=True)\n",
    "# change index name for merge\n",
    "teacher_demo_db_agg.index.names = ['d_name']\n",
    "# add num teachers per district\n",
    "teacher_demo_db_agg['tchrs_per_district'] = teachers_per_district"
   ],
   "metadata": {
    "collapsed": false
   }
  },
  {
   "cell_type": "code",
   "execution_count": 471,
   "outputs": [],
   "source": [
    "# merge with students df\n",
    "ca_districts_students_teachers = pd.merge(teacher_demo_db_agg, student_enrollment_db_agg, left_on='d_name', right_on='d_name')\n",
    "# find student teacher ratio\n",
    "ca_districts_students_teachers['student_teacher_ratio'] = ca_districts_students_teachers['cumulative_enrollment']/ca_districts_students_teachers['tchrs_per_district']"
   ],
   "metadata": {
    "collapsed": false
   }
  },
  {
   "cell_type": "code",
   "execution_count": 472,
   "outputs": [],
   "source": [
    "# merge everything\n",
    "final_merged_df = pd.merge(merged_ca_sat_rev, ca_districts_students_teachers, left_on='d_name', right_on = 'd_name')\n",
    "# rename columns\n",
    "final_merged_df.columns = [x.replace('_benchmark', '_over_benchmark') for x in final_merged_df.columns]\n",
    "final_merged_df.rename({'gender_code':'avg_tchr_sex', 'age':'avg_tchr_age','education_level':'avg_tchr_edu_lvl', 'years_teaching':'avg_tchr_yrs_tching', 'years_in_district':'avg_tchr_yrs_in_dstrct', 'edp_365':'annual_expense_of_ed'}, axis = 1, inplace = True)"
   ],
   "metadata": {
    "collapsed": false
   }
  },
  {
   "cell_type": "markdown",
   "source": [
    "### Final Merged Dataframe\n",
    "CA Sat data dataframe, school budget dataframe, teacher demographic dataframe, student enrollment dataframe"
   ],
   "metadata": {
    "collapsed": false
   }
  },
  {
   "cell_type": "code",
   "execution_count": 473,
   "outputs": [
    {
     "name": "stdout",
     "output_type": "stream",
     "text": [
      "<class 'pandas.core.frame.DataFrame'>\n",
      "Int64Index: 403 entries, 0 to 402\n",
      "Data columns (total 23 columns):\n",
      " #   Column                       Non-Null Count  Dtype  \n",
      "---  ------                       --------------  -----  \n",
      " 0   d_name                       403 non-null    object \n",
      " 1   enroll                       403 non-null    float64\n",
      " 2   num_tst_takr                 403 non-null    float64\n",
      " 3   num_erw_over_benchmark       403 non-null    float64\n",
      " 4   pct_erw_over_benchmark       350 non-null    float64\n",
      " 5   num_math_over_benchmark      403 non-null    float64\n",
      " 6   pct_math_over_benchmark      350 non-null    float64\n",
      " 7   tot_num_both_over_benchmark  403 non-null    float64\n",
      " 8   pct_both_over_benchmark      350 non-null    float64\n",
      " 9   annual_expense_of_ed         403 non-null    float64\n",
      " 10  current_expense_ada          403 non-null    float64\n",
      " 11  current_expense_per_ada      403 non-null    float64\n",
      " 12  lea_type                     403 non-null    object \n",
      " 13  avg_tchr_sex                 403 non-null    float64\n",
      " 14  avg_tchr_age                 403 non-null    float64\n",
      " 15  avg_tchr_edu_lvl             403 non-null    float64\n",
      " 16  avg_tchr_yrs_tching          403 non-null    float64\n",
      " 17  avg_tchr_yrs_in_dstrct       403 non-null    float64\n",
      " 18  tchrs_per_district           403 non-null    int64  \n",
      " 19  cumulative_enrollment        403 non-null    float64\n",
      " 20  cum_enrollment_p             403 non-null    float64\n",
      " 21  poverty_pct                  403 non-null    float64\n",
      " 22  student_teacher_ratio        403 non-null    float64\n",
      "dtypes: float64(20), int64(1), object(2)\n",
      "memory usage: 75.6+ KB\n"
     ]
    }
   ],
   "source": [
    "final_merged_df.sort_values('pct_both_over_benchmark', ascending = False)\n",
    "# final_merged_df.to_csv('Ca_edu_stats_1819')\n",
    "\n",
    "final_merged_df.info()"
   ],
   "metadata": {
    "collapsed": false
   }
  },
  {
   "cell_type": "markdown",
   "metadata": {},
   "source": [
    "### Data Dictionary"
   ]
  },
  {
   "cell_type": "markdown",
   "metadata": {},
   "source": [
    "\n",
    "| Feature                     | Type | Dataset                   | Description                                                                                                                                                                                                                                                                                                                          |\n",
    "| --------------------------- | --- | ------------------------- |--------------------------------------------------------------------------------------------------------------------------------------------------------------------------------------------------------------------------------------------------------------------------------------------------------------------------------------|\n",
    "| d_name                      | str | All                       | The school district within California.                                                                                                                                                                                                                                                                                               |\n",
    "| enroll                      | float | CA 2019 SAT               | The number of 11th graders enrolled to take the SAT in 2018-2019.                                                                                                                                                                                                                                                                    |\n",
    "| num_tst_taker               | float | CA 2019 SAT               | The count of 11th graders that took the SAT in 2018-2019.                                                                                                                                                                                                                                                                            |\n",
    "| num_erw_over_benchmark      | float | CA 2019 SAT               | The count of 11th graders that exceeded the CA performance benchmark in exploratory reading and writing(erw).                                                                                                                                                                                                                        |\n",
    "| pct_erw_over_benchmark      | float | CA 2019 SAT               | The percent of 11th graders that exceeded the CA performance benchmark in exploratory reading and writing(erw).                                                                                                                                                                                                                      |\n",
    "| num_math_over_benchmark     | float | CA 2019 SAT               | The count of 11th graders that exceeded the CA performance benchmark in math.                                                                                                                                                                                                                                                        |\n",
    "| pct_math_over_benchmark     | float | CA 2019 SAT               | The percent of 11th graders that exceeded the CA performance benchmark in math.                                                                                                                                                                                                                                                      |\n",
    "| tot_num_both_over_benchmark | float | CA 2019 SAT               | The count of 11th graders that exceeded the CA performance benchmark in math and erw.                                                                                                                                                                                                                                                |\n",
    "| pct_both_over_benchmark     | float | CA 2019 SAT               | The percent of 11th graders that exceeded the CA performance benchmark in math and erw.                                                                                                                                                                                                                                              |\n",
    "| annual_expense_of_ed        | float | CA School District Fiscal | Total general fund expenditures less food services, facilities acquisition and construction and certain other terms, divided by (ADA). <br/> The total days of student attendance divided by the number of instructional days in the year.                                                                                           |\n",
    "| current_expense_per_ada     | float | CA School District Fiscal | annual_expense_of_ed divided by ADA -- the per-pupil cost of education per school board for 2018-2019.                                                                                                                                                                                                                               |\n",
    "| lea_type                    | str | CA School District Fiscal | Type of school district.                                                                                                                                                                                                                                                                                                             |\n",
    "| avg_tchr_sex                | float | CA Teacher Demographics   | Average sex of teachers within school district.                                                                                                                                                                                                                                                                                      |\n",
    "| avg_tchr_edu_lvl            | float | CA Teacher Demographics   | Average level of education held by teachers within school district. <br/> 10 = Doctorate, 9 = Special, 8 = Master's + 30 or more semester hours, 7 = Master's, 6 = 5th year within bachelor's,<br /> 5 = 5th year induction, 4 = 5th year, 3 = Bachelors + 30 or more semester hours, 2 = Bachelors, 1 = Associate, 0 = Not reported |\n",
    "| avg_tchr_yrs_tching         | float | CA Teacher Demographics   | Average number of years as a teacher.                                                                                                                                                                                                                                                                                                |\n",
    "| avg_tchr_yrs_in_dstrct      | float | CA Teacher Demographics   | Average number of years teaching within that specific school district.                                                                                                                                                                                                                                                               |\n",
    "| tchrs_per_district          | int | CA Teacher Demographics   | Total number of teachers per school district.                                                                                                                                                                                                                                                                                        |\n",
    "| cumulative_enrollment       | float | CA Student Enrollment     | Total number of students enrolled per school district.                                                                                                                                                                                                                                                                               |\n",
    "| student_teacher_ratio       | float | CA Student / CA Teacher   | Average student to teacher ratio per school district.                                                                                                                                                                                                                                                                                |\n"
   ]
  },
  {
   "cell_type": "markdown",
   "metadata": {},
   "source": [
    "## Exploratory Data Analysis\n",
    "\n",
    "Complete the following steps to explore your data. You are welcome to do more EDA than the steps outlined here as you feel necessary:\n",
    "1. Summary Statistics.\n",
    "2. Use a **dictionary comprehension** to apply the standard deviation function you create in part 1 to each numeric column in the dataframe.  **No loops**.\n",
    "    - Assign the output to variable `sd` as a dictionary where: \n",
    "        - Each column name is now a key \n",
    "        - That standard deviation of the column is the value \n",
    "        - *Example Output :* `{'ACT_Math': 120, 'ACT_Reading': 120, ...}`\n",
    "3. Investigate trends in the data.\n",
    "    - Using sorting and/or masking (along with the `.head()` method to avoid printing our entire dataframe), consider questions relevant to your problem statement. Some examples are provided below (but feel free to change these questions for your specific problem):\n",
    "        - Which states have the highest and lowest participation rates for the 2017, 2019, or 2019 SAT and ACT?\n",
    "        - Which states have the highest and lowest mean total/composite scores for the 2017, 2019, or 2019 SAT and ACT?\n",
    "        - Do any states with 100% participation on a given test have a rate change year-to-year?\n",
    "        - Do any states show have >50% participation on *both* tests each year?\n",
    "        - Which colleges have the highest median SAT and ACT scores for admittance?\n",
    "        - Which California school districts have the highest and lowest mean test scores?\n",
    "    - **You should comment on your findings at each step in a markdown cell below your code block**. Make sure you include at least one example of sorting your dataframe by a column, and one example of using boolean filtering (i.e., masking) to select a subset of the dataframe."
   ]
  },
  {
   "cell_type": "code",
   "execution_count": 474,
   "outputs": [
    {
     "data": {
      "text/plain": "{'d_name': None,\n 'enroll': 4828.376691054558,\n 'num_tst_takr': 3537.2960273674976,\n 'num_erw_over_benchmark': 1788.5389982098252,\n 'pct_erw_over_benchmark': 0.16308967555119594,\n 'num_math_over_benchmark': 1123.151628724705,\n 'pct_math_over_benchmark': 0.2264158755024627,\n 'tot_num_both_over_benchmark': 1055.7913930824357,\n 'pct_both_over_benchmark': 0.22824466146627082,\n 'annual_expense_of_ed': 385868797.97673744,\n 'current_expense_ada': 25057.945764627344,\n 'current_expense_per_ada': 5275.2149530368715,\n 'lea_type': None,\n 'avg_tchr_sex': 0.08716391655557676,\n 'avg_tchr_age': 2.36504874127975,\n 'avg_tchr_edu_lvl': 0.8866549626831862,\n 'avg_tchr_yrs_tching': 2.3273819010838555,\n 'avg_tchr_yrs_in_dstrct': 2.605107182497586,\n 'tchrs_per_district': 2043.1625901199038,\n 'cumulative_enrollment': 35380.72223135641,\n 'cum_enrollment_p': 27958.966239005345,\n 'poverty_pct': 0.22552692913030145,\n 'student_teacher_ratio': 3.556117991963344}"
     },
     "execution_count": 474,
     "metadata": {},
     "output_type": "execute_result"
    }
   ],
   "source": [
    "#Code:\n",
    "sd = {col:standard_deviation(final_merged_df[col].to_list()) if final_merged_df[col].dtypes !='object' else None for col in final_merged_df.columns}\n",
    "sd"
   ],
   "metadata": {
    "collapsed": false
   }
  },
  {
   "cell_type": "markdown",
   "source": [
    "Which school districts out performed the SAT benchmarks by the highest margin in 2018-2019 and how large are the districts?"
   ],
   "metadata": {
    "collapsed": false
   }
  },
  {
   "cell_type": "code",
   "execution_count": 475,
   "outputs": [
    {
     "data": {
      "text/plain": "                                  d_name  pct_both_over_benchmark  \\\n264                Piedmont City Unified                 0.989600   \n167                    La Canada Unified                 0.977500   \n201              Manhattan Beach Unified                 0.969200   \n51                        Carmel Unified                 0.967000   \n254                    Palo Alto Unified                 0.966267   \n308                   San Marino Unified                 0.963400   \n194  Los Gatos-Saratoga Joint Union High                 0.959800   \n4                    Albany City Unified                 0.959200   \n155                       Irvine Unified                 0.955317   \n338               South Pasadena Unified                 0.939600   \n\n     cumulative_enrollment  \n264                 2648.0  \n167                 4187.0  \n201                 6737.0  \n51                  2579.0  \n254                12460.0  \n308                 3060.0  \n194                 3574.0  \n4                   3827.0  \n155                37463.0  \n338                 5021.0  ",
      "text/html": "<div>\n<style scoped>\n    .dataframe tbody tr th:only-of-type {\n        vertical-align: middle;\n    }\n\n    .dataframe tbody tr th {\n        vertical-align: top;\n    }\n\n    .dataframe thead th {\n        text-align: right;\n    }\n</style>\n<table border=\"1\" class=\"dataframe\">\n  <thead>\n    <tr style=\"text-align: right;\">\n      <th></th>\n      <th>d_name</th>\n      <th>pct_both_over_benchmark</th>\n      <th>cumulative_enrollment</th>\n    </tr>\n  </thead>\n  <tbody>\n    <tr>\n      <th>264</th>\n      <td>Piedmont City Unified</td>\n      <td>0.989600</td>\n      <td>2648.0</td>\n    </tr>\n    <tr>\n      <th>167</th>\n      <td>La Canada Unified</td>\n      <td>0.977500</td>\n      <td>4187.0</td>\n    </tr>\n    <tr>\n      <th>201</th>\n      <td>Manhattan Beach Unified</td>\n      <td>0.969200</td>\n      <td>6737.0</td>\n    </tr>\n    <tr>\n      <th>51</th>\n      <td>Carmel Unified</td>\n      <td>0.967000</td>\n      <td>2579.0</td>\n    </tr>\n    <tr>\n      <th>254</th>\n      <td>Palo Alto Unified</td>\n      <td>0.966267</td>\n      <td>12460.0</td>\n    </tr>\n    <tr>\n      <th>308</th>\n      <td>San Marino Unified</td>\n      <td>0.963400</td>\n      <td>3060.0</td>\n    </tr>\n    <tr>\n      <th>194</th>\n      <td>Los Gatos-Saratoga Joint Union High</td>\n      <td>0.959800</td>\n      <td>3574.0</td>\n    </tr>\n    <tr>\n      <th>4</th>\n      <td>Albany City Unified</td>\n      <td>0.959200</td>\n      <td>3827.0</td>\n    </tr>\n    <tr>\n      <th>155</th>\n      <td>Irvine Unified</td>\n      <td>0.955317</td>\n      <td>37463.0</td>\n    </tr>\n    <tr>\n      <th>338</th>\n      <td>South Pasadena Unified</td>\n      <td>0.939600</td>\n      <td>5021.0</td>\n    </tr>\n  </tbody>\n</table>\n</div>"
     },
     "execution_count": 475,
     "metadata": {},
     "output_type": "execute_result"
    }
   ],
   "source": [
    "top_ten = final_merged_df.sort_values('pct_both_over_benchmark', ascending = False).head(10)\n",
    "top_ten[['d_name', 'pct_both_over_benchmark', 'cumulative_enrollment']]"
   ],
   "metadata": {
    "collapsed": false
   }
  },
  {
   "cell_type": "markdown",
   "source": [
    "Which school districts underperformed the SAT benchmarks by the lowest margin in 2018-2019?"
   ],
   "metadata": {
    "collapsed": false
   }
  },
  {
   "cell_type": "code",
   "execution_count": 476,
   "outputs": [
    {
     "data": {
      "text/plain": "                         d_name  pct_both_over_benchmark  \\\n137       Golden Plains Unified                 0.009600   \n310  San Pasqual Valley Unified                 0.058800   \n116        Farmersville Unified                 0.083300   \n198             Lynwood Unified                 0.092300   \n47      Calistoga Joint Unified                 0.096800   \n258           Paramount Unified                 0.106667   \n199              Madera Unified                 0.127750   \n139            Gonzales Unified                 0.129000   \n76       Corcoran Joint Unified                 0.138900   \n83   Cutler-Orosi Joint Unified                 0.150400   \n\n     cumulative_enrollment  \n137                 1818.0  \n310                  784.0  \n116                 2717.0  \n198                14764.0  \n47                   897.0  \n258                15899.0  \n199                22685.0  \n139                 2507.0  \n76                  3577.0  \n83                  4448.0  ",
      "text/html": "<div>\n<style scoped>\n    .dataframe tbody tr th:only-of-type {\n        vertical-align: middle;\n    }\n\n    .dataframe tbody tr th {\n        vertical-align: top;\n    }\n\n    .dataframe thead th {\n        text-align: right;\n    }\n</style>\n<table border=\"1\" class=\"dataframe\">\n  <thead>\n    <tr style=\"text-align: right;\">\n      <th></th>\n      <th>d_name</th>\n      <th>pct_both_over_benchmark</th>\n      <th>cumulative_enrollment</th>\n    </tr>\n  </thead>\n  <tbody>\n    <tr>\n      <th>137</th>\n      <td>Golden Plains Unified</td>\n      <td>0.009600</td>\n      <td>1818.0</td>\n    </tr>\n    <tr>\n      <th>310</th>\n      <td>San Pasqual Valley Unified</td>\n      <td>0.058800</td>\n      <td>784.0</td>\n    </tr>\n    <tr>\n      <th>116</th>\n      <td>Farmersville Unified</td>\n      <td>0.083300</td>\n      <td>2717.0</td>\n    </tr>\n    <tr>\n      <th>198</th>\n      <td>Lynwood Unified</td>\n      <td>0.092300</td>\n      <td>14764.0</td>\n    </tr>\n    <tr>\n      <th>47</th>\n      <td>Calistoga Joint Unified</td>\n      <td>0.096800</td>\n      <td>897.0</td>\n    </tr>\n    <tr>\n      <th>258</th>\n      <td>Paramount Unified</td>\n      <td>0.106667</td>\n      <td>15899.0</td>\n    </tr>\n    <tr>\n      <th>199</th>\n      <td>Madera Unified</td>\n      <td>0.127750</td>\n      <td>22685.0</td>\n    </tr>\n    <tr>\n      <th>139</th>\n      <td>Gonzales Unified</td>\n      <td>0.129000</td>\n      <td>2507.0</td>\n    </tr>\n    <tr>\n      <th>76</th>\n      <td>Corcoran Joint Unified</td>\n      <td>0.138900</td>\n      <td>3577.0</td>\n    </tr>\n    <tr>\n      <th>83</th>\n      <td>Cutler-Orosi Joint Unified</td>\n      <td>0.150400</td>\n      <td>4448.0</td>\n    </tr>\n  </tbody>\n</table>\n</div>"
     },
     "execution_count": 476,
     "metadata": {},
     "output_type": "execute_result"
    }
   ],
   "source": [
    "bottom_ten = final_merged_df.sort_values('pct_both_over_benchmark', ascending = True).head(10)\n",
    "bottom_ten[['d_name', 'pct_both_over_benchmark', 'cumulative_enrollment']]"
   ],
   "metadata": {
    "collapsed": false
   }
  },
  {
   "cell_type": "markdown",
   "source": [
    "What is the distribution of teacher education and experience for the top five and bottom five school districts?"
   ],
   "metadata": {
    "collapsed": false
   }
  },
  {
   "cell_type": "code",
   "execution_count": 477,
   "outputs": [
    {
     "name": "stdout",
     "output_type": "stream",
     "text": [
      "Top Ten School Districts\n"
     ]
    },
    {
     "data": {
      "text/plain": "       avg_tchr_age  avg_tchr_yrs_tching  avg_tchr_yrs_in_dstrct  \\\ncount     10.000000            10.000000               10.000000   \nmean      45.301337            15.538576               10.678905   \nstd        1.923715             2.069405                1.066342   \nmin       40.714450            12.965023                8.798246   \n25%       45.054738            13.581317               10.324436   \n50%       45.399293            16.091565               10.717773   \n75%       46.288084            16.994173               11.446923   \nmax       47.600917            18.529101               12.190217   \n\n       avg_tchr_edu_lvl  \ncount         10.000000  \nmean           5.883771  \nstd            0.583332  \nmin            4.780702  \n25%            5.723911  \n50%            5.995866  \n75%            6.147078  \nmax            6.894022  ",
      "text/html": "<div>\n<style scoped>\n    .dataframe tbody tr th:only-of-type {\n        vertical-align: middle;\n    }\n\n    .dataframe tbody tr th {\n        vertical-align: top;\n    }\n\n    .dataframe thead th {\n        text-align: right;\n    }\n</style>\n<table border=\"1\" class=\"dataframe\">\n  <thead>\n    <tr style=\"text-align: right;\">\n      <th></th>\n      <th>avg_tchr_age</th>\n      <th>avg_tchr_yrs_tching</th>\n      <th>avg_tchr_yrs_in_dstrct</th>\n      <th>avg_tchr_edu_lvl</th>\n    </tr>\n  </thead>\n  <tbody>\n    <tr>\n      <th>count</th>\n      <td>10.000000</td>\n      <td>10.000000</td>\n      <td>10.000000</td>\n      <td>10.000000</td>\n    </tr>\n    <tr>\n      <th>mean</th>\n      <td>45.301337</td>\n      <td>15.538576</td>\n      <td>10.678905</td>\n      <td>5.883771</td>\n    </tr>\n    <tr>\n      <th>std</th>\n      <td>1.923715</td>\n      <td>2.069405</td>\n      <td>1.066342</td>\n      <td>0.583332</td>\n    </tr>\n    <tr>\n      <th>min</th>\n      <td>40.714450</td>\n      <td>12.965023</td>\n      <td>8.798246</td>\n      <td>4.780702</td>\n    </tr>\n    <tr>\n      <th>25%</th>\n      <td>45.054738</td>\n      <td>13.581317</td>\n      <td>10.324436</td>\n      <td>5.723911</td>\n    </tr>\n    <tr>\n      <th>50%</th>\n      <td>45.399293</td>\n      <td>16.091565</td>\n      <td>10.717773</td>\n      <td>5.995866</td>\n    </tr>\n    <tr>\n      <th>75%</th>\n      <td>46.288084</td>\n      <td>16.994173</td>\n      <td>11.446923</td>\n      <td>6.147078</td>\n    </tr>\n    <tr>\n      <th>max</th>\n      <td>47.600917</td>\n      <td>18.529101</td>\n      <td>12.190217</td>\n      <td>6.894022</td>\n    </tr>\n  </tbody>\n</table>\n</div>"
     },
     "metadata": {},
     "output_type": "display_data"
    },
    {
     "name": "stdout",
     "output_type": "stream",
     "text": [
      "Bottom Ten School Districts\n"
     ]
    },
    {
     "data": {
      "text/plain": "       avg_tchr_age  avg_tchr_yrs_tching  avg_tchr_yrs_in_dstrct  \\\ncount     10.000000            10.000000               10.000000   \nmean      44.413705            13.570482               10.617683   \nstd        2.000662             1.672202                1.858646   \nmin       41.710526            10.368421                8.194737   \n25%       43.133391            12.994700                9.108020   \n50%       44.732534            13.776166               10.706164   \n75%       45.357331            14.875783               11.227037   \nmax       48.303571            15.732143               13.637784   \n\n       avg_tchr_edu_lvl  \ncount         10.000000  \nmean           4.529572  \nstd            0.919984  \nmin            3.234694  \n25%            3.966645  \n50%            4.357047  \n75%            4.932954  \nmax            6.205650  ",
      "text/html": "<div>\n<style scoped>\n    .dataframe tbody tr th:only-of-type {\n        vertical-align: middle;\n    }\n\n    .dataframe tbody tr th {\n        vertical-align: top;\n    }\n\n    .dataframe thead th {\n        text-align: right;\n    }\n</style>\n<table border=\"1\" class=\"dataframe\">\n  <thead>\n    <tr style=\"text-align: right;\">\n      <th></th>\n      <th>avg_tchr_age</th>\n      <th>avg_tchr_yrs_tching</th>\n      <th>avg_tchr_yrs_in_dstrct</th>\n      <th>avg_tchr_edu_lvl</th>\n    </tr>\n  </thead>\n  <tbody>\n    <tr>\n      <th>count</th>\n      <td>10.000000</td>\n      <td>10.000000</td>\n      <td>10.000000</td>\n      <td>10.000000</td>\n    </tr>\n    <tr>\n      <th>mean</th>\n      <td>44.413705</td>\n      <td>13.570482</td>\n      <td>10.617683</td>\n      <td>4.529572</td>\n    </tr>\n    <tr>\n      <th>std</th>\n      <td>2.000662</td>\n      <td>1.672202</td>\n      <td>1.858646</td>\n      <td>0.919984</td>\n    </tr>\n    <tr>\n      <th>min</th>\n      <td>41.710526</td>\n      <td>10.368421</td>\n      <td>8.194737</td>\n      <td>3.234694</td>\n    </tr>\n    <tr>\n      <th>25%</th>\n      <td>43.133391</td>\n      <td>12.994700</td>\n      <td>9.108020</td>\n      <td>3.966645</td>\n    </tr>\n    <tr>\n      <th>50%</th>\n      <td>44.732534</td>\n      <td>13.776166</td>\n      <td>10.706164</td>\n      <td>4.357047</td>\n    </tr>\n    <tr>\n      <th>75%</th>\n      <td>45.357331</td>\n      <td>14.875783</td>\n      <td>11.227037</td>\n      <td>4.932954</td>\n    </tr>\n    <tr>\n      <th>max</th>\n      <td>48.303571</td>\n      <td>15.732143</td>\n      <td>13.637784</td>\n      <td>6.205650</td>\n    </tr>\n  </tbody>\n</table>\n</div>"
     },
     "metadata": {},
     "output_type": "display_data"
    }
   ],
   "source": [
    "print('Top Ten School Districts')\n",
    "display(top_ten[['avg_tchr_age', 'avg_tchr_yrs_tching','avg_tchr_yrs_in_dstrct','avg_tchr_edu_lvl']].describe())\n",
    "\n",
    "print('Bottom Ten School Districts')\n",
    "display(bottom_ten[['avg_tchr_age','avg_tchr_yrs_tching','avg_tchr_yrs_in_dstrct','avg_tchr_edu_lvl']].describe())"
   ],
   "metadata": {
    "collapsed": false
   }
  },
  {
   "cell_type": "markdown",
   "source": [
    "What is the distribution of enrollment data between the top Ten and bottom five school districts?"
   ],
   "metadata": {
    "collapsed": false
   }
  },
  {
   "cell_type": "code",
   "execution_count": 478,
   "outputs": [
    {
     "name": "stdout",
     "output_type": "stream",
     "text": [
      "Top Ten School Districts\n"
     ]
    },
    {
     "data": {
      "text/plain": "       cumulative_enrollment  student_teacher_ratio\ncount              10.000000              10.000000\nmean             8155.600000              16.728995\nstd             10709.106117               3.094461\nmin              2579.000000              12.146789\n25%              3188.500000              14.325036\n50%              4007.000000              17.025394\n75%              6308.000000              18.349793\nmax             37463.000000              21.481078",
      "text/html": "<div>\n<style scoped>\n    .dataframe tbody tr th:only-of-type {\n        vertical-align: middle;\n    }\n\n    .dataframe tbody tr th {\n        vertical-align: top;\n    }\n\n    .dataframe thead th {\n        text-align: right;\n    }\n</style>\n<table border=\"1\" class=\"dataframe\">\n  <thead>\n    <tr style=\"text-align: right;\">\n      <th></th>\n      <th>cumulative_enrollment</th>\n      <th>student_teacher_ratio</th>\n    </tr>\n  </thead>\n  <tbody>\n    <tr>\n      <th>count</th>\n      <td>10.000000</td>\n      <td>10.000000</td>\n    </tr>\n    <tr>\n      <th>mean</th>\n      <td>8155.600000</td>\n      <td>16.728995</td>\n    </tr>\n    <tr>\n      <th>std</th>\n      <td>10709.106117</td>\n      <td>3.094461</td>\n    </tr>\n    <tr>\n      <th>min</th>\n      <td>2579.000000</td>\n      <td>12.146789</td>\n    </tr>\n    <tr>\n      <th>25%</th>\n      <td>3188.500000</td>\n      <td>14.325036</td>\n    </tr>\n    <tr>\n      <th>50%</th>\n      <td>4007.000000</td>\n      <td>17.025394</td>\n    </tr>\n    <tr>\n      <th>75%</th>\n      <td>6308.000000</td>\n      <td>18.349793</td>\n    </tr>\n    <tr>\n      <th>max</th>\n      <td>37463.000000</td>\n      <td>21.481078</td>\n    </tr>\n  </tbody>\n</table>\n</div>"
     },
     "metadata": {},
     "output_type": "display_data"
    },
    {
     "name": "stdout",
     "output_type": "stream",
     "text": [
      "Bottom Ten School Districts\n"
     ]
    },
    {
     "data": {
      "text/plain": "       cumulative_enrollment  student_teacher_ratio\ncount              10.000000              10.000000\nmean             7009.600000              17.818055\nstd              7781.669061               2.178038\nmin               784.000000              14.000000\n25%              1990.250000              17.972073\n50%              3147.000000              18.445128\n75%             12185.000000              18.757492\nmax             22685.000000              20.971591",
      "text/html": "<div>\n<style scoped>\n    .dataframe tbody tr th:only-of-type {\n        vertical-align: middle;\n    }\n\n    .dataframe tbody tr th {\n        vertical-align: top;\n    }\n\n    .dataframe thead th {\n        text-align: right;\n    }\n</style>\n<table border=\"1\" class=\"dataframe\">\n  <thead>\n    <tr style=\"text-align: right;\">\n      <th></th>\n      <th>cumulative_enrollment</th>\n      <th>student_teacher_ratio</th>\n    </tr>\n  </thead>\n  <tbody>\n    <tr>\n      <th>count</th>\n      <td>10.000000</td>\n      <td>10.000000</td>\n    </tr>\n    <tr>\n      <th>mean</th>\n      <td>7009.600000</td>\n      <td>17.818055</td>\n    </tr>\n    <tr>\n      <th>std</th>\n      <td>7781.669061</td>\n      <td>2.178038</td>\n    </tr>\n    <tr>\n      <th>min</th>\n      <td>784.000000</td>\n      <td>14.000000</td>\n    </tr>\n    <tr>\n      <th>25%</th>\n      <td>1990.250000</td>\n      <td>17.972073</td>\n    </tr>\n    <tr>\n      <th>50%</th>\n      <td>3147.000000</td>\n      <td>18.445128</td>\n    </tr>\n    <tr>\n      <th>75%</th>\n      <td>12185.000000</td>\n      <td>18.757492</td>\n    </tr>\n    <tr>\n      <th>max</th>\n      <td>22685.000000</td>\n      <td>20.971591</td>\n    </tr>\n  </tbody>\n</table>\n</div>"
     },
     "metadata": {},
     "output_type": "display_data"
    }
   ],
   "source": [
    "print('Top Ten School Districts')\n",
    "display(top_ten[['cumulative_enrollment', 'student_teacher_ratio']].describe())\n",
    "\n",
    "print('Bottom Ten School Districts')\n",
    "display(bottom_ten[['cumulative_enrollment','student_teacher_ratio']].describe())"
   ],
   "metadata": {
    "collapsed": false
   }
  },
  {
   "cell_type": "markdown",
   "source": [
    "What is the distribution of poverty level and school district fiscal data between the top ten and bottom ten school districts?"
   ],
   "metadata": {
    "collapsed": false
   }
  },
  {
   "cell_type": "code",
   "execution_count": 479,
   "outputs": [
    {
     "name": "stdout",
     "output_type": "stream",
     "text": [
      "Top Ten School Districts\n"
     ]
    },
    {
     "data": {
      "text/plain": "       annual_expense_of_ed  current_expense_per_ada  poverty_pct\ncount          1.000000e+01                10.000000    10.000000\nmean           1.068747e+08             15502.352629     0.118742\nstd            1.164262e+08              4680.582616     0.076070\nmin            4.060201e+07             10788.064487     0.022281\n25%            4.661915e+07             11953.157902     0.054255\n50%            5.309169e+07             13916.344998     0.100076\n75%            8.003194e+07             17064.141153     0.190024\nmax            3.769439e+08             23849.613547     0.230468",
      "text/html": "<div>\n<style scoped>\n    .dataframe tbody tr th:only-of-type {\n        vertical-align: middle;\n    }\n\n    .dataframe tbody tr th {\n        vertical-align: top;\n    }\n\n    .dataframe thead th {\n        text-align: right;\n    }\n</style>\n<table border=\"1\" class=\"dataframe\">\n  <thead>\n    <tr style=\"text-align: right;\">\n      <th></th>\n      <th>annual_expense_of_ed</th>\n      <th>current_expense_per_ada</th>\n      <th>poverty_pct</th>\n    </tr>\n  </thead>\n  <tbody>\n    <tr>\n      <th>count</th>\n      <td>1.000000e+01</td>\n      <td>10.000000</td>\n      <td>10.000000</td>\n    </tr>\n    <tr>\n      <th>mean</th>\n      <td>1.068747e+08</td>\n      <td>15502.352629</td>\n      <td>0.118742</td>\n    </tr>\n    <tr>\n      <th>std</th>\n      <td>1.164262e+08</td>\n      <td>4680.582616</td>\n      <td>0.076070</td>\n    </tr>\n    <tr>\n      <th>min</th>\n      <td>4.060201e+07</td>\n      <td>10788.064487</td>\n      <td>0.022281</td>\n    </tr>\n    <tr>\n      <th>25%</th>\n      <td>4.661915e+07</td>\n      <td>11953.157902</td>\n      <td>0.054255</td>\n    </tr>\n    <tr>\n      <th>50%</th>\n      <td>5.309169e+07</td>\n      <td>13916.344998</td>\n      <td>0.100076</td>\n    </tr>\n    <tr>\n      <th>75%</th>\n      <td>8.003194e+07</td>\n      <td>17064.141153</td>\n      <td>0.190024</td>\n    </tr>\n    <tr>\n      <th>max</th>\n      <td>3.769439e+08</td>\n      <td>23849.613547</td>\n      <td>0.230468</td>\n    </tr>\n  </tbody>\n</table>\n</div>"
     },
     "metadata": {},
     "output_type": "display_data"
    },
    {
     "name": "stdout",
     "output_type": "stream",
     "text": [
      "Bottom Ten School Districts\n"
     ]
    },
    {
     "data": {
      "text/plain": "       annual_expense_of_ed  current_expense_per_ada  poverty_pct\ncount          1.000000e+01                10.000000    10.000000\nmean           8.057625e+07             15095.944355     0.906395\nstd            8.352583e+07              3640.564248     0.066132\nmin            1.509451e+07             12480.596162     0.756968\n25%            2.553351e+07             13123.048670     0.890232\n50%            3.637803e+07             13458.229620     0.931978\n75%            1.420587e+08             15026.885194     0.954892\nmax            2.357376e+08             23370.819747     0.960249",
      "text/html": "<div>\n<style scoped>\n    .dataframe tbody tr th:only-of-type {\n        vertical-align: middle;\n    }\n\n    .dataframe tbody tr th {\n        vertical-align: top;\n    }\n\n    .dataframe thead th {\n        text-align: right;\n    }\n</style>\n<table border=\"1\" class=\"dataframe\">\n  <thead>\n    <tr style=\"text-align: right;\">\n      <th></th>\n      <th>annual_expense_of_ed</th>\n      <th>current_expense_per_ada</th>\n      <th>poverty_pct</th>\n    </tr>\n  </thead>\n  <tbody>\n    <tr>\n      <th>count</th>\n      <td>1.000000e+01</td>\n      <td>10.000000</td>\n      <td>10.000000</td>\n    </tr>\n    <tr>\n      <th>mean</th>\n      <td>8.057625e+07</td>\n      <td>15095.944355</td>\n      <td>0.906395</td>\n    </tr>\n    <tr>\n      <th>std</th>\n      <td>8.352583e+07</td>\n      <td>3640.564248</td>\n      <td>0.066132</td>\n    </tr>\n    <tr>\n      <th>min</th>\n      <td>1.509451e+07</td>\n      <td>12480.596162</td>\n      <td>0.756968</td>\n    </tr>\n    <tr>\n      <th>25%</th>\n      <td>2.553351e+07</td>\n      <td>13123.048670</td>\n      <td>0.890232</td>\n    </tr>\n    <tr>\n      <th>50%</th>\n      <td>3.637803e+07</td>\n      <td>13458.229620</td>\n      <td>0.931978</td>\n    </tr>\n    <tr>\n      <th>75%</th>\n      <td>1.420587e+08</td>\n      <td>15026.885194</td>\n      <td>0.954892</td>\n    </tr>\n    <tr>\n      <th>max</th>\n      <td>2.357376e+08</td>\n      <td>23370.819747</td>\n      <td>0.960249</td>\n    </tr>\n  </tbody>\n</table>\n</div>"
     },
     "metadata": {},
     "output_type": "display_data"
    }
   ],
   "source": [
    "print('Top Ten School Districts')\n",
    "display(top_ten[['annual_expense_of_ed', 'current_expense_per_ada', 'poverty_pct']].describe())\n",
    "\n",
    "print('Bottom Ten School Districts')\n",
    "display(bottom_ten[['annual_expense_of_ed','current_expense_per_ada', 'poverty_pct']].describe())"
   ],
   "metadata": {
    "collapsed": false
   }
  },
  {
   "cell_type": "markdown",
   "source": [],
   "metadata": {
    "collapsed": false
   }
  },
  {
   "cell_type": "markdown",
   "metadata": {},
   "source": [
    "## Visualize the Data\n",
    "\n",
    "There's not a magic bullet recommendation for the right number of plots to understand a given dataset, but visualizing your data is *always* a good idea. Not only does it allow you to quickly convey your findings (even if you have a non-technical audience), it will often reveal trends in your data that escaped you when you were looking only at numbers. It is important to not only create visualizations, but to **interpret your visualizations** as well.\n",
    "\n",
    "**Every plot should**:\n",
    "- Have a title\n",
    "- Have axis labels\n",
    "- Have appropriate tick labels\n",
    "- Text is legible in a plot\n",
    "- Plots demonstrate meaningful and valid relationships\n",
    "- Have an interpretation to aid understanding\n",
    "\n",
    "Here is an example of what your plots should look like following the above guidelines. Note that while the content of this example is unrelated, the principles of visualization hold:\n",
    "\n",
    "![](https://snag.gy/hCBR1U.jpg)\n",
    "*Interpretation: The above image shows that as we increase our spending on advertising, our sales numbers also tend to increase. There is a positive correlation between advertising spending and sales.*\n",
    "\n",
    "---\n",
    "\n",
    "Here are some prompts to get you started with visualizations. Feel free to add additional visualizations as you see fit:\n",
    "1. Use Seaborn's heatmap with pandas `.corr()` to visualize correlations between all numeric features.\n",
    "    - Heatmaps are generally not appropriate for presentations, and should often be excluded from reports as they can be visually overwhelming. **However**, they can be extremely useful in identify relationships of potential interest (as well as identifying potential collinearity before modeling).\n",
    "    - Please take time to format your output, adding a title. Look through some of the additional arguments and options. (Axis labels aren't really necessary, as long as the title is informative).\n",
    "2. Visualize distributions using histograms. If you have a lot, consider writing a custom function and use subplots.\n",
    "    - *OPTIONAL*: Summarize the underlying distributions of your features (in words & statistics)\n",
    "         - Be thorough in your verbal description of these distributions.\n",
    "         - Be sure to back up these summaries with statistics.\n",
    "         - We generally assume that data we sample from a population will be normally distributed. Do we observe this trend? Explain your answers for each distribution and how you think this will affect estimates made from these data.\n",
    "3. Plot and interpret boxplots. \n",
    "    - Boxplots demonstrate central tendency and spread in variables. In a certain sense, these are somewhat redundant with histograms, but you may be better able to identify clear outliers or differences in IQR, etc.\n",
    "    - Multiple values can be plotted to a single boxplot as long as they are of the same relative scale (meaning they have similar min/max values).\n",
    "    - Each boxplot should:\n",
    "        - Only include variables of a similar scale\n",
    "        - Have clear labels for each variable\n",
    "        - Have appropriate titles and labels\n",
    "4. Plot and interpret scatter plots to view relationships between features. Feel free to write a custom function, and subplot if you'd like. Functions save both time and space.\n",
    "    - Your plots should have:\n",
    "        - Two clearly labeled axes\n",
    "        - A proper title\n",
    "        - Colors and symbols that are clear and unmistakable\n",
    "5. Additional plots of your choosing.\n",
    "    - Are there any additional trends or relationships you haven't explored? Was there something interesting you saw that you'd like to dive further into? It's likely that there are a few more plots you might want to generate to support your narrative and recommendations that you are building toward. **As always, make sure you're interpreting your plots as you go**."
   ]
  },
  {
   "cell_type": "code",
   "execution_count": 484,
   "metadata": {},
   "outputs": [
    {
     "data": {
      "application/vnd.plotly.v1+json": {
       "data": [
        {
         "hovertemplate": "pct_both_over_benchmark=%{x}<br>avg_tchr_edu_lvl=%{y}<br>poverty_pct=%{marker.color}<extra></extra>",
         "legendgroup": "",
         "marker": {
          "color": [
           0.5301054384017758,
           0.07806307082543512,
           0.5411670384829894,
           0.341722972972973,
           0.23046772929187354,
           0.6487751955690059,
           0.7387988560533841,
           0.8013525347864162,
           0.4755181052152129,
           0.7749366149279574,
           0.6048309178743961,
           0.8535645472061657,
           0.7446250854668389,
           0.7124494289957495,
           0.7242736077481841,
           0.28002457254018637,
           0.43154996066089696,
           0.8622552329507089,
           0.7534345047923323,
           0.8865024995371228,
           0.8164465943260557,
           0.9260244811069718,
           0.7233804914370812,
           0.5829619039609789,
           0.7263133208255159,
           0.26016427104722795,
           0.3387854859936078,
           0.1927346115035318,
           0.6169590643274854,
           0.803921568627451,
           0.304635761589404,
           0.7397260273972602,
           0.6828571428571428,
           0.543549138332557,
           0.4959409594095941,
           0.40740053788370584,
           0.3812570568310124,
           0.7745920745920746,
           0.7890807279514699,
           0.3327979441053646,
           0.41770401106500693,
           0.38453834115805946,
           0.8719512195121951,
           0.4530674846625767,
           0.5985401459854015,
           0.8682562133764397,
           0.8533007334963325,
           0.7569676700111483,
           0.32006315552046916,
           0.2890649706595453,
           0.2516920473773266,
           0.18650639782861575,
           0.6169565217391304,
           0.9012875536480687,
           0.2575413223140496,
           0.6902103907256333,
           0.7816675574559059,
           0.7861440605122916,
           0.7719026548672566,
           0.8299150485436894,
           0.6366813904359516,
           0.5804460374352848,
           0.5410821643286573,
           0.5476379152697348,
           0.4986224088165836,
           0.7436548223350253,
           0.37075537075537074,
           0.636485580147552,
           0.4734691229891022,
           0.9282817393089995,
           0.8891615541922291,
           0.7583892617449665,
           0.832038400520685,
           0.7443006777572396,
           0.9171915452683643,
           0.2672029060716139,
           0.8873357562202964,
           0.8192041522491349,
           0.4823707245052202,
           0.12272024729520865,
           0.4639912894695909,
           0.7224827147739012,
           0.3405243036592026,
           0.95818345323741,
           0.8160377358490566,
           0.24112769485903815,
           0.96875,
           0.7031720305626302,
           0.9204797867614394,
           0.8864126527677929,
           0.6909808269205687,
           0.8407500699692135,
           0.5690909090909091,
           0.8845577211394303,
           0.7177070391157191,
           0.6076408254322365,
           0.09903096194753014,
           0.7101449275362319,
           0.4786096256684492,
           0.3782051282051282,
           0.5937203630944317,
           0.5393518518518519,
           0.2314410480349345,
           0.893168370091447,
           0.74728409963788,
           0.16879432624113475,
           0.6937269372693727,
           0.5687462056604319,
           0.7948717948717948,
           0.511166253101737,
           0.6241375959576329,
           0.8193916349809885,
           0.709592641261498,
           0.6216997411561691,
           0.6510948905109489,
           0.6352646936223426,
           0.9466323150533676,
           0.5641025641025641,
           0.7796820665673124,
           0.9238900634249472,
           0.38702290076335877,
           0.8522858433281477,
           0.72,
           0.5911602209944752,
           0.5684647302904564,
           0.784320809248555,
           0.21890337220961528,
           0.1667401852668725,
           0.8788262384414144,
           0.5566502463054187,
           0.5975298126064736,
           0.6989564122171742,
           0.7648667122351333,
           0.6653543307086615,
           0.5996053670086819,
           0.5426238634254964,
           0.3082081545064378,
           0.9576457645764577,
           0.49153976311336717,
           0.8340646190666134,
           0.7525010874293171,
           0.5862582708908461,
           0.8305929247633284,
           0.8237650200267023,
           0.6791646891314665,
           0.72639747686434,
           0.5927392739273928,
           0.8459210939955989,
           0.7547485238671124,
           0.5983935742971888,
           0.7502979737783075,
           0.5753676470588235,
           0.40522255192878337,
           0.5890656509074613,
           0.8756472679496097,
           0.19720791180631556,
           0.3451606544451015,
           0.6457399103139013,
           0.5675675675675675,
           0.7740702284311874,
           0.8087230688386757,
           0.8353658536585366,
           0.7347648400279979,
           0.8606217138640346,
           0.6295436968290796,
           0.8914728682170543,
           0.8807978851237683,
           0.05493193217100549,
           0.5975975975975976,
           0.13208191126279864,
           0.6926764203242882,
           0.5990184049079754,
           0.7149787750151607,
           0.1998972250770812,
           0.14051460968163978,
           0.39425287356321836,
           0.8563458856345886,
           0.7419354838709677,
           0.8448905109489051,
           0.6259541984732825,
           0.5512611879576892,
           0.3285536863497798,
           0.6584374380329169,
           0.6515273311897106,
           0.9112265642647391,
           0.8126829268292682,
           0.28125882020886256,
           0.7330758284204106,
           0.7266904565834019,
           0.6856287425149701,
           0.6971955533097524,
           0.17596906909884008,
           0.8084993128987437,
           0.782942536327609,
           0.0506435366536094,
           0.7533834586466165,
           0.6237160317253934,
           0.5404982991633722,
           0.9430371173123815,
           0.8989199911836016,
           0.5737327188940092,
           0.054029983672257684,
           0.6982959094201517,
           0.4713184931506849,
           0.6813819577735125,
           0.335149863760218,
           0.7981233008857318,
           0.4423076923076923,
           0.726775956284153,
           0.5108877721943048,
           0.981301027126679,
           0.7877794079571934,
           0.5501551189245087,
           0.3727255848496101,
           0.7093023255813954,
           0.8928786964393483,
           0.5967292971468336,
           0.8464684425776501,
           0.6631190455754871,
           0.3700966458214895,
           0.9274371476043908,
           0.40397905759162306,
           0.7185338151781104,
           0.48890010090817354,
           0.7694915254237288,
           0.22338568935427575,
           0.47048969457656525,
           0.35414585414585414,
           0.3816963384602963,
           0.5227138958745786,
           0.5858016548746852,
           0.7860738255033557,
           0.48820905035054174,
           0.49577987846049965,
           0.5323529411764706,
           0.6798157212784336,
           0.48088819130274213,
           0.8517476898352752,
           0.504434011476265,
           0.7630444156964209,
           0.4082512315270936,
           0.09574019401096584,
           0.48246674727932287,
           0.744069459076543,
           0.6166851954789698,
           0.5417468257021931,
           0.5005856414496348,
           0.7830731306491372,
           0.7727642276422764,
           0.6451612903225806,
           0.6651846427450571,
           0.25825965565379244,
           0.7815479528883904,
           0.8837628762675859,
           0.1187800963081862,
           0.636710369487485,
           0.09285219799238491,
           0.917896865520728,
           0.9602490722686962,
           0.9912629070691025,
           0.6349304801778053,
           0.5511895215183106,
           0.7949059677180512,
           0.7266995392450085,
           0.0222809667673716,
           0.7469095640858816,
           0.8258591951742201,
           0.3952422112818971,
           0.27375886524822696,
           0.09912369824739649,
           0.585979381443299,
           0.9170126091173618,
           0.8340241025314035,
           0.6818181818181818,
           0.20169563599638549,
           0.7564102564102564,
           0.44968606821652807,
           0.6546141392336752,
           0.6363754213119004,
           0.1803405572755418,
           0.9440559440559441,
           0.8881146653187956,
           0.4038098830629951,
           0.6051805337519623,
           0.8048854961832062,
           0.882177033492823,
           0.6743262411347518,
           0.19554272672350137,
           0.30670289855072463,
           0.9274047186932849,
           0.7733560611027339,
           0.7249643366619115,
           0.33788748974423,
           0.44144838212634824,
           0.7750204367628167,
           0.6224179829890644,
           0.893998033182121,
           0.6110456765297329,
           0.13278192157152352,
           0.5291537029563769,
           0.6137416366443644,
           0.8,
           0.4676904546823246,
           0.5713817830793629,
           0.6484317245749287,
           0.6848879973253093,
           0.24260249554367203,
           0.379585326953748,
           0.08137254901960785,
           0.27867705835331735,
           0.9209183673469388,
           0.5684662138005006,
           0.07170677213852239,
           0.7119794809897405,
           0.8382482556004407,
           0.5316431197987227,
           0.42794891968770804,
           0.8157538877620013,
           0.2886249428962997,
           0.888788752703677,
           0.38326446280991733,
           0.6526867627785059,
           0.13004846526655897,
           0.8568746389370306,
           0.4441860465116279,
           0.83125,
           0.4289095786649834,
           0.6601436265709156,
           0.5128571428571429,
           0.4512471655328798,
           0.5217560217560218,
           0.3790834715944848,
           0.5582922824302134,
           0.6922987028164076,
           0.9108097784568373,
           0.6264100862641009,
           0.45112781954887216,
           0.8615269461077845,
           0.19119697271459868,
           0.5011200716845878,
           0.638196915776987,
           0.7149144254278729,
           0.8636363636363636,
           0.7937581608408074,
           0.8695652173913043,
           0.4202172096908939,
           0.6341463414634146,
           0.3598531211750306,
           0.6117538281126672,
           0.7268643306379156,
           0.4168975069252078,
           0.11899313501144165,
           0.4779064779064779,
           0.2955119303118293,
           0.44260617431349136,
           0.22880690737833595,
           0.3373975367631915,
           0.5788048176107877,
           0.29916107382550333,
           0.6071871127633209,
           0.7410714285714286,
           0.7334523036988968,
           0.8530120481927711,
           0.6405106063450348,
           0.434293519746093,
           0.7978140664565139,
           0.7859147025813692,
           0.5837362637362637,
           0.7965367965367965,
           0.4502768238839442,
           0.8773441004934949,
           0.7265644634330234,
           0.5924050632911393,
           0.5744151030808432,
           0.8488754799780581,
           0.7029637760702525,
           0.6831391114348143,
           0.25,
           0.44070695553021666,
           0.8268482490272373,
           0.7400468384074942,
           0.7400468384074942,
           0.6802738336713996,
           0.7251062363615481,
           0.7024295432458698,
           0.37130392632089193,
           0.3756689602446483,
           0.7175925925925926,
           0.4598623853211009,
           0.7451850677657129,
           0.3422289043412892,
           0.9201413427561838,
           0.7400756143667296,
           0.7119496855345911,
           0.4286242603550296,
           0.673581452104942,
           0.40520043336944744,
           0.8976169461606355,
           0.6482336316533208,
           0.5204829667960328,
           0.5527426160337553,
           0.7639658119658119,
           0.5474680635970959
          ],
          "coloraxis": "coloraxis",
          "symbol": "circle"
         },
         "mode": "markers",
         "name": "",
         "orientation": "v",
         "showlegend": false,
         "x": [
          0.70204,
          0.9343999999999999,
          0.476,
          0.6433,
          0.9592,
          0.739675,
          null,
          0.18810000000000002,
          0.85565,
          0.5914200000000001,
          0.5432,
          null,
          0.18058461538461537,
          0.543825,
          0.4124,
          0.9390000000000001,
          0.7055,
          0.173775,
          0.440125,
          0.4127,
          0.5849,
          0.36840000000000006,
          0.7778,
          0.28264999999999996,
          0.6445000000000001,
          0.8451000000000001,
          0.786,
          0.7297,
          null,
          null,
          null,
          null,
          null,
          0.5882000000000001,
          null,
          0.5829666666666666,
          0.7037,
          null,
          0.3926,
          0.8803,
          0.8286,
          0.8891333333333332,
          null,
          0.7857,
          0.5775,
          0.5655,
          null,
          0.0968,
          0.8029166666666666,
          0.8234625,
          0.8386,
          0.9670000000000001,
          0.7143,
          0.209,
          0.8371,
          0.76265,
          0.24085,
          0.2971,
          0.5524,
          0.3682,
          0.5688333333333333,
          0.6930000000000001,
          0.39143333333333336,
          0.86385,
          0.33590000000000003,
          0.4154,
          0.8312,
          0.5652,
          0.7115333333333332,
          0.324125,
          0.3594,
          null,
          0.33385,
          0.6315999999999999,
          0.16193333333333335,
          0.8656999999999999,
          0.1389,
          null,
          0.6538428571428572,
          0.9162,
          0.6783,
          0.2266,
          0.7090000000000001,
          0.15039999999999998,
          null,
          0.8780999999999999,
          null,
          0.5606,
          0.400525,
          0.22030000000000002,
          0.1881375,
          0.4759,
          0.7037,
          0.6333,
          0.2991,
          0.48852500000000004,
          0.9217,
          null,
          0.7143,
          0.4054,
          0.32551363636363634,
          null,
          0.86412,
          0.5026,
          0.33536666666666665,
          0.8671,
          null,
          0.64968,
          0.2642,
          0.7451000000000001,
          0.5846428571428571,
          0.6111,
          0.5326500000000001,
          0.6704,
          0.6111,
          0.6480999999999999,
          0.0833,
          null,
          0.2054,
          0.1887,
          0.855675,
          0.1691,
          0.5897,
          null,
          0.5641,
          0.2766,
          0.9193666666666668,
          0.9320833333333334,
          0.2666769230769231,
          0.7464571428571428,
          0.5921666666666666,
          0.6009375,
          0.8,
          null,
          0.701525,
          0.81798,
          0.9014,
          0.0096,
          0.7188,
          0.129,
          0.4255,
          0.6759384615384616,
          0.3286,
          0.2917,
          0.537525,
          0.44408333333333333,
          0.5859,
          0.5008,
          0.48216000000000003,
          0.48479999999999995,
          0.4286,
          0.5417000000000001,
          0.7802571428571428,
          0.6833,
          0.19912000000000002,
          0.9553166666666666,
          0.7734166666666665,
          0.6167,
          null,
          0.34087500000000004,
          0.3333,
          0.2662,
          0.5315055555555556,
          0.312375,
          0.6909000000000001,
          null,
          0.3623,
          0.9775,
          0.7646999999999999,
          0.9031999999999999,
          0.5549,
          0.7714,
          null,
          0.7468,
          0.8490666666666667,
          0.7143,
          null,
          null,
          0.2615,
          null,
          0.5866333333333333,
          0.676,
          0.7976000000000001,
          0.375,
          0.2188,
          0.41910000000000003,
          0.8739666666666666,
          0.7358571428571429,
          0.287,
          null,
          0.3127533333333333,
          0.80615,
          0.2065160975609756,
          0.48586666666666667,
          0.9598,
          null,
          0.625,
          0.61635,
          0.0923,
          0.12775,
          0.7646999999999999,
          0.9692000000000001,
          0.5732833333333334,
          null,
          0.8718,
          0.8000499999999999,
          0.5588333333333334,
          null,
          null,
          null,
          0.2763,
          0.4236571428571429,
          0.49739999999999995,
          0.8665499999999999,
          null,
          0.4706,
          0.6602,
          0.42291999999999996,
          0.44055,
          0.85565,
          0.33334,
          0.7533,
          0.6044666666666667,
          0.37740000000000007,
          null,
          0.8786999999999999,
          0.6314,
          0.7633,
          0.653275,
          0.49056,
          0.32310000000000005,
          null,
          0.88905,
          0.72665,
          0.7106999999999999,
          0.2353,
          0.7093833333333333,
          0.3529,
          0.7151000000000001,
          0.18214000000000002,
          0.7628666666666666,
          0.93805,
          0.7,
          0.33531304347826085,
          0.64045,
          0.84,
          0.7762800000000001,
          0.5,
          0.7101666666666665,
          null,
          0.24967,
          0.9359000000000001,
          0.45255999999999996,
          0.38642000000000004,
          0.9662666666666667,
          0.3393,
          0.9061333333333333,
          0.7459499999999999,
          0.10666666666666667,
          0.1818,
          0.51068,
          0.7361,
          0.3194,
          0.41872,
          0.9896,
          0.4474,
          0.38855,
          0.85868,
          0.8415250000000001,
          0.9340666666666667,
          0.562075,
          0.339075,
          0.46146000000000004,
          null,
          0.9150499999999999,
          null,
          0.8204333333333333,
          0.6857,
          0.44943333333333335,
          0.9067000000000001,
          0.2712,
          0.20242500000000002,
          0.7364,
          0.28213333333333335,
          0.2692,
          0.413,
          0.62285,
          0.883375,
          0.7806666666666667,
          null,
          0.6641666666666667,
          0.27912,
          0.8248200000000001,
          0.6735,
          0.47905999999999993,
          0.6023,
          0.19562222222222223,
          0.5041575757575758,
          0.9177199999999999,
          0.5602125,
          0.6396333333333333,
          0.1811,
          0.33968000000000004,
          0.5797249999999999,
          0.2664,
          0.6573,
          0.7145,
          0.8481333333333333,
          0.9634,
          0.8158,
          0.0588,
          0.7238000000000001,
          0.92308,
          0.54555,
          0.47519,
          0.798,
          0.51815,
          0.50075,
          0.8373333333333334,
          0.4914,
          0.75,
          0.7273000000000001,
          0.8684000000000001,
          0.39520000000000005,
          0.6066,
          null,
          0.8475199999999999,
          0.8162999999999999,
          0.6087,
          null,
          null,
          0.831225,
          0.6212500000000001,
          0.6525,
          0.2346,
          0.5447,
          0.7143,
          0.31383333333333335,
          0.9396,
          0.7271333333333333,
          null,
          null,
          null,
          0.45645454545454545,
          null,
          0.625,
          null,
          0.6977,
          0.5565846153846153,
          0.3542,
          0.7629999999999999,
          0.8772399999999999,
          0.8776,
          0.73448,
          0.8787999999999999,
          0.83095,
          0.82208,
          0.7199199999999999,
          0.7153,
          0.6207,
          null,
          0.498475,
          null,
          0.6543,
          0.7060000000000001,
          0.41829999999999995,
          0.6520333333333334,
          0.6844,
          null,
          0.71495,
          0.170025,
          0.41915,
          0.6667000000000001,
          0.7072,
          0.22737142857142859,
          0.65474,
          0.6962200000000001,
          0.9233000000000001,
          null,
          0.5517,
          0.397925,
          0.397925,
          0.6844,
          0.5166111111111111,
          0.623675,
          0.7554,
          0.7170500000000001,
          null,
          0.5714,
          0.5660666666666666,
          0.7653222222222222,
          0.3125,
          0.35414999999999996,
          0.5,
          0.6405,
          0.56,
          0.433975,
          0.375,
          0.4719,
          0.785,
          0.625,
          0.6334666666666667,
          0.6675
         ],
         "xaxis": "x",
         "y": [
          5.763992537313433,
          5.497109826589595,
          4.3913352272727275,
          4.706997084548105,
          4.780701754385965,
          6.177966101694915,
          4.653225806451613,
          6.862595419847328,
          4.569105691056911,
          5.301410541945063,
          4.44,
          4.093023255813954,
          5.2113271344040575,
          4.2930845225027445,
          4.5557029177718835,
          6.693069306930693,
          4.654929577464789,
          6.763052208835341,
          5.459915611814346,
          4.715355805243446,
          5.065625,
          5.6767676767676765,
          5.190839694656488,
          5.36443661971831,
          5.62012987012987,
          4.984615384615385,
          4.854755784061696,
          6.377104377104377,
          3.740740740740741,
          4.695652173913044,
          4.0,
          3.5454545454545454,
          3.7948717948717947,
          4.852173913043479,
          3.78125,
          6.576146788990826,
          4.744827586206896,
          3.5,
          5.267326732673268,
          5.666666666666667,
          4.717391304347826,
          4.855569155446757,
          4.391304347826087,
          4.595375722543353,
          4.019108280254777,
          5.0615711252653925,
          4.25,
          4.296875,
          5.282110091743119,
          5.572741806554756,
          6.981574539363484,
          5.158730158730159,
          5.503496503496503,
          4.954022988505747,
          5.183752417794971,
          4.681481481481481,
          5.843267108167771,
          4.048206278026906,
          4.785087719298246,
          3.609988109393579,
          5.058617672790901,
          6.3694779116465865,
          4.220779220779221,
          4.25,
          3.743050847457627,
          4.80327868852459,
          5.888888888888889,
          4.553191489361702,
          4.14987298899238,
          5.782010582010582,
          3.625,
          4.520833333333333,
          5.072050673000792,
          3.8941176470588235,
          4.555473916238061,
          6.0091093117408905,
          3.5473684210526315,
          3.0517241379310347,
          6.5064935064935066,
          5.838888888888889,
          4.498666666666667,
          6.461194029850747,
          5.816582914572864,
          4.775933609958506,
          4.821167883211679,
          4.762152777777778,
          5.5,
          3.5063291139240507,
          4.3852813852813854,
          3.8865248226950353,
          5.667580534612749,
          4.375,
          4.018264840182648,
          4.503703703703704,
          4.755226480836237,
          5.897163120567376,
          4.80030959752322,
          3.5,
          4.136363636363637,
          4.2,
          5.009097270818755,
          4.6,
          4.6023054755043225,
          6.047131147540983,
          5.765591397849462,
          6.354497354497354,
          3.871794871794872,
          3.7576013513513513,
          4.314814814814815,
          4.0426829268292686,
          5.64221824686941,
          4.622641509433962,
          3.8741721854304636,
          4.062226117440841,
          4.063291139240507,
          4.7190082644628095,
          4.417218543046357,
          3.1463414634146343,
          4.808219178082192,
          3.4671052631578947,
          4.685045948203843,
          5.6100782778864975,
          4.204379562043796,
          3.6,
          3.6769230769230767,
          4.139072847682119,
          4.607681088964512,
          5.675126903553299,
          4.279305036287663,
          6.2,
          4.6434108527131785,
          3.0207231040564375,
          4.379518072289157,
          4.363636363636363,
          4.413223140495868,
          6.1782407407407405,
          5.40979381443299,
          3.2346938775510203,
          3.6194690265486726,
          4.985294117647059,
          3.231578947368421,
          5.294657762938231,
          3.3564356435643563,
          3.875,
          4.175,
          4.5424739195231,
          4.56701030927835,
          6.020064205457464,
          4.989583333333333,
          3.8698630136986303,
          4.314814814814815,
          3.618181818181818,
          6.276081424936387,
          5.033492822966507,
          5.59009009009009,
          5.872706422018348,
          4.853146853146853,
          4.034883720930233,
          4.454545454545454,
          7.272638753651412,
          3.779816513761468,
          3.660377358490566,
          5.399808703969392,
          3.836693548387097,
          3.681159420289855,
          3.9404761904761907,
          3.9585492227979273,
          6.06140350877193,
          5.129032258064516,
          6.858695652173913,
          6.0427715996578275,
          4.1,
          3.758241758241758,
          3.957095709570957,
          7.401273885350318,
          4.976744186046512,
          3.3454545454545452,
          4.0,
          4.03030303030303,
          3.230769230769231,
          4.317073170731708,
          4.695754716981132,
          4.426691729323308,
          4.308943089430894,
          4.093877551020408,
          4.225225225225225,
          5.057324840764331,
          4.521598272138229,
          5.085427135678392,
          5.333333333333333,
          5.750393700787401,
          6.46218487394958,
          4.633090352538328,
          3.5375,
          6.14975845410628,
          3.6315789473684212,
          4.307894736842106,
          3.9363636363636365,
          5.6803977272727275,
          4.295150501672241,
          4.6521739130434785,
          6.894021739130435,
          4.288683602771362,
          4.518256772673734,
          3.976923076923077,
          4.716599190283401,
          2.984189723320158,
          2.6,
          4.285714285714286,
          4.372549019607843,
          3.443243243243243,
          3.8919860627177703,
          4.276666666666666,
          5.310408921933085,
          3.9245283018867925,
          4.228758169934641,
          5.401315789473684,
          4.783719074221867,
          3.8693009118541033,
          5.0700280112044815,
          5.778272980501392,
          4.747844827586207,
          4.511156186612576,
          5.0125,
          3.9,
          6.717314487632509,
          4.271305285868393,
          4.196261682242991,
          5.390893470790378,
          4.737383177570093,
          4.31216361679225,
          6.087719298245614,
          4.31413612565445,
          3.8967741935483873,
          4.175572519083969,
          3.802139037433155,
          6.247278382581649,
          3.4427480916030535,
          4.449612403100775,
          5.743027888446215,
          4.830472103004292,
          5.4025423728813555,
          3.8065693430656933,
          3.082939048149179,
          5.268984446477584,
          5.417218543046357,
          5.501766784452297,
          3.806201550387597,
          3.656,
          5.0,
          4.855039637599094,
          5.583333333333333,
          3.2130777903043968,
          6.058148431522571,
          5.930327868852459,
          5.086705202312139,
          6.805280528052806,
          3.8634538152610443,
          6.205649717514124,
          5.171717171717172,
          5.116910229645094,
          4.425196850393701,
          3.945945945945946,
          5.53411306042885,
          5.674311926605505,
          3.4444444444444446,
          4.869760479041916,
          5.349320543565148,
          4.6255506607929515,
          4.414035087719299,
          3.6923076923076925,
          4.372847011144883,
          4.13550135501355,
          3.55,
          5.69905462184874,
          2.3076923076923075,
          5.22027972027972,
          4.346534653465347,
          4.7434554973821985,
          5.678776290630975,
          3.357142857142857,
          5.5380597014925375,
          4.230232558139535,
          3.9708029197080292,
          3.8011049723756907,
          4.479166666666667,
          5.583599088838269,
          4.783042394014963,
          6.092896174863388,
          2.972972972972973,
          5.623152709359606,
          3.5602455871066767,
          4.453883495145631,
          5.89622641509434,
          5.264434180138569,
          5.414285714285715,
          4.214172227518271,
          5.741881443298969,
          6.103343465045593,
          2.4391066160977664,
          4.983516483516484,
          5.688693098384729,
          4.253448275862069,
          4.557512953367875,
          5.01980198019802,
          3.957055214723926,
          4.914754098360656,
          4.59275053304904,
          6.13903743315508,
          5.763333333333334,
          3.857142857142857,
          4.863636363636363,
          5.204799107142857,
          4.386271870794078,
          5.645645645645645,
          5.321029082774049,
          4.788418708240535,
          4.424170616113744,
          5.404129793510324,
          4.96,
          5.163636363636364,
          3.74,
          5.617647058823529,
          5.076923076923077,
          5.28134110787172,
          4.28,
          4.5495207667731625,
          4.303630363036303,
          4.329411764705882,
          3.774193548387097,
          4.104477611940299,
          4.349384098544233,
          4.239130434782608,
          6.205555555555556,
          4.898550724637682,
          4.115942028985507,
          4.5,
          4.532786885245901,
          6.176706827309237,
          4.302734375,
          3.422222222222222,
          3.699074074074074,
          3.0833333333333335,
          4.543509965969859,
          3.75,
          3.463768115942029,
          4.3,
          3.763157894736842,
          5.328223624887285,
          5.472222222222222,
          4.762987012987013,
          5.073654390934844,
          3.8009049773755654,
          6.16258064516129,
          5.551839464882943,
          4.6015625,
          5.389521640091116,
          4.49877750611247,
          4.872549019607843,
          4.711538461538462,
          3.9672544080604535,
          5.268456375838926,
          4.392857142857143,
          4.434058898847631,
          5.925699300699301,
          4.174746936600959,
          3.925581395348837,
          5.485165794066318,
          4.188679245283019,
          3.5685019206145965,
          6.2536873156342185,
          4.4013793103448275,
          4.464454976303317,
          5.312831389183457,
          4.351145038167939,
          4.460688758934373,
          5.711648631444939,
          5.827027027027027,
          5.258503401360544,
          4.337078651685394,
          3.6889580093312597,
          3.6889580093312597,
          3.7191489361702126,
          3.9733481399222654,
          5.211538461538462,
          4.184873949579832,
          4.330783938814531,
          4.181818181818182,
          4.425,
          5.380106571936057,
          4.708364174685419,
          4.341772151898734,
          3.8615384615384616,
          4.061728395061729,
          3.9938650306748467,
          4.548387096774194,
          5.354014598540146,
          3.630630630630631,
          4.201907790143085,
          4.364406779661017,
          4.511627906976744,
          4.460093896713615,
          5.632798573975045
         ],
         "yaxis": "y",
         "type": "scatter"
        },
        {
         "hovertemplate": "<b>OLS trendline</b><br>avg_tchr_edu_lvl = 0.963694 * pct_both_over_benchmark + 4.24783<br>R<sup>2</sup>=0.065770<br><br>pct_both_over_benchmark=%{x}<br>avg_tchr_edu_lvl=%{y} <b>(trend)</b><extra></extra>",
         "legendgroup": "",
         "marker": {
          "symbol": "circle"
         },
         "mode": "lines",
         "name": "",
         "showlegend": false,
         "x": [
          0.0096,
          0.0588,
          0.0833,
          0.0923,
          0.0968,
          0.10666666666666667,
          0.12775,
          0.129,
          0.1389,
          0.15039999999999998,
          0.16193333333333335,
          0.1691,
          0.170025,
          0.173775,
          0.18058461538461537,
          0.1811,
          0.1818,
          0.18214000000000002,
          0.18810000000000002,
          0.1881375,
          0.1887,
          0.19562222222222223,
          0.19912000000000002,
          0.20242500000000002,
          0.2054,
          0.2065160975609756,
          0.209,
          0.2188,
          0.22030000000000002,
          0.2266,
          0.22737142857142859,
          0.2346,
          0.2353,
          0.24085,
          0.24967,
          0.2615,
          0.2642,
          0.2662,
          0.2664,
          0.2666769230769231,
          0.2692,
          0.2712,
          0.2763,
          0.2766,
          0.27912,
          0.28213333333333335,
          0.28264999999999996,
          0.287,
          0.2917,
          0.2971,
          0.2991,
          0.312375,
          0.3125,
          0.3127533333333333,
          0.31383333333333335,
          0.3194,
          0.32310000000000005,
          0.324125,
          0.32551363636363634,
          0.3286,
          0.3333,
          0.33334,
          0.33385,
          0.33531304347826085,
          0.33536666666666665,
          0.33590000000000003,
          0.339075,
          0.3393,
          0.33968000000000004,
          0.34087500000000004,
          0.3529,
          0.35414999999999996,
          0.3542,
          0.3594,
          0.3623,
          0.3682,
          0.36840000000000006,
          0.375,
          0.375,
          0.37740000000000007,
          0.38642000000000004,
          0.38855,
          0.39143333333333336,
          0.3926,
          0.39520000000000005,
          0.397925,
          0.397925,
          0.400525,
          0.4054,
          0.4124,
          0.4127,
          0.413,
          0.4154,
          0.41829999999999995,
          0.41872,
          0.41910000000000003,
          0.41915,
          0.42291999999999996,
          0.4236571428571429,
          0.4255,
          0.4286,
          0.433975,
          0.440125,
          0.44055,
          0.44408333333333333,
          0.4474,
          0.44943333333333335,
          0.45255999999999996,
          0.45645454545454545,
          0.46146000000000004,
          0.4706,
          0.4719,
          0.47519,
          0.4759,
          0.476,
          0.47905999999999993,
          0.48216000000000003,
          0.48479999999999995,
          0.48586666666666667,
          0.48852500000000004,
          0.49056,
          0.4914,
          0.49739999999999995,
          0.498475,
          0.5,
          0.5,
          0.50075,
          0.5008,
          0.5026,
          0.5041575757575758,
          0.51068,
          0.5166111111111111,
          0.51815,
          0.5315055555555556,
          0.5326500000000001,
          0.537525,
          0.5417000000000001,
          0.5432,
          0.543825,
          0.5447,
          0.54555,
          0.5517,
          0.5524,
          0.5549,
          0.5565846153846153,
          0.5588333333333334,
          0.56,
          0.5602125,
          0.5606,
          0.562075,
          0.5641,
          0.5652,
          0.5655,
          0.5660666666666666,
          0.5688333333333333,
          0.5714,
          0.5732833333333334,
          0.5775,
          0.5797249999999999,
          0.5829666666666666,
          0.5846428571428571,
          0.5849,
          0.5859,
          0.5866333333333333,
          0.5882000000000001,
          0.5897,
          0.5914200000000001,
          0.5921666666666666,
          0.6009375,
          0.6023,
          0.6044666666666667,
          0.6066,
          0.6087,
          0.6111,
          0.6111,
          0.61635,
          0.6167,
          0.6207,
          0.6212500000000001,
          0.62285,
          0.623675,
          0.625,
          0.625,
          0.625,
          0.6314,
          0.6315999999999999,
          0.6333,
          0.6334666666666667,
          0.6396333333333333,
          0.64045,
          0.6405,
          0.6433,
          0.6445000000000001,
          0.6480999999999999,
          0.64968,
          0.6520333333333334,
          0.6525,
          0.653275,
          0.6538428571428572,
          0.6543,
          0.65474,
          0.6573,
          0.6602,
          0.6641666666666667,
          0.6667000000000001,
          0.6675,
          0.6704,
          0.6735,
          0.6759384615384616,
          0.676,
          0.6783,
          0.6833,
          0.6844,
          0.6844,
          0.6857,
          0.6909000000000001,
          0.6930000000000001,
          0.6962200000000001,
          0.6977,
          0.7,
          0.701525,
          0.70204,
          0.7037,
          0.7037,
          0.7055,
          0.7060000000000001,
          0.7072,
          0.7090000000000001,
          0.7093833333333333,
          0.7101666666666665,
          0.7106999999999999,
          0.7115333333333332,
          0.7143,
          0.7143,
          0.7143,
          0.7143,
          0.7145,
          0.71495,
          0.7151000000000001,
          0.7153,
          0.7170500000000001,
          0.7188,
          0.7199199999999999,
          0.7238000000000001,
          0.72665,
          0.7271333333333333,
          0.7273000000000001,
          0.7297,
          0.73448,
          0.7358571428571429,
          0.7361,
          0.7364,
          0.739675,
          0.7451000000000001,
          0.7459499999999999,
          0.7464571428571428,
          0.7468,
          0.75,
          0.7533,
          0.7554,
          0.76265,
          0.7628666666666666,
          0.7629999999999999,
          0.7633,
          0.7646999999999999,
          0.7646999999999999,
          0.7653222222222222,
          0.7714,
          0.7734166666666665,
          0.7762800000000001,
          0.7778,
          0.7802571428571428,
          0.7806666666666667,
          0.785,
          0.7857,
          0.786,
          0.7976000000000001,
          0.798,
          0.8,
          0.8000499999999999,
          0.8029166666666666,
          0.80615,
          0.8158,
          0.8162999999999999,
          0.81798,
          0.8204333333333333,
          0.82208,
          0.8234625,
          0.8248200000000001,
          0.8286,
          0.83095,
          0.8312,
          0.831225,
          0.8371,
          0.8373333333333334,
          0.8386,
          0.84,
          0.8415250000000001,
          0.8451000000000001,
          0.8475199999999999,
          0.8481333333333333,
          0.8490666666666667,
          0.85565,
          0.85565,
          0.855675,
          0.85868,
          0.86385,
          0.86412,
          0.8656999999999999,
          0.8665499999999999,
          0.8671,
          0.8684000000000001,
          0.8718,
          0.8739666666666666,
          0.8772399999999999,
          0.8776,
          0.8780999999999999,
          0.8786999999999999,
          0.8787999999999999,
          0.8803,
          0.883375,
          0.88905,
          0.8891333333333332,
          0.9014,
          0.9031999999999999,
          0.9061333333333333,
          0.9067000000000001,
          0.9150499999999999,
          0.9162,
          0.9177199999999999,
          0.9193666666666668,
          0.9217,
          0.92308,
          0.9233000000000001,
          0.9320833333333334,
          0.9340666666666667,
          0.9343999999999999,
          0.9359000000000001,
          0.93805,
          0.9390000000000001,
          0.9396,
          0.9553166666666666,
          0.9592,
          0.9598,
          0.9634,
          0.9662666666666667,
          0.9670000000000001,
          0.9692000000000001,
          0.9775,
          0.9896
         ],
         "xaxis": "x",
         "y": [
          4.257076715331616,
          4.304490443793891,
          4.328100938658236,
          4.336774181669628,
          4.341110803175324,
          4.35061924736559,
          4.370937122197833,
          4.372141739282748,
          4.3816823065952795,
          4.392764783776502,
          4.40387938407999,
          4.410785855366839,
          4.411677272009676,
          4.415291123264423,
          4.421853506491632,
          4.422350179382028,
          4.423024764949581,
          4.423352420796678,
          4.4290960350575554,
          4.429132173570103,
          4.429674251258315,
          4.436345152981891,
          4.43971593927817,
          4.4429009468506875,
          4.445767935512786,
          4.446843511665094,
          4.449237232717343,
          4.4586814306630815,
          4.46012697116498,
          4.466198241272954,
          4.466941662102502,
          4.473907790616414,
          4.4745823761839665,
          4.479930876040991,
          4.488430654192156,
          4.499831150283796,
          4.502433123187214,
          4.504360510523078,
          4.504553249256665,
          4.5048201182724,
          4.507251591526876,
          4.5091789788627405,
          4.514093816569196,
          4.514382924669576,
          4.516811432712766,
          4.519715362965469,
          4.520213271360567,
          4.524405338816074,
          4.528934699055355,
          4.534138644862191,
          4.536066032198056,
          4.548859065639859,
          4.548979527348351,
          4.5492236630775595,
          4.550264452238927,
          4.555629013657084,
          4.559194680228434,
          4.560182466238065,
          4.5615206863087625,
          4.564494995402063,
          4.5690243556413455,
          4.569062903388063,
          4.569554387158708,
          4.570964312894618,
          4.571015989221738,
          4.571529959177969,
          4.574589686573655,
          4.574806517648939,
          4.575172721242754,
          4.576324335175934,
          4.587912751532821,
          4.589117368617736,
          4.589165553301133,
          4.594176760374381,
          4.5969714720113855,
          4.602657264652187,
          4.6028500033857735,
          4.609210381594128,
          4.609210381594128,
          4.611523246397166,
          4.620215763281916,
          4.6222684307946125,
          4.625047080870484,
          4.6261713901497385,
          4.628676993686363,
          4.631303058931479,
          4.631303058931479,
          4.633808662468103,
          4.638506669099273,
          4.645252524774801,
          4.64554163287518,
          4.64583074097556,
          4.648143605778598,
          4.650938317415602,
          4.651343068756134,
          4.651709272349948,
          4.651757457033344,
          4.65539058216145,
          4.65610096206524,
          4.657876911824716,
          4.660864362195306,
          4.666044215660444,
          4.671970931718228,
          4.6723805015270985,
          4.675785552487127,
          4.678981803152436,
          4.680941313610566,
          4.683954462478967,
          4.687707611272988,
          4.692531336123566,
          4.701339496248469,
          4.702592298016781,
          4.7057628501842785,
          4.70644707268851,
          4.706543442055303,
          4.709492344679177,
          4.712479795049767,
          4.715023946333109,
          4.7160518862455705,
          4.718613705246158,
          4.7205748218604,
          4.7213843245414635,
          4.7271664865490575,
          4.7282024572420855,
          4.729672090085682,
          4.729672090085682,
          4.730394860336632,
          4.730443045020028,
          4.732177693622306,
          4.733678719517208,
          4.739964338459201,
          4.745680112680782,
          4.747163130158656,
          4.760033794479265,
          4.761136688343676,
          4.765834694974847,
          4.769858116038465,
          4.771303656540363,
          4.771905965082821,
          4.772749197042262,
          4.773568336660005,
          4.779495052717789,
          4.780169638285342,
          4.782578872455173,
          4.7842023256342285,
          4.786369400882374,
          4.787493710161629,
          4.787698495066064,
          4.788071926362388,
          4.789493374522588,
          4.791444854200152,
          4.7925049172348775,
          4.792794025335256,
          4.793340118413752,
          4.796006337561698,
          4.798479817976058,
          4.800294774383998,
          4.804358349350446,
          4.806502567761596,
          4.80962654140181,
          4.811241875549963,
          4.811489682493146,
          4.812453376161079,
          4.813160084850896,
          4.8146698715973235,
          4.816115412099222,
          4.817772965208066,
          4.818492523146788,
          4.826944919692613,
          4.8282579523151705,
          4.8303459552623575,
          4.83240183508728,
          4.834425591789938,
          4.836738456592975,
          4.836738456592975,
          4.841797848349621,
          4.842135141133397,
          4.845989915805127,
          4.8465199473224905,
          4.848061857191182,
          4.848856904467226,
          4.850133798577237,
          4.850133798577237,
          4.850133798577237,
          4.856301438052005,
          4.856494176785591,
          4.858132456021076,
          4.858293071632398,
          4.8642358492513145,
          4.865022865746793,
          4.865071050430189,
          4.8677693927004,
          4.868925825101919,
          4.872395122306476,
          4.873917758301809,
          4.876185650733677,
          4.876635374445379,
          4.877382237038026,
          4.877929477370888,
          4.878370023047657,
          4.878794048261548,
          4.881261104051455,
          4.884055815688459,
          4.887878467237924,
          4.890319824530019,
          4.891090779464365,
          4.893885491101369,
          4.89687294147196,
          4.899222871416072,
          4.899282175641791,
          4.901498671078036,
          4.906317139417698,
          4.907377202452423,
          4.907377202452423,
          4.908630004220735,
          4.913641211293984,
          4.915664967996642,
          4.918768061607385,
          4.920194328235925,
          4.92241082367217,
          4.923880456515766,
          4.924376758754752,
          4.925976490243519,
          4.925976490243519,
          4.9277111388457975,
          4.928192985679765,
          4.929349418081284,
          4.931084066683561,
          4.931453482589602,
          4.932208375962816,
          4.932722345919046,
          4.933525423975657,
          4.936191643123603,
          4.936191643123603,
          4.936191643123603,
          4.936191643123603,
          4.93638438185719,
          4.93681804400776,
          4.936962598057949,
          4.937155336791536,
          4.938841800710418,
          4.940528264629299,
          4.941607601537384,
          4.945346732968962,
          4.948093259922569,
          4.9485590451954025,
          4.948719660806725,
          4.951032525609763,
          4.95563898134248,
          4.9569661251937465,
          4.95720016508453,
          4.95748927318491,
          4.960645369947389,
          4.965873408095923,
          4.966692547713665,
          4.967181278073831,
          4.967511687331408,
          4.970595507068792,
          4.973775696172968,
          4.975799452875626,
          4.982786231968137,
          4.982995032262855,
          4.983123524751913,
          4.983412632852293,
          4.984761803987398,
          4.984761803987398,
          4.985361435603001,
          4.991218551562546,
          4.9931620004595425,
          4.995921376662055,
          4.997386191037313,
          4.999754124049947,
          5.0001487795520525,
          5.004324785446427,
          5.004999371013979,
          5.005288479114359,
          5.016467325662376,
          5.016852803129549,
          5.018780190465414,
          5.01882837514881,
          5.02159096366355,
          5.024706906523198,
          5.034006550418746,
          5.034488397252712,
          5.036107402614839,
          5.0384716644135,
          5.040058546653361,
          5.041390853149278,
          5.042699067303497,
          5.046341829368281,
          5.048606509487922,
          5.048847432904905,
          5.048871525246604,
          5.054533225545707,
          5.054758087401558,
          5.055978766047605,
          5.057327937182711,
          5.058797570026307,
          5.062242774889166,
          5.064574913565562,
          5.0651659790152275,
          5.066065426438631,
          5.072409743085853,
          5.072409743085853,
          5.072433835427551,
          5.075329734899689,
          5.080312031162899,
          5.080572228453241,
          5.082094864448575,
          5.082914004066317,
          5.08344403558368,
          5.084696837351991,
          5.087973395822962,
          5.090061398770149,
          5.0932158893765145,
          5.09356281909697,
          5.094044665930936,
          5.094622882131696,
          5.094719251498489,
          5.096164792000388,
          5.09912815002928,
          5.104597111594797,
          5.104677419400457,
          5.116498728393762,
          5.118233376996041,
          5.121060211755309,
          5.121606304833804,
          5.12965314696104,
          5.130761394679162,
          5.132226209054419,
          5.133813091294281,
          5.1360617098527905,
          5.137391607114537,
          5.1376036197214825,
          5.146068062438156,
          5.147979388212889,
          5.148300619435533,
          5.149746159937432,
          5.151818101323486,
          5.152733610308022,
          5.153311826508781,
          5.168457878656453,
          5.1722002224002575,
          5.172778438601016,
          5.176247735805573,
          5.179010324320313,
          5.17971703301013,
          5.181837159079581,
          5.189835816523421,
          5.201496509905403
         ],
         "yaxis": "y",
         "type": "scatter"
        }
       ],
       "layout": {
        "template": {
         "data": {
          "histogram2dcontour": [
           {
            "type": "histogram2dcontour",
            "colorbar": {
             "outlinewidth": 0,
             "ticks": ""
            },
            "colorscale": [
             [
              0.0,
              "#0d0887"
             ],
             [
              0.1111111111111111,
              "#46039f"
             ],
             [
              0.2222222222222222,
              "#7201a8"
             ],
             [
              0.3333333333333333,
              "#9c179e"
             ],
             [
              0.4444444444444444,
              "#bd3786"
             ],
             [
              0.5555555555555556,
              "#d8576b"
             ],
             [
              0.6666666666666666,
              "#ed7953"
             ],
             [
              0.7777777777777778,
              "#fb9f3a"
             ],
             [
              0.8888888888888888,
              "#fdca26"
             ],
             [
              1.0,
              "#f0f921"
             ]
            ]
           }
          ],
          "choropleth": [
           {
            "type": "choropleth",
            "colorbar": {
             "outlinewidth": 0,
             "ticks": ""
            }
           }
          ],
          "histogram2d": [
           {
            "type": "histogram2d",
            "colorbar": {
             "outlinewidth": 0,
             "ticks": ""
            },
            "colorscale": [
             [
              0.0,
              "#0d0887"
             ],
             [
              0.1111111111111111,
              "#46039f"
             ],
             [
              0.2222222222222222,
              "#7201a8"
             ],
             [
              0.3333333333333333,
              "#9c179e"
             ],
             [
              0.4444444444444444,
              "#bd3786"
             ],
             [
              0.5555555555555556,
              "#d8576b"
             ],
             [
              0.6666666666666666,
              "#ed7953"
             ],
             [
              0.7777777777777778,
              "#fb9f3a"
             ],
             [
              0.8888888888888888,
              "#fdca26"
             ],
             [
              1.0,
              "#f0f921"
             ]
            ]
           }
          ],
          "heatmap": [
           {
            "type": "heatmap",
            "colorbar": {
             "outlinewidth": 0,
             "ticks": ""
            },
            "colorscale": [
             [
              0.0,
              "#0d0887"
             ],
             [
              0.1111111111111111,
              "#46039f"
             ],
             [
              0.2222222222222222,
              "#7201a8"
             ],
             [
              0.3333333333333333,
              "#9c179e"
             ],
             [
              0.4444444444444444,
              "#bd3786"
             ],
             [
              0.5555555555555556,
              "#d8576b"
             ],
             [
              0.6666666666666666,
              "#ed7953"
             ],
             [
              0.7777777777777778,
              "#fb9f3a"
             ],
             [
              0.8888888888888888,
              "#fdca26"
             ],
             [
              1.0,
              "#f0f921"
             ]
            ]
           }
          ],
          "heatmapgl": [
           {
            "type": "heatmapgl",
            "colorbar": {
             "outlinewidth": 0,
             "ticks": ""
            },
            "colorscale": [
             [
              0.0,
              "#0d0887"
             ],
             [
              0.1111111111111111,
              "#46039f"
             ],
             [
              0.2222222222222222,
              "#7201a8"
             ],
             [
              0.3333333333333333,
              "#9c179e"
             ],
             [
              0.4444444444444444,
              "#bd3786"
             ],
             [
              0.5555555555555556,
              "#d8576b"
             ],
             [
              0.6666666666666666,
              "#ed7953"
             ],
             [
              0.7777777777777778,
              "#fb9f3a"
             ],
             [
              0.8888888888888888,
              "#fdca26"
             ],
             [
              1.0,
              "#f0f921"
             ]
            ]
           }
          ],
          "contourcarpet": [
           {
            "type": "contourcarpet",
            "colorbar": {
             "outlinewidth": 0,
             "ticks": ""
            }
           }
          ],
          "contour": [
           {
            "type": "contour",
            "colorbar": {
             "outlinewidth": 0,
             "ticks": ""
            },
            "colorscale": [
             [
              0.0,
              "#0d0887"
             ],
             [
              0.1111111111111111,
              "#46039f"
             ],
             [
              0.2222222222222222,
              "#7201a8"
             ],
             [
              0.3333333333333333,
              "#9c179e"
             ],
             [
              0.4444444444444444,
              "#bd3786"
             ],
             [
              0.5555555555555556,
              "#d8576b"
             ],
             [
              0.6666666666666666,
              "#ed7953"
             ],
             [
              0.7777777777777778,
              "#fb9f3a"
             ],
             [
              0.8888888888888888,
              "#fdca26"
             ],
             [
              1.0,
              "#f0f921"
             ]
            ]
           }
          ],
          "surface": [
           {
            "type": "surface",
            "colorbar": {
             "outlinewidth": 0,
             "ticks": ""
            },
            "colorscale": [
             [
              0.0,
              "#0d0887"
             ],
             [
              0.1111111111111111,
              "#46039f"
             ],
             [
              0.2222222222222222,
              "#7201a8"
             ],
             [
              0.3333333333333333,
              "#9c179e"
             ],
             [
              0.4444444444444444,
              "#bd3786"
             ],
             [
              0.5555555555555556,
              "#d8576b"
             ],
             [
              0.6666666666666666,
              "#ed7953"
             ],
             [
              0.7777777777777778,
              "#fb9f3a"
             ],
             [
              0.8888888888888888,
              "#fdca26"
             ],
             [
              1.0,
              "#f0f921"
             ]
            ]
           }
          ],
          "mesh3d": [
           {
            "type": "mesh3d",
            "colorbar": {
             "outlinewidth": 0,
             "ticks": ""
            }
           }
          ],
          "scatter": [
           {
            "marker": {
             "line": {
              "color": "#283442"
             }
            },
            "type": "scatter"
           }
          ],
          "parcoords": [
           {
            "type": "parcoords",
            "line": {
             "colorbar": {
              "outlinewidth": 0,
              "ticks": ""
             }
            }
           }
          ],
          "scatterpolargl": [
           {
            "type": "scatterpolargl",
            "marker": {
             "colorbar": {
              "outlinewidth": 0,
              "ticks": ""
             }
            }
           }
          ],
          "bar": [
           {
            "error_x": {
             "color": "#f2f5fa"
            },
            "error_y": {
             "color": "#f2f5fa"
            },
            "marker": {
             "line": {
              "color": "rgb(17,17,17)",
              "width": 0.5
             },
             "pattern": {
              "fillmode": "overlay",
              "size": 10,
              "solidity": 0.2
             }
            },
            "type": "bar"
           }
          ],
          "scattergeo": [
           {
            "type": "scattergeo",
            "marker": {
             "colorbar": {
              "outlinewidth": 0,
              "ticks": ""
             }
            }
           }
          ],
          "scatterpolar": [
           {
            "type": "scatterpolar",
            "marker": {
             "colorbar": {
              "outlinewidth": 0,
              "ticks": ""
             }
            }
           }
          ],
          "histogram": [
           {
            "marker": {
             "pattern": {
              "fillmode": "overlay",
              "size": 10,
              "solidity": 0.2
             }
            },
            "type": "histogram"
           }
          ],
          "scattergl": [
           {
            "marker": {
             "line": {
              "color": "#283442"
             }
            },
            "type": "scattergl"
           }
          ],
          "scatter3d": [
           {
            "type": "scatter3d",
            "line": {
             "colorbar": {
              "outlinewidth": 0,
              "ticks": ""
             }
            },
            "marker": {
             "colorbar": {
              "outlinewidth": 0,
              "ticks": ""
             }
            }
           }
          ],
          "scattermapbox": [
           {
            "type": "scattermapbox",
            "marker": {
             "colorbar": {
              "outlinewidth": 0,
              "ticks": ""
             }
            }
           }
          ],
          "scatterternary": [
           {
            "type": "scatterternary",
            "marker": {
             "colorbar": {
              "outlinewidth": 0,
              "ticks": ""
             }
            }
           }
          ],
          "scattercarpet": [
           {
            "type": "scattercarpet",
            "marker": {
             "colorbar": {
              "outlinewidth": 0,
              "ticks": ""
             }
            }
           }
          ],
          "carpet": [
           {
            "aaxis": {
             "endlinecolor": "#A2B1C6",
             "gridcolor": "#506784",
             "linecolor": "#506784",
             "minorgridcolor": "#506784",
             "startlinecolor": "#A2B1C6"
            },
            "baxis": {
             "endlinecolor": "#A2B1C6",
             "gridcolor": "#506784",
             "linecolor": "#506784",
             "minorgridcolor": "#506784",
             "startlinecolor": "#A2B1C6"
            },
            "type": "carpet"
           }
          ],
          "table": [
           {
            "cells": {
             "fill": {
              "color": "#506784"
             },
             "line": {
              "color": "rgb(17,17,17)"
             }
            },
            "header": {
             "fill": {
              "color": "#2a3f5f"
             },
             "line": {
              "color": "rgb(17,17,17)"
             }
            },
            "type": "table"
           }
          ],
          "barpolar": [
           {
            "marker": {
             "line": {
              "color": "rgb(17,17,17)",
              "width": 0.5
             },
             "pattern": {
              "fillmode": "overlay",
              "size": 10,
              "solidity": 0.2
             }
            },
            "type": "barpolar"
           }
          ],
          "pie": [
           {
            "automargin": true,
            "type": "pie"
           }
          ]
         },
         "layout": {
          "autotypenumbers": "strict",
          "colorway": [
           "#636efa",
           "#EF553B",
           "#00cc96",
           "#ab63fa",
           "#FFA15A",
           "#19d3f3",
           "#FF6692",
           "#B6E880",
           "#FF97FF",
           "#FECB52"
          ],
          "font": {
           "color": "#f2f5fa"
          },
          "hovermode": "closest",
          "hoverlabel": {
           "align": "left"
          },
          "paper_bgcolor": "rgb(17,17,17)",
          "plot_bgcolor": "rgb(17,17,17)",
          "polar": {
           "bgcolor": "rgb(17,17,17)",
           "angularaxis": {
            "gridcolor": "#506784",
            "linecolor": "#506784",
            "ticks": ""
           },
           "radialaxis": {
            "gridcolor": "#506784",
            "linecolor": "#506784",
            "ticks": ""
           }
          },
          "ternary": {
           "bgcolor": "rgb(17,17,17)",
           "aaxis": {
            "gridcolor": "#506784",
            "linecolor": "#506784",
            "ticks": ""
           },
           "baxis": {
            "gridcolor": "#506784",
            "linecolor": "#506784",
            "ticks": ""
           },
           "caxis": {
            "gridcolor": "#506784",
            "linecolor": "#506784",
            "ticks": ""
           }
          },
          "coloraxis": {
           "colorbar": {
            "outlinewidth": 0,
            "ticks": ""
           }
          },
          "colorscale": {
           "sequential": [
            [
             0.0,
             "#0d0887"
            ],
            [
             0.1111111111111111,
             "#46039f"
            ],
            [
             0.2222222222222222,
             "#7201a8"
            ],
            [
             0.3333333333333333,
             "#9c179e"
            ],
            [
             0.4444444444444444,
             "#bd3786"
            ],
            [
             0.5555555555555556,
             "#d8576b"
            ],
            [
             0.6666666666666666,
             "#ed7953"
            ],
            [
             0.7777777777777778,
             "#fb9f3a"
            ],
            [
             0.8888888888888888,
             "#fdca26"
            ],
            [
             1.0,
             "#f0f921"
            ]
           ],
           "sequentialminus": [
            [
             0.0,
             "#0d0887"
            ],
            [
             0.1111111111111111,
             "#46039f"
            ],
            [
             0.2222222222222222,
             "#7201a8"
            ],
            [
             0.3333333333333333,
             "#9c179e"
            ],
            [
             0.4444444444444444,
             "#bd3786"
            ],
            [
             0.5555555555555556,
             "#d8576b"
            ],
            [
             0.6666666666666666,
             "#ed7953"
            ],
            [
             0.7777777777777778,
             "#fb9f3a"
            ],
            [
             0.8888888888888888,
             "#fdca26"
            ],
            [
             1.0,
             "#f0f921"
            ]
           ],
           "diverging": [
            [
             0,
             "#8e0152"
            ],
            [
             0.1,
             "#c51b7d"
            ],
            [
             0.2,
             "#de77ae"
            ],
            [
             0.3,
             "#f1b6da"
            ],
            [
             0.4,
             "#fde0ef"
            ],
            [
             0.5,
             "#f7f7f7"
            ],
            [
             0.6,
             "#e6f5d0"
            ],
            [
             0.7,
             "#b8e186"
            ],
            [
             0.8,
             "#7fbc41"
            ],
            [
             0.9,
             "#4d9221"
            ],
            [
             1,
             "#276419"
            ]
           ]
          },
          "xaxis": {
           "gridcolor": "#283442",
           "linecolor": "#506784",
           "ticks": "",
           "title": {
            "standoff": 15
           },
           "zerolinecolor": "#283442",
           "automargin": true,
           "zerolinewidth": 2
          },
          "yaxis": {
           "gridcolor": "#283442",
           "linecolor": "#506784",
           "ticks": "",
           "title": {
            "standoff": 15
           },
           "zerolinecolor": "#283442",
           "automargin": true,
           "zerolinewidth": 2
          },
          "scene": {
           "xaxis": {
            "backgroundcolor": "rgb(17,17,17)",
            "gridcolor": "#506784",
            "linecolor": "#506784",
            "showbackground": true,
            "ticks": "",
            "zerolinecolor": "#C8D4E3",
            "gridwidth": 2
           },
           "yaxis": {
            "backgroundcolor": "rgb(17,17,17)",
            "gridcolor": "#506784",
            "linecolor": "#506784",
            "showbackground": true,
            "ticks": "",
            "zerolinecolor": "#C8D4E3",
            "gridwidth": 2
           },
           "zaxis": {
            "backgroundcolor": "rgb(17,17,17)",
            "gridcolor": "#506784",
            "linecolor": "#506784",
            "showbackground": true,
            "ticks": "",
            "zerolinecolor": "#C8D4E3",
            "gridwidth": 2
           }
          },
          "shapedefaults": {
           "line": {
            "color": "#f2f5fa"
           }
          },
          "annotationdefaults": {
           "arrowcolor": "#f2f5fa",
           "arrowhead": 0,
           "arrowwidth": 1
          },
          "geo": {
           "bgcolor": "rgb(17,17,17)",
           "landcolor": "rgb(17,17,17)",
           "subunitcolor": "#506784",
           "showland": true,
           "showlakes": true,
           "lakecolor": "rgb(17,17,17)"
          },
          "title": {
           "x": 0.05
          },
          "updatemenudefaults": {
           "bgcolor": "#506784",
           "borderwidth": 0
          },
          "sliderdefaults": {
           "bgcolor": "#C8D4E3",
           "borderwidth": 1,
           "bordercolor": "rgb(17,17,17)",
           "tickwidth": 0
          },
          "mapbox": {
           "style": "dark"
          }
         }
        },
        "xaxis": {
         "anchor": "y",
         "domain": [
          0.0,
          1.0
         ],
         "title": {
          "text": "pct_both_over_benchmark"
         }
        },
        "yaxis": {
         "anchor": "x",
         "domain": [
          0.0,
          1.0
         ],
         "title": {
          "text": "avg_tchr_edu_lvl"
         }
        },
        "coloraxis": {
         "colorbar": {
          "title": {
           "text": "poverty_pct"
          }
         },
         "colorscale": [
          [
           0.0,
           "#0d0887"
          ],
          [
           0.1111111111111111,
           "#46039f"
          ],
          [
           0.2222222222222222,
           "#7201a8"
          ],
          [
           0.3333333333333333,
           "#9c179e"
          ],
          [
           0.4444444444444444,
           "#bd3786"
          ],
          [
           0.5555555555555556,
           "#d8576b"
          ],
          [
           0.6666666666666666,
           "#ed7953"
          ],
          [
           0.7777777777777778,
           "#fb9f3a"
          ],
          [
           0.8888888888888888,
           "#fdca26"
          ],
          [
           1.0,
           "#f0f921"
          ]
         ]
        },
        "legend": {
         "tracegroupgap": 0
        },
        "margin": {
         "t": 60
        }
       },
       "config": {
        "plotlyServerURL": "https://plot.ly"
       }
      },
      "text/html": "<div>                            <div id=\"ba4f9e5f-aa54-4d6d-9498-192420b6a44a\" class=\"plotly-graph-div\" style=\"height:525px; width:100%;\"></div>            <script type=\"text/javascript\">                require([\"plotly\"], function(Plotly) {                    window.PLOTLYENV=window.PLOTLYENV || {};                                    if (document.getElementById(\"ba4f9e5f-aa54-4d6d-9498-192420b6a44a\")) {                    Plotly.newPlot(                        \"ba4f9e5f-aa54-4d6d-9498-192420b6a44a\",                        [{\"hovertemplate\":\"pct_both_over_benchmark=%{x}<br>avg_tchr_edu_lvl=%{y}<br>poverty_pct=%{marker.color}<extra></extra>\",\"legendgroup\":\"\",\"marker\":{\"color\":[0.5301054384017758,0.07806307082543512,0.5411670384829894,0.341722972972973,0.23046772929187354,0.6487751955690059,0.7387988560533841,0.8013525347864162,0.4755181052152129,0.7749366149279574,0.6048309178743961,0.8535645472061657,0.7446250854668389,0.7124494289957495,0.7242736077481841,0.28002457254018637,0.43154996066089696,0.8622552329507089,0.7534345047923323,0.8865024995371228,0.8164465943260557,0.9260244811069718,0.7233804914370812,0.5829619039609789,0.7263133208255159,0.26016427104722795,0.3387854859936078,0.1927346115035318,0.6169590643274854,0.803921568627451,0.304635761589404,0.7397260273972602,0.6828571428571428,0.543549138332557,0.4959409594095941,0.40740053788370584,0.3812570568310124,0.7745920745920746,0.7890807279514699,0.3327979441053646,0.41770401106500693,0.38453834115805946,0.8719512195121951,0.4530674846625767,0.5985401459854015,0.8682562133764397,0.8533007334963325,0.7569676700111483,0.32006315552046916,0.2890649706595453,0.2516920473773266,0.18650639782861575,0.6169565217391304,0.9012875536480687,0.2575413223140496,0.6902103907256333,0.7816675574559059,0.7861440605122916,0.7719026548672566,0.8299150485436894,0.6366813904359516,0.5804460374352848,0.5410821643286573,0.5476379152697348,0.4986224088165836,0.7436548223350253,0.37075537075537074,0.636485580147552,0.4734691229891022,0.9282817393089995,0.8891615541922291,0.7583892617449665,0.832038400520685,0.7443006777572396,0.9171915452683643,0.2672029060716139,0.8873357562202964,0.8192041522491349,0.4823707245052202,0.12272024729520865,0.4639912894695909,0.7224827147739012,0.3405243036592026,0.95818345323741,0.8160377358490566,0.24112769485903815,0.96875,0.7031720305626302,0.9204797867614394,0.8864126527677929,0.6909808269205687,0.8407500699692135,0.5690909090909091,0.8845577211394303,0.7177070391157191,0.6076408254322365,0.09903096194753014,0.7101449275362319,0.4786096256684492,0.3782051282051282,0.5937203630944317,0.5393518518518519,0.2314410480349345,0.893168370091447,0.74728409963788,0.16879432624113475,0.6937269372693727,0.5687462056604319,0.7948717948717948,0.511166253101737,0.6241375959576329,0.8193916349809885,0.709592641261498,0.6216997411561691,0.6510948905109489,0.6352646936223426,0.9466323150533676,0.5641025641025641,0.7796820665673124,0.9238900634249472,0.38702290076335877,0.8522858433281477,0.72,0.5911602209944752,0.5684647302904564,0.784320809248555,0.21890337220961528,0.1667401852668725,0.8788262384414144,0.5566502463054187,0.5975298126064736,0.6989564122171742,0.7648667122351333,0.6653543307086615,0.5996053670086819,0.5426238634254964,0.3082081545064378,0.9576457645764577,0.49153976311336717,0.8340646190666134,0.7525010874293171,0.5862582708908461,0.8305929247633284,0.8237650200267023,0.6791646891314665,0.72639747686434,0.5927392739273928,0.8459210939955989,0.7547485238671124,0.5983935742971888,0.7502979737783075,0.5753676470588235,0.40522255192878337,0.5890656509074613,0.8756472679496097,0.19720791180631556,0.3451606544451015,0.6457399103139013,0.5675675675675675,0.7740702284311874,0.8087230688386757,0.8353658536585366,0.7347648400279979,0.8606217138640346,0.6295436968290796,0.8914728682170543,0.8807978851237683,0.05493193217100549,0.5975975975975976,0.13208191126279864,0.6926764203242882,0.5990184049079754,0.7149787750151607,0.1998972250770812,0.14051460968163978,0.39425287356321836,0.8563458856345886,0.7419354838709677,0.8448905109489051,0.6259541984732825,0.5512611879576892,0.3285536863497798,0.6584374380329169,0.6515273311897106,0.9112265642647391,0.8126829268292682,0.28125882020886256,0.7330758284204106,0.7266904565834019,0.6856287425149701,0.6971955533097524,0.17596906909884008,0.8084993128987437,0.782942536327609,0.0506435366536094,0.7533834586466165,0.6237160317253934,0.5404982991633722,0.9430371173123815,0.8989199911836016,0.5737327188940092,0.054029983672257684,0.6982959094201517,0.4713184931506849,0.6813819577735125,0.335149863760218,0.7981233008857318,0.4423076923076923,0.726775956284153,0.5108877721943048,0.981301027126679,0.7877794079571934,0.5501551189245087,0.3727255848496101,0.7093023255813954,0.8928786964393483,0.5967292971468336,0.8464684425776501,0.6631190455754871,0.3700966458214895,0.9274371476043908,0.40397905759162306,0.7185338151781104,0.48890010090817354,0.7694915254237288,0.22338568935427575,0.47048969457656525,0.35414585414585414,0.3816963384602963,0.5227138958745786,0.5858016548746852,0.7860738255033557,0.48820905035054174,0.49577987846049965,0.5323529411764706,0.6798157212784336,0.48088819130274213,0.8517476898352752,0.504434011476265,0.7630444156964209,0.4082512315270936,0.09574019401096584,0.48246674727932287,0.744069459076543,0.6166851954789698,0.5417468257021931,0.5005856414496348,0.7830731306491372,0.7727642276422764,0.6451612903225806,0.6651846427450571,0.25825965565379244,0.7815479528883904,0.8837628762675859,0.1187800963081862,0.636710369487485,0.09285219799238491,0.917896865520728,0.9602490722686962,0.9912629070691025,0.6349304801778053,0.5511895215183106,0.7949059677180512,0.7266995392450085,0.0222809667673716,0.7469095640858816,0.8258591951742201,0.3952422112818971,0.27375886524822696,0.09912369824739649,0.585979381443299,0.9170126091173618,0.8340241025314035,0.6818181818181818,0.20169563599638549,0.7564102564102564,0.44968606821652807,0.6546141392336752,0.6363754213119004,0.1803405572755418,0.9440559440559441,0.8881146653187956,0.4038098830629951,0.6051805337519623,0.8048854961832062,0.882177033492823,0.6743262411347518,0.19554272672350137,0.30670289855072463,0.9274047186932849,0.7733560611027339,0.7249643366619115,0.33788748974423,0.44144838212634824,0.7750204367628167,0.6224179829890644,0.893998033182121,0.6110456765297329,0.13278192157152352,0.5291537029563769,0.6137416366443644,0.8,0.4676904546823246,0.5713817830793629,0.6484317245749287,0.6848879973253093,0.24260249554367203,0.379585326953748,0.08137254901960785,0.27867705835331735,0.9209183673469388,0.5684662138005006,0.07170677213852239,0.7119794809897405,0.8382482556004407,0.5316431197987227,0.42794891968770804,0.8157538877620013,0.2886249428962997,0.888788752703677,0.38326446280991733,0.6526867627785059,0.13004846526655897,0.8568746389370306,0.4441860465116279,0.83125,0.4289095786649834,0.6601436265709156,0.5128571428571429,0.4512471655328798,0.5217560217560218,0.3790834715944848,0.5582922824302134,0.6922987028164076,0.9108097784568373,0.6264100862641009,0.45112781954887216,0.8615269461077845,0.19119697271459868,0.5011200716845878,0.638196915776987,0.7149144254278729,0.8636363636363636,0.7937581608408074,0.8695652173913043,0.4202172096908939,0.6341463414634146,0.3598531211750306,0.6117538281126672,0.7268643306379156,0.4168975069252078,0.11899313501144165,0.4779064779064779,0.2955119303118293,0.44260617431349136,0.22880690737833595,0.3373975367631915,0.5788048176107877,0.29916107382550333,0.6071871127633209,0.7410714285714286,0.7334523036988968,0.8530120481927711,0.6405106063450348,0.434293519746093,0.7978140664565139,0.7859147025813692,0.5837362637362637,0.7965367965367965,0.4502768238839442,0.8773441004934949,0.7265644634330234,0.5924050632911393,0.5744151030808432,0.8488754799780581,0.7029637760702525,0.6831391114348143,0.25,0.44070695553021666,0.8268482490272373,0.7400468384074942,0.7400468384074942,0.6802738336713996,0.7251062363615481,0.7024295432458698,0.37130392632089193,0.3756689602446483,0.7175925925925926,0.4598623853211009,0.7451850677657129,0.3422289043412892,0.9201413427561838,0.7400756143667296,0.7119496855345911,0.4286242603550296,0.673581452104942,0.40520043336944744,0.8976169461606355,0.6482336316533208,0.5204829667960328,0.5527426160337553,0.7639658119658119,0.5474680635970959],\"coloraxis\":\"coloraxis\",\"symbol\":\"circle\"},\"mode\":\"markers\",\"name\":\"\",\"orientation\":\"v\",\"showlegend\":false,\"x\":[0.70204,0.9343999999999999,0.476,0.6433,0.9592,0.739675,null,0.18810000000000002,0.85565,0.5914200000000001,0.5432,null,0.18058461538461537,0.543825,0.4124,0.9390000000000001,0.7055,0.173775,0.440125,0.4127,0.5849,0.36840000000000006,0.7778,0.28264999999999996,0.6445000000000001,0.8451000000000001,0.786,0.7297,null,null,null,null,null,0.5882000000000001,null,0.5829666666666666,0.7037,null,0.3926,0.8803,0.8286,0.8891333333333332,null,0.7857,0.5775,0.5655,null,0.0968,0.8029166666666666,0.8234625,0.8386,0.9670000000000001,0.7143,0.209,0.8371,0.76265,0.24085,0.2971,0.5524,0.3682,0.5688333333333333,0.6930000000000001,0.39143333333333336,0.86385,0.33590000000000003,0.4154,0.8312,0.5652,0.7115333333333332,0.324125,0.3594,null,0.33385,0.6315999999999999,0.16193333333333335,0.8656999999999999,0.1389,null,0.6538428571428572,0.9162,0.6783,0.2266,0.7090000000000001,0.15039999999999998,null,0.8780999999999999,null,0.5606,0.400525,0.22030000000000002,0.1881375,0.4759,0.7037,0.6333,0.2991,0.48852500000000004,0.9217,null,0.7143,0.4054,0.32551363636363634,null,0.86412,0.5026,0.33536666666666665,0.8671,null,0.64968,0.2642,0.7451000000000001,0.5846428571428571,0.6111,0.5326500000000001,0.6704,0.6111,0.6480999999999999,0.0833,null,0.2054,0.1887,0.855675,0.1691,0.5897,null,0.5641,0.2766,0.9193666666666668,0.9320833333333334,0.2666769230769231,0.7464571428571428,0.5921666666666666,0.6009375,0.8,null,0.701525,0.81798,0.9014,0.0096,0.7188,0.129,0.4255,0.6759384615384616,0.3286,0.2917,0.537525,0.44408333333333333,0.5859,0.5008,0.48216000000000003,0.48479999999999995,0.4286,0.5417000000000001,0.7802571428571428,0.6833,0.19912000000000002,0.9553166666666666,0.7734166666666665,0.6167,null,0.34087500000000004,0.3333,0.2662,0.5315055555555556,0.312375,0.6909000000000001,null,0.3623,0.9775,0.7646999999999999,0.9031999999999999,0.5549,0.7714,null,0.7468,0.8490666666666667,0.7143,null,null,0.2615,null,0.5866333333333333,0.676,0.7976000000000001,0.375,0.2188,0.41910000000000003,0.8739666666666666,0.7358571428571429,0.287,null,0.3127533333333333,0.80615,0.2065160975609756,0.48586666666666667,0.9598,null,0.625,0.61635,0.0923,0.12775,0.7646999999999999,0.9692000000000001,0.5732833333333334,null,0.8718,0.8000499999999999,0.5588333333333334,null,null,null,0.2763,0.4236571428571429,0.49739999999999995,0.8665499999999999,null,0.4706,0.6602,0.42291999999999996,0.44055,0.85565,0.33334,0.7533,0.6044666666666667,0.37740000000000007,null,0.8786999999999999,0.6314,0.7633,0.653275,0.49056,0.32310000000000005,null,0.88905,0.72665,0.7106999999999999,0.2353,0.7093833333333333,0.3529,0.7151000000000001,0.18214000000000002,0.7628666666666666,0.93805,0.7,0.33531304347826085,0.64045,0.84,0.7762800000000001,0.5,0.7101666666666665,null,0.24967,0.9359000000000001,0.45255999999999996,0.38642000000000004,0.9662666666666667,0.3393,0.9061333333333333,0.7459499999999999,0.10666666666666667,0.1818,0.51068,0.7361,0.3194,0.41872,0.9896,0.4474,0.38855,0.85868,0.8415250000000001,0.9340666666666667,0.562075,0.339075,0.46146000000000004,null,0.9150499999999999,null,0.8204333333333333,0.6857,0.44943333333333335,0.9067000000000001,0.2712,0.20242500000000002,0.7364,0.28213333333333335,0.2692,0.413,0.62285,0.883375,0.7806666666666667,null,0.6641666666666667,0.27912,0.8248200000000001,0.6735,0.47905999999999993,0.6023,0.19562222222222223,0.5041575757575758,0.9177199999999999,0.5602125,0.6396333333333333,0.1811,0.33968000000000004,0.5797249999999999,0.2664,0.6573,0.7145,0.8481333333333333,0.9634,0.8158,0.0588,0.7238000000000001,0.92308,0.54555,0.47519,0.798,0.51815,0.50075,0.8373333333333334,0.4914,0.75,0.7273000000000001,0.8684000000000001,0.39520000000000005,0.6066,null,0.8475199999999999,0.8162999999999999,0.6087,null,null,0.831225,0.6212500000000001,0.6525,0.2346,0.5447,0.7143,0.31383333333333335,0.9396,0.7271333333333333,null,null,null,0.45645454545454545,null,0.625,null,0.6977,0.5565846153846153,0.3542,0.7629999999999999,0.8772399999999999,0.8776,0.73448,0.8787999999999999,0.83095,0.82208,0.7199199999999999,0.7153,0.6207,null,0.498475,null,0.6543,0.7060000000000001,0.41829999999999995,0.6520333333333334,0.6844,null,0.71495,0.170025,0.41915,0.6667000000000001,0.7072,0.22737142857142859,0.65474,0.6962200000000001,0.9233000000000001,null,0.5517,0.397925,0.397925,0.6844,0.5166111111111111,0.623675,0.7554,0.7170500000000001,null,0.5714,0.5660666666666666,0.7653222222222222,0.3125,0.35414999999999996,0.5,0.6405,0.56,0.433975,0.375,0.4719,0.785,0.625,0.6334666666666667,0.6675],\"xaxis\":\"x\",\"y\":[5.763992537313433,5.497109826589595,4.3913352272727275,4.706997084548105,4.780701754385965,6.177966101694915,4.653225806451613,6.862595419847328,4.569105691056911,5.301410541945063,4.44,4.093023255813954,5.2113271344040575,4.2930845225027445,4.5557029177718835,6.693069306930693,4.654929577464789,6.763052208835341,5.459915611814346,4.715355805243446,5.065625,5.6767676767676765,5.190839694656488,5.36443661971831,5.62012987012987,4.984615384615385,4.854755784061696,6.377104377104377,3.740740740740741,4.695652173913044,4.0,3.5454545454545454,3.7948717948717947,4.852173913043479,3.78125,6.576146788990826,4.744827586206896,3.5,5.267326732673268,5.666666666666667,4.717391304347826,4.855569155446757,4.391304347826087,4.595375722543353,4.019108280254777,5.0615711252653925,4.25,4.296875,5.282110091743119,5.572741806554756,6.981574539363484,5.158730158730159,5.503496503496503,4.954022988505747,5.183752417794971,4.681481481481481,5.843267108167771,4.048206278026906,4.785087719298246,3.609988109393579,5.058617672790901,6.3694779116465865,4.220779220779221,4.25,3.743050847457627,4.80327868852459,5.888888888888889,4.553191489361702,4.14987298899238,5.782010582010582,3.625,4.520833333333333,5.072050673000792,3.8941176470588235,4.555473916238061,6.0091093117408905,3.5473684210526315,3.0517241379310347,6.5064935064935066,5.838888888888889,4.498666666666667,6.461194029850747,5.816582914572864,4.775933609958506,4.821167883211679,4.762152777777778,5.5,3.5063291139240507,4.3852813852813854,3.8865248226950353,5.667580534612749,4.375,4.018264840182648,4.503703703703704,4.755226480836237,5.897163120567376,4.80030959752322,3.5,4.136363636363637,4.2,5.009097270818755,4.6,4.6023054755043225,6.047131147540983,5.765591397849462,6.354497354497354,3.871794871794872,3.7576013513513513,4.314814814814815,4.0426829268292686,5.64221824686941,4.622641509433962,3.8741721854304636,4.062226117440841,4.063291139240507,4.7190082644628095,4.417218543046357,3.1463414634146343,4.808219178082192,3.4671052631578947,4.685045948203843,5.6100782778864975,4.204379562043796,3.6,3.6769230769230767,4.139072847682119,4.607681088964512,5.675126903553299,4.279305036287663,6.2,4.6434108527131785,3.0207231040564375,4.379518072289157,4.363636363636363,4.413223140495868,6.1782407407407405,5.40979381443299,3.2346938775510203,3.6194690265486726,4.985294117647059,3.231578947368421,5.294657762938231,3.3564356435643563,3.875,4.175,4.5424739195231,4.56701030927835,6.020064205457464,4.989583333333333,3.8698630136986303,4.314814814814815,3.618181818181818,6.276081424936387,5.033492822966507,5.59009009009009,5.872706422018348,4.853146853146853,4.034883720930233,4.454545454545454,7.272638753651412,3.779816513761468,3.660377358490566,5.399808703969392,3.836693548387097,3.681159420289855,3.9404761904761907,3.9585492227979273,6.06140350877193,5.129032258064516,6.858695652173913,6.0427715996578275,4.1,3.758241758241758,3.957095709570957,7.401273885350318,4.976744186046512,3.3454545454545452,4.0,4.03030303030303,3.230769230769231,4.317073170731708,4.695754716981132,4.426691729323308,4.308943089430894,4.093877551020408,4.225225225225225,5.057324840764331,4.521598272138229,5.085427135678392,5.333333333333333,5.750393700787401,6.46218487394958,4.633090352538328,3.5375,6.14975845410628,3.6315789473684212,4.307894736842106,3.9363636363636365,5.6803977272727275,4.295150501672241,4.6521739130434785,6.894021739130435,4.288683602771362,4.518256772673734,3.976923076923077,4.716599190283401,2.984189723320158,2.6,4.285714285714286,4.372549019607843,3.443243243243243,3.8919860627177703,4.276666666666666,5.310408921933085,3.9245283018867925,4.228758169934641,5.401315789473684,4.783719074221867,3.8693009118541033,5.0700280112044815,5.778272980501392,4.747844827586207,4.511156186612576,5.0125,3.9,6.717314487632509,4.271305285868393,4.196261682242991,5.390893470790378,4.737383177570093,4.31216361679225,6.087719298245614,4.31413612565445,3.8967741935483873,4.175572519083969,3.802139037433155,6.247278382581649,3.4427480916030535,4.449612403100775,5.743027888446215,4.830472103004292,5.4025423728813555,3.8065693430656933,3.082939048149179,5.268984446477584,5.417218543046357,5.501766784452297,3.806201550387597,3.656,5.0,4.855039637599094,5.583333333333333,3.2130777903043968,6.058148431522571,5.930327868852459,5.086705202312139,6.805280528052806,3.8634538152610443,6.205649717514124,5.171717171717172,5.116910229645094,4.425196850393701,3.945945945945946,5.53411306042885,5.674311926605505,3.4444444444444446,4.869760479041916,5.349320543565148,4.6255506607929515,4.414035087719299,3.6923076923076925,4.372847011144883,4.13550135501355,3.55,5.69905462184874,2.3076923076923075,5.22027972027972,4.346534653465347,4.7434554973821985,5.678776290630975,3.357142857142857,5.5380597014925375,4.230232558139535,3.9708029197080292,3.8011049723756907,4.479166666666667,5.583599088838269,4.783042394014963,6.092896174863388,2.972972972972973,5.623152709359606,3.5602455871066767,4.453883495145631,5.89622641509434,5.264434180138569,5.414285714285715,4.214172227518271,5.741881443298969,6.103343465045593,2.4391066160977664,4.983516483516484,5.688693098384729,4.253448275862069,4.557512953367875,5.01980198019802,3.957055214723926,4.914754098360656,4.59275053304904,6.13903743315508,5.763333333333334,3.857142857142857,4.863636363636363,5.204799107142857,4.386271870794078,5.645645645645645,5.321029082774049,4.788418708240535,4.424170616113744,5.404129793510324,4.96,5.163636363636364,3.74,5.617647058823529,5.076923076923077,5.28134110787172,4.28,4.5495207667731625,4.303630363036303,4.329411764705882,3.774193548387097,4.104477611940299,4.349384098544233,4.239130434782608,6.205555555555556,4.898550724637682,4.115942028985507,4.5,4.532786885245901,6.176706827309237,4.302734375,3.422222222222222,3.699074074074074,3.0833333333333335,4.543509965969859,3.75,3.463768115942029,4.3,3.763157894736842,5.328223624887285,5.472222222222222,4.762987012987013,5.073654390934844,3.8009049773755654,6.16258064516129,5.551839464882943,4.6015625,5.389521640091116,4.49877750611247,4.872549019607843,4.711538461538462,3.9672544080604535,5.268456375838926,4.392857142857143,4.434058898847631,5.925699300699301,4.174746936600959,3.925581395348837,5.485165794066318,4.188679245283019,3.5685019206145965,6.2536873156342185,4.4013793103448275,4.464454976303317,5.312831389183457,4.351145038167939,4.460688758934373,5.711648631444939,5.827027027027027,5.258503401360544,4.337078651685394,3.6889580093312597,3.6889580093312597,3.7191489361702126,3.9733481399222654,5.211538461538462,4.184873949579832,4.330783938814531,4.181818181818182,4.425,5.380106571936057,4.708364174685419,4.341772151898734,3.8615384615384616,4.061728395061729,3.9938650306748467,4.548387096774194,5.354014598540146,3.630630630630631,4.201907790143085,4.364406779661017,4.511627906976744,4.460093896713615,5.632798573975045],\"yaxis\":\"y\",\"type\":\"scatter\"},{\"hovertemplate\":\"<b>OLS trendline</b><br>avg_tchr_edu_lvl = 0.963694 * pct_both_over_benchmark + 4.24783<br>R<sup>2</sup>=0.065770<br><br>pct_both_over_benchmark=%{x}<br>avg_tchr_edu_lvl=%{y} <b>(trend)</b><extra></extra>\",\"legendgroup\":\"\",\"marker\":{\"symbol\":\"circle\"},\"mode\":\"lines\",\"name\":\"\",\"showlegend\":false,\"x\":[0.0096,0.0588,0.0833,0.0923,0.0968,0.10666666666666667,0.12775,0.129,0.1389,0.15039999999999998,0.16193333333333335,0.1691,0.170025,0.173775,0.18058461538461537,0.1811,0.1818,0.18214000000000002,0.18810000000000002,0.1881375,0.1887,0.19562222222222223,0.19912000000000002,0.20242500000000002,0.2054,0.2065160975609756,0.209,0.2188,0.22030000000000002,0.2266,0.22737142857142859,0.2346,0.2353,0.24085,0.24967,0.2615,0.2642,0.2662,0.2664,0.2666769230769231,0.2692,0.2712,0.2763,0.2766,0.27912,0.28213333333333335,0.28264999999999996,0.287,0.2917,0.2971,0.2991,0.312375,0.3125,0.3127533333333333,0.31383333333333335,0.3194,0.32310000000000005,0.324125,0.32551363636363634,0.3286,0.3333,0.33334,0.33385,0.33531304347826085,0.33536666666666665,0.33590000000000003,0.339075,0.3393,0.33968000000000004,0.34087500000000004,0.3529,0.35414999999999996,0.3542,0.3594,0.3623,0.3682,0.36840000000000006,0.375,0.375,0.37740000000000007,0.38642000000000004,0.38855,0.39143333333333336,0.3926,0.39520000000000005,0.397925,0.397925,0.400525,0.4054,0.4124,0.4127,0.413,0.4154,0.41829999999999995,0.41872,0.41910000000000003,0.41915,0.42291999999999996,0.4236571428571429,0.4255,0.4286,0.433975,0.440125,0.44055,0.44408333333333333,0.4474,0.44943333333333335,0.45255999999999996,0.45645454545454545,0.46146000000000004,0.4706,0.4719,0.47519,0.4759,0.476,0.47905999999999993,0.48216000000000003,0.48479999999999995,0.48586666666666667,0.48852500000000004,0.49056,0.4914,0.49739999999999995,0.498475,0.5,0.5,0.50075,0.5008,0.5026,0.5041575757575758,0.51068,0.5166111111111111,0.51815,0.5315055555555556,0.5326500000000001,0.537525,0.5417000000000001,0.5432,0.543825,0.5447,0.54555,0.5517,0.5524,0.5549,0.5565846153846153,0.5588333333333334,0.56,0.5602125,0.5606,0.562075,0.5641,0.5652,0.5655,0.5660666666666666,0.5688333333333333,0.5714,0.5732833333333334,0.5775,0.5797249999999999,0.5829666666666666,0.5846428571428571,0.5849,0.5859,0.5866333333333333,0.5882000000000001,0.5897,0.5914200000000001,0.5921666666666666,0.6009375,0.6023,0.6044666666666667,0.6066,0.6087,0.6111,0.6111,0.61635,0.6167,0.6207,0.6212500000000001,0.62285,0.623675,0.625,0.625,0.625,0.6314,0.6315999999999999,0.6333,0.6334666666666667,0.6396333333333333,0.64045,0.6405,0.6433,0.6445000000000001,0.6480999999999999,0.64968,0.6520333333333334,0.6525,0.653275,0.6538428571428572,0.6543,0.65474,0.6573,0.6602,0.6641666666666667,0.6667000000000001,0.6675,0.6704,0.6735,0.6759384615384616,0.676,0.6783,0.6833,0.6844,0.6844,0.6857,0.6909000000000001,0.6930000000000001,0.6962200000000001,0.6977,0.7,0.701525,0.70204,0.7037,0.7037,0.7055,0.7060000000000001,0.7072,0.7090000000000001,0.7093833333333333,0.7101666666666665,0.7106999999999999,0.7115333333333332,0.7143,0.7143,0.7143,0.7143,0.7145,0.71495,0.7151000000000001,0.7153,0.7170500000000001,0.7188,0.7199199999999999,0.7238000000000001,0.72665,0.7271333333333333,0.7273000000000001,0.7297,0.73448,0.7358571428571429,0.7361,0.7364,0.739675,0.7451000000000001,0.7459499999999999,0.7464571428571428,0.7468,0.75,0.7533,0.7554,0.76265,0.7628666666666666,0.7629999999999999,0.7633,0.7646999999999999,0.7646999999999999,0.7653222222222222,0.7714,0.7734166666666665,0.7762800000000001,0.7778,0.7802571428571428,0.7806666666666667,0.785,0.7857,0.786,0.7976000000000001,0.798,0.8,0.8000499999999999,0.8029166666666666,0.80615,0.8158,0.8162999999999999,0.81798,0.8204333333333333,0.82208,0.8234625,0.8248200000000001,0.8286,0.83095,0.8312,0.831225,0.8371,0.8373333333333334,0.8386,0.84,0.8415250000000001,0.8451000000000001,0.8475199999999999,0.8481333333333333,0.8490666666666667,0.85565,0.85565,0.855675,0.85868,0.86385,0.86412,0.8656999999999999,0.8665499999999999,0.8671,0.8684000000000001,0.8718,0.8739666666666666,0.8772399999999999,0.8776,0.8780999999999999,0.8786999999999999,0.8787999999999999,0.8803,0.883375,0.88905,0.8891333333333332,0.9014,0.9031999999999999,0.9061333333333333,0.9067000000000001,0.9150499999999999,0.9162,0.9177199999999999,0.9193666666666668,0.9217,0.92308,0.9233000000000001,0.9320833333333334,0.9340666666666667,0.9343999999999999,0.9359000000000001,0.93805,0.9390000000000001,0.9396,0.9553166666666666,0.9592,0.9598,0.9634,0.9662666666666667,0.9670000000000001,0.9692000000000001,0.9775,0.9896],\"xaxis\":\"x\",\"y\":[4.257076715331616,4.304490443793891,4.328100938658236,4.336774181669628,4.341110803175324,4.35061924736559,4.370937122197833,4.372141739282748,4.3816823065952795,4.392764783776502,4.40387938407999,4.410785855366839,4.411677272009676,4.415291123264423,4.421853506491632,4.422350179382028,4.423024764949581,4.423352420796678,4.4290960350575554,4.429132173570103,4.429674251258315,4.436345152981891,4.43971593927817,4.4429009468506875,4.445767935512786,4.446843511665094,4.449237232717343,4.4586814306630815,4.46012697116498,4.466198241272954,4.466941662102502,4.473907790616414,4.4745823761839665,4.479930876040991,4.488430654192156,4.499831150283796,4.502433123187214,4.504360510523078,4.504553249256665,4.5048201182724,4.507251591526876,4.5091789788627405,4.514093816569196,4.514382924669576,4.516811432712766,4.519715362965469,4.520213271360567,4.524405338816074,4.528934699055355,4.534138644862191,4.536066032198056,4.548859065639859,4.548979527348351,4.5492236630775595,4.550264452238927,4.555629013657084,4.559194680228434,4.560182466238065,4.5615206863087625,4.564494995402063,4.5690243556413455,4.569062903388063,4.569554387158708,4.570964312894618,4.571015989221738,4.571529959177969,4.574589686573655,4.574806517648939,4.575172721242754,4.576324335175934,4.587912751532821,4.589117368617736,4.589165553301133,4.594176760374381,4.5969714720113855,4.602657264652187,4.6028500033857735,4.609210381594128,4.609210381594128,4.611523246397166,4.620215763281916,4.6222684307946125,4.625047080870484,4.6261713901497385,4.628676993686363,4.631303058931479,4.631303058931479,4.633808662468103,4.638506669099273,4.645252524774801,4.64554163287518,4.64583074097556,4.648143605778598,4.650938317415602,4.651343068756134,4.651709272349948,4.651757457033344,4.65539058216145,4.65610096206524,4.657876911824716,4.660864362195306,4.666044215660444,4.671970931718228,4.6723805015270985,4.675785552487127,4.678981803152436,4.680941313610566,4.683954462478967,4.687707611272988,4.692531336123566,4.701339496248469,4.702592298016781,4.7057628501842785,4.70644707268851,4.706543442055303,4.709492344679177,4.712479795049767,4.715023946333109,4.7160518862455705,4.718613705246158,4.7205748218604,4.7213843245414635,4.7271664865490575,4.7282024572420855,4.729672090085682,4.729672090085682,4.730394860336632,4.730443045020028,4.732177693622306,4.733678719517208,4.739964338459201,4.745680112680782,4.747163130158656,4.760033794479265,4.761136688343676,4.765834694974847,4.769858116038465,4.771303656540363,4.771905965082821,4.772749197042262,4.773568336660005,4.779495052717789,4.780169638285342,4.782578872455173,4.7842023256342285,4.786369400882374,4.787493710161629,4.787698495066064,4.788071926362388,4.789493374522588,4.791444854200152,4.7925049172348775,4.792794025335256,4.793340118413752,4.796006337561698,4.798479817976058,4.800294774383998,4.804358349350446,4.806502567761596,4.80962654140181,4.811241875549963,4.811489682493146,4.812453376161079,4.813160084850896,4.8146698715973235,4.816115412099222,4.817772965208066,4.818492523146788,4.826944919692613,4.8282579523151705,4.8303459552623575,4.83240183508728,4.834425591789938,4.836738456592975,4.836738456592975,4.841797848349621,4.842135141133397,4.845989915805127,4.8465199473224905,4.848061857191182,4.848856904467226,4.850133798577237,4.850133798577237,4.850133798577237,4.856301438052005,4.856494176785591,4.858132456021076,4.858293071632398,4.8642358492513145,4.865022865746793,4.865071050430189,4.8677693927004,4.868925825101919,4.872395122306476,4.873917758301809,4.876185650733677,4.876635374445379,4.877382237038026,4.877929477370888,4.878370023047657,4.878794048261548,4.881261104051455,4.884055815688459,4.887878467237924,4.890319824530019,4.891090779464365,4.893885491101369,4.89687294147196,4.899222871416072,4.899282175641791,4.901498671078036,4.906317139417698,4.907377202452423,4.907377202452423,4.908630004220735,4.913641211293984,4.915664967996642,4.918768061607385,4.920194328235925,4.92241082367217,4.923880456515766,4.924376758754752,4.925976490243519,4.925976490243519,4.9277111388457975,4.928192985679765,4.929349418081284,4.931084066683561,4.931453482589602,4.932208375962816,4.932722345919046,4.933525423975657,4.936191643123603,4.936191643123603,4.936191643123603,4.936191643123603,4.93638438185719,4.93681804400776,4.936962598057949,4.937155336791536,4.938841800710418,4.940528264629299,4.941607601537384,4.945346732968962,4.948093259922569,4.9485590451954025,4.948719660806725,4.951032525609763,4.95563898134248,4.9569661251937465,4.95720016508453,4.95748927318491,4.960645369947389,4.965873408095923,4.966692547713665,4.967181278073831,4.967511687331408,4.970595507068792,4.973775696172968,4.975799452875626,4.982786231968137,4.982995032262855,4.983123524751913,4.983412632852293,4.984761803987398,4.984761803987398,4.985361435603001,4.991218551562546,4.9931620004595425,4.995921376662055,4.997386191037313,4.999754124049947,5.0001487795520525,5.004324785446427,5.004999371013979,5.005288479114359,5.016467325662376,5.016852803129549,5.018780190465414,5.01882837514881,5.02159096366355,5.024706906523198,5.034006550418746,5.034488397252712,5.036107402614839,5.0384716644135,5.040058546653361,5.041390853149278,5.042699067303497,5.046341829368281,5.048606509487922,5.048847432904905,5.048871525246604,5.054533225545707,5.054758087401558,5.055978766047605,5.057327937182711,5.058797570026307,5.062242774889166,5.064574913565562,5.0651659790152275,5.066065426438631,5.072409743085853,5.072409743085853,5.072433835427551,5.075329734899689,5.080312031162899,5.080572228453241,5.082094864448575,5.082914004066317,5.08344403558368,5.084696837351991,5.087973395822962,5.090061398770149,5.0932158893765145,5.09356281909697,5.094044665930936,5.094622882131696,5.094719251498489,5.096164792000388,5.09912815002928,5.104597111594797,5.104677419400457,5.116498728393762,5.118233376996041,5.121060211755309,5.121606304833804,5.12965314696104,5.130761394679162,5.132226209054419,5.133813091294281,5.1360617098527905,5.137391607114537,5.1376036197214825,5.146068062438156,5.147979388212889,5.148300619435533,5.149746159937432,5.151818101323486,5.152733610308022,5.153311826508781,5.168457878656453,5.1722002224002575,5.172778438601016,5.176247735805573,5.179010324320313,5.17971703301013,5.181837159079581,5.189835816523421,5.201496509905403],\"yaxis\":\"y\",\"type\":\"scatter\"}],                        {\"template\":{\"data\":{\"histogram2dcontour\":[{\"type\":\"histogram2dcontour\",\"colorbar\":{\"outlinewidth\":0,\"ticks\":\"\"},\"colorscale\":[[0.0,\"#0d0887\"],[0.1111111111111111,\"#46039f\"],[0.2222222222222222,\"#7201a8\"],[0.3333333333333333,\"#9c179e\"],[0.4444444444444444,\"#bd3786\"],[0.5555555555555556,\"#d8576b\"],[0.6666666666666666,\"#ed7953\"],[0.7777777777777778,\"#fb9f3a\"],[0.8888888888888888,\"#fdca26\"],[1.0,\"#f0f921\"]]}],\"choropleth\":[{\"type\":\"choropleth\",\"colorbar\":{\"outlinewidth\":0,\"ticks\":\"\"}}],\"histogram2d\":[{\"type\":\"histogram2d\",\"colorbar\":{\"outlinewidth\":0,\"ticks\":\"\"},\"colorscale\":[[0.0,\"#0d0887\"],[0.1111111111111111,\"#46039f\"],[0.2222222222222222,\"#7201a8\"],[0.3333333333333333,\"#9c179e\"],[0.4444444444444444,\"#bd3786\"],[0.5555555555555556,\"#d8576b\"],[0.6666666666666666,\"#ed7953\"],[0.7777777777777778,\"#fb9f3a\"],[0.8888888888888888,\"#fdca26\"],[1.0,\"#f0f921\"]]}],\"heatmap\":[{\"type\":\"heatmap\",\"colorbar\":{\"outlinewidth\":0,\"ticks\":\"\"},\"colorscale\":[[0.0,\"#0d0887\"],[0.1111111111111111,\"#46039f\"],[0.2222222222222222,\"#7201a8\"],[0.3333333333333333,\"#9c179e\"],[0.4444444444444444,\"#bd3786\"],[0.5555555555555556,\"#d8576b\"],[0.6666666666666666,\"#ed7953\"],[0.7777777777777778,\"#fb9f3a\"],[0.8888888888888888,\"#fdca26\"],[1.0,\"#f0f921\"]]}],\"heatmapgl\":[{\"type\":\"heatmapgl\",\"colorbar\":{\"outlinewidth\":0,\"ticks\":\"\"},\"colorscale\":[[0.0,\"#0d0887\"],[0.1111111111111111,\"#46039f\"],[0.2222222222222222,\"#7201a8\"],[0.3333333333333333,\"#9c179e\"],[0.4444444444444444,\"#bd3786\"],[0.5555555555555556,\"#d8576b\"],[0.6666666666666666,\"#ed7953\"],[0.7777777777777778,\"#fb9f3a\"],[0.8888888888888888,\"#fdca26\"],[1.0,\"#f0f921\"]]}],\"contourcarpet\":[{\"type\":\"contourcarpet\",\"colorbar\":{\"outlinewidth\":0,\"ticks\":\"\"}}],\"contour\":[{\"type\":\"contour\",\"colorbar\":{\"outlinewidth\":0,\"ticks\":\"\"},\"colorscale\":[[0.0,\"#0d0887\"],[0.1111111111111111,\"#46039f\"],[0.2222222222222222,\"#7201a8\"],[0.3333333333333333,\"#9c179e\"],[0.4444444444444444,\"#bd3786\"],[0.5555555555555556,\"#d8576b\"],[0.6666666666666666,\"#ed7953\"],[0.7777777777777778,\"#fb9f3a\"],[0.8888888888888888,\"#fdca26\"],[1.0,\"#f0f921\"]]}],\"surface\":[{\"type\":\"surface\",\"colorbar\":{\"outlinewidth\":0,\"ticks\":\"\"},\"colorscale\":[[0.0,\"#0d0887\"],[0.1111111111111111,\"#46039f\"],[0.2222222222222222,\"#7201a8\"],[0.3333333333333333,\"#9c179e\"],[0.4444444444444444,\"#bd3786\"],[0.5555555555555556,\"#d8576b\"],[0.6666666666666666,\"#ed7953\"],[0.7777777777777778,\"#fb9f3a\"],[0.8888888888888888,\"#fdca26\"],[1.0,\"#f0f921\"]]}],\"mesh3d\":[{\"type\":\"mesh3d\",\"colorbar\":{\"outlinewidth\":0,\"ticks\":\"\"}}],\"scatter\":[{\"marker\":{\"line\":{\"color\":\"#283442\"}},\"type\":\"scatter\"}],\"parcoords\":[{\"type\":\"parcoords\",\"line\":{\"colorbar\":{\"outlinewidth\":0,\"ticks\":\"\"}}}],\"scatterpolargl\":[{\"type\":\"scatterpolargl\",\"marker\":{\"colorbar\":{\"outlinewidth\":0,\"ticks\":\"\"}}}],\"bar\":[{\"error_x\":{\"color\":\"#f2f5fa\"},\"error_y\":{\"color\":\"#f2f5fa\"},\"marker\":{\"line\":{\"color\":\"rgb(17,17,17)\",\"width\":0.5},\"pattern\":{\"fillmode\":\"overlay\",\"size\":10,\"solidity\":0.2}},\"type\":\"bar\"}],\"scattergeo\":[{\"type\":\"scattergeo\",\"marker\":{\"colorbar\":{\"outlinewidth\":0,\"ticks\":\"\"}}}],\"scatterpolar\":[{\"type\":\"scatterpolar\",\"marker\":{\"colorbar\":{\"outlinewidth\":0,\"ticks\":\"\"}}}],\"histogram\":[{\"marker\":{\"pattern\":{\"fillmode\":\"overlay\",\"size\":10,\"solidity\":0.2}},\"type\":\"histogram\"}],\"scattergl\":[{\"marker\":{\"line\":{\"color\":\"#283442\"}},\"type\":\"scattergl\"}],\"scatter3d\":[{\"type\":\"scatter3d\",\"line\":{\"colorbar\":{\"outlinewidth\":0,\"ticks\":\"\"}},\"marker\":{\"colorbar\":{\"outlinewidth\":0,\"ticks\":\"\"}}}],\"scattermapbox\":[{\"type\":\"scattermapbox\",\"marker\":{\"colorbar\":{\"outlinewidth\":0,\"ticks\":\"\"}}}],\"scatterternary\":[{\"type\":\"scatterternary\",\"marker\":{\"colorbar\":{\"outlinewidth\":0,\"ticks\":\"\"}}}],\"scattercarpet\":[{\"type\":\"scattercarpet\",\"marker\":{\"colorbar\":{\"outlinewidth\":0,\"ticks\":\"\"}}}],\"carpet\":[{\"aaxis\":{\"endlinecolor\":\"#A2B1C6\",\"gridcolor\":\"#506784\",\"linecolor\":\"#506784\",\"minorgridcolor\":\"#506784\",\"startlinecolor\":\"#A2B1C6\"},\"baxis\":{\"endlinecolor\":\"#A2B1C6\",\"gridcolor\":\"#506784\",\"linecolor\":\"#506784\",\"minorgridcolor\":\"#506784\",\"startlinecolor\":\"#A2B1C6\"},\"type\":\"carpet\"}],\"table\":[{\"cells\":{\"fill\":{\"color\":\"#506784\"},\"line\":{\"color\":\"rgb(17,17,17)\"}},\"header\":{\"fill\":{\"color\":\"#2a3f5f\"},\"line\":{\"color\":\"rgb(17,17,17)\"}},\"type\":\"table\"}],\"barpolar\":[{\"marker\":{\"line\":{\"color\":\"rgb(17,17,17)\",\"width\":0.5},\"pattern\":{\"fillmode\":\"overlay\",\"size\":10,\"solidity\":0.2}},\"type\":\"barpolar\"}],\"pie\":[{\"automargin\":true,\"type\":\"pie\"}]},\"layout\":{\"autotypenumbers\":\"strict\",\"colorway\":[\"#636efa\",\"#EF553B\",\"#00cc96\",\"#ab63fa\",\"#FFA15A\",\"#19d3f3\",\"#FF6692\",\"#B6E880\",\"#FF97FF\",\"#FECB52\"],\"font\":{\"color\":\"#f2f5fa\"},\"hovermode\":\"closest\",\"hoverlabel\":{\"align\":\"left\"},\"paper_bgcolor\":\"rgb(17,17,17)\",\"plot_bgcolor\":\"rgb(17,17,17)\",\"polar\":{\"bgcolor\":\"rgb(17,17,17)\",\"angularaxis\":{\"gridcolor\":\"#506784\",\"linecolor\":\"#506784\",\"ticks\":\"\"},\"radialaxis\":{\"gridcolor\":\"#506784\",\"linecolor\":\"#506784\",\"ticks\":\"\"}},\"ternary\":{\"bgcolor\":\"rgb(17,17,17)\",\"aaxis\":{\"gridcolor\":\"#506784\",\"linecolor\":\"#506784\",\"ticks\":\"\"},\"baxis\":{\"gridcolor\":\"#506784\",\"linecolor\":\"#506784\",\"ticks\":\"\"},\"caxis\":{\"gridcolor\":\"#506784\",\"linecolor\":\"#506784\",\"ticks\":\"\"}},\"coloraxis\":{\"colorbar\":{\"outlinewidth\":0,\"ticks\":\"\"}},\"colorscale\":{\"sequential\":[[0.0,\"#0d0887\"],[0.1111111111111111,\"#46039f\"],[0.2222222222222222,\"#7201a8\"],[0.3333333333333333,\"#9c179e\"],[0.4444444444444444,\"#bd3786\"],[0.5555555555555556,\"#d8576b\"],[0.6666666666666666,\"#ed7953\"],[0.7777777777777778,\"#fb9f3a\"],[0.8888888888888888,\"#fdca26\"],[1.0,\"#f0f921\"]],\"sequentialminus\":[[0.0,\"#0d0887\"],[0.1111111111111111,\"#46039f\"],[0.2222222222222222,\"#7201a8\"],[0.3333333333333333,\"#9c179e\"],[0.4444444444444444,\"#bd3786\"],[0.5555555555555556,\"#d8576b\"],[0.6666666666666666,\"#ed7953\"],[0.7777777777777778,\"#fb9f3a\"],[0.8888888888888888,\"#fdca26\"],[1.0,\"#f0f921\"]],\"diverging\":[[0,\"#8e0152\"],[0.1,\"#c51b7d\"],[0.2,\"#de77ae\"],[0.3,\"#f1b6da\"],[0.4,\"#fde0ef\"],[0.5,\"#f7f7f7\"],[0.6,\"#e6f5d0\"],[0.7,\"#b8e186\"],[0.8,\"#7fbc41\"],[0.9,\"#4d9221\"],[1,\"#276419\"]]},\"xaxis\":{\"gridcolor\":\"#283442\",\"linecolor\":\"#506784\",\"ticks\":\"\",\"title\":{\"standoff\":15},\"zerolinecolor\":\"#283442\",\"automargin\":true,\"zerolinewidth\":2},\"yaxis\":{\"gridcolor\":\"#283442\",\"linecolor\":\"#506784\",\"ticks\":\"\",\"title\":{\"standoff\":15},\"zerolinecolor\":\"#283442\",\"automargin\":true,\"zerolinewidth\":2},\"scene\":{\"xaxis\":{\"backgroundcolor\":\"rgb(17,17,17)\",\"gridcolor\":\"#506784\",\"linecolor\":\"#506784\",\"showbackground\":true,\"ticks\":\"\",\"zerolinecolor\":\"#C8D4E3\",\"gridwidth\":2},\"yaxis\":{\"backgroundcolor\":\"rgb(17,17,17)\",\"gridcolor\":\"#506784\",\"linecolor\":\"#506784\",\"showbackground\":true,\"ticks\":\"\",\"zerolinecolor\":\"#C8D4E3\",\"gridwidth\":2},\"zaxis\":{\"backgroundcolor\":\"rgb(17,17,17)\",\"gridcolor\":\"#506784\",\"linecolor\":\"#506784\",\"showbackground\":true,\"ticks\":\"\",\"zerolinecolor\":\"#C8D4E3\",\"gridwidth\":2}},\"shapedefaults\":{\"line\":{\"color\":\"#f2f5fa\"}},\"annotationdefaults\":{\"arrowcolor\":\"#f2f5fa\",\"arrowhead\":0,\"arrowwidth\":1},\"geo\":{\"bgcolor\":\"rgb(17,17,17)\",\"landcolor\":\"rgb(17,17,17)\",\"subunitcolor\":\"#506784\",\"showland\":true,\"showlakes\":true,\"lakecolor\":\"rgb(17,17,17)\"},\"title\":{\"x\":0.05},\"updatemenudefaults\":{\"bgcolor\":\"#506784\",\"borderwidth\":0},\"sliderdefaults\":{\"bgcolor\":\"#C8D4E3\",\"borderwidth\":1,\"bordercolor\":\"rgb(17,17,17)\",\"tickwidth\":0},\"mapbox\":{\"style\":\"dark\"}}},\"xaxis\":{\"anchor\":\"y\",\"domain\":[0.0,1.0],\"title\":{\"text\":\"pct_both_over_benchmark\"}},\"yaxis\":{\"anchor\":\"x\",\"domain\":[0.0,1.0],\"title\":{\"text\":\"avg_tchr_edu_lvl\"}},\"coloraxis\":{\"colorbar\":{\"title\":{\"text\":\"poverty_pct\"}},\"colorscale\":[[0.0,\"#0d0887\"],[0.1111111111111111,\"#46039f\"],[0.2222222222222222,\"#7201a8\"],[0.3333333333333333,\"#9c179e\"],[0.4444444444444444,\"#bd3786\"],[0.5555555555555556,\"#d8576b\"],[0.6666666666666666,\"#ed7953\"],[0.7777777777777778,\"#fb9f3a\"],[0.8888888888888888,\"#fdca26\"],[1.0,\"#f0f921\"]]},\"legend\":{\"tracegroupgap\":0},\"margin\":{\"t\":60}},                        {\"responsive\": true}                    ).then(function(){\n                            \nvar gd = document.getElementById('ba4f9e5f-aa54-4d6d-9498-192420b6a44a');\nvar x = new MutationObserver(function (mutations, observer) {{\n        var display = window.getComputedStyle(gd).display;\n        if (!display || display === 'none') {{\n            console.log([gd, 'removed!']);\n            Plotly.purge(gd);\n            observer.disconnect();\n        }}\n}});\n\n// Listen for the removal of the full notebook cells\nvar notebookContainer = gd.closest('#notebook-container');\nif (notebookContainer) {{\n    x.observe(notebookContainer, {childList: true});\n}}\n\n// Listen for the clearing of the current output cell\nvar outputEl = gd.closest('.output');\nif (outputEl) {{\n    x.observe(outputEl, {childList: true});\n}}\n\n                        })                };                });            </script>        </div>"
     },
     "metadata": {},
     "output_type": "display_data"
    }
   ],
   "source": [
    "# Code\n",
    "px.scatter(final_merged_df,'pct_both_over_benchmark', 'avg_tchr_edu_lvl', color = 'poverty_pct', trendline='ols')"
   ]
  },
  {
   "cell_type": "markdown",
   "metadata": {},
   "source": [
    "## Conclusions and Recommendations"
   ]
  },
  {
   "cell_type": "markdown",
   "metadata": {},
   "source": [
    "Based on your exploration of the data, what are you key takeaways and recommendations? Make sure to answer your question of interest or address your problem statement here."
   ]
  },
  {
   "cell_type": "markdown",
   "metadata": {},
   "source": [
    "**To-Do:** *Edit this cell with your conclusions and recommendations.*"
   ]
  },
  {
   "cell_type": "markdown",
   "metadata": {},
   "source": [
    "Don't forget to create your README!\n",
    "\n",
    "**To-Do:** *If you combine your problem statement, data dictionary, brief summary of your analysis, and conclusions/recommendations, you have an amazing README.md file that quickly aligns your audience to the contents of your project.* Don't forget to cite your data sources!"
   ]
  }
 ],
 "metadata": {
  "anaconda-cloud": {},
  "kernelspec": {
   "display_name": "Python 3.9.13 ('base')",
   "language": "python",
   "name": "python3"
  },
  "language_info": {
   "codemirror_mode": {
    "name": "ipython",
    "version": 3
   },
   "file_extension": ".py",
   "mimetype": "text/x-python",
   "name": "python",
   "nbconvert_exporter": "python",
   "pygments_lexer": "ipython3",
   "version": "3.9.13"
  },
  "vscode": {
   "interpreter": {
    "hash": "cda0ac541ab6c535dcb4ffe1de6394d0d0ba460ea4bcec2c3250fd08f595b9ac"
   }
  }
 },
 "nbformat": 4,
 "nbformat_minor": 4
}

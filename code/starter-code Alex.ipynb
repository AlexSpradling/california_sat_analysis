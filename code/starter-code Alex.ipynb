{
 "cells": [
  {
   "cell_type": "markdown",
   "metadata": {},
   "source": [
    "<img src=\"http://imgur.com/1ZcRyrc.png\" style=\"float: left; margin: 20px; height: 55px\">\n",
    "\n",
    "# Project 1: Standardized Test Analysis"
   ]
  },
  {
   "cell_type": "markdown",
   "metadata": {},
   "source": [
    "--- \n",
    "# Part 1\n",
    "\n",
    "Part 1 requires knowledge of basic Python.\n",
    "\n",
    "---"
   ]
  },
  {
   "cell_type": "markdown",
   "metadata": {},
   "source": [
    "## Problem Statement"
   ]
  },
  {
   "cell_type": "markdown",
   "metadata": {},
   "source": [
    "Decide on your problem statement that will guide your analysis for this project. For guidelines, sample prompts, or inspiration, check out the README.\n",
    "\n",
    "**To-Do:** *Replace this cell with your problem statement.*"
   ]
  },
  {
   "cell_type": "markdown",
   "metadata": {},
   "source": [
    "### Contents:\n",
    "- [Background](#Background)\n",
    "- [Data Import & Cleaning](#Data-Import-and-Cleaning)\n",
    "- [Exploratory Data Analysis](#Exploratory-Data-Analysis)\n",
    "- [Data Visualization](#Visualize-the-Data)\n",
    "- [Conclusions and Recommendations](#Conclusions-and-Recommendations)"
   ]
  },
  {
   "cell_type": "markdown",
   "metadata": {},
   "source": [
    "## Background"
   ]
  },
  {
   "cell_type": "markdown",
   "metadata": {},
   "source": [
    "The SAT and ACT are standardized tests that many colleges and universities in the United States require for their admissions process. This score is used along with other materials such as grade point average (GPA) and essay responses to determine whether or not a potential student will be accepted to the university.\n",
    "\n",
    "The SAT has two sections of the test: Evidence-Based Reading and Writing and Math ([*source*](https://www.princetonreview.com/college/sat-sections)). The ACT has 4 sections: English, Mathematics, Reading, and Science, with an additional optional writing section ([*source*](https://www.act.org/content/act/en/products-and-services/the-act/scores/understanding-your-scores.html)). They have different score ranges, which you can read more about on their websites or additional outside sources (a quick Google search will help you understand the scores for each test):\n",
    "* [SAT](https://collegereadiness.collegeboard.org/sat)\n",
    "* [ACT](https://www.act.org/content/act/en.html)\n",
    "\n",
    "Standardized tests have long been a controversial topic for students, administrators, and legislators. Since the 1940's, an increasing number of colleges have been using scores from sudents' performances on tests like the SAT and the ACT as a measure for college readiness and aptitude ([*source*](https://www.minotdailynews.com/news/local-news/2017/04/a-brief-history-of-the-sat-and-act/)). Supporters of these tests argue that these scores can be used as an objective measure to determine college admittance. Opponents of these tests claim that these tests are not accurate measures of students potential or ability and serve as an inequitable barrier to entry. Lately, more and more schools are opting to drop the SAT/ACT requirement for their Fall 2021 applications ([*read more about this here*](https://www.cnn.com/2020/04/14/us/coronavirus-colleges-sat-act-test-trnd/index.html))."
   ]
  },
  {
   "cell_type": "markdown",
   "metadata": {},
   "source": [
    "**To-Do:** *Fill out this cell (or edit the above cell) with any other background or information that is necessary for your problem statement.*"
   ]
  },
  {
   "cell_type": "markdown",
   "metadata": {},
   "source": [
    "### Choose your Data\n",
    "\n",
    "There are 10 datasets included in the [`data`](./data/) folder for this project. You are required to pick **at least two** of these to complete your analysis. Feel free to use more than two if you would like, or add other relevant datasets you find online.\n",
    "\n",
    "* [`act_2017.csv`](./data/act_2017.csv): 2017 ACT Scores by State\n",
    "* [`act_2018.csv`](./data/act_2018.csv): 2018 ACT Scores by State\n",
    "* [`act_2019.csv`](./data/act_2019.csv): 2019 ACT Scores by State\n",
    "* [`act_2019_ca.csv`](./data/act_2019_ca.csv): 2019 ACT Scores in California by School\n",
    "* [`sat_2017.csv`](./data/sat_2017.csv): 2017 SAT Scores by State\n",
    "* [`sat_2018.csv`](./data/sat_2018.csv): 2018 SAT Scores by State\n",
    "* [`sat_2019.csv`](./data/sat_2019.csv): 2019 SAT Scores by State\n",
    "* [`sat_2019_by_intended_college_major.csv`](./data/sat_2019_by_intended_college_major.csv): 2019 SAT Scores by Intended College Major\n",
    "* [`sat_2019_ca.csv`](./data/sat_2019_ca.csv): 2019 SAT Scores in California by School\n",
    "* [`sat_act_by_college.csv`](./data/sat_act_by_college.csv): Ranges of Accepted ACT & SAT Student Scores by Colleges"
   ]
  },
  {
   "cell_type": "markdown",
   "metadata": {},
   "source": [
    "**To-Do:** *Fill out this cell with the datasets you will use for your analysis. Write a brief description of the contents for each dataset that you choose.*"
   ]
  },
  {
   "cell_type": "markdown",
   "metadata": {},
   "source": [
    "### Outside Research"
   ]
  },
  {
   "cell_type": "markdown",
   "metadata": {},
   "source": [
    "Based on your problem statement and your chosen datasets, spend some time doing outside research on state policies or additional information that might be relevant. Summarize your findings below. If you bring in any outside tables or charts, make sure you are explicit about having borrowed them. If you quote any text, make sure that it renders as being quoted. **Make sure that you cite your sources.**"
   ]
  },
  {
   "cell_type": "markdown",
   "metadata": {},
   "source": [
    "**To-Do:** *Fill out this cell with outside research or any additional background information that will support your analysis.*"
   ]
  },
  {
   "cell_type": "markdown",
   "metadata": {},
   "source": [
    "### Coding Challenges\n",
    "\n",
    "1. Manually calculate mean:\n",
    "\n",
    "    Write a function that takes in values and returns the mean of the values. Create a list of numbers that you test on your function to check to make sure your function works!\n",
    "    \n",
    "    *Note*: Do not use any mean methods built-in to any Python libraries to do this! This should be done without importing any additional libraries."
   ]
  },
  {
   "cell_type": "code",
   "execution_count": 381,
   "metadata": {},
   "outputs": [],
   "source": [
    "# Code:\n",
    "def mean (args):\n",
    "    val_sum = sum(args)\n",
    "    return val_sum/len(args)"
   ]
  },
  {
   "cell_type": "markdown",
   "metadata": {},
   "source": [
    "2. Manually calculate standard deviation:\n",
    "\n",
    "    The formula for standard deviation is below:\n",
    "\n",
    "    $$\\sigma = \\sqrt{\\frac{1}{n}\\sum_{i=1}^n(x_i - \\mu)^2}$$\n",
    "\n",
    "    Where $x_i$ represents each value in the dataset, $\\mu$ represents the mean of all values in the dataset and $n$ represents the number of values in the dataset.\n",
    "\n",
    "    Write a function that takes in values and returns the standard deviation of the values using the formula above. Hint: use the function you wrote above to calculate the mean! Use the list of numbers you created above to test on your function.\n",
    "    \n",
    "    *Note*: Do not use any standard deviation methods built-in to any Python libraries to do this! This should be done without importing any additional libraries."
   ]
  },
  {
   "cell_type": "code",
   "execution_count": 382,
   "metadata": {},
   "outputs": [],
   "source": [
    "# Code:\n",
    "\n",
    "# find variance\n",
    "def variance(args):\n",
    "    mean_val = mean(args)\n",
    "    numerator = 0\n",
    "    for i in args:\n",
    "        numerator += (i-mean_val)**2\n",
    "    # population variance\n",
    "    denominator = len(args) \n",
    "    return numerator/denominator\n",
    "\n",
    " # find standard deviation\n",
    "def standard_deviation(args):\n",
    "    return (variance(args))**.5\n"
   ]
  },
  {
   "cell_type": "markdown",
   "metadata": {},
   "source": [
    "3. Data cleaning function:\n",
    "    \n",
    "    Write a function that takes in a string that is a number and a percent symbol (ex. '50%', '30.5%', etc.) and converts this to a float that is the decimal approximation of the percent. For example, inputting '50%' in your function should return 0.5, '30.5%' should return 0.305, etc. Make sure to test your function to make sure it works!\n",
    "\n",
    "You will use these functions later on in the project!"
   ]
  },
  {
   "cell_type": "code",
   "execution_count": 383,
   "metadata": {},
   "outputs": [
    {
     "data": {
      "text/plain": "0.305"
     },
     "execution_count": 383,
     "metadata": {},
     "output_type": "execute_result"
    }
   ],
   "source": [
    "# Code:\n",
    "\n",
    "def str_to_float(args):\n",
    "     try: \n",
    "          converted_num = float(args.replace('%','')) / 100\n",
    "          return converted_num\n",
    "     except:\n",
    "          return None\n",
    "\n",
    "\n",
    "str_to_float('30.5%')"
   ]
  },
  {
   "cell_type": "markdown",
   "metadata": {},
   "source": [
    "--- \n",
    "# Part 2\n",
    "\n",
    "Part 2 requires knowledge of Pandas, EDA, data cleaning, and data visualization.\n",
    "\n",
    "---"
   ]
  },
  {
   "cell_type": "markdown",
   "metadata": {},
   "source": [
    "*All libraries used should be added here*"
   ]
  },
  {
   "cell_type": "code",
   "execution_count": 384,
   "metadata": {},
   "outputs": [],
   "source": [
    "# Imports:\n",
    "import pandas as pd\n",
    "import numpy as np\n",
    "import matplotlib.pyplot as plt\n",
    "import plotly.express as px\n"
   ]
  },
  {
   "cell_type": "markdown",
   "metadata": {},
   "source": [
    "## Data Import and Cleaning"
   ]
  },
  {
   "cell_type": "markdown",
   "metadata": {},
   "source": [
    "### Data Import & Cleaning\n",
    "\n",
    "Import the datasets that you selected for this project and go through the following steps at a minimum. You are welcome to do further cleaning as you feel necessary:\n",
    "1. Display the data: print the first 5 rows of each dataframe to your Jupyter notebook.\n",
    "2. Check for missing values.\n",
    "3. Check for any obvious issues with the observations (keep in mind the minimum & maximum possible values for each test/subtest).\n",
    "4. Fix any errors you identified in steps 2-3.\n",
    "5. Display the data types of each feature.\n",
    "6. Fix any incorrect data types found in step 5.\n",
    "    - Fix any individual values preventing other columns from being the appropriate type.\n",
    "    - If your dataset has a column of percents (ex. '50%', '30.5%', etc.), use the function you wrote in Part 1 (coding challenges, number 3) to convert this to floats! *Hint*: use `.map()` or `.apply()`.\n",
    "7. Rename Columns.\n",
    "    - Column names should be all lowercase.\n",
    "    - Column names should not contain spaces (underscores will suffice--this allows for using the `df.column_name` method to access columns in addition to `df['column_name']`).\n",
    "    - Column names should be unique and informative.\n",
    "8. Drop unnecessary rows (if needed).\n",
    "9. Merge dataframes that can be merged.\n",
    "10. Perform any additional cleaning that you feel is necessary.\n",
    "11. Save your cleaned and merged dataframes as csv files."
   ]
  },
  {
   "cell_type": "code",
   "execution_count": 385,
   "metadata": {},
   "outputs": [],
   "source": [
    "import re\n",
    "def clean_columns(df):\n",
    "    df.columns = [col.lower().replace(' ', '_').replace('-','_') for col in df.columns]\n",
    "    df.columns = [col.replace('\\n', '_') for col in df.columns]\n",
    "    return df"
   ]
  },
  {
   "cell_type": "markdown",
   "metadata": {},
   "source": [
    "ACT 2017-2019"
   ]
  },
  {
   "cell_type": "markdown",
   "metadata": {},
   "source": [
    "SAT 2017-2019"
   ]
  },
  {
   "cell_type": "code",
   "execution_count": 386,
   "metadata": {},
   "outputs": [],
   "source": [
    "# # sat_2019\n",
    "# sat_2019_df = pd.read_csv('../data/sat_2019.csv')\n",
    "# sat_2019_df = clean_columns(sat_2019_df)\n",
    "# sat_2019_df['participation_rate'] = [str_to_float(x) for x in sat_2019_df['participation_rate']]\n",
    "# sat_2019_df.rename({'ebrw':'evidence_based_reading_and_writing'}, axis = 1, inplace = True)\n",
    "# sat_2019_df.info()\n",
    "# sat_2019_df.shape\n",
    "# sat_2019_df.head()\n"
   ]
  },
  {
   "cell_type": "markdown",
   "metadata": {},
   "source": [
    "### California SAT ACT"
   ]
  },
  {
   "cell_type": "code",
   "execution_count": 387,
   "metadata": {},
   "outputs": [],
   "source": [
    "# sat_2019_ca\n",
    "sat_2019_ca_df = pd.read_csv('../data/sat_2019_ca.csv')\n",
    "\n",
    "# drop columns we're not interested - only want to look at 11th graders\n",
    "sat_2019_ca_df.drop(sat_2019_ca_df.columns[[0,1,2,3,4,5,8,9,10,11,12,13,20,21]], axis=1, inplace=True)\n",
    "\n",
    "# snake case everything\n",
    "sat_2019_ca_df.columns = ['_'.join(re.findall('[A-Z][a-z]*',x)) for x in sat_2019_ca_df.columns]\n",
    "\n",
    "sat_2019_ca_df\n",
    "sat_2019_ca_df = clean_columns(sat_2019_ca_df)\n",
    "\n",
    "sat_2019_ca_df.columns = [x.replace('_e_r_w_', '_erw_') for x in sat_2019_ca_df.columns]\n",
    "sat_2019_ca_df.columns = [x.replace('_t_s_t_', '_tst_') for x in sat_2019_ca_df.columns]\n",
    "\n",
    "# remove asterisks\n",
    "sat_2019_ca_df.replace({'*': np.nan}, inplace = True)\n",
    "\n",
    "# make everything floats that needs to be\n",
    "sat_2019_ca_df = sat_2019_ca_df.astype({col:'float' for col in sat_2019_ca_df.columns if col not in ['d_name', 'c_name', 'year']})"
   ]
  },
  {
   "cell_type": "code",
   "execution_count": 388,
   "metadata": {},
   "outputs": [],
   "source": [
    "# aggregate by school district, using mean\n",
    "agg_functions = {col:'sum' if 'num' in col else 'mean' if 'pct' in col else 'sum' for col in sat_2019_ca_df.columns if col not in ['d_name', 'c_name', 'year']}\n",
    "sat_2019_ca_df = sat_2019_ca_df.groupby(sat_2019_ca_df['d_name']).aggregate(agg_functions)"
   ]
  },
  {
   "cell_type": "markdown",
   "source": [
    "### School District Budget Data"
   ],
   "metadata": {
    "collapsed": false
   }
  },
  {
   "cell_type": "code",
   "execution_count": 422,
   "metadata": {},
   "outputs": [],
   "source": [
    "ca_budgets_sd = pd.read_excel('../data/currentexpense1819.xlsx')\n",
    "\n",
    "# clean columns\n",
    "ca_budgets_sd.columns = ca_budgets_sd.loc[9]\n",
    "ca_budgets_sd = ca_budgets_sd[10:].reset_index()\n",
    "ca_budgets_sd = clean_columns(ca_budgets_sd)\n",
    "ca_budgets_sd.drop(ca_budgets_sd.columns[[0,1,2]], axis=1, inplace=True)\n",
    "ca_budgets_sd.rename(columns = {'district':'d_name'}, inplace=True)\n",
    "\n",
    "# drop unused columns\n",
    "ca_budgets_sd = ca_budgets_sd.astype({col:'float' for col in ca_budgets_sd.columns if col not in ['d_name', 'lea_type']})\n",
    "ca_budgets_sd = ca_budgets_sd.query('lea_type != \"Elementary\"')"
   ]
  },
  {
   "cell_type": "markdown",
   "metadata": {},
   "source": [
    "Merge SD budget and SD sat Dataframes"
   ]
  },
  {
   "cell_type": "code",
   "execution_count": 423,
   "metadata": {},
   "outputs": [],
   "source": [
    "merged_ca_sat_rev = pd.merge(sat_2019_ca_df,ca_budgets_sd, left_on='d_name', right_on = 'd_name')"
   ]
  },
  {
   "cell_type": "markdown",
   "source": [
    "### Student Enrollment Data"
   ],
   "metadata": {
    "collapsed": false
   }
  },
  {
   "cell_type": "code",
   "execution_count": 424,
   "outputs": [],
   "source": [
    "# read in data\n",
    "student_enrollment_db = pd.read_csv('../data/cenroll1819.csv', encoding = 'ISO-8859-1')\n",
    "# drop columns we don't need\n",
    "student_enrollment_db = student_enrollment_db.query('ReportingCategory == \"TA\" and AggregateLevel == \"S\" and Charter == \"All\"')\n",
    "student_enrollment_db.replace({'*': 0}, inplace = True)\n",
    "student_enrollment_db['CumulativeEnrollment'] = student_enrollment_db['CumulativeEnrollment'].astype(float)\n",
    "student_enrollment_db.drop(['SchoolCode', 'AcademicYear', 'AggregateLevel', 'CountyCode', 'DistrictCode', 'CountyName', 'SchoolName', 'Charter', 'ReportingCategory'], axis=1, inplace=True)\n",
    "\n",
    "# snake case columns\n",
    "student_enrollment_db.columns = ['_'.join(re.findall('[A-Z][a-z]*',x)) for x in student_enrollment_db.columns]\n",
    "# clean\n",
    "student_enrollment_db = clean_columns(student_enrollment_db)\n",
    "\n",
    "student_enrollment_db_agg = student_enrollment_db.groupby(student_enrollment_db['district_name']).aggregate('sum')\n",
    "student_enrollment_db_agg.index.names = ['d_name']"
   ],
   "metadata": {
    "collapsed": false
   }
  },
  {
   "cell_type": "markdown",
   "source": [
    "### Teacher Demographic Data"
   ],
   "metadata": {
    "collapsed": false
   }
  },
  {
   "cell_type": "code",
   "execution_count": 475,
   "outputs": [],
   "source": [
    "teacher_demo_db = pd.read_csv('../data/StaffDemo18.csv')\n"
   ],
   "metadata": {
    "collapsed": false
   }
  },
  {
   "cell_type": "code",
   "execution_count": 468,
   "outputs": [],
   "source": [
    "# snake case dolumns\n",
    "teacher_demo_db.columns = ['_'.join(re.findall('[A-Z][a-z]*',x)) for x in teacher_demo_db.columns]\n",
    "# clean\n",
    "teacher_demo_db = clean_columns(teacher_demo_db)\n"
   ],
   "metadata": {
    "collapsed": false
   }
  },
  {
   "cell_type": "markdown",
   "source": [
    "Quantify Education Level"
   ],
   "metadata": {
    "collapsed": false
   }
  },
  {
   "cell_type": "code",
   "execution_count": 469,
   "outputs": [],
   "source": [
    "edu_level_dict = {'D':10,'S':9,'V':8,'M':7,'U':6,'Y':5,'F':4,'C':3,'B':2,'A':1,'N':0}\n",
    "teacher_demo_db.replace({\"education_level\":edu_level_dict}, inplace=True)"
   ],
   "metadata": {
    "collapsed": false
   }
  },
  {
   "cell_type": "markdown",
   "source": [
    "Quantify Sex"
   ],
   "metadata": {
    "collapsed": false
   }
  },
  {
   "cell_type": "code",
   "execution_count": 470,
   "outputs": [],
   "source": [
    "sex_dict = {'M':0, 'F':1}\n",
    "teacher_demo_db.replace({\"gender_code\":sex_dict}, inplace = True)"
   ],
   "metadata": {
    "collapsed": false
   }
  },
  {
   "cell_type": "markdown",
   "source": [
    "Teachers per District"
   ],
   "metadata": {
    "collapsed": false
   }
  },
  {
   "cell_type": "code",
   "execution_count": 473,
   "outputs": [],
   "source": [
    "teachers_per_district = teacher_demo_db['district_name'].value_counts()"
   ],
   "metadata": {
    "collapsed": false
   }
  },
  {
   "cell_type": "markdown",
   "source": [
    "Aggregate by School District"
   ],
   "metadata": {
    "collapsed": false
   }
  },
  {
   "cell_type": "code",
   "execution_count": 430,
   "outputs": [],
   "source": [
    "# drop columns we don't need\n",
    "teacher_demo_db.drop(['academic_year', 'rec_i_d', 'district_code', 'county_name', 'ethnic_group', 'employment_status_code', 'f_t_e_teaching', 'f_t_e', 'f_t_e_pupil_services', 'file_created'], axis = 1, inplace=True)\n",
    "\n",
    "# aggregate by mean statistics per school district\n",
    "teacher_demo_db_agg = teacher_demo_db.groupby(teacher_demo_db['district_name']).aggregate('mean')\n",
    "\n",
    "# change index name for merge\n",
    "teacher_demo_db_agg.index.names = ['d_name']\n",
    "\n",
    "# add num teachers per district\n",
    "teacher_demo_db_agg['tchrs_per_district'] = teachers_per_district\n",
    "\n",
    "# merge with students df\n",
    "ca_districts_students_teachers = pd.merge(teacher_demo_db_agg, student_enrollment_db_agg, left_on='d_name', right_on='d_name')"
   ],
   "metadata": {
    "collapsed": false
   }
  },
  {
   "cell_type": "code",
   "execution_count": 431,
   "outputs": [],
   "source": [
    "# find student teacher ratio\n",
    "ca_districts_students_teachers['student_teacher_ratio'] = ca_districts_students_teachers['cumulative_enrollment']/ca_districts_students_teachers['tchrs_per_district']"
   ],
   "metadata": {
    "collapsed": false
   }
  },
  {
   "cell_type": "code",
   "execution_count": 432,
   "outputs": [],
   "source": [
    "# merge everything\n",
    "final_merged_df = pd.merge(merged_ca_sat_rev, ca_districts_students_teachers, left_on='d_name', right_on = 'd_name')\n",
    "# rename columns\n",
    "final_merged_df.columns = [x.replace('_benchmark', '_over_benchmark') for x in final_merged_df.columns]\n",
    "final_merged_df.rename({'gender_code':'avg_tchr_sex', 'age':'avg_tchr_age','education_level':'avg_tchr_edu_lvl', 'years_teaching':'avg_tchr_yrs_tching', 'years_in_district':'avg_tchr_yrs_in_dstrct', 'edp_365':'annual_expense_of_ed'}, axis = 1, inplace = True)"
   ],
   "metadata": {
    "collapsed": false
   }
  },
  {
   "cell_type": "markdown",
   "source": [
    "### Final Merged Dataframe\n",
    "CA Sat data dataframe, school budget dataframe, teacher demographic dataframe, student enrollment dataframe"
   ],
   "metadata": {
    "collapsed": false
   }
  },
  {
   "cell_type": "code",
   "execution_count": 483,
   "outputs": [
    {
     "data": {
      "text/plain": "                           d_name  enroll  num_tst_takr  \\\n264         Piedmont City Unified   414.0         194.0   \n167             La Canada Unified   679.0         356.0   \n201       Manhattan Beach Unified  1376.0         584.0   \n51                 Carmel Unified   456.0         182.0   \n254             Palo Alto Unified  2038.0        1276.0   \n..                            ...     ...           ...   \n361           Trona Joint Unified   543.0          22.0   \n363  Tulelake Basin Joint Unified    59.0          12.0   \n369            Upper Lake Unified   148.0          26.0   \n379                Warner Unified   206.0          12.0   \n388              Westwood Unified    32.0           0.0   \n\n     num_erw_over_benchmark  pct_erw_over_benchmark  num_math_over_benchmark  \\\n264                   192.0              100.000000                    190.0   \n167                   350.0               98.310000                    352.0   \n201                   578.0               98.970000                    570.0   \n51                    182.0              100.000000                    176.0   \n254                  1266.0               99.243333                   1238.0   \n..                      ...                     ...                      ...   \n361                     0.0                     NaN                      0.0   \n363                     0.0                     NaN                      0.0   \n369                     0.0                     NaN                      0.0   \n379                     0.0                     NaN                      0.0   \n388                     0.0                     NaN                      0.0   \n\n     pct_math_over_benchmark  tot_num_both_over_benchmark  \\\n264                    98.96                        190.0   \n167                    98.88                        348.0   \n201                    97.60                        566.0   \n51                     96.70                        176.0   \n254                    97.09                       1232.0   \n..                       ...                          ...   \n361                      NaN                          0.0   \n363                      NaN                          0.0   \n369                      NaN                          0.0   \n379                      NaN                          0.0   \n388                      NaN                          0.0   \n\n     pct_both_over_benchmark  unnamed  ...  current_expense_per_ada  lea_type  \\\n264                98.960000      0.0  ...             16833.144528   Unified   \n167                97.750000      0.0  ...             11554.152081   Unified   \n201                96.920000      0.0  ...             13848.198076   Unified   \n51                 96.700000      0.0  ...             23849.613547   Unified   \n254                96.626667      0.0  ...             22875.859931   Unified   \n..                       ...      ...  ...                      ...       ...   \n361                      NaN      0.0  ...             28011.196880   Unified   \n363                      NaN      0.0  ...             16023.458286   Unified   \n369                      NaN      0.0  ...             13531.928587   Unified   \n379                      NaN      0.0  ...             22628.406974   Unified   \n388                      NaN      0.0  ...             15763.028822   Unified   \n\n     avg_tchr_sex avg_tchr_age  avg_tchr_edu_lvl  avg_tchr_yrs_tching  \\\n264      0.779817    47.600917          5.674312            17.527523   \n167      0.763158    44.232456          6.061404            16.671053   \n201      0.779891    45.413043          6.894022            16.880435   \n51       0.656085    47.322751          5.158730            18.529101   \n254      0.753074    45.349385          5.930328            13.532787   \n..            ...          ...               ...                  ...   \n361      0.773300    41.413098          3.967254             8.448363   \n363      0.392857    46.535714          4.392857            15.964286   \n369      0.698113    45.037736          4.188679            11.811321   \n379      0.891156    42.027211          5.258503            13.231293   \n388      0.909091    45.090909          4.181818             8.090909   \n\n     avg_tchr_yrs_in_dstrct  tchrs_per_district  cumulative_enrollment  \\\n264               11.087156                 218                 2648.0   \n167               10.754386                 228                 4187.0   \n201               12.190217                 368                 6737.0   \n51                11.677249                 189                 2579.0   \n254               10.222336                 976                12460.0   \n..                      ...                 ...                    ...   \n361                1.712846                 397                  336.0   \n363               12.214286                  28                  415.0   \n369                2.528302                  53                  924.0   \n379                4.013605                 147                 1754.0   \n388                5.545455                  11                  216.0   \n\n     student_teacher_ratio  \n264              12.146789  \n167              18.364035  \n201              18.307065  \n51               13.645503  \n254              12.766393  \n..                     ...  \n361               0.846348  \n363              14.821429  \n369              17.433962  \n379              11.931973  \n388              19.636364  \n\n[404 rows x 22 columns]",
      "text/html": "<div>\n<style scoped>\n    .dataframe tbody tr th:only-of-type {\n        vertical-align: middle;\n    }\n\n    .dataframe tbody tr th {\n        vertical-align: top;\n    }\n\n    .dataframe thead th {\n        text-align: right;\n    }\n</style>\n<table border=\"1\" class=\"dataframe\">\n  <thead>\n    <tr style=\"text-align: right;\">\n      <th></th>\n      <th>d_name</th>\n      <th>enroll</th>\n      <th>num_tst_takr</th>\n      <th>num_erw_over_benchmark</th>\n      <th>pct_erw_over_benchmark</th>\n      <th>num_math_over_benchmark</th>\n      <th>pct_math_over_benchmark</th>\n      <th>tot_num_both_over_benchmark</th>\n      <th>pct_both_over_benchmark</th>\n      <th>unnamed</th>\n      <th>...</th>\n      <th>current_expense_per_ada</th>\n      <th>lea_type</th>\n      <th>avg_tchr_sex</th>\n      <th>avg_tchr_age</th>\n      <th>avg_tchr_edu_lvl</th>\n      <th>avg_tchr_yrs_tching</th>\n      <th>avg_tchr_yrs_in_dstrct</th>\n      <th>tchrs_per_district</th>\n      <th>cumulative_enrollment</th>\n      <th>student_teacher_ratio</th>\n    </tr>\n  </thead>\n  <tbody>\n    <tr>\n      <th>264</th>\n      <td>Piedmont City Unified</td>\n      <td>414.0</td>\n      <td>194.0</td>\n      <td>192.0</td>\n      <td>100.000000</td>\n      <td>190.0</td>\n      <td>98.96</td>\n      <td>190.0</td>\n      <td>98.960000</td>\n      <td>0.0</td>\n      <td>...</td>\n      <td>16833.144528</td>\n      <td>Unified</td>\n      <td>0.779817</td>\n      <td>47.600917</td>\n      <td>5.674312</td>\n      <td>17.527523</td>\n      <td>11.087156</td>\n      <td>218</td>\n      <td>2648.0</td>\n      <td>12.146789</td>\n    </tr>\n    <tr>\n      <th>167</th>\n      <td>La Canada Unified</td>\n      <td>679.0</td>\n      <td>356.0</td>\n      <td>350.0</td>\n      <td>98.310000</td>\n      <td>352.0</td>\n      <td>98.88</td>\n      <td>348.0</td>\n      <td>97.750000</td>\n      <td>0.0</td>\n      <td>...</td>\n      <td>11554.152081</td>\n      <td>Unified</td>\n      <td>0.763158</td>\n      <td>44.232456</td>\n      <td>6.061404</td>\n      <td>16.671053</td>\n      <td>10.754386</td>\n      <td>228</td>\n      <td>4187.0</td>\n      <td>18.364035</td>\n    </tr>\n    <tr>\n      <th>201</th>\n      <td>Manhattan Beach Unified</td>\n      <td>1376.0</td>\n      <td>584.0</td>\n      <td>578.0</td>\n      <td>98.970000</td>\n      <td>570.0</td>\n      <td>97.60</td>\n      <td>566.0</td>\n      <td>96.920000</td>\n      <td>0.0</td>\n      <td>...</td>\n      <td>13848.198076</td>\n      <td>Unified</td>\n      <td>0.779891</td>\n      <td>45.413043</td>\n      <td>6.894022</td>\n      <td>16.880435</td>\n      <td>12.190217</td>\n      <td>368</td>\n      <td>6737.0</td>\n      <td>18.307065</td>\n    </tr>\n    <tr>\n      <th>51</th>\n      <td>Carmel Unified</td>\n      <td>456.0</td>\n      <td>182.0</td>\n      <td>182.0</td>\n      <td>100.000000</td>\n      <td>176.0</td>\n      <td>96.70</td>\n      <td>176.0</td>\n      <td>96.700000</td>\n      <td>0.0</td>\n      <td>...</td>\n      <td>23849.613547</td>\n      <td>Unified</td>\n      <td>0.656085</td>\n      <td>47.322751</td>\n      <td>5.158730</td>\n      <td>18.529101</td>\n      <td>11.677249</td>\n      <td>189</td>\n      <td>2579.0</td>\n      <td>13.645503</td>\n    </tr>\n    <tr>\n      <th>254</th>\n      <td>Palo Alto Unified</td>\n      <td>2038.0</td>\n      <td>1276.0</td>\n      <td>1266.0</td>\n      <td>99.243333</td>\n      <td>1238.0</td>\n      <td>97.09</td>\n      <td>1232.0</td>\n      <td>96.626667</td>\n      <td>0.0</td>\n      <td>...</td>\n      <td>22875.859931</td>\n      <td>Unified</td>\n      <td>0.753074</td>\n      <td>45.349385</td>\n      <td>5.930328</td>\n      <td>13.532787</td>\n      <td>10.222336</td>\n      <td>976</td>\n      <td>12460.0</td>\n      <td>12.766393</td>\n    </tr>\n    <tr>\n      <th>...</th>\n      <td>...</td>\n      <td>...</td>\n      <td>...</td>\n      <td>...</td>\n      <td>...</td>\n      <td>...</td>\n      <td>...</td>\n      <td>...</td>\n      <td>...</td>\n      <td>...</td>\n      <td>...</td>\n      <td>...</td>\n      <td>...</td>\n      <td>...</td>\n      <td>...</td>\n      <td>...</td>\n      <td>...</td>\n      <td>...</td>\n      <td>...</td>\n      <td>...</td>\n      <td>...</td>\n    </tr>\n    <tr>\n      <th>361</th>\n      <td>Trona Joint Unified</td>\n      <td>543.0</td>\n      <td>22.0</td>\n      <td>0.0</td>\n      <td>NaN</td>\n      <td>0.0</td>\n      <td>NaN</td>\n      <td>0.0</td>\n      <td>NaN</td>\n      <td>0.0</td>\n      <td>...</td>\n      <td>28011.196880</td>\n      <td>Unified</td>\n      <td>0.773300</td>\n      <td>41.413098</td>\n      <td>3.967254</td>\n      <td>8.448363</td>\n      <td>1.712846</td>\n      <td>397</td>\n      <td>336.0</td>\n      <td>0.846348</td>\n    </tr>\n    <tr>\n      <th>363</th>\n      <td>Tulelake Basin Joint Unified</td>\n      <td>59.0</td>\n      <td>12.0</td>\n      <td>0.0</td>\n      <td>NaN</td>\n      <td>0.0</td>\n      <td>NaN</td>\n      <td>0.0</td>\n      <td>NaN</td>\n      <td>0.0</td>\n      <td>...</td>\n      <td>16023.458286</td>\n      <td>Unified</td>\n      <td>0.392857</td>\n      <td>46.535714</td>\n      <td>4.392857</td>\n      <td>15.964286</td>\n      <td>12.214286</td>\n      <td>28</td>\n      <td>415.0</td>\n      <td>14.821429</td>\n    </tr>\n    <tr>\n      <th>369</th>\n      <td>Upper Lake Unified</td>\n      <td>148.0</td>\n      <td>26.0</td>\n      <td>0.0</td>\n      <td>NaN</td>\n      <td>0.0</td>\n      <td>NaN</td>\n      <td>0.0</td>\n      <td>NaN</td>\n      <td>0.0</td>\n      <td>...</td>\n      <td>13531.928587</td>\n      <td>Unified</td>\n      <td>0.698113</td>\n      <td>45.037736</td>\n      <td>4.188679</td>\n      <td>11.811321</td>\n      <td>2.528302</td>\n      <td>53</td>\n      <td>924.0</td>\n      <td>17.433962</td>\n    </tr>\n    <tr>\n      <th>379</th>\n      <td>Warner Unified</td>\n      <td>206.0</td>\n      <td>12.0</td>\n      <td>0.0</td>\n      <td>NaN</td>\n      <td>0.0</td>\n      <td>NaN</td>\n      <td>0.0</td>\n      <td>NaN</td>\n      <td>0.0</td>\n      <td>...</td>\n      <td>22628.406974</td>\n      <td>Unified</td>\n      <td>0.891156</td>\n      <td>42.027211</td>\n      <td>5.258503</td>\n      <td>13.231293</td>\n      <td>4.013605</td>\n      <td>147</td>\n      <td>1754.0</td>\n      <td>11.931973</td>\n    </tr>\n    <tr>\n      <th>388</th>\n      <td>Westwood Unified</td>\n      <td>32.0</td>\n      <td>0.0</td>\n      <td>0.0</td>\n      <td>NaN</td>\n      <td>0.0</td>\n      <td>NaN</td>\n      <td>0.0</td>\n      <td>NaN</td>\n      <td>0.0</td>\n      <td>...</td>\n      <td>15763.028822</td>\n      <td>Unified</td>\n      <td>0.909091</td>\n      <td>45.090909</td>\n      <td>4.181818</td>\n      <td>8.090909</td>\n      <td>5.545455</td>\n      <td>11</td>\n      <td>216.0</td>\n      <td>19.636364</td>\n    </tr>\n  </tbody>\n</table>\n<p>404 rows × 22 columns</p>\n</div>"
     },
     "execution_count": 483,
     "metadata": {},
     "output_type": "execute_result"
    }
   ],
   "source": [
    "final_merged_df.sort_values('pct_both_over_benchmark', ascending = False)\n",
    "\n",
    "# final_merged_df.to_csv('Ca_edu_stats_1819')"
   ],
   "metadata": {
    "collapsed": false
   }
  },
  {
   "cell_type": "markdown",
   "metadata": {},
   "source": [
    "### Data Dictionary"
   ]
  },
  {
   "cell_type": "markdown",
   "metadata": {},
   "source": [
    "\n",
    "| Feature                     | Type   | Dataset                   | Description                                                                                                                                                                                                                                                                                                                          |\n",
    "| --------------------------- | ------ | ------------------------- |--------------------------------------------------------------------------------------------------------------------------------------------------------------------------------------------------------------------------------------------------------------------------------------------------------------------------------------|\n",
    "| d_name                      | str    | All                       | The school district within California.                                                                                                                                                                                                                                                                                               |\n",
    "| enroll                      | float  | CA 2019 SAT               | The number of 11th graders enrolled to take the SAT in 2018-2019.                                                                                                                                                                                                                                                                    |\n",
    "| num_tst_taker               | float  | CA 2019 SAT               | The count of 11th graders that took the SAT in 2018-2019.                                                                                                                                                                                                                                                                            |\n",
    "| num_erw_over_benchmark      | float  | CA 2019 SAT               | The count of 11th graders that exceeded the CA performance benchmark in exploratory reading and writing(erw).                                                                                                                                                                                                                        |\n",
    "| pct_erw_over_benchmark      | float  | CA 2019 SAT               | The percent of 11th graders that exceeded the CA performance benchmark in exploratory reading and writing(erw).                                                                                                                                                                                                                      |\n",
    "| num_math_over_benchmark     | float  | CA 2019 SAT               | The count of 11th graders that exceeded the CA performance benchmark in math.                                                                                                                                                                                                                                                        |\n",
    "| pct_math_over_benchmark     | float  | CA 2019 SAT               | The percent of 11th graders that exceeded the CA performance benchmark in math.                                                                                                                                                                                                                                                      |\n",
    "| tot_num_both_over_benchmark | float  | CA 2019 SAT               | The count of 11th graders that exceeded the CA performance benchmark in math and erw.                                                                                                                                                                                                                                                |\n",
    "| pct_both_over_benchmark     | float  | CA 2019 SAT               | The percent of 11th graders that exceeded the CA performance benchmark in math and erw.                                                                                                                                                                                                                                              |\n",
    "| annual_expense_of_ed        | float  | CA School District Fiscal | Total general fund expenditures less food services, facilities acquisition and construction and certain other terms, divided by (ADA). <br/> The total days of student attendance divided by the number of instructional days in the year.                                                                                           |\n",
    "| current_expense_per_ada     | float  | CA School District Fiscal | annual_expense_of_ed divided by ADA -- the per-pupil cost of education per school board for 2018-2019.                                                                                                                                                                                                                               |\n",
    "| lea_type                    | String | CA School District Fiscal | Type of school district.                                                                                                                                                                                                                                                                                                             |\n",
    "| avg_tchr_sex                | float  | CA Teacher Demographics   | Average sex of teachers within school district.                                                                                                                                                                                                                                                                                      |\n",
    "| avg_tchr_edu_lvl            | float  | CA Teacher Demographics   | Average level of education held by teachers within school district. <br/> 10 = Doctorate, 9 = Special, 8 = Master's + 30 or more semester hours, 7 = Master's, 6 = 5th year within bachelor's,<br /> 5 = 5th year induction, 4 = 5th year, 3 = Bachelors + 30 or more semester hours, 2 = Bachelors, 1 = Associate, 0 = Not reported |\n",
    "| avg_tchr_yrs_tching         | float  | CA Teacher Demographics   | Average number of years as a teacher.                                                                                                                                                                                                                                                                                                |\n",
    "| avg_tchr_yrs_in_dstrct      | float  | CA Teacher Demographics   | Average number of years teaching within that specific school district.                                                                                                                                                                                                                                                               |\n",
    "| tchrs_per_district          | int    | CA Teacher Demographics   | Total number of teachers per school district.                                                                                                                                                                                                                                                                                        |\n",
    "| cumulative_enrollment       | float  | CA Student Enrollment     | Total number of teachers enrolled per school district.                                                                                                                                                                                                                                                                               |\n",
    "| student_teacher_ratio       | float  | CA Student / CA Teacher   | Average student to teacher ratio per school district.                                                                                                                                                                                                                                                                                |\n"
   ]
  },
  {
   "cell_type": "markdown",
   "metadata": {},
   "source": [
    "## Exploratory Data Analysis\n",
    "\n",
    "Complete the following steps to explore your data. You are welcome to do more EDA than the steps outlined here as you feel necessary:\n",
    "1. Summary Statistics.\n",
    "2. Use a **dictionary comprehension** to apply the standard deviation function you create in part 1 to each numeric column in the dataframe.  **No loops**.\n",
    "    - Assign the output to variable `sd` as a dictionary where: \n",
    "        - Each column name is now a key \n",
    "        - That standard deviation of the column is the value \n",
    "        - *Example Output :* `{'ACT_Math': 120, 'ACT_Reading': 120, ...}`\n",
    "3. Investigate trends in the data.\n",
    "    - Using sorting and/or masking (along with the `.head()` method to avoid printing our entire dataframe), consider questions relevant to your problem statement. Some examples are provided below (but feel free to change these questions for your specific problem):\n",
    "        - Which states have the highest and lowest participation rates for the 2017, 2019, or 2019 SAT and ACT?\n",
    "        - Which states have the highest and lowest mean total/composite scores for the 2017, 2019, or 2019 SAT and ACT?\n",
    "        - Do any states with 100% participation on a given test have a rate change year-to-year?\n",
    "        - Do any states show have >50% participation on *both* tests each year?\n",
    "        - Which colleges have the highest median SAT and ACT scores for admittance?\n",
    "        - Which California school districts have the highest and lowest mean test scores?\n",
    "    - **You should comment on your findings at each step in a markdown cell below your code block**. Make sure you include at least one example of sorting your dataframe by a column, and one example of using boolean filtering (i.e., masking) to select a subset of the dataframe."
   ]
  },
  {
   "cell_type": "code",
   "execution_count": 402,
   "metadata": {},
   "outputs": [],
   "source": [
    "#Code:"
   ]
  },
  {
   "cell_type": "markdown",
   "metadata": {},
   "source": [
    "**To-Do:** *Edit this cell with your findings on trends in the data (step 3 above).*"
   ]
  },
  {
   "cell_type": "markdown",
   "metadata": {},
   "source": [
    "## Visualize the Data\n",
    "\n",
    "There's not a magic bullet recommendation for the right number of plots to understand a given dataset, but visualizing your data is *always* a good idea. Not only does it allow you to quickly convey your findings (even if you have a non-technical audience), it will often reveal trends in your data that escaped you when you were looking only at numbers. It is important to not only create visualizations, but to **interpret your visualizations** as well.\n",
    "\n",
    "**Every plot should**:\n",
    "- Have a title\n",
    "- Have axis labels\n",
    "- Have appropriate tick labels\n",
    "- Text is legible in a plot\n",
    "- Plots demonstrate meaningful and valid relationships\n",
    "- Have an interpretation to aid understanding\n",
    "\n",
    "Here is an example of what your plots should look like following the above guidelines. Note that while the content of this example is unrelated, the principles of visualization hold:\n",
    "\n",
    "![](https://snag.gy/hCBR1U.jpg)\n",
    "*Interpretation: The above image shows that as we increase our spending on advertising, our sales numbers also tend to increase. There is a positive correlation between advertising spending and sales.*\n",
    "\n",
    "---\n",
    "\n",
    "Here are some prompts to get you started with visualizations. Feel free to add additional visualizations as you see fit:\n",
    "1. Use Seaborn's heatmap with pandas `.corr()` to visualize correlations between all numeric features.\n",
    "    - Heatmaps are generally not appropriate for presentations, and should often be excluded from reports as they can be visually overwhelming. **However**, they can be extremely useful in identify relationships of potential interest (as well as identifying potential collinearity before modeling).\n",
    "    - Please take time to format your output, adding a title. Look through some of the additional arguments and options. (Axis labels aren't really necessary, as long as the title is informative).\n",
    "2. Visualize distributions using histograms. If you have a lot, consider writing a custom function and use subplots.\n",
    "    - *OPTIONAL*: Summarize the underlying distributions of your features (in words & statistics)\n",
    "         - Be thorough in your verbal description of these distributions.\n",
    "         - Be sure to back up these summaries with statistics.\n",
    "         - We generally assume that data we sample from a population will be normally distributed. Do we observe this trend? Explain your answers for each distribution and how you think this will affect estimates made from these data.\n",
    "3. Plot and interpret boxplots. \n",
    "    - Boxplots demonstrate central tendency and spread in variables. In a certain sense, these are somewhat redundant with histograms, but you may be better able to identify clear outliers or differences in IQR, etc.\n",
    "    - Multiple values can be plotted to a single boxplot as long as they are of the same relative scale (meaning they have similar min/max values).\n",
    "    - Each boxplot should:\n",
    "        - Only include variables of a similar scale\n",
    "        - Have clear labels for each variable\n",
    "        - Have appropriate titles and labels\n",
    "4. Plot and interpret scatter plots to view relationships between features. Feel free to write a custom function, and subplot if you'd like. Functions save both time and space.\n",
    "    - Your plots should have:\n",
    "        - Two clearly labeled axes\n",
    "        - A proper title\n",
    "        - Colors and symbols that are clear and unmistakable\n",
    "5. Additional plots of your choosing.\n",
    "    - Are there any additional trends or relationships you haven't explored? Was there something interesting you saw that you'd like to dive further into? It's likely that there are a few more plots you might want to generate to support your narrative and recommendations that you are building toward. **As always, make sure you're interpreting your plots as you go**."
   ]
  },
  {
   "cell_type": "code",
   "execution_count": 493,
   "outputs": [],
   "source": [
    "# San Marcos Unified is missing 900 teachers!\n",
    "final_merged_df.drop(index=308, inplace=True)"
   ],
   "metadata": {
    "collapsed": false
   }
  },
  {
   "cell_type": "code",
   "execution_count": 506,
   "metadata": {},
   "outputs": [
    {
     "data": {
      "application/vnd.plotly.v1+json": {
       "data": [
        {
         "hovertemplate": "pct_both_over_benchmark=%{x}<br>student_teacher_ratio=%{y}<br>avg_tchr_edu_lvl=%{marker.color}<extra></extra>",
         "legendgroup": "",
         "marker": {
          "color": [
           5.763992537313433,
           5.497109826589595,
           4.3913352272727275,
           4.706997084548105,
           4.780701754385965,
           6.177966101694915,
           4.653225806451613,
           6.862595419847328,
           4.569105691056911,
           5.301410541945063,
           4.44,
           4.093023255813954,
           5.2113271344040575,
           4.2930845225027445,
           4.5557029177718835,
           6.693069306930693,
           4.654929577464789,
           6.763052208835341,
           5.459915611814346,
           4.715355805243446,
           5.065625,
           5.6767676767676765,
           5.190839694656488,
           5.36443661971831,
           5.62012987012987,
           4.984615384615385,
           4.854755784061696,
           6.377104377104377,
           3.740740740740741,
           4.695652173913044,
           4.0,
           3.5454545454545454,
           3.7948717948717947,
           4.852173913043479,
           3.78125,
           6.576146788990826,
           4.744827586206896,
           3.5,
           5.267326732673268,
           5.666666666666667,
           4.717391304347826,
           4.855569155446757,
           4.391304347826087,
           4.595375722543353,
           4.019108280254777,
           5.0615711252653925,
           4.25,
           4.296875,
           5.282110091743119,
           5.572741806554756,
           6.981574539363484,
           5.158730158730159,
           5.503496503496503,
           4.954022988505747,
           5.183752417794971,
           4.681481481481481,
           5.843267108167771,
           4.048206278026906,
           4.785087719298246,
           3.609988109393579,
           5.058617672790901,
           6.3694779116465865,
           4.220779220779221,
           4.25,
           3.743050847457627,
           4.80327868852459,
           5.888888888888889,
           4.553191489361702,
           4.14987298899238,
           5.782010582010582,
           3.625,
           4.520833333333333,
           5.072050673000792,
           3.8941176470588235,
           4.555473916238061,
           6.0091093117408905,
           3.5473684210526315,
           3.0517241379310347,
           6.5064935064935066,
           5.838888888888889,
           4.498666666666667,
           6.461194029850747,
           5.816582914572864,
           4.775933609958506,
           4.821167883211679,
           4.762152777777778,
           5.5,
           3.5063291139240507,
           4.3852813852813854,
           3.8865248226950353,
           5.667580534612749,
           4.375,
           4.018264840182648,
           4.503703703703704,
           4.755226480836237,
           5.897163120567376,
           4.80030959752322,
           3.5,
           4.136363636363637,
           4.2,
           5.009097270818755,
           4.6,
           4.6023054755043225,
           6.047131147540983,
           5.765591397849462,
           6.354497354497354,
           3.871794871794872,
           3.7576013513513513,
           4.314814814814815,
           4.0426829268292686,
           5.64221824686941,
           4.622641509433962,
           3.8741721854304636,
           4.062226117440841,
           4.063291139240507,
           4.7190082644628095,
           4.417218543046357,
           3.1463414634146343,
           4.808219178082192,
           3.4671052631578947,
           4.685045948203843,
           5.6100782778864975,
           4.204379562043796,
           3.6,
           3.6769230769230767,
           4.139072847682119,
           4.607681088964512,
           5.675126903553299,
           4.279305036287663,
           6.2,
           4.6434108527131785,
           3.0207231040564375,
           4.379518072289157,
           4.363636363636363,
           4.413223140495868,
           6.1782407407407405,
           5.40979381443299,
           3.2346938775510203,
           3.6194690265486726,
           4.985294117647059,
           3.231578947368421,
           5.294657762938231,
           3.3564356435643563,
           3.875,
           4.175,
           4.5424739195231,
           4.56701030927835,
           6.020064205457464,
           4.989583333333333,
           3.8698630136986303,
           4.314814814814815,
           3.618181818181818,
           6.276081424936387,
           5.033492822966507,
           5.59009009009009,
           5.872706422018348,
           4.853146853146853,
           4.034883720930233,
           4.454545454545454,
           7.272638753651412,
           3.779816513761468,
           3.660377358490566,
           5.399808703969392,
           3.836693548387097,
           3.681159420289855,
           3.9404761904761907,
           3.9585492227979273,
           6.06140350877193,
           5.129032258064516,
           6.858695652173913,
           6.0427715996578275,
           4.1,
           3.758241758241758,
           3.957095709570957,
           7.401273885350318,
           4.976744186046512,
           3.3454545454545452,
           4.0,
           4.03030303030303,
           3.230769230769231,
           4.317073170731708,
           4.695754716981132,
           4.426691729323308,
           4.308943089430894,
           4.093877551020408,
           4.225225225225225,
           5.057324840764331,
           4.521598272138229,
           5.085427135678392,
           5.333333333333333,
           5.750393700787401,
           6.46218487394958,
           4.633090352538328,
           3.5375,
           6.14975845410628,
           3.6315789473684212,
           4.307894736842106,
           3.9363636363636365,
           5.6803977272727275,
           4.295150501672241,
           4.6521739130434785,
           6.894021739130435,
           4.288683602771362,
           4.518256772673734,
           3.976923076923077,
           4.716599190283401,
           2.984189723320158,
           2.6,
           4.285714285714286,
           4.372549019607843,
           3.443243243243243,
           3.8919860627177703,
           4.276666666666666,
           5.310408921933085,
           3.9245283018867925,
           4.228758169934641,
           5.401315789473684,
           4.783719074221867,
           3.8693009118541033,
           5.0700280112044815,
           5.778272980501392,
           4.747844827586207,
           4.511156186612576,
           5.0125,
           3.9,
           6.717314487632509,
           4.271305285868393,
           4.196261682242991,
           5.390893470790378,
           4.737383177570093,
           4.31216361679225,
           6.087719298245614,
           4.31413612565445,
           3.8967741935483873,
           4.175572519083969,
           3.802139037433155,
           6.247278382581649,
           3.4427480916030535,
           4.449612403100775,
           5.743027888446215,
           4.830472103004292,
           5.4025423728813555,
           3.8065693430656933,
           3.082939048149179,
           5.268984446477584,
           5.417218543046357,
           5.501766784452297,
           3.806201550387597,
           3.656,
           5.0,
           4.855039637599094,
           5.583333333333333,
           3.2130777903043968,
           6.058148431522571,
           5.930327868852459,
           5.086705202312139,
           6.805280528052806,
           3.8634538152610443,
           6.205649717514124,
           5.171717171717172,
           5.116910229645094,
           4.425196850393701,
           3.945945945945946,
           5.53411306042885,
           5.674311926605505,
           3.4444444444444446,
           4.869760479041916,
           5.349320543565148,
           4.6255506607929515,
           4.414035087719299,
           3.6923076923076925,
           4.372847011144883,
           4.13550135501355,
           3.55,
           5.69905462184874,
           2.3076923076923075,
           5.22027972027972,
           4.346534653465347,
           4.7434554973821985,
           5.678776290630975,
           3.357142857142857,
           5.5380597014925375,
           4.230232558139535,
           3.9708029197080292,
           3.8011049723756907,
           4.479166666666667,
           5.583599088838269,
           4.783042394014963,
           6.092896174863388,
           2.972972972972973,
           5.623152709359606,
           3.5602455871066767,
           4.453883495145631,
           5.89622641509434,
           5.264434180138569,
           5.414285714285715,
           4.214172227518271,
           5.741881443298969,
           6.103343465045593,
           2.4391066160977664,
           4.983516483516484,
           5.688693098384729,
           4.253448275862069,
           4.557512953367875,
           5.01980198019802,
           3.957055214723926,
           4.914754098360656,
           4.59275053304904,
           6.13903743315508,
           5.763333333333334,
           3.857142857142857,
           4.863636363636363,
           5.204799107142857,
           4.386271870794078,
           5.645645645645645,
           5.321029082774049,
           4.788418708240535,
           4.424170616113744,
           5.404129793510324,
           4.96,
           5.163636363636364,
           3.74,
           5.617647058823529,
           5.076923076923077,
           5.28134110787172,
           4.28,
           4.5495207667731625,
           4.303630363036303,
           4.329411764705882,
           3.774193548387097,
           4.104477611940299,
           4.349384098544233,
           4.239130434782608,
           6.205555555555556,
           4.898550724637682,
           4.115942028985507,
           4.5,
           4.532786885245901,
           6.176706827309237,
           4.302734375,
           3.422222222222222,
           3.699074074074074,
           3.0833333333333335,
           4.543509965969859,
           3.75,
           3.463768115942029,
           4.3,
           3.763157894736842,
           5.328223624887285,
           5.472222222222222,
           4.762987012987013,
           5.073654390934844,
           3.8009049773755654,
           6.16258064516129,
           5.551839464882943,
           4.6015625,
           5.389521640091116,
           4.49877750611247,
           4.872549019607843,
           4.711538461538462,
           3.9672544080604535,
           5.268456375838926,
           4.392857142857143,
           4.434058898847631,
           5.925699300699301,
           4.174746936600959,
           3.925581395348837,
           5.485165794066318,
           4.188679245283019,
           3.5685019206145965,
           6.2536873156342185,
           4.4013793103448275,
           4.464454976303317,
           5.312831389183457,
           4.351145038167939,
           4.460688758934373,
           5.711648631444939,
           5.827027027027027,
           5.258503401360544,
           4.337078651685394,
           3.6889580093312597,
           3.6889580093312597,
           3.7191489361702126,
           3.9733481399222654,
           5.211538461538462,
           4.184873949579832,
           4.330783938814531,
           4.181818181818182,
           4.425,
           5.380106571936057,
           4.708364174685419,
           4.341772151898734,
           3.8615384615384616,
           4.061728395061729,
           3.9938650306748467,
           4.548387096774194,
           5.354014598540146,
           3.630630630630631,
           4.201907790143085,
           4.364406779661017,
           4.511627906976744,
           4.460093896713615,
           5.632798573975045
          ],
          "coloraxis": "coloraxis",
          "symbol": "circle"
         },
         "mode": "markers",
         "name": "",
         "orientation": "v",
         "showlegend": false,
         "x": [
          70.204,
          93.44,
          47.599999999999994,
          64.33,
          95.92,
          73.9675,
          null,
          18.81,
          85.565,
          59.141999999999996,
          54.32,
          null,
          18.058461538461536,
          54.3825,
          41.239999999999995,
          93.9,
          70.55000000000001,
          17.3775,
          44.0125,
          41.27,
          58.49,
          36.84,
          77.78,
          28.265,
          64.45,
          84.51,
          78.6,
          72.97,
          null,
          null,
          null,
          null,
          null,
          58.82,
          null,
          58.29666666666666,
          70.37,
          null,
          39.26,
          88.03,
          82.86,
          88.91333333333334,
          null,
          78.57,
          57.75,
          56.55,
          null,
          9.68,
          80.29166666666667,
          82.34625,
          83.86,
          96.7,
          71.43,
          20.9,
          83.71,
          76.265,
          24.085,
          29.71,
          55.24,
          36.82,
          56.88333333333333,
          69.3,
          39.14333333333334,
          86.38499999999999,
          33.589999999999996,
          41.54,
          83.12,
          56.52,
          71.15333333333334,
          32.4125,
          35.94,
          null,
          33.385,
          63.16,
          16.19333333333333,
          86.57,
          13.89,
          null,
          65.38428571428571,
          91.62,
          67.83,
          22.66,
          70.9,
          15.04,
          null,
          87.81,
          null,
          56.06,
          40.0525,
          22.03,
          18.81375,
          47.59,
          70.37,
          63.33,
          29.91,
          48.8525,
          92.17,
          null,
          71.43,
          40.54,
          32.55136363636364,
          null,
          86.412,
          50.26,
          33.53666666666667,
          86.71,
          null,
          64.96799999999999,
          26.42,
          74.51,
          58.464285714285715,
          61.11,
          53.265,
          67.03999999999999,
          61.11,
          64.81,
          8.33,
          null,
          20.54,
          18.87,
          85.5675,
          16.91,
          58.97,
          null,
          56.41,
          27.66,
          91.93666666666667,
          93.20833333333333,
          26.66769230769231,
          74.64571428571428,
          59.21666666666667,
          60.09375,
          80.0,
          null,
          70.1525,
          81.798,
          90.14,
          0.96,
          71.88,
          12.9,
          42.55,
          67.59384615384616,
          32.86,
          29.17,
          53.7525,
          44.40833333333333,
          58.59,
          50.08,
          48.216,
          48.48,
          42.86,
          54.17,
          78.02571428571427,
          68.33,
          19.912,
          95.53166666666668,
          77.34166666666665,
          61.67,
          null,
          34.0875,
          33.33,
          26.62,
          53.150555555555556,
          31.237499999999997,
          69.09,
          null,
          36.230000000000004,
          97.75,
          76.47,
          90.32,
          55.489999999999995,
          77.14,
          null,
          74.68,
          84.90666666666668,
          71.43,
          null,
          null,
          26.15,
          null,
          58.663333333333334,
          67.6,
          79.76,
          37.5,
          21.88,
          41.91,
          87.39666666666666,
          73.58571428571429,
          28.7,
          null,
          31.275333333333332,
          80.61500000000001,
          20.65160975609756,
          48.586666666666666,
          95.98,
          null,
          62.5,
          61.635000000000005,
          9.23,
          12.775,
          76.47,
          96.92,
          57.32833333333334,
          null,
          87.18,
          80.005,
          55.88333333333333,
          null,
          null,
          null,
          27.63,
          42.36571428571428,
          49.739999999999995,
          86.655,
          null,
          47.06,
          66.02,
          42.291999999999994,
          44.055,
          85.565,
          33.334,
          75.33,
          60.446666666666665,
          37.74,
          null,
          87.87,
          63.14000000000001,
          76.33,
          65.3275,
          49.056,
          32.309999999999995,
          null,
          88.905,
          72.66499999999999,
          71.07,
          23.53,
          70.93833333333333,
          35.29,
          71.51,
          18.214,
          76.28666666666668,
          93.805,
          70.0,
          33.53130434782609,
          64.045,
          84.0,
          77.628,
          50.0,
          71.01666666666667,
          null,
          24.967000000000002,
          93.59,
          45.256,
          38.642,
          96.62666666666667,
          33.93,
          90.61333333333334,
          74.595,
          10.666666666666666,
          18.18,
          51.068,
          73.61,
          31.94,
          41.872,
          98.96000000000001,
          44.74,
          38.855000000000004,
          85.868,
          84.1525,
          93.40666666666668,
          56.207499999999996,
          33.9075,
          46.146,
          null,
          91.505,
          null,
          82.04333333333334,
          68.57,
          44.94333333333333,
          90.67,
          27.12,
          20.2425,
          73.64,
          28.213333333333335,
          26.92,
          41.3,
          62.285,
          88.3375,
          78.06666666666666,
          null,
          66.41666666666667,
          27.912,
          82.482,
          67.35,
          47.906,
          60.23,
          19.56222222222222,
          50.415757575757574,
          91.772,
          56.02125,
          63.96333333333333,
          18.11,
          33.968,
          57.9725,
          26.64,
          65.73,
          71.45,
          84.81333333333333,
          96.34,
          81.58,
          5.88,
          72.38,
          92.30799999999999,
          54.555,
          47.519,
          79.8,
          51.815,
          50.075,
          83.73333333333333,
          49.14,
          75.0,
          72.73,
          86.84,
          39.52,
          60.66,
          null,
          84.752,
          81.63,
          60.87,
          null,
          null,
          83.1225,
          62.125,
          65.25,
          23.46,
          54.47,
          71.43,
          31.383333333333336,
          93.96,
          72.71333333333332,
          null,
          null,
          null,
          45.64545454545455,
          null,
          62.5,
          null,
          69.77,
          55.65846153846154,
          35.42,
          76.3,
          87.724,
          87.76,
          73.44800000000001,
          87.88,
          83.095,
          82.208,
          71.992,
          71.53,
          62.07,
          null,
          49.8475,
          null,
          65.42999999999999,
          70.6,
          41.830000000000005,
          65.20333333333333,
          68.44,
          null,
          71.495,
          17.0025,
          41.915,
          66.67,
          70.72,
          22.737142857142857,
          65.474,
          69.622,
          92.33,
          null,
          55.17,
          39.792500000000004,
          39.792500000000004,
          68.44,
          51.66111111111111,
          62.3675,
          75.54,
          71.70500000000001,
          null,
          57.14,
          56.60666666666666,
          76.53222222222222,
          31.25,
          35.415,
          50.0,
          64.05,
          56.0,
          43.3975,
          37.5,
          47.19,
          78.5,
          62.5,
          63.346666666666664,
          66.75
         ],
         "xaxis": "x",
         "y": [
          20.171641791044777,
          16.771676300578033,
          20.375,
          17.259475218658892,
          16.785087719298247,
          18.551906779661017,
          4.229838709677419,
          19.612595419847327,
          17.849593495934958,
          24.010393466963624,
          20.7,
          12.069767441860465,
          22.25359256128487,
          21.434687156970362,
          21.909814323607428,
          19.34059405940594,
          17.901408450704224,
          17.843373493975903,
          26.41350210970464,
          20.228464419475657,
          23.903125,
          18.97979797979798,
          20.50381679389313,
          20.934859154929576,
          20.766233766233768,
          18.73076923076923,
          13.673521850899743,
          13.346801346801346,
          12.666666666666666,
          6.6521739130434785,
          12.583333333333334,
          13.272727272727273,
          17.94871794871795,
          18.669565217391305,
          21.171875,
          19.785321100917432,
          18.324137931034482,
          30.211267605633804,
          21.217821782178216,
          20.54785478547855,
          15.717391304347826,
          19.553243574051407,
          14.26086956521739,
          18.84393063583815,
          20.070063694267517,
          21.014861995753716,
          17.041666666666668,
          14.015625,
          20.337155963302752,
          22.749000799360513,
          19.798994974874372,
          13.645502645502646,
          16.083916083916083,
          18.74712643678161,
          18.72340425531915,
          17.251851851851853,
          24.781456953642383,
          19.56390134529148,
          19.82456140350877,
          19.595719381688465,
          22.77777777777778,
          20.16867469879518,
          19.441558441558442,
          17.754329004329005,
          20.669830508474575,
          19.37704918032787,
          19.08730158730159,
          15.861702127659575,
          19.580016934801016,
          20.612698412698414,
          19.1015625,
          12.416666666666666,
          19.463974663499606,
          19.094117647058823,
          19.014695077149156,
          19.504048582995953,
          18.826315789473686,
          19.93103448275862,
          21.731856378915204,
          17.97222222222222,
          17.144,
          18.780597014925373,
          18.402010050251256,
          18.456431535269708,
          0.7737226277372263,
          15.703125,
          4.0,
          18.223628691983123,
          19.48917748917749,
          19.73049645390071,
          21.01987662782728,
          19.00531914893617,
          17.579908675799086,
          19.762962962962963,
          20.331881533101047,
          25.43262411347518,
          19.648606811145513,
          6.9,
          17.0,
          15.6,
          20.660601819454165,
          10.8,
          20.45821325648415,
          19.047131147540984,
          19.59784946236559,
          18.650793650793652,
          20.846153846153847,
          19.476914414414413,
          14.444444444444445,
          19.658536585365855,
          18.409660107334528,
          19.849056603773583,
          20.158940397350992,
          20.315512708150745,
          17.341772151898734,
          19.826446280991735,
          17.99337748344371,
          12.365853658536585,
          18.383561643835616,
          15.55921052631579,
          18.60484544695071,
          19.498043052837573,
          14.781021897810218,
          18.1,
          18.53846153846154,
          18.33112582781457,
          18.423918327661642,
          19.179357021996616,
          18.242137673191117,
          23.976377952755904,
          18.2015503875969,
          19.604056437389772,
          17.626506024096386,
          11.545454545454545,
          20.94214876033058,
          20.790895061728396,
          19.216494845360824,
          18.551020408163264,
          20.920353982300885,
          18.433823529411764,
          24.2,
          19.04924874791319,
          19.871287128712872,
          15.604166666666666,
          21.07,
          17.956035767511178,
          15.618556701030927,
          20.42375601926164,
          22.52724358974359,
          17.054794520547944,
          15.537037037037036,
          19.78181818181818,
          21.43765903307888,
          21.354066985645932,
          19.42792792792793,
          21.481077981651374,
          17.737762237762237,
          18.151162790697676,
          10.090909090909092,
          20.630963972736126,
          17.458715596330276,
          21.041509433962265,
          21.18077474892396,
          21.856854838709676,
          18.73913043478261,
          13.821428571428571,
          21.559585492227978,
          18.364035087719298,
          10.741935483870968,
          15.923913043478262,
          20.522668947818648,
          16.3,
          18.12087912087912,
          19.26732673267327,
          18.256369426751593,
          20.232558139534884,
          13.036363636363637,
          10.941176470588236,
          16.606060606060606,
          10.076923076923077,
          19.983739837398375,
          20.889150943396228,
          18.958646616541355,
          20.227642276422763,
          18.069387755102042,
          18.46846846846847,
          18.053503184713374,
          18.59233261339093,
          18.306532663316585,
          18.555555555555557,
          20.77690288713911,
          21.191176470588236,
          17.00830112324574,
          21.62857142857143,
          17.265700483091788,
          17.5,
          20.239473684210527,
          16.48030303030303,
          20.97159090909091,
          18.967391304347824,
          18.869565217391305,
          18.307065217391305,
          20.193225558121632,
          11.005889281507656,
          16.03076923076923,
          17.829959514170042,
          22.535573122529645,
          5.2,
          17.428571428571427,
          11.705882352941176,
          20.524324324324326,
          20.186411149825783,
          6.446666666666666,
          20.022304832713754,
          17.849056603773583,
          21.66013071895425,
          18.907894736842106,
          21.660814046288905,
          17.706686930091184,
          19.708683473389357,
          20.45292479108635,
          20.58189655172414,
          19.64503042596349,
          18.58125,
          14.75,
          16.197879858657245,
          18.03074433656958,
          18.710280373831775,
          21.280927835051546,
          17.466355140186916,
          17.95263724434876,
          20.912280701754387,
          16.42931937172775,
          19.10967741935484,
          23.358778625954198,
          18.572192513368982,
          16.84447900466563,
          19.0,
          14.86046511627907,
          18.47808764940239,
          17.42489270386266,
          20.093220338983052,
          21.12773722627737,
          15.322571667130532,
          19.751143641354073,
          17.211920529801326,
          20.514487632508835,
          18.868217054263567,
          19.68,
          10.333333333333334,
          21.65118912797282,
          14.92361111111111,
          24.1217587373168,
          19.08875286916603,
          12.76639344262295,
          24.248554913294797,
          19.06930693069307,
          19.859437751004016,
          17.964971751412428,
          19.075757575757574,
          20.195198329853863,
          19.637795275590552,
          20.27927927927928,
          24.115009746588694,
          12.146788990825687,
          18.97530864197531,
          18.860778443113773,
          21.270183852917665,
          18.634361233480178,
          18.418713450292397,
          14.349112426035504,
          13.05724417426545,
          21.25067750677507,
          14.3,
          19.761554621848738,
          12.0,
          20.604895104895103,
          18.346534653465348,
          20.19371727748691,
          19.762906309751433,
          20.428571428571427,
          20.670149253731342,
          12.330232558139535,
          18.598540145985403,
          18.093922651933703,
          17.416666666666668,
          20.876993166287015,
          18.574812967581046,
          20.10928961748634,
          14.891891891891891,
          18.78448275862069,
          20.174597083653108,
          22.68042071197411,
          12.245283018867925,
          19.775981524249424,
          23.514285714285716,
          20.033682872577057,
          17.943298969072163,
          20.5790273556231,
          16.185630004214076,
          21.35164835164835,
          19.375917767988252,
          19.086206896551722,
          20.038687392055266,
          18.750495049504952,
          18.349693251533743,
          18.39344262295082,
          17.37953091684435,
          16.363636363636363,
          16.68,
          14.0,
          18.162337662337663,
          18.482700892857142,
          17.841184387617766,
          20.442942942942942,
          17.338926174496645,
          18.399777282850778,
          21.028436018957347,
          16.14306784660767,
          17.07076923076923,
          17.6,
          15.26,
          18.205882352941178,
          17.181141439205955,
          15.670553935860058,
          12.8,
          20.24600638977636,
          18.382838283828384,
          16.470588235294116,
          14.225806451612904,
          19.208955223880597,
          19.573348264277715,
          13.23913043478261,
          23.769444444444446,
          18.971014492753625,
          16.380434782608695,
          22.166666666666668,
          21.901639344262296,
          20.164658634538153,
          17.4375,
          18.733333333333334,
          18.935185185185187,
          7.333333333333333,
          22.711229946524064,
          7.666666666666667,
          17.347826086956523,
          12.3,
          21.5,
          19.99233543733093,
          15.458333333333334,
          14.064935064935066,
          14.855524079320114,
          21.09502262443439,
          20.441290322580645,
          19.608695652173914,
          19.90625,
          18.433561123766136,
          21.213936430317847,
          19.477124183006534,
          15.51923076923077,
          0.8463476070528967,
          20.684563758389263,
          14.821428571428571,
          20.46222791293214,
          21.757867132867133,
          20.619072988811933,
          16.57674418604651,
          19.851657940663177,
          17.433962264150942,
          18.270166453265045,
          21.91740412979351,
          21.95310344827586,
          20.592417061611375,
          18.311770943796393,
          27.83206106870229,
          20.717998700454842,
          17.479312539783578,
          19.37837837837838,
          11.931972789115646,
          23.10112359550562,
          19.258164852255053,
          19.258164852255053,
          16.782978723404256,
          19.338145474736258,
          15.62246963562753,
          17.33613445378151,
          20.007648183556405,
          19.636363636363637,
          21.8,
          22.410301953818827,
          23.63138415988157,
          17.911392405063292,
          16.276923076923076,
          19.62962962962963,
          16.588957055214724,
          17.623655913978496,
          16.843065693430656,
          20.414414414414413,
          16.875993640699523,
          19.652542372881356,
          16.53488372093023,
          17.16549295774648,
          19.39572192513369
         ],
         "yaxis": "y",
         "type": "scatter"
        }
       ],
       "layout": {
        "template": {
         "data": {
          "histogram2dcontour": [
           {
            "type": "histogram2dcontour",
            "colorbar": {
             "outlinewidth": 0,
             "ticks": ""
            },
            "colorscale": [
             [
              0.0,
              "#0d0887"
             ],
             [
              0.1111111111111111,
              "#46039f"
             ],
             [
              0.2222222222222222,
              "#7201a8"
             ],
             [
              0.3333333333333333,
              "#9c179e"
             ],
             [
              0.4444444444444444,
              "#bd3786"
             ],
             [
              0.5555555555555556,
              "#d8576b"
             ],
             [
              0.6666666666666666,
              "#ed7953"
             ],
             [
              0.7777777777777778,
              "#fb9f3a"
             ],
             [
              0.8888888888888888,
              "#fdca26"
             ],
             [
              1.0,
              "#f0f921"
             ]
            ]
           }
          ],
          "choropleth": [
           {
            "type": "choropleth",
            "colorbar": {
             "outlinewidth": 0,
             "ticks": ""
            }
           }
          ],
          "histogram2d": [
           {
            "type": "histogram2d",
            "colorbar": {
             "outlinewidth": 0,
             "ticks": ""
            },
            "colorscale": [
             [
              0.0,
              "#0d0887"
             ],
             [
              0.1111111111111111,
              "#46039f"
             ],
             [
              0.2222222222222222,
              "#7201a8"
             ],
             [
              0.3333333333333333,
              "#9c179e"
             ],
             [
              0.4444444444444444,
              "#bd3786"
             ],
             [
              0.5555555555555556,
              "#d8576b"
             ],
             [
              0.6666666666666666,
              "#ed7953"
             ],
             [
              0.7777777777777778,
              "#fb9f3a"
             ],
             [
              0.8888888888888888,
              "#fdca26"
             ],
             [
              1.0,
              "#f0f921"
             ]
            ]
           }
          ],
          "heatmap": [
           {
            "type": "heatmap",
            "colorbar": {
             "outlinewidth": 0,
             "ticks": ""
            },
            "colorscale": [
             [
              0.0,
              "#0d0887"
             ],
             [
              0.1111111111111111,
              "#46039f"
             ],
             [
              0.2222222222222222,
              "#7201a8"
             ],
             [
              0.3333333333333333,
              "#9c179e"
             ],
             [
              0.4444444444444444,
              "#bd3786"
             ],
             [
              0.5555555555555556,
              "#d8576b"
             ],
             [
              0.6666666666666666,
              "#ed7953"
             ],
             [
              0.7777777777777778,
              "#fb9f3a"
             ],
             [
              0.8888888888888888,
              "#fdca26"
             ],
             [
              1.0,
              "#f0f921"
             ]
            ]
           }
          ],
          "heatmapgl": [
           {
            "type": "heatmapgl",
            "colorbar": {
             "outlinewidth": 0,
             "ticks": ""
            },
            "colorscale": [
             [
              0.0,
              "#0d0887"
             ],
             [
              0.1111111111111111,
              "#46039f"
             ],
             [
              0.2222222222222222,
              "#7201a8"
             ],
             [
              0.3333333333333333,
              "#9c179e"
             ],
             [
              0.4444444444444444,
              "#bd3786"
             ],
             [
              0.5555555555555556,
              "#d8576b"
             ],
             [
              0.6666666666666666,
              "#ed7953"
             ],
             [
              0.7777777777777778,
              "#fb9f3a"
             ],
             [
              0.8888888888888888,
              "#fdca26"
             ],
             [
              1.0,
              "#f0f921"
             ]
            ]
           }
          ],
          "contourcarpet": [
           {
            "type": "contourcarpet",
            "colorbar": {
             "outlinewidth": 0,
             "ticks": ""
            }
           }
          ],
          "contour": [
           {
            "type": "contour",
            "colorbar": {
             "outlinewidth": 0,
             "ticks": ""
            },
            "colorscale": [
             [
              0.0,
              "#0d0887"
             ],
             [
              0.1111111111111111,
              "#46039f"
             ],
             [
              0.2222222222222222,
              "#7201a8"
             ],
             [
              0.3333333333333333,
              "#9c179e"
             ],
             [
              0.4444444444444444,
              "#bd3786"
             ],
             [
              0.5555555555555556,
              "#d8576b"
             ],
             [
              0.6666666666666666,
              "#ed7953"
             ],
             [
              0.7777777777777778,
              "#fb9f3a"
             ],
             [
              0.8888888888888888,
              "#fdca26"
             ],
             [
              1.0,
              "#f0f921"
             ]
            ]
           }
          ],
          "surface": [
           {
            "type": "surface",
            "colorbar": {
             "outlinewidth": 0,
             "ticks": ""
            },
            "colorscale": [
             [
              0.0,
              "#0d0887"
             ],
             [
              0.1111111111111111,
              "#46039f"
             ],
             [
              0.2222222222222222,
              "#7201a8"
             ],
             [
              0.3333333333333333,
              "#9c179e"
             ],
             [
              0.4444444444444444,
              "#bd3786"
             ],
             [
              0.5555555555555556,
              "#d8576b"
             ],
             [
              0.6666666666666666,
              "#ed7953"
             ],
             [
              0.7777777777777778,
              "#fb9f3a"
             ],
             [
              0.8888888888888888,
              "#fdca26"
             ],
             [
              1.0,
              "#f0f921"
             ]
            ]
           }
          ],
          "mesh3d": [
           {
            "type": "mesh3d",
            "colorbar": {
             "outlinewidth": 0,
             "ticks": ""
            }
           }
          ],
          "scatter": [
           {
            "marker": {
             "line": {
              "color": "#283442"
             }
            },
            "type": "scatter"
           }
          ],
          "parcoords": [
           {
            "type": "parcoords",
            "line": {
             "colorbar": {
              "outlinewidth": 0,
              "ticks": ""
             }
            }
           }
          ],
          "scatterpolargl": [
           {
            "type": "scatterpolargl",
            "marker": {
             "colorbar": {
              "outlinewidth": 0,
              "ticks": ""
             }
            }
           }
          ],
          "bar": [
           {
            "error_x": {
             "color": "#f2f5fa"
            },
            "error_y": {
             "color": "#f2f5fa"
            },
            "marker": {
             "line": {
              "color": "rgb(17,17,17)",
              "width": 0.5
             },
             "pattern": {
              "fillmode": "overlay",
              "size": 10,
              "solidity": 0.2
             }
            },
            "type": "bar"
           }
          ],
          "scattergeo": [
           {
            "type": "scattergeo",
            "marker": {
             "colorbar": {
              "outlinewidth": 0,
              "ticks": ""
             }
            }
           }
          ],
          "scatterpolar": [
           {
            "type": "scatterpolar",
            "marker": {
             "colorbar": {
              "outlinewidth": 0,
              "ticks": ""
             }
            }
           }
          ],
          "histogram": [
           {
            "marker": {
             "pattern": {
              "fillmode": "overlay",
              "size": 10,
              "solidity": 0.2
             }
            },
            "type": "histogram"
           }
          ],
          "scattergl": [
           {
            "marker": {
             "line": {
              "color": "#283442"
             }
            },
            "type": "scattergl"
           }
          ],
          "scatter3d": [
           {
            "type": "scatter3d",
            "line": {
             "colorbar": {
              "outlinewidth": 0,
              "ticks": ""
             }
            },
            "marker": {
             "colorbar": {
              "outlinewidth": 0,
              "ticks": ""
             }
            }
           }
          ],
          "scattermapbox": [
           {
            "type": "scattermapbox",
            "marker": {
             "colorbar": {
              "outlinewidth": 0,
              "ticks": ""
             }
            }
           }
          ],
          "scatterternary": [
           {
            "type": "scatterternary",
            "marker": {
             "colorbar": {
              "outlinewidth": 0,
              "ticks": ""
             }
            }
           }
          ],
          "scattercarpet": [
           {
            "type": "scattercarpet",
            "marker": {
             "colorbar": {
              "outlinewidth": 0,
              "ticks": ""
             }
            }
           }
          ],
          "carpet": [
           {
            "aaxis": {
             "endlinecolor": "#A2B1C6",
             "gridcolor": "#506784",
             "linecolor": "#506784",
             "minorgridcolor": "#506784",
             "startlinecolor": "#A2B1C6"
            },
            "baxis": {
             "endlinecolor": "#A2B1C6",
             "gridcolor": "#506784",
             "linecolor": "#506784",
             "minorgridcolor": "#506784",
             "startlinecolor": "#A2B1C6"
            },
            "type": "carpet"
           }
          ],
          "table": [
           {
            "cells": {
             "fill": {
              "color": "#506784"
             },
             "line": {
              "color": "rgb(17,17,17)"
             }
            },
            "header": {
             "fill": {
              "color": "#2a3f5f"
             },
             "line": {
              "color": "rgb(17,17,17)"
             }
            },
            "type": "table"
           }
          ],
          "barpolar": [
           {
            "marker": {
             "line": {
              "color": "rgb(17,17,17)",
              "width": 0.5
             },
             "pattern": {
              "fillmode": "overlay",
              "size": 10,
              "solidity": 0.2
             }
            },
            "type": "barpolar"
           }
          ],
          "pie": [
           {
            "automargin": true,
            "type": "pie"
           }
          ]
         },
         "layout": {
          "autotypenumbers": "strict",
          "colorway": [
           "#636efa",
           "#EF553B",
           "#00cc96",
           "#ab63fa",
           "#FFA15A",
           "#19d3f3",
           "#FF6692",
           "#B6E880",
           "#FF97FF",
           "#FECB52"
          ],
          "font": {
           "color": "#f2f5fa"
          },
          "hovermode": "closest",
          "hoverlabel": {
           "align": "left"
          },
          "paper_bgcolor": "rgb(17,17,17)",
          "plot_bgcolor": "rgb(17,17,17)",
          "polar": {
           "bgcolor": "rgb(17,17,17)",
           "angularaxis": {
            "gridcolor": "#506784",
            "linecolor": "#506784",
            "ticks": ""
           },
           "radialaxis": {
            "gridcolor": "#506784",
            "linecolor": "#506784",
            "ticks": ""
           }
          },
          "ternary": {
           "bgcolor": "rgb(17,17,17)",
           "aaxis": {
            "gridcolor": "#506784",
            "linecolor": "#506784",
            "ticks": ""
           },
           "baxis": {
            "gridcolor": "#506784",
            "linecolor": "#506784",
            "ticks": ""
           },
           "caxis": {
            "gridcolor": "#506784",
            "linecolor": "#506784",
            "ticks": ""
           }
          },
          "coloraxis": {
           "colorbar": {
            "outlinewidth": 0,
            "ticks": ""
           }
          },
          "colorscale": {
           "sequential": [
            [
             0.0,
             "#0d0887"
            ],
            [
             0.1111111111111111,
             "#46039f"
            ],
            [
             0.2222222222222222,
             "#7201a8"
            ],
            [
             0.3333333333333333,
             "#9c179e"
            ],
            [
             0.4444444444444444,
             "#bd3786"
            ],
            [
             0.5555555555555556,
             "#d8576b"
            ],
            [
             0.6666666666666666,
             "#ed7953"
            ],
            [
             0.7777777777777778,
             "#fb9f3a"
            ],
            [
             0.8888888888888888,
             "#fdca26"
            ],
            [
             1.0,
             "#f0f921"
            ]
           ],
           "sequentialminus": [
            [
             0.0,
             "#0d0887"
            ],
            [
             0.1111111111111111,
             "#46039f"
            ],
            [
             0.2222222222222222,
             "#7201a8"
            ],
            [
             0.3333333333333333,
             "#9c179e"
            ],
            [
             0.4444444444444444,
             "#bd3786"
            ],
            [
             0.5555555555555556,
             "#d8576b"
            ],
            [
             0.6666666666666666,
             "#ed7953"
            ],
            [
             0.7777777777777778,
             "#fb9f3a"
            ],
            [
             0.8888888888888888,
             "#fdca26"
            ],
            [
             1.0,
             "#f0f921"
            ]
           ],
           "diverging": [
            [
             0,
             "#8e0152"
            ],
            [
             0.1,
             "#c51b7d"
            ],
            [
             0.2,
             "#de77ae"
            ],
            [
             0.3,
             "#f1b6da"
            ],
            [
             0.4,
             "#fde0ef"
            ],
            [
             0.5,
             "#f7f7f7"
            ],
            [
             0.6,
             "#e6f5d0"
            ],
            [
             0.7,
             "#b8e186"
            ],
            [
             0.8,
             "#7fbc41"
            ],
            [
             0.9,
             "#4d9221"
            ],
            [
             1,
             "#276419"
            ]
           ]
          },
          "xaxis": {
           "gridcolor": "#283442",
           "linecolor": "#506784",
           "ticks": "",
           "title": {
            "standoff": 15
           },
           "zerolinecolor": "#283442",
           "automargin": true,
           "zerolinewidth": 2
          },
          "yaxis": {
           "gridcolor": "#283442",
           "linecolor": "#506784",
           "ticks": "",
           "title": {
            "standoff": 15
           },
           "zerolinecolor": "#283442",
           "automargin": true,
           "zerolinewidth": 2
          },
          "scene": {
           "xaxis": {
            "backgroundcolor": "rgb(17,17,17)",
            "gridcolor": "#506784",
            "linecolor": "#506784",
            "showbackground": true,
            "ticks": "",
            "zerolinecolor": "#C8D4E3",
            "gridwidth": 2
           },
           "yaxis": {
            "backgroundcolor": "rgb(17,17,17)",
            "gridcolor": "#506784",
            "linecolor": "#506784",
            "showbackground": true,
            "ticks": "",
            "zerolinecolor": "#C8D4E3",
            "gridwidth": 2
           },
           "zaxis": {
            "backgroundcolor": "rgb(17,17,17)",
            "gridcolor": "#506784",
            "linecolor": "#506784",
            "showbackground": true,
            "ticks": "",
            "zerolinecolor": "#C8D4E3",
            "gridwidth": 2
           }
          },
          "shapedefaults": {
           "line": {
            "color": "#f2f5fa"
           }
          },
          "annotationdefaults": {
           "arrowcolor": "#f2f5fa",
           "arrowhead": 0,
           "arrowwidth": 1
          },
          "geo": {
           "bgcolor": "rgb(17,17,17)",
           "landcolor": "rgb(17,17,17)",
           "subunitcolor": "#506784",
           "showland": true,
           "showlakes": true,
           "lakecolor": "rgb(17,17,17)"
          },
          "title": {
           "x": 0.05
          },
          "updatemenudefaults": {
           "bgcolor": "#506784",
           "borderwidth": 0
          },
          "sliderdefaults": {
           "bgcolor": "#C8D4E3",
           "borderwidth": 1,
           "bordercolor": "rgb(17,17,17)",
           "tickwidth": 0
          },
          "mapbox": {
           "style": "dark"
          }
         }
        },
        "xaxis": {
         "anchor": "y",
         "domain": [
          0.0,
          1.0
         ],
         "title": {
          "text": "pct_both_over_benchmark"
         }
        },
        "yaxis": {
         "anchor": "x",
         "domain": [
          0.0,
          1.0
         ],
         "title": {
          "text": "student_teacher_ratio"
         }
        },
        "coloraxis": {
         "colorbar": {
          "title": {
           "text": "avg_tchr_edu_lvl"
          }
         },
         "colorscale": [
          [
           0.0,
           "#0d0887"
          ],
          [
           0.1111111111111111,
           "#46039f"
          ],
          [
           0.2222222222222222,
           "#7201a8"
          ],
          [
           0.3333333333333333,
           "#9c179e"
          ],
          [
           0.4444444444444444,
           "#bd3786"
          ],
          [
           0.5555555555555556,
           "#d8576b"
          ],
          [
           0.6666666666666666,
           "#ed7953"
          ],
          [
           0.7777777777777778,
           "#fb9f3a"
          ],
          [
           0.8888888888888888,
           "#fdca26"
          ],
          [
           1.0,
           "#f0f921"
          ]
         ]
        },
        "legend": {
         "tracegroupgap": 0
        },
        "margin": {
         "t": 60
        }
       },
       "config": {
        "plotlyServerURL": "https://plot.ly"
       }
      },
      "text/html": "<div>                            <div id=\"920738dc-2f34-4e35-9131-18febc1fb981\" class=\"plotly-graph-div\" style=\"height:525px; width:100%;\"></div>            <script type=\"text/javascript\">                require([\"plotly\"], function(Plotly) {                    window.PLOTLYENV=window.PLOTLYENV || {};                                    if (document.getElementById(\"920738dc-2f34-4e35-9131-18febc1fb981\")) {                    Plotly.newPlot(                        \"920738dc-2f34-4e35-9131-18febc1fb981\",                        [{\"hovertemplate\":\"pct_both_over_benchmark=%{x}<br>student_teacher_ratio=%{y}<br>avg_tchr_edu_lvl=%{marker.color}<extra></extra>\",\"legendgroup\":\"\",\"marker\":{\"color\":[5.763992537313433,5.497109826589595,4.3913352272727275,4.706997084548105,4.780701754385965,6.177966101694915,4.653225806451613,6.862595419847328,4.569105691056911,5.301410541945063,4.44,4.093023255813954,5.2113271344040575,4.2930845225027445,4.5557029177718835,6.693069306930693,4.654929577464789,6.763052208835341,5.459915611814346,4.715355805243446,5.065625,5.6767676767676765,5.190839694656488,5.36443661971831,5.62012987012987,4.984615384615385,4.854755784061696,6.377104377104377,3.740740740740741,4.695652173913044,4.0,3.5454545454545454,3.7948717948717947,4.852173913043479,3.78125,6.576146788990826,4.744827586206896,3.5,5.267326732673268,5.666666666666667,4.717391304347826,4.855569155446757,4.391304347826087,4.595375722543353,4.019108280254777,5.0615711252653925,4.25,4.296875,5.282110091743119,5.572741806554756,6.981574539363484,5.158730158730159,5.503496503496503,4.954022988505747,5.183752417794971,4.681481481481481,5.843267108167771,4.048206278026906,4.785087719298246,3.609988109393579,5.058617672790901,6.3694779116465865,4.220779220779221,4.25,3.743050847457627,4.80327868852459,5.888888888888889,4.553191489361702,4.14987298899238,5.782010582010582,3.625,4.520833333333333,5.072050673000792,3.8941176470588235,4.555473916238061,6.0091093117408905,3.5473684210526315,3.0517241379310347,6.5064935064935066,5.838888888888889,4.498666666666667,6.461194029850747,5.816582914572864,4.775933609958506,4.821167883211679,4.762152777777778,5.5,3.5063291139240507,4.3852813852813854,3.8865248226950353,5.667580534612749,4.375,4.018264840182648,4.503703703703704,4.755226480836237,5.897163120567376,4.80030959752322,3.5,4.136363636363637,4.2,5.009097270818755,4.6,4.6023054755043225,6.047131147540983,5.765591397849462,6.354497354497354,3.871794871794872,3.7576013513513513,4.314814814814815,4.0426829268292686,5.64221824686941,4.622641509433962,3.8741721854304636,4.062226117440841,4.063291139240507,4.7190082644628095,4.417218543046357,3.1463414634146343,4.808219178082192,3.4671052631578947,4.685045948203843,5.6100782778864975,4.204379562043796,3.6,3.6769230769230767,4.139072847682119,4.607681088964512,5.675126903553299,4.279305036287663,6.2,4.6434108527131785,3.0207231040564375,4.379518072289157,4.363636363636363,4.413223140495868,6.1782407407407405,5.40979381443299,3.2346938775510203,3.6194690265486726,4.985294117647059,3.231578947368421,5.294657762938231,3.3564356435643563,3.875,4.175,4.5424739195231,4.56701030927835,6.020064205457464,4.989583333333333,3.8698630136986303,4.314814814814815,3.618181818181818,6.276081424936387,5.033492822966507,5.59009009009009,5.872706422018348,4.853146853146853,4.034883720930233,4.454545454545454,7.272638753651412,3.779816513761468,3.660377358490566,5.399808703969392,3.836693548387097,3.681159420289855,3.9404761904761907,3.9585492227979273,6.06140350877193,5.129032258064516,6.858695652173913,6.0427715996578275,4.1,3.758241758241758,3.957095709570957,7.401273885350318,4.976744186046512,3.3454545454545452,4.0,4.03030303030303,3.230769230769231,4.317073170731708,4.695754716981132,4.426691729323308,4.308943089430894,4.093877551020408,4.225225225225225,5.057324840764331,4.521598272138229,5.085427135678392,5.333333333333333,5.750393700787401,6.46218487394958,4.633090352538328,3.5375,6.14975845410628,3.6315789473684212,4.307894736842106,3.9363636363636365,5.6803977272727275,4.295150501672241,4.6521739130434785,6.894021739130435,4.288683602771362,4.518256772673734,3.976923076923077,4.716599190283401,2.984189723320158,2.6,4.285714285714286,4.372549019607843,3.443243243243243,3.8919860627177703,4.276666666666666,5.310408921933085,3.9245283018867925,4.228758169934641,5.401315789473684,4.783719074221867,3.8693009118541033,5.0700280112044815,5.778272980501392,4.747844827586207,4.511156186612576,5.0125,3.9,6.717314487632509,4.271305285868393,4.196261682242991,5.390893470790378,4.737383177570093,4.31216361679225,6.087719298245614,4.31413612565445,3.8967741935483873,4.175572519083969,3.802139037433155,6.247278382581649,3.4427480916030535,4.449612403100775,5.743027888446215,4.830472103004292,5.4025423728813555,3.8065693430656933,3.082939048149179,5.268984446477584,5.417218543046357,5.501766784452297,3.806201550387597,3.656,5.0,4.855039637599094,5.583333333333333,3.2130777903043968,6.058148431522571,5.930327868852459,5.086705202312139,6.805280528052806,3.8634538152610443,6.205649717514124,5.171717171717172,5.116910229645094,4.425196850393701,3.945945945945946,5.53411306042885,5.674311926605505,3.4444444444444446,4.869760479041916,5.349320543565148,4.6255506607929515,4.414035087719299,3.6923076923076925,4.372847011144883,4.13550135501355,3.55,5.69905462184874,2.3076923076923075,5.22027972027972,4.346534653465347,4.7434554973821985,5.678776290630975,3.357142857142857,5.5380597014925375,4.230232558139535,3.9708029197080292,3.8011049723756907,4.479166666666667,5.583599088838269,4.783042394014963,6.092896174863388,2.972972972972973,5.623152709359606,3.5602455871066767,4.453883495145631,5.89622641509434,5.264434180138569,5.414285714285715,4.214172227518271,5.741881443298969,6.103343465045593,2.4391066160977664,4.983516483516484,5.688693098384729,4.253448275862069,4.557512953367875,5.01980198019802,3.957055214723926,4.914754098360656,4.59275053304904,6.13903743315508,5.763333333333334,3.857142857142857,4.863636363636363,5.204799107142857,4.386271870794078,5.645645645645645,5.321029082774049,4.788418708240535,4.424170616113744,5.404129793510324,4.96,5.163636363636364,3.74,5.617647058823529,5.076923076923077,5.28134110787172,4.28,4.5495207667731625,4.303630363036303,4.329411764705882,3.774193548387097,4.104477611940299,4.349384098544233,4.239130434782608,6.205555555555556,4.898550724637682,4.115942028985507,4.5,4.532786885245901,6.176706827309237,4.302734375,3.422222222222222,3.699074074074074,3.0833333333333335,4.543509965969859,3.75,3.463768115942029,4.3,3.763157894736842,5.328223624887285,5.472222222222222,4.762987012987013,5.073654390934844,3.8009049773755654,6.16258064516129,5.551839464882943,4.6015625,5.389521640091116,4.49877750611247,4.872549019607843,4.711538461538462,3.9672544080604535,5.268456375838926,4.392857142857143,4.434058898847631,5.925699300699301,4.174746936600959,3.925581395348837,5.485165794066318,4.188679245283019,3.5685019206145965,6.2536873156342185,4.4013793103448275,4.464454976303317,5.312831389183457,4.351145038167939,4.460688758934373,5.711648631444939,5.827027027027027,5.258503401360544,4.337078651685394,3.6889580093312597,3.6889580093312597,3.7191489361702126,3.9733481399222654,5.211538461538462,4.184873949579832,4.330783938814531,4.181818181818182,4.425,5.380106571936057,4.708364174685419,4.341772151898734,3.8615384615384616,4.061728395061729,3.9938650306748467,4.548387096774194,5.354014598540146,3.630630630630631,4.201907790143085,4.364406779661017,4.511627906976744,4.460093896713615,5.632798573975045],\"coloraxis\":\"coloraxis\",\"symbol\":\"circle\"},\"mode\":\"markers\",\"name\":\"\",\"orientation\":\"v\",\"showlegend\":false,\"x\":[70.204,93.44,47.599999999999994,64.33,95.92,73.9675,null,18.81,85.565,59.141999999999996,54.32,null,18.058461538461536,54.3825,41.239999999999995,93.9,70.55000000000001,17.3775,44.0125,41.27,58.49,36.84,77.78,28.265,64.45,84.51,78.6,72.97,null,null,null,null,null,58.82,null,58.29666666666666,70.37,null,39.26,88.03,82.86,88.91333333333334,null,78.57,57.75,56.55,null,9.68,80.29166666666667,82.34625,83.86,96.7,71.43,20.9,83.71,76.265,24.085,29.71,55.24,36.82,56.88333333333333,69.3,39.14333333333334,86.38499999999999,33.589999999999996,41.54,83.12,56.52,71.15333333333334,32.4125,35.94,null,33.385,63.16,16.19333333333333,86.57,13.89,null,65.38428571428571,91.62,67.83,22.66,70.9,15.04,null,87.81,null,56.06,40.0525,22.03,18.81375,47.59,70.37,63.33,29.91,48.8525,92.17,null,71.43,40.54,32.55136363636364,null,86.412,50.26,33.53666666666667,86.71,null,64.96799999999999,26.42,74.51,58.464285714285715,61.11,53.265,67.03999999999999,61.11,64.81,8.33,null,20.54,18.87,85.5675,16.91,58.97,null,56.41,27.66,91.93666666666667,93.20833333333333,26.66769230769231,74.64571428571428,59.21666666666667,60.09375,80.0,null,70.1525,81.798,90.14,0.96,71.88,12.9,42.55,67.59384615384616,32.86,29.17,53.7525,44.40833333333333,58.59,50.08,48.216,48.48,42.86,54.17,78.02571428571427,68.33,19.912,95.53166666666668,77.34166666666665,61.67,null,34.0875,33.33,26.62,53.150555555555556,31.237499999999997,69.09,null,36.230000000000004,97.75,76.47,90.32,55.489999999999995,77.14,null,74.68,84.90666666666668,71.43,null,null,26.15,null,58.663333333333334,67.6,79.76,37.5,21.88,41.91,87.39666666666666,73.58571428571429,28.7,null,31.275333333333332,80.61500000000001,20.65160975609756,48.586666666666666,95.98,null,62.5,61.635000000000005,9.23,12.775,76.47,96.92,57.32833333333334,null,87.18,80.005,55.88333333333333,null,null,null,27.63,42.36571428571428,49.739999999999995,86.655,null,47.06,66.02,42.291999999999994,44.055,85.565,33.334,75.33,60.446666666666665,37.74,null,87.87,63.14000000000001,76.33,65.3275,49.056,32.309999999999995,null,88.905,72.66499999999999,71.07,23.53,70.93833333333333,35.29,71.51,18.214,76.28666666666668,93.805,70.0,33.53130434782609,64.045,84.0,77.628,50.0,71.01666666666667,null,24.967000000000002,93.59,45.256,38.642,96.62666666666667,33.93,90.61333333333334,74.595,10.666666666666666,18.18,51.068,73.61,31.94,41.872,98.96000000000001,44.74,38.855000000000004,85.868,84.1525,93.40666666666668,56.207499999999996,33.9075,46.146,null,91.505,null,82.04333333333334,68.57,44.94333333333333,90.67,27.12,20.2425,73.64,28.213333333333335,26.92,41.3,62.285,88.3375,78.06666666666666,null,66.41666666666667,27.912,82.482,67.35,47.906,60.23,19.56222222222222,50.415757575757574,91.772,56.02125,63.96333333333333,18.11,33.968,57.9725,26.64,65.73,71.45,84.81333333333333,96.34,81.58,5.88,72.38,92.30799999999999,54.555,47.519,79.8,51.815,50.075,83.73333333333333,49.14,75.0,72.73,86.84,39.52,60.66,null,84.752,81.63,60.87,null,null,83.1225,62.125,65.25,23.46,54.47,71.43,31.383333333333336,93.96,72.71333333333332,null,null,null,45.64545454545455,null,62.5,null,69.77,55.65846153846154,35.42,76.3,87.724,87.76,73.44800000000001,87.88,83.095,82.208,71.992,71.53,62.07,null,49.8475,null,65.42999999999999,70.6,41.830000000000005,65.20333333333333,68.44,null,71.495,17.0025,41.915,66.67,70.72,22.737142857142857,65.474,69.622,92.33,null,55.17,39.792500000000004,39.792500000000004,68.44,51.66111111111111,62.3675,75.54,71.70500000000001,null,57.14,56.60666666666666,76.53222222222222,31.25,35.415,50.0,64.05,56.0,43.3975,37.5,47.19,78.5,62.5,63.346666666666664,66.75],\"xaxis\":\"x\",\"y\":[20.171641791044777,16.771676300578033,20.375,17.259475218658892,16.785087719298247,18.551906779661017,4.229838709677419,19.612595419847327,17.849593495934958,24.010393466963624,20.7,12.069767441860465,22.25359256128487,21.434687156970362,21.909814323607428,19.34059405940594,17.901408450704224,17.843373493975903,26.41350210970464,20.228464419475657,23.903125,18.97979797979798,20.50381679389313,20.934859154929576,20.766233766233768,18.73076923076923,13.673521850899743,13.346801346801346,12.666666666666666,6.6521739130434785,12.583333333333334,13.272727272727273,17.94871794871795,18.669565217391305,21.171875,19.785321100917432,18.324137931034482,30.211267605633804,21.217821782178216,20.54785478547855,15.717391304347826,19.553243574051407,14.26086956521739,18.84393063583815,20.070063694267517,21.014861995753716,17.041666666666668,14.015625,20.337155963302752,22.749000799360513,19.798994974874372,13.645502645502646,16.083916083916083,18.74712643678161,18.72340425531915,17.251851851851853,24.781456953642383,19.56390134529148,19.82456140350877,19.595719381688465,22.77777777777778,20.16867469879518,19.441558441558442,17.754329004329005,20.669830508474575,19.37704918032787,19.08730158730159,15.861702127659575,19.580016934801016,20.612698412698414,19.1015625,12.416666666666666,19.463974663499606,19.094117647058823,19.014695077149156,19.504048582995953,18.826315789473686,19.93103448275862,21.731856378915204,17.97222222222222,17.144,18.780597014925373,18.402010050251256,18.456431535269708,0.7737226277372263,15.703125,4.0,18.223628691983123,19.48917748917749,19.73049645390071,21.01987662782728,19.00531914893617,17.579908675799086,19.762962962962963,20.331881533101047,25.43262411347518,19.648606811145513,6.9,17.0,15.6,20.660601819454165,10.8,20.45821325648415,19.047131147540984,19.59784946236559,18.650793650793652,20.846153846153847,19.476914414414413,14.444444444444445,19.658536585365855,18.409660107334528,19.849056603773583,20.158940397350992,20.315512708150745,17.341772151898734,19.826446280991735,17.99337748344371,12.365853658536585,18.383561643835616,15.55921052631579,18.60484544695071,19.498043052837573,14.781021897810218,18.1,18.53846153846154,18.33112582781457,18.423918327661642,19.179357021996616,18.242137673191117,23.976377952755904,18.2015503875969,19.604056437389772,17.626506024096386,11.545454545454545,20.94214876033058,20.790895061728396,19.216494845360824,18.551020408163264,20.920353982300885,18.433823529411764,24.2,19.04924874791319,19.871287128712872,15.604166666666666,21.07,17.956035767511178,15.618556701030927,20.42375601926164,22.52724358974359,17.054794520547944,15.537037037037036,19.78181818181818,21.43765903307888,21.354066985645932,19.42792792792793,21.481077981651374,17.737762237762237,18.151162790697676,10.090909090909092,20.630963972736126,17.458715596330276,21.041509433962265,21.18077474892396,21.856854838709676,18.73913043478261,13.821428571428571,21.559585492227978,18.364035087719298,10.741935483870968,15.923913043478262,20.522668947818648,16.3,18.12087912087912,19.26732673267327,18.256369426751593,20.232558139534884,13.036363636363637,10.941176470588236,16.606060606060606,10.076923076923077,19.983739837398375,20.889150943396228,18.958646616541355,20.227642276422763,18.069387755102042,18.46846846846847,18.053503184713374,18.59233261339093,18.306532663316585,18.555555555555557,20.77690288713911,21.191176470588236,17.00830112324574,21.62857142857143,17.265700483091788,17.5,20.239473684210527,16.48030303030303,20.97159090909091,18.967391304347824,18.869565217391305,18.307065217391305,20.193225558121632,11.005889281507656,16.03076923076923,17.829959514170042,22.535573122529645,5.2,17.428571428571427,11.705882352941176,20.524324324324326,20.186411149825783,6.446666666666666,20.022304832713754,17.849056603773583,21.66013071895425,18.907894736842106,21.660814046288905,17.706686930091184,19.708683473389357,20.45292479108635,20.58189655172414,19.64503042596349,18.58125,14.75,16.197879858657245,18.03074433656958,18.710280373831775,21.280927835051546,17.466355140186916,17.95263724434876,20.912280701754387,16.42931937172775,19.10967741935484,23.358778625954198,18.572192513368982,16.84447900466563,19.0,14.86046511627907,18.47808764940239,17.42489270386266,20.093220338983052,21.12773722627737,15.322571667130532,19.751143641354073,17.211920529801326,20.514487632508835,18.868217054263567,19.68,10.333333333333334,21.65118912797282,14.92361111111111,24.1217587373168,19.08875286916603,12.76639344262295,24.248554913294797,19.06930693069307,19.859437751004016,17.964971751412428,19.075757575757574,20.195198329853863,19.637795275590552,20.27927927927928,24.115009746588694,12.146788990825687,18.97530864197531,18.860778443113773,21.270183852917665,18.634361233480178,18.418713450292397,14.349112426035504,13.05724417426545,21.25067750677507,14.3,19.761554621848738,12.0,20.604895104895103,18.346534653465348,20.19371727748691,19.762906309751433,20.428571428571427,20.670149253731342,12.330232558139535,18.598540145985403,18.093922651933703,17.416666666666668,20.876993166287015,18.574812967581046,20.10928961748634,14.891891891891891,18.78448275862069,20.174597083653108,22.68042071197411,12.245283018867925,19.775981524249424,23.514285714285716,20.033682872577057,17.943298969072163,20.5790273556231,16.185630004214076,21.35164835164835,19.375917767988252,19.086206896551722,20.038687392055266,18.750495049504952,18.349693251533743,18.39344262295082,17.37953091684435,16.363636363636363,16.68,14.0,18.162337662337663,18.482700892857142,17.841184387617766,20.442942942942942,17.338926174496645,18.399777282850778,21.028436018957347,16.14306784660767,17.07076923076923,17.6,15.26,18.205882352941178,17.181141439205955,15.670553935860058,12.8,20.24600638977636,18.382838283828384,16.470588235294116,14.225806451612904,19.208955223880597,19.573348264277715,13.23913043478261,23.769444444444446,18.971014492753625,16.380434782608695,22.166666666666668,21.901639344262296,20.164658634538153,17.4375,18.733333333333334,18.935185185185187,7.333333333333333,22.711229946524064,7.666666666666667,17.347826086956523,12.3,21.5,19.99233543733093,15.458333333333334,14.064935064935066,14.855524079320114,21.09502262443439,20.441290322580645,19.608695652173914,19.90625,18.433561123766136,21.213936430317847,19.477124183006534,15.51923076923077,0.8463476070528967,20.684563758389263,14.821428571428571,20.46222791293214,21.757867132867133,20.619072988811933,16.57674418604651,19.851657940663177,17.433962264150942,18.270166453265045,21.91740412979351,21.95310344827586,20.592417061611375,18.311770943796393,27.83206106870229,20.717998700454842,17.479312539783578,19.37837837837838,11.931972789115646,23.10112359550562,19.258164852255053,19.258164852255053,16.782978723404256,19.338145474736258,15.62246963562753,17.33613445378151,20.007648183556405,19.636363636363637,21.8,22.410301953818827,23.63138415988157,17.911392405063292,16.276923076923076,19.62962962962963,16.588957055214724,17.623655913978496,16.843065693430656,20.414414414414413,16.875993640699523,19.652542372881356,16.53488372093023,17.16549295774648,19.39572192513369],\"yaxis\":\"y\",\"type\":\"scatter\"}],                        {\"template\":{\"data\":{\"histogram2dcontour\":[{\"type\":\"histogram2dcontour\",\"colorbar\":{\"outlinewidth\":0,\"ticks\":\"\"},\"colorscale\":[[0.0,\"#0d0887\"],[0.1111111111111111,\"#46039f\"],[0.2222222222222222,\"#7201a8\"],[0.3333333333333333,\"#9c179e\"],[0.4444444444444444,\"#bd3786\"],[0.5555555555555556,\"#d8576b\"],[0.6666666666666666,\"#ed7953\"],[0.7777777777777778,\"#fb9f3a\"],[0.8888888888888888,\"#fdca26\"],[1.0,\"#f0f921\"]]}],\"choropleth\":[{\"type\":\"choropleth\",\"colorbar\":{\"outlinewidth\":0,\"ticks\":\"\"}}],\"histogram2d\":[{\"type\":\"histogram2d\",\"colorbar\":{\"outlinewidth\":0,\"ticks\":\"\"},\"colorscale\":[[0.0,\"#0d0887\"],[0.1111111111111111,\"#46039f\"],[0.2222222222222222,\"#7201a8\"],[0.3333333333333333,\"#9c179e\"],[0.4444444444444444,\"#bd3786\"],[0.5555555555555556,\"#d8576b\"],[0.6666666666666666,\"#ed7953\"],[0.7777777777777778,\"#fb9f3a\"],[0.8888888888888888,\"#fdca26\"],[1.0,\"#f0f921\"]]}],\"heatmap\":[{\"type\":\"heatmap\",\"colorbar\":{\"outlinewidth\":0,\"ticks\":\"\"},\"colorscale\":[[0.0,\"#0d0887\"],[0.1111111111111111,\"#46039f\"],[0.2222222222222222,\"#7201a8\"],[0.3333333333333333,\"#9c179e\"],[0.4444444444444444,\"#bd3786\"],[0.5555555555555556,\"#d8576b\"],[0.6666666666666666,\"#ed7953\"],[0.7777777777777778,\"#fb9f3a\"],[0.8888888888888888,\"#fdca26\"],[1.0,\"#f0f921\"]]}],\"heatmapgl\":[{\"type\":\"heatmapgl\",\"colorbar\":{\"outlinewidth\":0,\"ticks\":\"\"},\"colorscale\":[[0.0,\"#0d0887\"],[0.1111111111111111,\"#46039f\"],[0.2222222222222222,\"#7201a8\"],[0.3333333333333333,\"#9c179e\"],[0.4444444444444444,\"#bd3786\"],[0.5555555555555556,\"#d8576b\"],[0.6666666666666666,\"#ed7953\"],[0.7777777777777778,\"#fb9f3a\"],[0.8888888888888888,\"#fdca26\"],[1.0,\"#f0f921\"]]}],\"contourcarpet\":[{\"type\":\"contourcarpet\",\"colorbar\":{\"outlinewidth\":0,\"ticks\":\"\"}}],\"contour\":[{\"type\":\"contour\",\"colorbar\":{\"outlinewidth\":0,\"ticks\":\"\"},\"colorscale\":[[0.0,\"#0d0887\"],[0.1111111111111111,\"#46039f\"],[0.2222222222222222,\"#7201a8\"],[0.3333333333333333,\"#9c179e\"],[0.4444444444444444,\"#bd3786\"],[0.5555555555555556,\"#d8576b\"],[0.6666666666666666,\"#ed7953\"],[0.7777777777777778,\"#fb9f3a\"],[0.8888888888888888,\"#fdca26\"],[1.0,\"#f0f921\"]]}],\"surface\":[{\"type\":\"surface\",\"colorbar\":{\"outlinewidth\":0,\"ticks\":\"\"},\"colorscale\":[[0.0,\"#0d0887\"],[0.1111111111111111,\"#46039f\"],[0.2222222222222222,\"#7201a8\"],[0.3333333333333333,\"#9c179e\"],[0.4444444444444444,\"#bd3786\"],[0.5555555555555556,\"#d8576b\"],[0.6666666666666666,\"#ed7953\"],[0.7777777777777778,\"#fb9f3a\"],[0.8888888888888888,\"#fdca26\"],[1.0,\"#f0f921\"]]}],\"mesh3d\":[{\"type\":\"mesh3d\",\"colorbar\":{\"outlinewidth\":0,\"ticks\":\"\"}}],\"scatter\":[{\"marker\":{\"line\":{\"color\":\"#283442\"}},\"type\":\"scatter\"}],\"parcoords\":[{\"type\":\"parcoords\",\"line\":{\"colorbar\":{\"outlinewidth\":0,\"ticks\":\"\"}}}],\"scatterpolargl\":[{\"type\":\"scatterpolargl\",\"marker\":{\"colorbar\":{\"outlinewidth\":0,\"ticks\":\"\"}}}],\"bar\":[{\"error_x\":{\"color\":\"#f2f5fa\"},\"error_y\":{\"color\":\"#f2f5fa\"},\"marker\":{\"line\":{\"color\":\"rgb(17,17,17)\",\"width\":0.5},\"pattern\":{\"fillmode\":\"overlay\",\"size\":10,\"solidity\":0.2}},\"type\":\"bar\"}],\"scattergeo\":[{\"type\":\"scattergeo\",\"marker\":{\"colorbar\":{\"outlinewidth\":0,\"ticks\":\"\"}}}],\"scatterpolar\":[{\"type\":\"scatterpolar\",\"marker\":{\"colorbar\":{\"outlinewidth\":0,\"ticks\":\"\"}}}],\"histogram\":[{\"marker\":{\"pattern\":{\"fillmode\":\"overlay\",\"size\":10,\"solidity\":0.2}},\"type\":\"histogram\"}],\"scattergl\":[{\"marker\":{\"line\":{\"color\":\"#283442\"}},\"type\":\"scattergl\"}],\"scatter3d\":[{\"type\":\"scatter3d\",\"line\":{\"colorbar\":{\"outlinewidth\":0,\"ticks\":\"\"}},\"marker\":{\"colorbar\":{\"outlinewidth\":0,\"ticks\":\"\"}}}],\"scattermapbox\":[{\"type\":\"scattermapbox\",\"marker\":{\"colorbar\":{\"outlinewidth\":0,\"ticks\":\"\"}}}],\"scatterternary\":[{\"type\":\"scatterternary\",\"marker\":{\"colorbar\":{\"outlinewidth\":0,\"ticks\":\"\"}}}],\"scattercarpet\":[{\"type\":\"scattercarpet\",\"marker\":{\"colorbar\":{\"outlinewidth\":0,\"ticks\":\"\"}}}],\"carpet\":[{\"aaxis\":{\"endlinecolor\":\"#A2B1C6\",\"gridcolor\":\"#506784\",\"linecolor\":\"#506784\",\"minorgridcolor\":\"#506784\",\"startlinecolor\":\"#A2B1C6\"},\"baxis\":{\"endlinecolor\":\"#A2B1C6\",\"gridcolor\":\"#506784\",\"linecolor\":\"#506784\",\"minorgridcolor\":\"#506784\",\"startlinecolor\":\"#A2B1C6\"},\"type\":\"carpet\"}],\"table\":[{\"cells\":{\"fill\":{\"color\":\"#506784\"},\"line\":{\"color\":\"rgb(17,17,17)\"}},\"header\":{\"fill\":{\"color\":\"#2a3f5f\"},\"line\":{\"color\":\"rgb(17,17,17)\"}},\"type\":\"table\"}],\"barpolar\":[{\"marker\":{\"line\":{\"color\":\"rgb(17,17,17)\",\"width\":0.5},\"pattern\":{\"fillmode\":\"overlay\",\"size\":10,\"solidity\":0.2}},\"type\":\"barpolar\"}],\"pie\":[{\"automargin\":true,\"type\":\"pie\"}]},\"layout\":{\"autotypenumbers\":\"strict\",\"colorway\":[\"#636efa\",\"#EF553B\",\"#00cc96\",\"#ab63fa\",\"#FFA15A\",\"#19d3f3\",\"#FF6692\",\"#B6E880\",\"#FF97FF\",\"#FECB52\"],\"font\":{\"color\":\"#f2f5fa\"},\"hovermode\":\"closest\",\"hoverlabel\":{\"align\":\"left\"},\"paper_bgcolor\":\"rgb(17,17,17)\",\"plot_bgcolor\":\"rgb(17,17,17)\",\"polar\":{\"bgcolor\":\"rgb(17,17,17)\",\"angularaxis\":{\"gridcolor\":\"#506784\",\"linecolor\":\"#506784\",\"ticks\":\"\"},\"radialaxis\":{\"gridcolor\":\"#506784\",\"linecolor\":\"#506784\",\"ticks\":\"\"}},\"ternary\":{\"bgcolor\":\"rgb(17,17,17)\",\"aaxis\":{\"gridcolor\":\"#506784\",\"linecolor\":\"#506784\",\"ticks\":\"\"},\"baxis\":{\"gridcolor\":\"#506784\",\"linecolor\":\"#506784\",\"ticks\":\"\"},\"caxis\":{\"gridcolor\":\"#506784\",\"linecolor\":\"#506784\",\"ticks\":\"\"}},\"coloraxis\":{\"colorbar\":{\"outlinewidth\":0,\"ticks\":\"\"}},\"colorscale\":{\"sequential\":[[0.0,\"#0d0887\"],[0.1111111111111111,\"#46039f\"],[0.2222222222222222,\"#7201a8\"],[0.3333333333333333,\"#9c179e\"],[0.4444444444444444,\"#bd3786\"],[0.5555555555555556,\"#d8576b\"],[0.6666666666666666,\"#ed7953\"],[0.7777777777777778,\"#fb9f3a\"],[0.8888888888888888,\"#fdca26\"],[1.0,\"#f0f921\"]],\"sequentialminus\":[[0.0,\"#0d0887\"],[0.1111111111111111,\"#46039f\"],[0.2222222222222222,\"#7201a8\"],[0.3333333333333333,\"#9c179e\"],[0.4444444444444444,\"#bd3786\"],[0.5555555555555556,\"#d8576b\"],[0.6666666666666666,\"#ed7953\"],[0.7777777777777778,\"#fb9f3a\"],[0.8888888888888888,\"#fdca26\"],[1.0,\"#f0f921\"]],\"diverging\":[[0,\"#8e0152\"],[0.1,\"#c51b7d\"],[0.2,\"#de77ae\"],[0.3,\"#f1b6da\"],[0.4,\"#fde0ef\"],[0.5,\"#f7f7f7\"],[0.6,\"#e6f5d0\"],[0.7,\"#b8e186\"],[0.8,\"#7fbc41\"],[0.9,\"#4d9221\"],[1,\"#276419\"]]},\"xaxis\":{\"gridcolor\":\"#283442\",\"linecolor\":\"#506784\",\"ticks\":\"\",\"title\":{\"standoff\":15},\"zerolinecolor\":\"#283442\",\"automargin\":true,\"zerolinewidth\":2},\"yaxis\":{\"gridcolor\":\"#283442\",\"linecolor\":\"#506784\",\"ticks\":\"\",\"title\":{\"standoff\":15},\"zerolinecolor\":\"#283442\",\"automargin\":true,\"zerolinewidth\":2},\"scene\":{\"xaxis\":{\"backgroundcolor\":\"rgb(17,17,17)\",\"gridcolor\":\"#506784\",\"linecolor\":\"#506784\",\"showbackground\":true,\"ticks\":\"\",\"zerolinecolor\":\"#C8D4E3\",\"gridwidth\":2},\"yaxis\":{\"backgroundcolor\":\"rgb(17,17,17)\",\"gridcolor\":\"#506784\",\"linecolor\":\"#506784\",\"showbackground\":true,\"ticks\":\"\",\"zerolinecolor\":\"#C8D4E3\",\"gridwidth\":2},\"zaxis\":{\"backgroundcolor\":\"rgb(17,17,17)\",\"gridcolor\":\"#506784\",\"linecolor\":\"#506784\",\"showbackground\":true,\"ticks\":\"\",\"zerolinecolor\":\"#C8D4E3\",\"gridwidth\":2}},\"shapedefaults\":{\"line\":{\"color\":\"#f2f5fa\"}},\"annotationdefaults\":{\"arrowcolor\":\"#f2f5fa\",\"arrowhead\":0,\"arrowwidth\":1},\"geo\":{\"bgcolor\":\"rgb(17,17,17)\",\"landcolor\":\"rgb(17,17,17)\",\"subunitcolor\":\"#506784\",\"showland\":true,\"showlakes\":true,\"lakecolor\":\"rgb(17,17,17)\"},\"title\":{\"x\":0.05},\"updatemenudefaults\":{\"bgcolor\":\"#506784\",\"borderwidth\":0},\"sliderdefaults\":{\"bgcolor\":\"#C8D4E3\",\"borderwidth\":1,\"bordercolor\":\"rgb(17,17,17)\",\"tickwidth\":0},\"mapbox\":{\"style\":\"dark\"}}},\"xaxis\":{\"anchor\":\"y\",\"domain\":[0.0,1.0],\"title\":{\"text\":\"pct_both_over_benchmark\"}},\"yaxis\":{\"anchor\":\"x\",\"domain\":[0.0,1.0],\"title\":{\"text\":\"student_teacher_ratio\"}},\"coloraxis\":{\"colorbar\":{\"title\":{\"text\":\"avg_tchr_edu_lvl\"}},\"colorscale\":[[0.0,\"#0d0887\"],[0.1111111111111111,\"#46039f\"],[0.2222222222222222,\"#7201a8\"],[0.3333333333333333,\"#9c179e\"],[0.4444444444444444,\"#bd3786\"],[0.5555555555555556,\"#d8576b\"],[0.6666666666666666,\"#ed7953\"],[0.7777777777777778,\"#fb9f3a\"],[0.8888888888888888,\"#fdca26\"],[1.0,\"#f0f921\"]]},\"legend\":{\"tracegroupgap\":0},\"margin\":{\"t\":60}},                        {\"responsive\": true}                    ).then(function(){\n                            \nvar gd = document.getElementById('920738dc-2f34-4e35-9131-18febc1fb981');\nvar x = new MutationObserver(function (mutations, observer) {{\n        var display = window.getComputedStyle(gd).display;\n        if (!display || display === 'none') {{\n            console.log([gd, 'removed!']);\n            Plotly.purge(gd);\n            observer.disconnect();\n        }}\n}});\n\n// Listen for the removal of the full notebook cells\nvar notebookContainer = gd.closest('#notebook-container');\nif (notebookContainer) {{\n    x.observe(notebookContainer, {childList: true});\n}}\n\n// Listen for the clearing of the current output cell\nvar outputEl = gd.closest('.output');\nif (outputEl) {{\n    x.observe(outputEl, {childList: true});\n}}\n\n                        })                };                });            </script>        </div>"
     },
     "metadata": {},
     "output_type": "display_data"
    }
   ],
   "source": [
    "# Code\n",
    "px.scatter(final_merged_df,'pct_both_over_benchmark', 'student_teacher_ratio', color = 'avg_tchr_edu_lvl')"
   ]
  },
  {
   "cell_type": "markdown",
   "metadata": {},
   "source": [
    "## Conclusions and Recommendations"
   ]
  },
  {
   "cell_type": "markdown",
   "metadata": {},
   "source": [
    "Based on your exploration of the data, what are you key takeaways and recommendations? Make sure to answer your question of interest or address your problem statement here."
   ]
  },
  {
   "cell_type": "markdown",
   "metadata": {},
   "source": [
    "**To-Do:** *Edit this cell with your conclusions and recommendations.*"
   ]
  },
  {
   "cell_type": "markdown",
   "metadata": {},
   "source": [
    "Don't forget to create your README!\n",
    "\n",
    "**To-Do:** *If you combine your problem statement, data dictionary, brief summary of your analysis, and conclusions/recommendations, you have an amazing README.md file that quickly aligns your audience to the contents of your project.* Don't forget to cite your data sources!"
   ]
  }
 ],
 "metadata": {
  "anaconda-cloud": {},
  "kernelspec": {
   "display_name": "Python 3.9.13 ('base')",
   "language": "python",
   "name": "python3"
  },
  "language_info": {
   "codemirror_mode": {
    "name": "ipython",
    "version": 3
   },
   "file_extension": ".py",
   "mimetype": "text/x-python",
   "name": "python",
   "nbconvert_exporter": "python",
   "pygments_lexer": "ipython3",
   "version": "3.9.13"
  },
  "vscode": {
   "interpreter": {
    "hash": "cda0ac541ab6c535dcb4ffe1de6394d0d0ba460ea4bcec2c3250fd08f595b9ac"
   }
  }
 },
 "nbformat": 4,
 "nbformat_minor": 4
}

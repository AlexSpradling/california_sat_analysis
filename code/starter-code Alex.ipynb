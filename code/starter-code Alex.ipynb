{
 "cells": [
  {
   "cell_type": "markdown",
   "metadata": {},
   "source": [
    "<img src=\"http://imgur.com/1ZcRyrc.png\" style=\"float: left; margin: 20px; height: 55px\">\n",
    "\n",
    "# Project 1: Standardized Test Analysis"
   ]
  },
  {
   "cell_type": "markdown",
   "metadata": {},
   "source": [
    "--- \n",
    "# Part 1\n",
    "\n",
    "Part 1 requires knowledge of basic Python.\n",
    "\n",
    "---"
   ]
  },
  {
   "cell_type": "markdown",
   "metadata": {},
   "source": [
    "## Problem Statement"
   ]
  },
  {
   "cell_type": "markdown",
   "metadata": {},
   "source": [
    "Decide on your problem statement that will guide your analysis for this project. For guidelines, sample prompts, or inspiration, check out the README.\n",
    "\n",
    "**To-Do:** *Replace this cell with your problem statement.*"
   ]
  },
  {
   "cell_type": "markdown",
   "metadata": {},
   "source": [
    "### Contents:\n",
    "- [Background](#Background)\n",
    "- [Data Import & Cleaning](#Data-Import-and-Cleaning)\n",
    "- [Exploratory Data Analysis](#Exploratory-Data-Analysis)\n",
    "- [Data Visualization](#Visualize-the-Data)\n",
    "- [Conclusions and Recommendations](#Conclusions-and-Recommendations)"
   ]
  },
  {
   "cell_type": "markdown",
   "metadata": {},
   "source": [
    "## Background"
   ]
  },
  {
   "cell_type": "markdown",
   "metadata": {},
   "source": [
    "The SAT and ACT are standardized tests that many colleges and universities in the United States require for their admissions process. This score is used along with other materials such as grade point average (GPA) and essay responses to determine whether or not a potential student will be accepted to the university.\n",
    "\n",
    "The SAT has two sections of the test: Evidence-Based Reading and Writing and Math ([*source*](https://www.princetonreview.com/college/sat-sections)). The ACT has 4 sections: English, Mathematics, Reading, and Science, with an additional optional writing section ([*source*](https://www.act.org/content/act/en/products-and-services/the-act/scores/understanding-your-scores.html)). They have different score ranges, which you can read more about on their websites or additional outside sources (a quick Google search will help you understand the scores for each test):\n",
    "* [SAT](https://collegereadiness.collegeboard.org/sat)\n",
    "* [ACT](https://www.act.org/content/act/en.html)\n",
    "\n",
    "Standardized tests have long been a controversial topic for students, administrators, and legislators. Since the 1940's, an increasing number of colleges have been using scores from sudents' performances on tests like the SAT and the ACT as a measure for college readiness and aptitude ([*source*](https://www.minotdailynews.com/news/local-news/2017/04/a-brief-history-of-the-sat-and-act/)). Supporters of these tests argue that these scores can be used as an objective measure to determine college admittance. Opponents of these tests claim that these tests are not accurate measures of students potential or ability and serve as an inequitable barrier to entry. Lately, more and more schools are opting to drop the SAT/ACT requirement for their Fall 2021 applications ([*read more about this here*](https://www.cnn.com/2020/04/14/us/coronavirus-colleges-sat-act-test-trnd/index.html))."
   ]
  },
  {
   "cell_type": "markdown",
   "metadata": {},
   "source": [
    "**To-Do:** *Fill out this cell (or edit the above cell) with any other background or information that is necessary for your problem statement.*"
   ]
  },
  {
   "cell_type": "markdown",
   "metadata": {},
   "source": [
    "### Choose your Data\n",
    "\n",
    "There are 10 datasets included in the [`data`](./data/) folder for this project. You are required to pick **at least two** of these to complete your analysis. Feel free to use more than two if you would like, or add other relevant datasets you find online.\n",
    "\n",
    "* [`act_2017.csv`](./data/act_2017.csv): 2017 ACT Scores by State\n",
    "* [`act_2018.csv`](./data/act_2018.csv): 2018 ACT Scores by State\n",
    "* [`act_2019.csv`](./data/act_2019.csv): 2019 ACT Scores by State\n",
    "* [`act_2019_ca.csv`](./data/act_2019_ca.csv): 2019 ACT Scores in California by School\n",
    "* [`sat_2017.csv`](./data/sat_2017.csv): 2017 SAT Scores by State\n",
    "* [`sat_2018.csv`](./data/sat_2018.csv): 2018 SAT Scores by State\n",
    "* [`sat_2019.csv`](./data/sat_2019.csv): 2019 SAT Scores by State\n",
    "* [`sat_2019_by_intended_college_major.csv`](./data/sat_2019_by_intended_college_major.csv): 2019 SAT Scores by Intended College Major\n",
    "* [`sat_2019_ca.csv`](./data/sat_2019_ca.csv): 2019 SAT Scores in California by School\n",
    "* [`sat_act_by_college.csv`](./data/sat_act_by_college.csv): Ranges of Accepted ACT & SAT Student Scores by Colleges"
   ]
  },
  {
   "cell_type": "markdown",
   "metadata": {},
   "source": [
    "**To-Do:** *Fill out this cell with the datasets you will use for your analysis. Write a brief description of the contents for each dataset that you choose.*"
   ]
  },
  {
   "cell_type": "markdown",
   "metadata": {},
   "source": [
    "### Outside Research"
   ]
  },
  {
   "cell_type": "markdown",
   "metadata": {},
   "source": [
    "Based on your problem statement and your chosen datasets, spend some time doing outside research on state policies or additional information that might be relevant. Summarize your findings below. If you bring in any outside tables or charts, make sure you are explicit about having borrowed them. If you quote any text, make sure that it renders as being quoted. **Make sure that you cite your sources.**"
   ]
  },
  {
   "cell_type": "markdown",
   "metadata": {},
   "source": [
    "**To-Do:** *Fill out this cell with outside research or any additional background information that will support your analysis.*"
   ]
  },
  {
   "cell_type": "markdown",
   "metadata": {},
   "source": [
    "### Coding Challenges\n",
    "\n",
    "1. Manually calculate mean:\n",
    "\n",
    "    Write a function that takes in values and returns the mean of the values. Create a list of numbers that you test on your function to check to make sure your function works!\n",
    "    \n",
    "    *Note*: Do not use any mean methods built-in to any Python libraries to do this! This should be done without importing any additional libraries."
   ]
  },
  {
   "cell_type": "code",
   "execution_count": 171,
   "metadata": {},
   "outputs": [],
   "source": [
    "# Code:\n",
    "def mean (args):\n",
    "    holder = []\n",
    "    for i in args:\n",
    "        if np.isnan(i):\n",
    "            args.remove(i)\n",
    "        else:\n",
    "            holder.append(i)\n",
    "    return sum(holder)/len(holder)"
   ]
  },
  {
   "cell_type": "markdown",
   "metadata": {},
   "source": [
    "2. Manually calculate standard deviation:\n",
    "\n",
    "    The formula for standard deviation is below:\n",
    "\n",
    "    $$\\sigma = \\sqrt{\\frac{1}{n}\\sum_{i=1}^n(x_i - \\mu)^2}$$\n",
    "\n",
    "    Where $x_i$ represents each value in the dataset, $\\mu$ represents the mean of all values in the dataset and $n$ represents the number of values in the dataset.\n",
    "\n",
    "    Write a function that takes in values and returns the standard deviation of the values using the formula above. Hint: use the function you wrote above to calculate the mean! Use the list of numbers you created above to test on your function.\n",
    "    \n",
    "    *Note*: Do not use any standard deviation methods built-in to any Python libraries to do this! This should be done without importing any additional libraries."
   ]
  },
  {
   "cell_type": "code",
   "execution_count": 129,
   "outputs": [],
   "source": [
    "import numpy as np"
   ],
   "metadata": {
    "collapsed": false
   }
  },
  {
   "cell_type": "code",
   "execution_count": 175,
   "outputs": [],
   "source": [
    "# Code:\n",
    "# find variance\n",
    "def variance(args):\n",
    "    mean_val = mean(args)\n",
    "    numerator = 0\n",
    "    for i in args:\n",
    "        if np.isnan(i):\n",
    "            args.remove(i)\n",
    "        else:\n",
    "            numerator += (i-mean_val)**2\n",
    "    # population variance\n",
    "    denominator = len(args) \n",
    "    return numerator/denominator\n",
    "\n",
    " # find standard deviation\n",
    "def standard_deviation(args):\n",
    "    return (variance(args))**.5\n",
    "\n"
   ],
   "metadata": {
    "collapsed": false
   }
  },
  {
   "cell_type": "markdown",
   "metadata": {},
   "source": [
    "3. Data cleaning function:\n",
    "    \n",
    "    Write a function that takes in a string that is a number and a percent symbol (ex. '50%', '30.5%', etc.) and converts this to a float that is the decimal approximation of the percent. For example, inputting '50%' in your function should return 0.5, '30.5%' should return 0.305, etc. Make sure to test your function to make sure it works!\n",
    "\n",
    "You will use these functions later on in the project!"
   ]
  },
  {
   "cell_type": "code",
   "execution_count": 3,
   "metadata": {},
   "outputs": [
    {
     "data": {
      "text/plain": "0.305"
     },
     "execution_count": 3,
     "metadata": {},
     "output_type": "execute_result"
    }
   ],
   "source": [
    "# Code:\n",
    "def str_to_float(args):\n",
    "     try: \n",
    "          converted_num = float(args.replace('%','')) / 100\n",
    "          return converted_num\n",
    "     except:\n",
    "          return None\n",
    "str_to_float('30.5%')"
   ]
  },
  {
   "cell_type": "markdown",
   "metadata": {},
   "source": [
    "--- \n",
    "# Part 2\n",
    "\n",
    "Part 2 requires knowledge of Pandas, EDA, data cleaning, and data visualization.\n",
    "\n",
    "---"
   ]
  },
  {
   "cell_type": "markdown",
   "metadata": {},
   "source": [
    "*All libraries used should be added here*"
   ]
  },
  {
   "cell_type": "code",
   "execution_count": 4,
   "metadata": {},
   "outputs": [],
   "source": [
    "# Imports:\n",
    "import pandas as pd\n",
    "import numpy as np\n",
    "import matplotlib.pyplot as plt\n",
    "import plotly.express as px\n"
   ]
  },
  {
   "cell_type": "markdown",
   "metadata": {},
   "source": [
    "## Data Import and Cleaning"
   ]
  },
  {
   "cell_type": "markdown",
   "metadata": {},
   "source": [
    "### Data Import & Cleaning\n",
    "\n",
    "Import the datasets that you selected for this project and go through the following steps at a minimum. You are welcome to do further cleaning as you feel necessary:\n",
    "1. Display the data: print the first 5 rows of each dataframe to your Jupyter notebook.\n",
    "2. Check for missing values.\n",
    "3. Check for any obvious issues with the observations (keep in mind the minimum & maximum possible values for each test/subtest).\n",
    "4. Fix any errors you identified in steps 2-3.\n",
    "5. Display the data types of each feature.\n",
    "6. Fix any incorrect data types found in step 5.\n",
    "    - Fix any individual values preventing other columns from being the appropriate type.\n",
    "    - If your dataset has a column of percents (ex. '50%', '30.5%', etc.), use the function you wrote in Part 1 (coding challenges, number 3) to convert this to floats! *Hint*: use `.map()` or `.apply()`.\n",
    "7. Rename Columns.\n",
    "    - Column names should be all lowercase.\n",
    "    - Column names should not contain spaces (underscores will suffice--this allows for using the `df.column_name` method to access columns in addition to `df['column_name']`).\n",
    "    - Column names should be unique and informative.\n",
    "8. Drop unnecessary rows (if needed).\n",
    "9. Merge dataframes that can be merged.\n",
    "10. Perform any additional cleaning that you feel is necessary.\n",
    "11. Save your cleaned and merged dataframes as csv files."
   ]
  },
  {
   "cell_type": "code",
   "execution_count": 5,
   "metadata": {},
   "outputs": [],
   "source": [
    "import re\n",
    "def clean_columns(df):\n",
    "    df.columns = [col.lower().replace(' ', '_').replace('-','_') for col in df.columns]\n",
    "    df.columns = [col.replace('\\n', '_') for col in df.columns]\n",
    "    return df"
   ]
  },
  {
   "cell_type": "markdown",
   "metadata": {},
   "source": [
    "ACT 2017-2019"
   ]
  },
  {
   "cell_type": "markdown",
   "metadata": {},
   "source": [
    "SAT 2017-2019"
   ]
  },
  {
   "cell_type": "code",
   "execution_count": 26,
   "metadata": {},
   "outputs": [],
   "source": [
    "# # sat_2019\n",
    "# sat_2019_df = pd.read_csv('../data/sat_2019.csv')\n",
    "# sat_2019_df = clean_columns(sat_2019_df)\n",
    "# sat_2019_df['participation_rate'] = [str_to_float(x) for x in sat_2019_df['participation_rate']]\n",
    "# sat_2019_df.rename({'ebrw':'evidence_based_reading_and_writing'}, axis = 1, inplace = True)\n",
    "# sat_2019_df.info()\n",
    "# sat_2019_df.shape\n",
    "# sat_2019_df.head()\n"
   ]
  },
  {
   "cell_type": "markdown",
   "metadata": {},
   "source": [
    "### California SAT ACT"
   ]
  },
  {
   "cell_type": "code",
   "execution_count": 96,
   "metadata": {},
   "outputs": [],
   "source": [
    "# sat_2019_ca\n",
    "sat_2019_ca_df = pd.read_csv('../data/sat_2019_ca.csv')\n",
    "\n",
    "# drop columns we're not interested - only want to look at 11th graders\n",
    "sat_2019_ca_df.drop(sat_2019_ca_df.columns[[0,1,2,3,4,5,8,9,10,11,12,13,20,21]], axis=1, inplace=True)\n",
    "sat_2019_ca_df.drop('Unnamed: 25', axis=1, inplace = True)\n",
    "# snake case everything\n",
    "sat_2019_ca_df.columns = ['_'.join(re.findall('[A-Z][a-z]*',x)) for x in sat_2019_ca_df.columns]\n",
    "\n",
    "sat_2019_ca_df = clean_columns(sat_2019_ca_df)\n",
    "\n",
    "sat_2019_ca_df.columns = [x.replace('_e_r_w_', '_erw_') for x in sat_2019_ca_df.columns]\n",
    "sat_2019_ca_df.columns = [x.replace('_t_s_t_', '_tst_') for x in sat_2019_ca_df.columns]\n",
    "\n",
    "# remove asterisks\n",
    "sat_2019_ca_df.replace({'*': np.nan}, inplace = True)\n",
    "\n",
    "# make everything floats that needs to be\n",
    "sat_2019_ca_df = sat_2019_ca_df.astype({col:'float' for col in sat_2019_ca_df.columns if col not in ['d_name', 'c_name', 'year']})"
   ]
  },
  {
   "cell_type": "code",
   "execution_count": 98,
   "metadata": {},
   "outputs": [],
   "source": [
    "# aggregate by school district, using mean\n",
    "agg_functions = {col:'sum' if 'num' in col else 'mean' if 'pct' in col else 'sum' for col in sat_2019_ca_df.columns if col not in ['d_name', 'c_name', 'year']}\n",
    "sat_2019_ca_df = sat_2019_ca_df.groupby(sat_2019_ca_df['d_name']).aggregate(agg_functions)"
   ]
  },
  {
   "cell_type": "markdown",
   "source": [
    "### School District Budget Data"
   ],
   "metadata": {
    "collapsed": false
   }
  },
  {
   "cell_type": "code",
   "execution_count": 99,
   "metadata": {},
   "outputs": [],
   "source": [
    "ca_budgets_sd = pd.read_excel('../data/currentexpense1819.xlsx')\n",
    "\n",
    "# clean columns\n",
    "ca_budgets_sd.columns = ca_budgets_sd.loc[9]\n",
    "ca_budgets_sd = ca_budgets_sd[10:].reset_index()\n",
    "ca_budgets_sd = clean_columns(ca_budgets_sd)\n",
    "ca_budgets_sd.drop(ca_budgets_sd.columns[[0,1,2]], axis=1, inplace=True)\n",
    "ca_budgets_sd.rename(columns = {'district':'d_name'}, inplace=True)\n",
    "\n",
    "# drop unused columns\n",
    "ca_budgets_sd = ca_budgets_sd.astype({col:'float' for col in ca_budgets_sd.columns if col not in ['d_name', 'lea_type']})\n",
    "ca_budgets_sd = ca_budgets_sd.query('lea_type != \"Elementary\"')"
   ]
  },
  {
   "cell_type": "markdown",
   "metadata": {},
   "source": [
    "Merge SD budget and SD sat Dataframes"
   ]
  },
  {
   "cell_type": "code",
   "execution_count": 100,
   "metadata": {},
   "outputs": [],
   "source": [
    "merged_ca_sat_rev = pd.merge(sat_2019_ca_df,ca_budgets_sd, left_on='d_name', right_on = 'd_name')"
   ]
  },
  {
   "cell_type": "markdown",
   "source": [
    "### Student Enrollment Data"
   ],
   "metadata": {
    "collapsed": false
   }
  },
  {
   "cell_type": "code",
   "execution_count": 101,
   "outputs": [],
   "source": [
    "# read in data\n",
    "student_enrollment_db = pd.read_csv('../data/cenroll1819.csv', encoding = 'ISO-8859-1')\n",
    "# drop columns we don't need\n",
    "student_enrollment_db = student_enrollment_db.query('ReportingCategory == \"TA\" and AggregateLevel == \"S\" and Charter == \"All\"')\n",
    "student_enrollment_db.replace({'*': 0}, inplace = True)\n",
    "student_enrollment_db['CumulativeEnrollment'] = student_enrollment_db['CumulativeEnrollment'].astype(float)\n",
    "student_enrollment_db.drop(['SchoolCode', 'AcademicYear', 'AggregateLevel', 'CountyCode', 'DistrictCode', 'CountyName', 'SchoolName', 'Charter', 'ReportingCategory'], axis=1, inplace=True)\n",
    "\n",
    "# snake case columns\n",
    "student_enrollment_db.columns = ['_'.join(re.findall('[A-Z][a-z]*',x)) for x in student_enrollment_db.columns]\n",
    "# clean\n",
    "student_enrollment_db = clean_columns(student_enrollment_db)\n",
    "\n",
    "student_enrollment_db_agg = student_enrollment_db.groupby(student_enrollment_db['district_name']).aggregate('sum')\n",
    "student_enrollment_db_agg.index.names = ['d_name']"
   ],
   "metadata": {
    "collapsed": false
   }
  },
  {
   "cell_type": "markdown",
   "source": [
    "### Teacher Demographic Data"
   ],
   "metadata": {
    "collapsed": false
   }
  },
  {
   "cell_type": "code",
   "execution_count": 102,
   "outputs": [],
   "source": [
    "# read in csv data\n",
    "teacher_demo_db = pd.read_csv('../data/StaffDemo18.csv')\n",
    "# snake case dolumns\n",
    "teacher_demo_db.columns = ['_'.join(re.findall('[A-Z][a-z]*',x)) for x in teacher_demo_db.columns]\n",
    "# clean columns\n",
    "teacher_demo_db = clean_columns(teacher_demo_db)\n",
    "# Quantify Education Level\n",
    "edu_level_dict = {'D':10,'S':9,'V':8,'M':7,'U':6,'Y':5,'F':4,'C':3,'B':2,'A':1,'N':0}\n",
    "teacher_demo_db.replace({\"education_level\":edu_level_dict}, inplace=True)\n",
    "# Quantify Sex\n",
    "sex_dict = {'M':0, 'F':1}\n",
    "teacher_demo_db.replace({\"gender_code\":sex_dict}, inplace = True)\n",
    "# Teachers per District\n",
    "teachers_per_district = teacher_demo_db['district_name'].value_counts()\n",
    "# drop columns we don't need\n",
    "teacher_demo_db.drop(['academic_year', 'rec_i_d', 'district_code', 'county_name', 'ethnic_group', 'employment_status_code', 'f_t_e_teaching', 'f_t_e', 'f_t_e_pupil_services', 'file_created'], axis = 1, inplace=True)\n",
    "# aggregate by mean statistics per school district\n",
    "teacher_demo_db_agg = teacher_demo_db.groupby(teacher_demo_db['district_name']).aggregate('mean')\n",
    "# San Marcos School district data is erroneous, remove San Marcos\n",
    "teacher_demo_db_agg.drop('San Marcos Unified', inplace=True)\n",
    "# change index name for merge\n",
    "teacher_demo_db_agg.index.names = ['d_name']\n",
    "# add num teachers per district\n",
    "teacher_demo_db_agg['tchrs_per_district'] = teachers_per_district"
   ],
   "metadata": {
    "collapsed": false
   }
  },
  {
   "cell_type": "code",
   "execution_count": 103,
   "outputs": [],
   "source": [
    "# merge with students df\n",
    "ca_districts_students_teachers = pd.merge(teacher_demo_db_agg, student_enrollment_db_agg, left_on='d_name', right_on='d_name')\n",
    "# find student teacher ratio\n",
    "ca_districts_students_teachers['student_teacher_ratio'] = ca_districts_students_teachers['cumulative_enrollment']/ca_districts_students_teachers['tchrs_per_district']"
   ],
   "metadata": {
    "collapsed": false
   }
  },
  {
   "cell_type": "code",
   "execution_count": 104,
   "outputs": [],
   "source": [
    "# merge everything\n",
    "final_merged_df = pd.merge(merged_ca_sat_rev, ca_districts_students_teachers, left_on='d_name', right_on = 'd_name')\n",
    "# rename columns\n",
    "final_merged_df.columns = [x.replace('_benchmark', '_over_benchmark') for x in final_merged_df.columns]\n",
    "final_merged_df.rename({'gender_code':'avg_tchr_sex', 'age':'avg_tchr_age','education_level':'avg_tchr_edu_lvl', 'years_teaching':'avg_tchr_yrs_tching', 'years_in_district':'avg_tchr_yrs_in_dstrct', 'edp_365':'annual_expense_of_ed'}, axis = 1, inplace = True)"
   ],
   "metadata": {
    "collapsed": false
   }
  },
  {
   "cell_type": "markdown",
   "source": [
    "### Final Merged Dataframe\n",
    "CA Sat data dataframe, school budget dataframe, teacher demographic dataframe, student enrollment dataframe"
   ],
   "metadata": {
    "collapsed": false
   }
  },
  {
   "cell_type": "code",
   "execution_count": 107,
   "outputs": [
    {
     "name": "stdout",
     "output_type": "stream",
     "text": [
      "<class 'pandas.core.frame.DataFrame'>\n",
      "Int64Index: 403 entries, 0 to 402\n",
      "Data columns (total 21 columns):\n",
      " #   Column                       Non-Null Count  Dtype  \n",
      "---  ------                       --------------  -----  \n",
      " 0   d_name                       403 non-null    object \n",
      " 1   enroll                       403 non-null    float64\n",
      " 2   num_tst_takr                 403 non-null    float64\n",
      " 3   num_erw_over_benchmark       403 non-null    float64\n",
      " 4   pct_erw_over_benchmark       350 non-null    float64\n",
      " 5   num_math_over_benchmark      403 non-null    float64\n",
      " 6   pct_math_over_benchmark      350 non-null    float64\n",
      " 7   tot_num_both_over_benchmark  403 non-null    float64\n",
      " 8   pct_both_over_benchmark      350 non-null    float64\n",
      " 9   annual_expense_of_ed         403 non-null    float64\n",
      " 10  current_expense_ada          403 non-null    float64\n",
      " 11  current_expense_per_ada      403 non-null    float64\n",
      " 12  lea_type                     403 non-null    object \n",
      " 13  avg_tchr_sex                 403 non-null    float64\n",
      " 14  avg_tchr_age                 403 non-null    float64\n",
      " 15  avg_tchr_edu_lvl             403 non-null    float64\n",
      " 16  avg_tchr_yrs_tching          403 non-null    float64\n",
      " 17  avg_tchr_yrs_in_dstrct       403 non-null    float64\n",
      " 18  tchrs_per_district           403 non-null    int64  \n",
      " 19  cumulative_enrollment        403 non-null    float64\n",
      " 20  student_teacher_ratio        403 non-null    float64\n",
      "dtypes: float64(18), int64(1), object(2)\n",
      "memory usage: 69.3+ KB\n"
     ]
    }
   ],
   "source": [
    "final_merged_df.sort_values('pct_both_over_benchmark', ascending = False)\n",
    "# final_merged_df.to_csv('Ca_edu_stats_1819')\n",
    "\n",
    "final_merged_df.info()"
   ],
   "metadata": {
    "collapsed": false
   }
  },
  {
   "cell_type": "markdown",
   "metadata": {},
   "source": [
    "### Data Dictionary"
   ]
  },
  {
   "cell_type": "markdown",
   "metadata": {},
   "source": [
    "\n",
    "| Feature                     | Type   | Dataset                   | Description                                                                                                                                                                                                                                                                                                                          |\n",
    "| --------------------------- | ------ | ------------------------- |--------------------------------------------------------------------------------------------------------------------------------------------------------------------------------------------------------------------------------------------------------------------------------------------------------------------------------------|\n",
    "| d_name                      | str    | All                       | The school district within California.                                                                                                                                                                                                                                                                                               |\n",
    "| enroll                      | float  | CA 2019 SAT               | The number of 11th graders enrolled to take the SAT in 2018-2019.                                                                                                                                                                                                                                                                    |\n",
    "| num_tst_taker               | float  | CA 2019 SAT               | The count of 11th graders that took the SAT in 2018-2019.                                                                                                                                                                                                                                                                            |\n",
    "| num_erw_over_benchmark      | float  | CA 2019 SAT               | The count of 11th graders that exceeded the CA performance benchmark in exploratory reading and writing(erw).                                                                                                                                                                                                                        |\n",
    "| pct_erw_over_benchmark      | float  | CA 2019 SAT               | The percent of 11th graders that exceeded the CA performance benchmark in exploratory reading and writing(erw).                                                                                                                                                                                                                      |\n",
    "| num_math_over_benchmark     | float  | CA 2019 SAT               | The count of 11th graders that exceeded the CA performance benchmark in math.                                                                                                                                                                                                                                                        |\n",
    "| pct_math_over_benchmark     | float  | CA 2019 SAT               | The percent of 11th graders that exceeded the CA performance benchmark in math.                                                                                                                                                                                                                                                      |\n",
    "| tot_num_both_over_benchmark | float  | CA 2019 SAT               | The count of 11th graders that exceeded the CA performance benchmark in math and erw.                                                                                                                                                                                                                                                |\n",
    "| pct_both_over_benchmark     | float  | CA 2019 SAT               | The percent of 11th graders that exceeded the CA performance benchmark in math and erw.                                                                                                                                                                                                                                              |\n",
    "| annual_expense_of_ed        | float  | CA School District Fiscal | Total general fund expenditures less food services, facilities acquisition and construction and certain other terms, divided by (ADA). <br/> The total days of student attendance divided by the number of instructional days in the year.                                                                                           |\n",
    "| current_expense_per_ada     | float  | CA School District Fiscal | annual_expense_of_ed divided by ADA -- the per-pupil cost of education per school board for 2018-2019.                                                                                                                                                                                                                               |\n",
    "| lea_type                    | String | CA School District Fiscal | Type of school district.                                                                                                                                                                                                                                                                                                             |\n",
    "| avg_tchr_sex                | float  | CA Teacher Demographics   | Average sex of teachers within school district.                                                                                                                                                                                                                                                                                      |\n",
    "| avg_tchr_edu_lvl            | float  | CA Teacher Demographics   | Average level of education held by teachers within school district. <br/> 10 = Doctorate, 9 = Special, 8 = Master's + 30 or more semester hours, 7 = Master's, 6 = 5th year within bachelor's,<br /> 5 = 5th year induction, 4 = 5th year, 3 = Bachelors + 30 or more semester hours, 2 = Bachelors, 1 = Associate, 0 = Not reported |\n",
    "| avg_tchr_yrs_tching         | float  | CA Teacher Demographics   | Average number of years as a teacher.                                                                                                                                                                                                                                                                                                |\n",
    "| avg_tchr_yrs_in_dstrct      | float  | CA Teacher Demographics   | Average number of years teaching within that specific school district.                                                                                                                                                                                                                                                               |\n",
    "| tchrs_per_district          | int    | CA Teacher Demographics   | Total number of teachers per school district.                                                                                                                                                                                                                                                                                        |\n",
    "| cumulative_enrollment       | float  | CA Student Enrollment     | Total number of teachers enrolled per school district.                                                                                                                                                                                                                                                                               |\n",
    "| student_teacher_ratio       | float  | CA Student / CA Teacher   | Average student to teacher ratio per school district.                                                                                                                                                                                                                                                                                |\n"
   ]
  },
  {
   "cell_type": "markdown",
   "metadata": {},
   "source": [
    "## Exploratory Data Analysis\n",
    "\n",
    "Complete the following steps to explore your data. You are welcome to do more EDA than the steps outlined here as you feel necessary:\n",
    "1. Summary Statistics.\n",
    "2. Use a **dictionary comprehension** to apply the standard deviation function you create in part 1 to each numeric column in the dataframe.  **No loops**.\n",
    "    - Assign the output to variable `sd` as a dictionary where: \n",
    "        - Each column name is now a key \n",
    "        - That standard deviation of the column is the value \n",
    "        - *Example Output :* `{'ACT_Math': 120, 'ACT_Reading': 120, ...}`\n",
    "3. Investigate trends in the data.\n",
    "    - Using sorting and/or masking (along with the `.head()` method to avoid printing our entire dataframe), consider questions relevant to your problem statement. Some examples are provided below (but feel free to change these questions for your specific problem):\n",
    "        - Which states have the highest and lowest participation rates for the 2017, 2019, or 2019 SAT and ACT?\n",
    "        - Which states have the highest and lowest mean total/composite scores for the 2017, 2019, or 2019 SAT and ACT?\n",
    "        - Do any states with 100% participation on a given test have a rate change year-to-year?\n",
    "        - Do any states show have >50% participation on *both* tests each year?\n",
    "        - Which colleges have the highest median SAT and ACT scores for admittance?\n",
    "        - Which California school districts have the highest and lowest mean test scores?\n",
    "    - **You should comment on your findings at each step in a markdown cell below your code block**. Make sure you include at least one example of sorting your dataframe by a column, and one example of using boolean filtering (i.e., masking) to select a subset of the dataframe."
   ]
  },
  {
   "cell_type": "code",
   "execution_count": 177,
   "outputs": [
    {
     "data": {
      "text/plain": "{'d_name': None,\n 'enroll': 4828.376691054558,\n 'num_tst_takr': 3537.2960273674976,\n 'num_erw_over_benchmark': 1788.5389982098252,\n 'pct_erw_over_benchmark': 16.30896755511959,\n 'num_math_over_benchmark': 1123.151628724705,\n 'pct_math_over_benchmark': 22.64158755024627,\n 'tot_num_both_over_benchmark': 1055.7913930824357,\n 'pct_both_over_benchmark': 22.824466146627067,\n 'annual_expense_of_ed': 385868797.97673744,\n 'current_expense_ada': 25057.945764627344,\n 'current_expense_per_ada': 5275.2149530368715,\n 'lea_type': None,\n 'avg_tchr_sex': 0.08716391655557676,\n 'avg_tchr_age': 2.36504874127975,\n 'avg_tchr_edu_lvl': 0.8866549626831862,\n 'avg_tchr_yrs_tching': 2.3273819010838555,\n 'avg_tchr_yrs_in_dstrct': 2.605107182497586,\n 'tchrs_per_district': 2043.1625901199038,\n 'cumulative_enrollment': 35380.72223135641,\n 'student_teacher_ratio': 3.556117991963344}"
     },
     "execution_count": 177,
     "metadata": {},
     "output_type": "execute_result"
    }
   ],
   "source": [
    "#Code:\n",
    "sd = {col:standard_deviation(final_merged_df[col].to_list()) if final_merged_df[col].dtypes !='object' else None for col in final_merged_df.columns}\n",
    "sd"
   ],
   "metadata": {
    "collapsed": false
   }
  },
  {
   "cell_type": "markdown",
   "source": [
    "Which school districts out performed the SAT benchmarks by the highest margin in 2018-2019 and how large are the districts?"
   ],
   "metadata": {
    "collapsed": false
   }
  },
  {
   "cell_type": "code",
   "execution_count": 210,
   "outputs": [
    {
     "data": {
      "text/plain": "                                  d_name  pct_both_over_benchmark  \\\n264                Piedmont City Unified                98.960000   \n167                    La Canada Unified                97.750000   \n201              Manhattan Beach Unified                96.920000   \n51                        Carmel Unified                96.700000   \n254                    Palo Alto Unified                96.626667   \n308                   San Marino Unified                96.340000   \n194  Los Gatos-Saratoga Joint Union High                95.980000   \n4                    Albany City Unified                95.920000   \n155                       Irvine Unified                95.531667   \n338               South Pasadena Unified                93.960000   \n\n     cumulative_enrollment  \n264                 2648.0  \n167                 4187.0  \n201                 6737.0  \n51                  2579.0  \n254                12460.0  \n308                 3060.0  \n194                 3574.0  \n4                   3827.0  \n155                37463.0  \n338                 5021.0  ",
      "text/html": "<div>\n<style scoped>\n    .dataframe tbody tr th:only-of-type {\n        vertical-align: middle;\n    }\n\n    .dataframe tbody tr th {\n        vertical-align: top;\n    }\n\n    .dataframe thead th {\n        text-align: right;\n    }\n</style>\n<table border=\"1\" class=\"dataframe\">\n  <thead>\n    <tr style=\"text-align: right;\">\n      <th></th>\n      <th>d_name</th>\n      <th>pct_both_over_benchmark</th>\n      <th>cumulative_enrollment</th>\n    </tr>\n  </thead>\n  <tbody>\n    <tr>\n      <th>264</th>\n      <td>Piedmont City Unified</td>\n      <td>98.960000</td>\n      <td>2648.0</td>\n    </tr>\n    <tr>\n      <th>167</th>\n      <td>La Canada Unified</td>\n      <td>97.750000</td>\n      <td>4187.0</td>\n    </tr>\n    <tr>\n      <th>201</th>\n      <td>Manhattan Beach Unified</td>\n      <td>96.920000</td>\n      <td>6737.0</td>\n    </tr>\n    <tr>\n      <th>51</th>\n      <td>Carmel Unified</td>\n      <td>96.700000</td>\n      <td>2579.0</td>\n    </tr>\n    <tr>\n      <th>254</th>\n      <td>Palo Alto Unified</td>\n      <td>96.626667</td>\n      <td>12460.0</td>\n    </tr>\n    <tr>\n      <th>308</th>\n      <td>San Marino Unified</td>\n      <td>96.340000</td>\n      <td>3060.0</td>\n    </tr>\n    <tr>\n      <th>194</th>\n      <td>Los Gatos-Saratoga Joint Union High</td>\n      <td>95.980000</td>\n      <td>3574.0</td>\n    </tr>\n    <tr>\n      <th>4</th>\n      <td>Albany City Unified</td>\n      <td>95.920000</td>\n      <td>3827.0</td>\n    </tr>\n    <tr>\n      <th>155</th>\n      <td>Irvine Unified</td>\n      <td>95.531667</td>\n      <td>37463.0</td>\n    </tr>\n    <tr>\n      <th>338</th>\n      <td>South Pasadena Unified</td>\n      <td>93.960000</td>\n      <td>5021.0</td>\n    </tr>\n  </tbody>\n</table>\n</div>"
     },
     "execution_count": 210,
     "metadata": {},
     "output_type": "execute_result"
    }
   ],
   "source": [
    "top_ten = final_merged_df.sort_values('pct_both_over_benchmark', ascending = False).head(10)\n",
    "top_ten[['d_name', 'pct_both_over_benchmark', 'cumulative_enrollment']]"
   ],
   "metadata": {
    "collapsed": false
   }
  },
  {
   "cell_type": "markdown",
   "source": [
    "Which school districts underperformed the SAT benchmarks by the lowest margin in 2018-2019?"
   ],
   "metadata": {
    "collapsed": false
   }
  },
  {
   "cell_type": "code",
   "execution_count": 211,
   "outputs": [
    {
     "data": {
      "text/plain": "                         d_name  pct_both_over_benchmark  \\\n137       Golden Plains Unified                 0.960000   \n310  San Pasqual Valley Unified                 5.880000   \n116        Farmersville Unified                 8.330000   \n198             Lynwood Unified                 9.230000   \n47      Calistoga Joint Unified                 9.680000   \n258           Paramount Unified                10.666667   \n199              Madera Unified                12.775000   \n139            Gonzales Unified                12.900000   \n76       Corcoran Joint Unified                13.890000   \n83   Cutler-Orosi Joint Unified                15.040000   \n\n     cumulative_enrollment  \n137                 1818.0  \n310                  784.0  \n116                 2717.0  \n198                14764.0  \n47                   897.0  \n258                15899.0  \n199                22685.0  \n139                 2507.0  \n76                  3577.0  \n83                  4448.0  ",
      "text/html": "<div>\n<style scoped>\n    .dataframe tbody tr th:only-of-type {\n        vertical-align: middle;\n    }\n\n    .dataframe tbody tr th {\n        vertical-align: top;\n    }\n\n    .dataframe thead th {\n        text-align: right;\n    }\n</style>\n<table border=\"1\" class=\"dataframe\">\n  <thead>\n    <tr style=\"text-align: right;\">\n      <th></th>\n      <th>d_name</th>\n      <th>pct_both_over_benchmark</th>\n      <th>cumulative_enrollment</th>\n    </tr>\n  </thead>\n  <tbody>\n    <tr>\n      <th>137</th>\n      <td>Golden Plains Unified</td>\n      <td>0.960000</td>\n      <td>1818.0</td>\n    </tr>\n    <tr>\n      <th>310</th>\n      <td>San Pasqual Valley Unified</td>\n      <td>5.880000</td>\n      <td>784.0</td>\n    </tr>\n    <tr>\n      <th>116</th>\n      <td>Farmersville Unified</td>\n      <td>8.330000</td>\n      <td>2717.0</td>\n    </tr>\n    <tr>\n      <th>198</th>\n      <td>Lynwood Unified</td>\n      <td>9.230000</td>\n      <td>14764.0</td>\n    </tr>\n    <tr>\n      <th>47</th>\n      <td>Calistoga Joint Unified</td>\n      <td>9.680000</td>\n      <td>897.0</td>\n    </tr>\n    <tr>\n      <th>258</th>\n      <td>Paramount Unified</td>\n      <td>10.666667</td>\n      <td>15899.0</td>\n    </tr>\n    <tr>\n      <th>199</th>\n      <td>Madera Unified</td>\n      <td>12.775000</td>\n      <td>22685.0</td>\n    </tr>\n    <tr>\n      <th>139</th>\n      <td>Gonzales Unified</td>\n      <td>12.900000</td>\n      <td>2507.0</td>\n    </tr>\n    <tr>\n      <th>76</th>\n      <td>Corcoran Joint Unified</td>\n      <td>13.890000</td>\n      <td>3577.0</td>\n    </tr>\n    <tr>\n      <th>83</th>\n      <td>Cutler-Orosi Joint Unified</td>\n      <td>15.040000</td>\n      <td>4448.0</td>\n    </tr>\n  </tbody>\n</table>\n</div>"
     },
     "execution_count": 211,
     "metadata": {},
     "output_type": "execute_result"
    }
   ],
   "source": [
    "bottom_ten = final_merged_df.sort_values('pct_both_over_benchmark', ascending = True).head(10)\n",
    "bottom_ten[['d_name', 'pct_both_over_benchmark', 'cumulative_enrollment']]"
   ],
   "metadata": {
    "collapsed": false
   }
  },
  {
   "cell_type": "markdown",
   "source": [
    "What is the mean level of teacher experience and education, and mean student teacher ratio and mean cost per ADA for the top five and bottom five school districts?"
   ],
   "metadata": {
    "collapsed": false
   }
  },
  {
   "cell_type": "code",
   "execution_count": 209,
   "outputs": [
    {
     "name": "stdout",
     "output_type": "stream",
     "text": [
      "Top Five\n"
     ]
    },
    {
     "data": {
      "text/plain": "avg_tchr_yrs_tching           15.538576\navg_tchr_edu_lvl               5.883771\nstudent_teacher_ratio         16.728995\ncurrent_expense_per_ada    15502.352629\ndtype: float64"
     },
     "metadata": {},
     "output_type": "display_data"
    },
    {
     "name": "stdout",
     "output_type": "stream",
     "text": [
      "Bottom Five\n"
     ]
    },
    {
     "data": {
      "text/plain": "avg_tchr_yrs_tching           13.570482\navg_tchr_edu_lvl               4.529572\nstudent_teacher_ratio         17.818055\ncurrent_expense_per_ada    15095.944355\ndtype: float64"
     },
     "metadata": {},
     "output_type": "display_data"
    }
   ],
   "source": [
    "print('Top Five')\n",
    "display(top_ten[['avg_tchr_yrs_tching','avg_tchr_edu_lvl','student_teacher_ratio','current_expense_per_ada']].mean())\n",
    "\n",
    "print('Bottom Five')\n",
    "display(bottom_ten[['avg_tchr_yrs_tching','avg_tchr_edu_lvl','student_teacher_ratio','current_expense_per_ada']].mean())"
   ],
   "metadata": {
    "collapsed": false
   }
  },
  {
   "cell_type": "markdown",
   "source": [],
   "metadata": {
    "collapsed": false
   }
  },
  {
   "cell_type": "markdown",
   "metadata": {},
   "source": [
    "## Visualize the Data\n",
    "\n",
    "There's not a magic bullet recommendation for the right number of plots to understand a given dataset, but visualizing your data is *always* a good idea. Not only does it allow you to quickly convey your findings (even if you have a non-technical audience), it will often reveal trends in your data that escaped you when you were looking only at numbers. It is important to not only create visualizations, but to **interpret your visualizations** as well.\n",
    "\n",
    "**Every plot should**:\n",
    "- Have a title\n",
    "- Have axis labels\n",
    "- Have appropriate tick labels\n",
    "- Text is legible in a plot\n",
    "- Plots demonstrate meaningful and valid relationships\n",
    "- Have an interpretation to aid understanding\n",
    "\n",
    "Here is an example of what your plots should look like following the above guidelines. Note that while the content of this example is unrelated, the principles of visualization hold:\n",
    "\n",
    "![](https://snag.gy/hCBR1U.jpg)\n",
    "*Interpretation: The above image shows that as we increase our spending on advertising, our sales numbers also tend to increase. There is a positive correlation between advertising spending and sales.*\n",
    "\n",
    "---\n",
    "\n",
    "Here are some prompts to get you started with visualizations. Feel free to add additional visualizations as you see fit:\n",
    "1. Use Seaborn's heatmap with pandas `.corr()` to visualize correlations between all numeric features.\n",
    "    - Heatmaps are generally not appropriate for presentations, and should often be excluded from reports as they can be visually overwhelming. **However**, they can be extremely useful in identify relationships of potential interest (as well as identifying potential collinearity before modeling).\n",
    "    - Please take time to format your output, adding a title. Look through some of the additional arguments and options. (Axis labels aren't really necessary, as long as the title is informative).\n",
    "2. Visualize distributions using histograms. If you have a lot, consider writing a custom function and use subplots.\n",
    "    - *OPTIONAL*: Summarize the underlying distributions of your features (in words & statistics)\n",
    "         - Be thorough in your verbal description of these distributions.\n",
    "         - Be sure to back up these summaries with statistics.\n",
    "         - We generally assume that data we sample from a population will be normally distributed. Do we observe this trend? Explain your answers for each distribution and how you think this will affect estimates made from these data.\n",
    "3. Plot and interpret boxplots. \n",
    "    - Boxplots demonstrate central tendency and spread in variables. In a certain sense, these are somewhat redundant with histograms, but you may be better able to identify clear outliers or differences in IQR, etc.\n",
    "    - Multiple values can be plotted to a single boxplot as long as they are of the same relative scale (meaning they have similar min/max values).\n",
    "    - Each boxplot should:\n",
    "        - Only include variables of a similar scale\n",
    "        - Have clear labels for each variable\n",
    "        - Have appropriate titles and labels\n",
    "4. Plot and interpret scatter plots to view relationships between features. Feel free to write a custom function, and subplot if you'd like. Functions save both time and space.\n",
    "    - Your plots should have:\n",
    "        - Two clearly labeled axes\n",
    "        - A proper title\n",
    "        - Colors and symbols that are clear and unmistakable\n",
    "5. Additional plots of your choosing.\n",
    "    - Are there any additional trends or relationships you haven't explored? Was there something interesting you saw that you'd like to dive further into? It's likely that there are a few more plots you might want to generate to support your narrative and recommendations that you are building toward. **As always, make sure you're interpreting your plots as you go**."
   ]
  },
  {
   "cell_type": "code",
   "execution_count": 59,
   "metadata": {},
   "outputs": [
    {
     "data": {
      "application/vnd.plotly.v1+json": {
       "data": [
        {
         "hovertemplate": "pct_both_over_benchmark=%{x}<br>avg_tchr_edu_lvl=%{y}<extra></extra>",
         "legendgroup": "",
         "marker": {
          "color": "#636efa",
          "symbol": "circle"
         },
         "mode": "markers",
         "name": "",
         "orientation": "v",
         "showlegend": false,
         "x": [
          70.204,
          93.44,
          47.599999999999994,
          64.33,
          95.92,
          73.9675,
          null,
          18.81,
          85.565,
          59.141999999999996,
          54.32,
          null,
          18.058461538461536,
          54.3825,
          41.239999999999995,
          93.9,
          70.55000000000001,
          17.3775,
          44.0125,
          41.27,
          58.49,
          36.84,
          77.78,
          28.265,
          64.45,
          84.51,
          78.6,
          72.97,
          null,
          null,
          null,
          null,
          null,
          58.82,
          null,
          58.29666666666666,
          70.37,
          null,
          39.26,
          88.03,
          82.86,
          88.91333333333334,
          null,
          78.57,
          57.75,
          56.55,
          null,
          9.68,
          80.29166666666667,
          82.34625,
          83.86,
          96.7,
          71.43,
          20.9,
          83.71,
          76.265,
          24.085,
          29.71,
          55.24,
          36.82,
          56.88333333333333,
          69.3,
          39.14333333333334,
          86.38499999999999,
          33.589999999999996,
          41.54,
          83.12,
          56.52,
          71.15333333333334,
          32.4125,
          35.94,
          null,
          33.385,
          63.16,
          16.19333333333333,
          86.57,
          13.89,
          null,
          65.38428571428571,
          91.62,
          67.83,
          22.66,
          70.9,
          15.04,
          null,
          87.81,
          null,
          56.06,
          40.0525,
          22.03,
          18.81375,
          47.59,
          70.37,
          63.33,
          29.91,
          48.8525,
          92.17,
          null,
          71.43,
          40.54,
          32.55136363636364,
          null,
          86.412,
          50.26,
          33.53666666666667,
          86.71,
          null,
          64.96799999999999,
          26.42,
          74.51,
          58.464285714285715,
          61.11,
          53.265,
          67.03999999999999,
          61.11,
          64.81,
          8.33,
          null,
          20.54,
          18.87,
          85.5675,
          16.91,
          58.97,
          null,
          56.41,
          27.66,
          91.93666666666667,
          93.20833333333333,
          26.66769230769231,
          74.64571428571428,
          59.21666666666667,
          60.09375,
          80.0,
          null,
          70.1525,
          81.798,
          90.14,
          0.96,
          71.88,
          12.9,
          42.55,
          67.59384615384616,
          32.86,
          29.17,
          53.7525,
          44.40833333333333,
          58.59,
          50.08,
          48.216,
          48.48,
          42.86,
          54.17,
          78.02571428571427,
          68.33,
          19.912,
          95.53166666666668,
          77.34166666666665,
          61.67,
          null,
          34.0875,
          33.33,
          26.62,
          53.150555555555556,
          31.237499999999997,
          69.09,
          null,
          36.230000000000004,
          97.75,
          76.47,
          90.32,
          55.489999999999995,
          77.14,
          null,
          74.68,
          84.90666666666668,
          71.43,
          null,
          null,
          26.15,
          null,
          58.663333333333334,
          67.6,
          79.76,
          37.5,
          21.88,
          41.91,
          87.39666666666666,
          73.58571428571429,
          28.7,
          null,
          31.275333333333332,
          80.61500000000001,
          20.65160975609756,
          48.586666666666666,
          95.98,
          null,
          62.5,
          61.635000000000005,
          9.23,
          12.775,
          76.47,
          96.92,
          57.32833333333334,
          null,
          87.18,
          80.005,
          55.88333333333333,
          null,
          null,
          null,
          27.63,
          42.36571428571428,
          49.739999999999995,
          86.655,
          null,
          47.06,
          66.02,
          42.291999999999994,
          44.055,
          85.565,
          33.334,
          75.33,
          60.446666666666665,
          37.74,
          null,
          87.87,
          63.14000000000001,
          76.33,
          65.3275,
          49.056,
          32.309999999999995,
          null,
          88.905,
          72.66499999999999,
          71.07,
          23.53,
          70.93833333333333,
          35.29,
          71.51,
          18.214,
          76.28666666666668,
          93.805,
          70.0,
          33.53130434782609,
          64.045,
          84.0,
          77.628,
          50.0,
          71.01666666666667,
          null,
          24.967000000000002,
          93.59,
          45.256,
          38.642,
          96.62666666666667,
          33.93,
          90.61333333333334,
          74.595,
          10.666666666666666,
          18.18,
          51.068,
          73.61,
          31.94,
          41.872,
          98.96000000000001,
          44.74,
          38.855000000000004,
          85.868,
          84.1525,
          93.40666666666668,
          56.207499999999996,
          33.9075,
          46.146,
          null,
          91.505,
          null,
          82.04333333333334,
          68.57,
          44.94333333333333,
          90.67,
          27.12,
          20.2425,
          73.64,
          28.213333333333335,
          26.92,
          41.3,
          62.285,
          88.3375,
          78.06666666666666,
          null,
          66.41666666666667,
          27.912,
          82.482,
          67.35,
          47.906,
          60.23,
          19.56222222222222,
          50.415757575757574,
          91.772,
          56.02125,
          63.96333333333333,
          18.11,
          33.968,
          57.9725,
          26.64,
          65.73,
          71.45,
          84.81333333333333,
          96.34,
          81.58,
          5.88,
          72.38,
          92.30799999999999,
          54.555,
          47.519,
          79.8,
          51.815,
          50.075,
          83.73333333333333,
          49.14,
          75.0,
          72.73,
          86.84,
          39.52,
          60.66,
          null,
          84.752,
          81.63,
          60.87,
          null,
          null,
          83.1225,
          62.125,
          65.25,
          23.46,
          54.47,
          71.43,
          31.383333333333336,
          93.96,
          72.71333333333332,
          null,
          null,
          null,
          45.64545454545455,
          null,
          62.5,
          null,
          69.77,
          55.65846153846154,
          35.42,
          76.3,
          87.724,
          87.76,
          73.44800000000001,
          87.88,
          83.095,
          82.208,
          71.992,
          71.53,
          62.07,
          null,
          49.8475,
          null,
          65.42999999999999,
          70.6,
          41.830000000000005,
          65.20333333333333,
          68.44,
          null,
          71.495,
          17.0025,
          41.915,
          66.67,
          70.72,
          22.737142857142857,
          65.474,
          69.622,
          92.33,
          null,
          55.17,
          39.792500000000004,
          39.792500000000004,
          68.44,
          51.66111111111111,
          62.3675,
          75.54,
          71.70500000000001,
          null,
          57.14,
          56.60666666666666,
          76.53222222222222,
          31.25,
          35.415,
          50.0,
          64.05,
          56.0,
          43.3975,
          37.5,
          47.19,
          78.5,
          62.5,
          63.346666666666664,
          66.75
         ],
         "xaxis": "x",
         "y": [
          5.763992537313433,
          5.497109826589595,
          4.3913352272727275,
          4.706997084548105,
          4.780701754385965,
          6.177966101694915,
          4.653225806451613,
          6.862595419847328,
          4.569105691056911,
          5.301410541945063,
          4.44,
          4.093023255813954,
          5.2113271344040575,
          4.2930845225027445,
          4.5557029177718835,
          6.693069306930693,
          4.654929577464789,
          6.763052208835341,
          5.459915611814346,
          4.715355805243446,
          5.065625,
          5.6767676767676765,
          5.190839694656488,
          5.36443661971831,
          5.62012987012987,
          4.984615384615385,
          4.854755784061696,
          6.377104377104377,
          3.740740740740741,
          4.695652173913044,
          4.0,
          3.5454545454545454,
          3.7948717948717947,
          4.852173913043479,
          3.78125,
          6.576146788990826,
          4.744827586206896,
          3.5,
          5.267326732673268,
          5.666666666666667,
          4.717391304347826,
          4.855569155446757,
          4.391304347826087,
          4.595375722543353,
          4.019108280254777,
          5.0615711252653925,
          4.25,
          4.296875,
          5.282110091743119,
          5.572741806554756,
          6.981574539363484,
          5.158730158730159,
          5.503496503496503,
          4.954022988505747,
          5.183752417794971,
          4.681481481481481,
          5.843267108167771,
          4.048206278026906,
          4.785087719298246,
          3.609988109393579,
          5.058617672790901,
          6.3694779116465865,
          4.220779220779221,
          4.25,
          3.743050847457627,
          4.80327868852459,
          5.888888888888889,
          4.553191489361702,
          4.14987298899238,
          5.782010582010582,
          3.625,
          4.520833333333333,
          5.072050673000792,
          3.8941176470588235,
          4.555473916238061,
          6.0091093117408905,
          3.5473684210526315,
          3.0517241379310347,
          6.5064935064935066,
          5.838888888888889,
          4.498666666666667,
          6.461194029850747,
          5.816582914572864,
          4.775933609958506,
          4.821167883211679,
          4.762152777777778,
          5.5,
          3.5063291139240507,
          4.3852813852813854,
          3.8865248226950353,
          5.667580534612749,
          4.375,
          4.018264840182648,
          4.503703703703704,
          4.755226480836237,
          5.897163120567376,
          4.80030959752322,
          3.5,
          4.136363636363637,
          4.2,
          5.009097270818755,
          4.6,
          4.6023054755043225,
          6.047131147540983,
          5.765591397849462,
          6.354497354497354,
          3.871794871794872,
          3.7576013513513513,
          4.314814814814815,
          4.0426829268292686,
          5.64221824686941,
          4.622641509433962,
          3.8741721854304636,
          4.062226117440841,
          4.063291139240507,
          4.7190082644628095,
          4.417218543046357,
          3.1463414634146343,
          4.808219178082192,
          3.4671052631578947,
          4.685045948203843,
          5.6100782778864975,
          4.204379562043796,
          3.6,
          3.6769230769230767,
          4.139072847682119,
          4.607681088964512,
          5.675126903553299,
          4.279305036287663,
          6.2,
          4.6434108527131785,
          3.0207231040564375,
          4.379518072289157,
          4.363636363636363,
          4.413223140495868,
          6.1782407407407405,
          5.40979381443299,
          3.2346938775510203,
          3.6194690265486726,
          4.985294117647059,
          3.231578947368421,
          5.294657762938231,
          3.3564356435643563,
          3.875,
          4.175,
          4.5424739195231,
          4.56701030927835,
          6.020064205457464,
          4.989583333333333,
          3.8698630136986303,
          4.314814814814815,
          3.618181818181818,
          6.276081424936387,
          5.033492822966507,
          5.59009009009009,
          5.872706422018348,
          4.853146853146853,
          4.034883720930233,
          4.454545454545454,
          7.272638753651412,
          3.779816513761468,
          3.660377358490566,
          5.399808703969392,
          3.836693548387097,
          3.681159420289855,
          3.9404761904761907,
          3.9585492227979273,
          6.06140350877193,
          5.129032258064516,
          6.858695652173913,
          6.0427715996578275,
          4.1,
          3.758241758241758,
          3.957095709570957,
          7.401273885350318,
          4.976744186046512,
          3.3454545454545452,
          4.0,
          4.03030303030303,
          3.230769230769231,
          4.317073170731708,
          4.695754716981132,
          4.426691729323308,
          4.308943089430894,
          4.093877551020408,
          4.225225225225225,
          5.057324840764331,
          4.521598272138229,
          5.085427135678392,
          5.333333333333333,
          5.750393700787401,
          6.46218487394958,
          4.633090352538328,
          3.5375,
          6.14975845410628,
          3.6315789473684212,
          4.307894736842106,
          3.9363636363636365,
          5.6803977272727275,
          4.295150501672241,
          4.6521739130434785,
          6.894021739130435,
          4.288683602771362,
          4.518256772673734,
          3.976923076923077,
          4.716599190283401,
          2.984189723320158,
          2.6,
          4.285714285714286,
          4.372549019607843,
          3.443243243243243,
          3.8919860627177703,
          4.276666666666666,
          5.310408921933085,
          3.9245283018867925,
          4.228758169934641,
          5.401315789473684,
          4.783719074221867,
          3.8693009118541033,
          5.0700280112044815,
          5.778272980501392,
          4.747844827586207,
          4.511156186612576,
          5.0125,
          3.9,
          6.717314487632509,
          4.271305285868393,
          4.196261682242991,
          5.390893470790378,
          4.737383177570093,
          4.31216361679225,
          6.087719298245614,
          4.31413612565445,
          3.8967741935483873,
          4.175572519083969,
          3.802139037433155,
          6.247278382581649,
          3.4427480916030535,
          4.449612403100775,
          5.743027888446215,
          4.830472103004292,
          5.4025423728813555,
          3.8065693430656933,
          3.082939048149179,
          5.268984446477584,
          5.417218543046357,
          5.501766784452297,
          3.806201550387597,
          3.656,
          5.0,
          4.855039637599094,
          5.583333333333333,
          3.2130777903043968,
          6.058148431522571,
          5.930327868852459,
          5.086705202312139,
          6.805280528052806,
          3.8634538152610443,
          6.205649717514124,
          5.171717171717172,
          5.116910229645094,
          4.425196850393701,
          3.945945945945946,
          5.53411306042885,
          5.674311926605505,
          3.4444444444444446,
          4.869760479041916,
          5.349320543565148,
          4.6255506607929515,
          4.414035087719299,
          3.6923076923076925,
          4.372847011144883,
          4.13550135501355,
          3.55,
          5.69905462184874,
          2.3076923076923075,
          5.22027972027972,
          4.346534653465347,
          4.7434554973821985,
          5.678776290630975,
          3.357142857142857,
          5.5380597014925375,
          4.230232558139535,
          3.9708029197080292,
          3.8011049723756907,
          4.479166666666667,
          5.583599088838269,
          4.783042394014963,
          6.092896174863388,
          2.972972972972973,
          5.623152709359606,
          3.5602455871066767,
          4.453883495145631,
          5.89622641509434,
          5.264434180138569,
          5.414285714285715,
          4.214172227518271,
          5.741881443298969,
          6.103343465045593,
          2.4391066160977664,
          4.983516483516484,
          5.688693098384729,
          4.253448275862069,
          4.557512953367875,
          5.01980198019802,
          3.957055214723926,
          4.914754098360656,
          4.59275053304904,
          6.13903743315508,
          5.763333333333334,
          3.857142857142857,
          4.863636363636363,
          5.204799107142857,
          4.386271870794078,
          5.645645645645645,
          5.321029082774049,
          4.788418708240535,
          4.424170616113744,
          5.404129793510324,
          4.96,
          5.163636363636364,
          3.74,
          5.617647058823529,
          5.076923076923077,
          5.28134110787172,
          4.28,
          4.5495207667731625,
          4.303630363036303,
          4.329411764705882,
          3.774193548387097,
          4.104477611940299,
          4.349384098544233,
          4.239130434782608,
          6.205555555555556,
          4.898550724637682,
          4.115942028985507,
          4.5,
          4.532786885245901,
          6.176706827309237,
          4.302734375,
          3.422222222222222,
          3.699074074074074,
          3.0833333333333335,
          4.543509965969859,
          3.75,
          3.463768115942029,
          4.3,
          3.763157894736842,
          5.328223624887285,
          5.472222222222222,
          4.762987012987013,
          5.073654390934844,
          3.8009049773755654,
          6.16258064516129,
          5.551839464882943,
          4.6015625,
          5.389521640091116,
          4.49877750611247,
          4.872549019607843,
          4.711538461538462,
          3.9672544080604535,
          5.268456375838926,
          4.392857142857143,
          4.434058898847631,
          5.925699300699301,
          4.174746936600959,
          3.925581395348837,
          5.485165794066318,
          4.188679245283019,
          3.5685019206145965,
          6.2536873156342185,
          4.4013793103448275,
          4.464454976303317,
          5.312831389183457,
          4.351145038167939,
          4.460688758934373,
          5.711648631444939,
          5.827027027027027,
          5.258503401360544,
          4.337078651685394,
          3.6889580093312597,
          3.6889580093312597,
          3.7191489361702126,
          3.9733481399222654,
          5.211538461538462,
          4.184873949579832,
          4.330783938814531,
          4.181818181818182,
          4.425,
          5.380106571936057,
          4.708364174685419,
          4.341772151898734,
          3.8615384615384616,
          4.061728395061729,
          3.9938650306748467,
          4.548387096774194,
          5.354014598540146,
          3.630630630630631,
          4.201907790143085,
          4.364406779661017,
          4.511627906976744,
          4.460093896713615,
          5.632798573975045
         ],
         "yaxis": "y",
         "type": "scatter"
        },
        {
         "hovertemplate": "<b>OLS trendline</b><br>avg_tchr_edu_lvl = 0.00963694 * pct_both_over_benchmark + 4.24783<br>R<sup>2</sup>=0.065770<br><br>pct_both_over_benchmark=%{x}<br>avg_tchr_edu_lvl=%{y} <b>(trend)</b><extra></extra>",
         "legendgroup": "",
         "marker": {
          "color": "#636efa",
          "symbol": "circle"
         },
         "mode": "lines",
         "name": "",
         "showlegend": false,
         "x": [
          0.96,
          5.88,
          8.33,
          9.23,
          9.68,
          10.666666666666666,
          12.775,
          12.9,
          13.89,
          15.04,
          16.19333333333333,
          16.91,
          17.0025,
          17.3775,
          18.058461538461536,
          18.11,
          18.18,
          18.214,
          18.81,
          18.81375,
          18.87,
          19.56222222222222,
          19.912,
          20.2425,
          20.54,
          20.65160975609756,
          20.9,
          21.88,
          22.03,
          22.66,
          22.737142857142857,
          23.46,
          23.53,
          24.085,
          24.967000000000002,
          26.15,
          26.42,
          26.62,
          26.64,
          26.66769230769231,
          26.92,
          27.12,
          27.63,
          27.66,
          27.912,
          28.213333333333335,
          28.265,
          28.7,
          29.17,
          29.71,
          29.91,
          31.237499999999997,
          31.25,
          31.275333333333332,
          31.383333333333336,
          31.94,
          32.309999999999995,
          32.4125,
          32.55136363636364,
          32.86,
          33.33,
          33.334,
          33.385,
          33.53130434782609,
          33.53666666666667,
          33.589999999999996,
          33.9075,
          33.93,
          33.968,
          34.0875,
          35.29,
          35.415,
          35.42,
          35.94,
          36.230000000000004,
          36.82,
          36.84,
          37.5,
          37.5,
          37.74,
          38.642,
          38.855000000000004,
          39.14333333333334,
          39.26,
          39.52,
          39.792500000000004,
          39.792500000000004,
          40.0525,
          40.54,
          41.239999999999995,
          41.27,
          41.3,
          41.54,
          41.830000000000005,
          41.872,
          41.91,
          41.915,
          42.291999999999994,
          42.36571428571428,
          42.55,
          42.86,
          43.3975,
          44.0125,
          44.055,
          44.40833333333333,
          44.74,
          44.94333333333333,
          45.256,
          45.64545454545455,
          46.146,
          47.06,
          47.19,
          47.519,
          47.59,
          47.599999999999994,
          47.906,
          48.216,
          48.48,
          48.586666666666666,
          48.8525,
          49.056,
          49.14,
          49.739999999999995,
          49.8475,
          50.0,
          50.0,
          50.075,
          50.08,
          50.26,
          50.415757575757574,
          51.068,
          51.66111111111111,
          51.815,
          53.150555555555556,
          53.265,
          53.7525,
          54.17,
          54.32,
          54.3825,
          54.47,
          54.555,
          55.17,
          55.24,
          55.489999999999995,
          55.65846153846154,
          55.88333333333333,
          56.0,
          56.02125,
          56.06,
          56.207499999999996,
          56.41,
          56.52,
          56.55,
          56.60666666666666,
          56.88333333333333,
          57.14,
          57.32833333333334,
          57.75,
          57.9725,
          58.29666666666666,
          58.464285714285715,
          58.49,
          58.59,
          58.663333333333334,
          58.82,
          58.97,
          59.141999999999996,
          59.21666666666667,
          60.09375,
          60.23,
          60.446666666666665,
          60.66,
          60.87,
          61.11,
          61.11,
          61.635000000000005,
          61.67,
          62.07,
          62.125,
          62.285,
          62.3675,
          62.5,
          62.5,
          62.5,
          63.14000000000001,
          63.16,
          63.33,
          63.346666666666664,
          63.96333333333333,
          64.045,
          64.05,
          64.33,
          64.45,
          64.81,
          64.96799999999999,
          65.20333333333333,
          65.25,
          65.3275,
          65.38428571428571,
          65.42999999999999,
          65.474,
          65.73,
          66.02,
          66.41666666666667,
          66.67,
          66.75,
          67.03999999999999,
          67.35,
          67.59384615384616,
          67.6,
          67.83,
          68.33,
          68.44,
          68.44,
          68.57,
          69.09,
          69.3,
          69.622,
          69.77,
          70.0,
          70.1525,
          70.204,
          70.37,
          70.37,
          70.55000000000001,
          70.6,
          70.72,
          70.9,
          70.93833333333333,
          71.01666666666667,
          71.07,
          71.15333333333334,
          71.43,
          71.43,
          71.43,
          71.43,
          71.45,
          71.495,
          71.51,
          71.53,
          71.70500000000001,
          71.88,
          71.992,
          72.38,
          72.66499999999999,
          72.71333333333332,
          72.73,
          72.97,
          73.44800000000001,
          73.58571428571429,
          73.61,
          73.64,
          73.9675,
          74.51,
          74.595,
          74.64571428571428,
          74.68,
          75.0,
          75.33,
          75.54,
          76.265,
          76.28666666666668,
          76.3,
          76.33,
          76.47,
          76.47,
          76.53222222222222,
          77.14,
          77.34166666666665,
          77.628,
          77.78,
          78.02571428571427,
          78.06666666666666,
          78.5,
          78.57,
          78.6,
          79.76,
          79.8,
          80.0,
          80.005,
          80.29166666666667,
          80.61500000000001,
          81.58,
          81.63,
          81.798,
          82.04333333333334,
          82.208,
          82.34625,
          82.482,
          82.86,
          83.095,
          83.12,
          83.1225,
          83.71,
          83.73333333333333,
          83.86,
          84.0,
          84.1525,
          84.51,
          84.752,
          84.81333333333333,
          84.90666666666668,
          85.565,
          85.565,
          85.5675,
          85.868,
          86.38499999999999,
          86.412,
          86.57,
          86.655,
          86.71,
          86.84,
          87.18,
          87.39666666666666,
          87.724,
          87.76,
          87.81,
          87.87,
          87.88,
          88.03,
          88.3375,
          88.905,
          88.91333333333334,
          90.14,
          90.32,
          90.61333333333334,
          90.67,
          91.505,
          91.62,
          91.772,
          91.93666666666667,
          92.17,
          92.30799999999999,
          92.33,
          93.20833333333333,
          93.40666666666668,
          93.44,
          93.59,
          93.805,
          93.9,
          93.96,
          95.53166666666668,
          95.92,
          95.98,
          96.34,
          96.62666666666667,
          96.7,
          96.92,
          97.75,
          98.96000000000001
         ],
         "xaxis": "x",
         "y": [
          4.257076715331616,
          4.304490443793891,
          4.328100938658236,
          4.336774181669628,
          4.341110803175324,
          4.35061924736559,
          4.370937122197833,
          4.372141739282749,
          4.3816823065952795,
          4.392764783776503,
          4.40387938407999,
          4.410785855366839,
          4.411677272009677,
          4.415291123264423,
          4.421853506491632,
          4.422350179382028,
          4.423024764949581,
          4.423352420796678,
          4.4290960350575554,
          4.429132173570103,
          4.429674251258315,
          4.436345152981891,
          4.439715939278171,
          4.4429009468506875,
          4.445767935512786,
          4.446843511665094,
          4.449237232717343,
          4.4586814306630815,
          4.46012697116498,
          4.466198241272954,
          4.466941662102502,
          4.473907790616414,
          4.4745823761839665,
          4.479930876040991,
          4.488430654192156,
          4.499831150283796,
          4.502433123187214,
          4.504360510523079,
          4.504553249256666,
          4.5048201182724,
          4.5072515915268765,
          4.5091789788627405,
          4.514093816569196,
          4.514382924669576,
          4.516811432712766,
          4.519715362965469,
          4.520213271360568,
          4.524405338816074,
          4.528934699055356,
          4.534138644862191,
          4.536066032198056,
          4.548859065639859,
          4.548979527348351,
          4.54922366307756,
          4.5502644522389275,
          4.555629013657084,
          4.559194680228434,
          4.560182466238065,
          4.5615206863087625,
          4.564494995402063,
          4.5690243556413455,
          4.569062903388063,
          4.569554387158708,
          4.570964312894618,
          4.571015989221739,
          4.57152995917797,
          4.574589686573655,
          4.57480651764894,
          4.575172721242755,
          4.576324335175934,
          4.587912751532821,
          4.589117368617736,
          4.589165553301133,
          4.594176760374382,
          4.596971472011386,
          4.602657264652187,
          4.6028500033857735,
          4.609210381594128,
          4.609210381594128,
          4.611523246397166,
          4.620215763281917,
          4.6222684307946125,
          4.625047080870484,
          4.6261713901497385,
          4.628676993686363,
          4.631303058931479,
          4.631303058931479,
          4.633808662468104,
          4.638506669099274,
          4.645252524774801,
          4.64554163287518,
          4.64583074097556,
          4.648143605778598,
          4.650938317415602,
          4.651343068756134,
          4.651709272349948,
          4.651757457033345,
          4.65539058216145,
          4.65610096206524,
          4.657876911824716,
          4.660864362195307,
          4.666044215660444,
          4.671970931718228,
          4.672380501527099,
          4.6757855524871275,
          4.678981803152436,
          4.680941313610566,
          4.683954462478968,
          4.687707611272988,
          4.692531336123566,
          4.701339496248469,
          4.702592298016781,
          4.7057628501842785,
          4.706447072688511,
          4.706543442055304,
          4.709492344679178,
          4.712479795049768,
          4.715023946333109,
          4.7160518862455705,
          4.718613705246158,
          4.7205748218604,
          4.7213843245414635,
          4.727166486549058,
          4.7282024572420855,
          4.729672090085683,
          4.729672090085683,
          4.730394860336632,
          4.730443045020029,
          4.732177693622307,
          4.733678719517208,
          4.739964338459201,
          4.745680112680782,
          4.747163130158656,
          4.760033794479265,
          4.761136688343677,
          4.765834694974847,
          4.769858116038465,
          4.771303656540364,
          4.771905965082822,
          4.772749197042263,
          4.773568336660005,
          4.77949505271779,
          4.780169638285342,
          4.782578872455173,
          4.7842023256342285,
          4.786369400882374,
          4.787493710161629,
          4.787698495066064,
          4.788071926362388,
          4.789493374522588,
          4.791444854200152,
          4.7925049172348775,
          4.792794025335257,
          4.793340118413752,
          4.796006337561699,
          4.798479817976059,
          4.800294774383998,
          4.804358349350446,
          4.806502567761596,
          4.80962654140181,
          4.811241875549964,
          4.811489682493146,
          4.812453376161079,
          4.813160084850896,
          4.8146698715973235,
          4.816115412099222,
          4.817772965208066,
          4.818492523146789,
          4.826944919692613,
          4.8282579523151705,
          4.8303459552623575,
          4.83240183508728,
          4.834425591789938,
          4.836738456592976,
          4.836738456592976,
          4.841797848349621,
          4.842135141133398,
          4.845989915805128,
          4.8465199473224905,
          4.848061857191182,
          4.848856904467227,
          4.850133798577237,
          4.850133798577237,
          4.850133798577237,
          4.856301438052005,
          4.856494176785591,
          4.858132456021076,
          4.858293071632398,
          4.864235849251315,
          4.865022865746793,
          4.86507105043019,
          4.867769392700401,
          4.86892582510192,
          4.872395122306476,
          4.873917758301809,
          4.876185650733677,
          4.876635374445379,
          4.877382237038027,
          4.8779294773708886,
          4.878370023047657,
          4.878794048261548,
          4.881261104051455,
          4.884055815688459,
          4.8878784672379245,
          4.89031982453002,
          4.891090779464366,
          4.893885491101369,
          4.89687294147196,
          4.899222871416073,
          4.899282175641791,
          4.901498671078036,
          4.906317139417698,
          4.907377202452424,
          4.907377202452424,
          4.908630004220736,
          4.913641211293985,
          4.915664967996642,
          4.918768061607385,
          4.920194328235925,
          4.92241082367217,
          4.923880456515767,
          4.924376758754752,
          4.92597649024352,
          4.92597649024352,
          4.927711138845798,
          4.928192985679765,
          4.929349418081284,
          4.931084066683562,
          4.931453482589602,
          4.932208375962817,
          4.932722345919047,
          4.933525423975658,
          4.936191643123604,
          4.936191643123604,
          4.936191643123604,
          4.936191643123604,
          4.936384381857191,
          4.93681804400776,
          4.93696259805795,
          4.937155336791536,
          4.938841800710418,
          4.940528264629299,
          4.941607601537384,
          4.945346732968962,
          4.948093259922569,
          4.948559045195403,
          4.948719660806725,
          4.951032525609763,
          4.955638981342481,
          4.956966125193747,
          4.957200165084531,
          4.957489273184911,
          4.96064536994739,
          4.965873408095923,
          4.966692547713666,
          4.967181278073831,
          4.967511687331408,
          4.970595507068792,
          4.973775696172969,
          4.975799452875627,
          4.982786231968137,
          4.982995032262856,
          4.983123524751914,
          4.983412632852293,
          4.984761803987398,
          4.984761803987398,
          4.985361435603001,
          4.991218551562546,
          4.9931620004595425,
          4.995921376662056,
          4.997386191037314,
          4.9997541240499475,
          5.000148779552053,
          5.0043247854464274,
          5.00499937101398,
          5.005288479114359,
          5.016467325662376,
          5.016852803129549,
          5.018780190465414,
          5.01882837514881,
          5.02159096366355,
          5.024706906523198,
          5.034006550418746,
          5.034488397252712,
          5.036107402614839,
          5.0384716644135,
          5.040058546653362,
          5.041390853149278,
          5.042699067303497,
          5.046341829368282,
          5.0486065094879224,
          5.048847432904906,
          5.048871525246604,
          5.054533225545707,
          5.054758087401558,
          5.055978766047605,
          5.057327937182711,
          5.058797570026308,
          5.0622427748891665,
          5.064574913565563,
          5.065165979015228,
          5.066065426438632,
          5.072409743085854,
          5.072409743085854,
          5.072433835427552,
          5.075329734899689,
          5.0803120311629,
          5.080572228453241,
          5.082094864448575,
          5.082914004066318,
          5.08344403558368,
          5.084696837351992,
          5.087973395822963,
          5.09006139877015,
          5.093215889376515,
          5.093562819096971,
          5.094044665930937,
          5.094622882131697,
          5.094719251498489,
          5.096164792000389,
          5.099128150029281,
          5.1045971115947975,
          5.104677419400458,
          5.116498728393763,
          5.1182333769960415,
          5.12106021175531,
          5.121606304833804,
          5.12965314696104,
          5.130761394679163,
          5.13222620905442,
          5.133813091294282,
          5.136061709852791,
          5.137391607114538,
          5.137603619721483,
          5.1460680624381565,
          5.147979388212889,
          5.148300619435533,
          5.149746159937432,
          5.151818101323487,
          5.152733610308022,
          5.153311826508782,
          5.1684578786564535,
          5.1722002224002575,
          5.172778438601017,
          5.176247735805574,
          5.179010324320314,
          5.179717033010131,
          5.181837159079582,
          5.189835816523421,
          5.201496509905404
         ],
         "yaxis": "y",
         "type": "scatter"
        }
       ],
       "layout": {
        "template": {
         "data": {
          "histogram2dcontour": [
           {
            "type": "histogram2dcontour",
            "colorbar": {
             "outlinewidth": 0,
             "ticks": ""
            },
            "colorscale": [
             [
              0.0,
              "#0d0887"
             ],
             [
              0.1111111111111111,
              "#46039f"
             ],
             [
              0.2222222222222222,
              "#7201a8"
             ],
             [
              0.3333333333333333,
              "#9c179e"
             ],
             [
              0.4444444444444444,
              "#bd3786"
             ],
             [
              0.5555555555555556,
              "#d8576b"
             ],
             [
              0.6666666666666666,
              "#ed7953"
             ],
             [
              0.7777777777777778,
              "#fb9f3a"
             ],
             [
              0.8888888888888888,
              "#fdca26"
             ],
             [
              1.0,
              "#f0f921"
             ]
            ]
           }
          ],
          "choropleth": [
           {
            "type": "choropleth",
            "colorbar": {
             "outlinewidth": 0,
             "ticks": ""
            }
           }
          ],
          "histogram2d": [
           {
            "type": "histogram2d",
            "colorbar": {
             "outlinewidth": 0,
             "ticks": ""
            },
            "colorscale": [
             [
              0.0,
              "#0d0887"
             ],
             [
              0.1111111111111111,
              "#46039f"
             ],
             [
              0.2222222222222222,
              "#7201a8"
             ],
             [
              0.3333333333333333,
              "#9c179e"
             ],
             [
              0.4444444444444444,
              "#bd3786"
             ],
             [
              0.5555555555555556,
              "#d8576b"
             ],
             [
              0.6666666666666666,
              "#ed7953"
             ],
             [
              0.7777777777777778,
              "#fb9f3a"
             ],
             [
              0.8888888888888888,
              "#fdca26"
             ],
             [
              1.0,
              "#f0f921"
             ]
            ]
           }
          ],
          "heatmap": [
           {
            "type": "heatmap",
            "colorbar": {
             "outlinewidth": 0,
             "ticks": ""
            },
            "colorscale": [
             [
              0.0,
              "#0d0887"
             ],
             [
              0.1111111111111111,
              "#46039f"
             ],
             [
              0.2222222222222222,
              "#7201a8"
             ],
             [
              0.3333333333333333,
              "#9c179e"
             ],
             [
              0.4444444444444444,
              "#bd3786"
             ],
             [
              0.5555555555555556,
              "#d8576b"
             ],
             [
              0.6666666666666666,
              "#ed7953"
             ],
             [
              0.7777777777777778,
              "#fb9f3a"
             ],
             [
              0.8888888888888888,
              "#fdca26"
             ],
             [
              1.0,
              "#f0f921"
             ]
            ]
           }
          ],
          "heatmapgl": [
           {
            "type": "heatmapgl",
            "colorbar": {
             "outlinewidth": 0,
             "ticks": ""
            },
            "colorscale": [
             [
              0.0,
              "#0d0887"
             ],
             [
              0.1111111111111111,
              "#46039f"
             ],
             [
              0.2222222222222222,
              "#7201a8"
             ],
             [
              0.3333333333333333,
              "#9c179e"
             ],
             [
              0.4444444444444444,
              "#bd3786"
             ],
             [
              0.5555555555555556,
              "#d8576b"
             ],
             [
              0.6666666666666666,
              "#ed7953"
             ],
             [
              0.7777777777777778,
              "#fb9f3a"
             ],
             [
              0.8888888888888888,
              "#fdca26"
             ],
             [
              1.0,
              "#f0f921"
             ]
            ]
           }
          ],
          "contourcarpet": [
           {
            "type": "contourcarpet",
            "colorbar": {
             "outlinewidth": 0,
             "ticks": ""
            }
           }
          ],
          "contour": [
           {
            "type": "contour",
            "colorbar": {
             "outlinewidth": 0,
             "ticks": ""
            },
            "colorscale": [
             [
              0.0,
              "#0d0887"
             ],
             [
              0.1111111111111111,
              "#46039f"
             ],
             [
              0.2222222222222222,
              "#7201a8"
             ],
             [
              0.3333333333333333,
              "#9c179e"
             ],
             [
              0.4444444444444444,
              "#bd3786"
             ],
             [
              0.5555555555555556,
              "#d8576b"
             ],
             [
              0.6666666666666666,
              "#ed7953"
             ],
             [
              0.7777777777777778,
              "#fb9f3a"
             ],
             [
              0.8888888888888888,
              "#fdca26"
             ],
             [
              1.0,
              "#f0f921"
             ]
            ]
           }
          ],
          "surface": [
           {
            "type": "surface",
            "colorbar": {
             "outlinewidth": 0,
             "ticks": ""
            },
            "colorscale": [
             [
              0.0,
              "#0d0887"
             ],
             [
              0.1111111111111111,
              "#46039f"
             ],
             [
              0.2222222222222222,
              "#7201a8"
             ],
             [
              0.3333333333333333,
              "#9c179e"
             ],
             [
              0.4444444444444444,
              "#bd3786"
             ],
             [
              0.5555555555555556,
              "#d8576b"
             ],
             [
              0.6666666666666666,
              "#ed7953"
             ],
             [
              0.7777777777777778,
              "#fb9f3a"
             ],
             [
              0.8888888888888888,
              "#fdca26"
             ],
             [
              1.0,
              "#f0f921"
             ]
            ]
           }
          ],
          "mesh3d": [
           {
            "type": "mesh3d",
            "colorbar": {
             "outlinewidth": 0,
             "ticks": ""
            }
           }
          ],
          "scatter": [
           {
            "marker": {
             "line": {
              "color": "#283442"
             }
            },
            "type": "scatter"
           }
          ],
          "parcoords": [
           {
            "type": "parcoords",
            "line": {
             "colorbar": {
              "outlinewidth": 0,
              "ticks": ""
             }
            }
           }
          ],
          "scatterpolargl": [
           {
            "type": "scatterpolargl",
            "marker": {
             "colorbar": {
              "outlinewidth": 0,
              "ticks": ""
             }
            }
           }
          ],
          "bar": [
           {
            "error_x": {
             "color": "#f2f5fa"
            },
            "error_y": {
             "color": "#f2f5fa"
            },
            "marker": {
             "line": {
              "color": "rgb(17,17,17)",
              "width": 0.5
             },
             "pattern": {
              "fillmode": "overlay",
              "size": 10,
              "solidity": 0.2
             }
            },
            "type": "bar"
           }
          ],
          "scattergeo": [
           {
            "type": "scattergeo",
            "marker": {
             "colorbar": {
              "outlinewidth": 0,
              "ticks": ""
             }
            }
           }
          ],
          "scatterpolar": [
           {
            "type": "scatterpolar",
            "marker": {
             "colorbar": {
              "outlinewidth": 0,
              "ticks": ""
             }
            }
           }
          ],
          "histogram": [
           {
            "marker": {
             "pattern": {
              "fillmode": "overlay",
              "size": 10,
              "solidity": 0.2
             }
            },
            "type": "histogram"
           }
          ],
          "scattergl": [
           {
            "marker": {
             "line": {
              "color": "#283442"
             }
            },
            "type": "scattergl"
           }
          ],
          "scatter3d": [
           {
            "type": "scatter3d",
            "line": {
             "colorbar": {
              "outlinewidth": 0,
              "ticks": ""
             }
            },
            "marker": {
             "colorbar": {
              "outlinewidth": 0,
              "ticks": ""
             }
            }
           }
          ],
          "scattermapbox": [
           {
            "type": "scattermapbox",
            "marker": {
             "colorbar": {
              "outlinewidth": 0,
              "ticks": ""
             }
            }
           }
          ],
          "scatterternary": [
           {
            "type": "scatterternary",
            "marker": {
             "colorbar": {
              "outlinewidth": 0,
              "ticks": ""
             }
            }
           }
          ],
          "scattercarpet": [
           {
            "type": "scattercarpet",
            "marker": {
             "colorbar": {
              "outlinewidth": 0,
              "ticks": ""
             }
            }
           }
          ],
          "carpet": [
           {
            "aaxis": {
             "endlinecolor": "#A2B1C6",
             "gridcolor": "#506784",
             "linecolor": "#506784",
             "minorgridcolor": "#506784",
             "startlinecolor": "#A2B1C6"
            },
            "baxis": {
             "endlinecolor": "#A2B1C6",
             "gridcolor": "#506784",
             "linecolor": "#506784",
             "minorgridcolor": "#506784",
             "startlinecolor": "#A2B1C6"
            },
            "type": "carpet"
           }
          ],
          "table": [
           {
            "cells": {
             "fill": {
              "color": "#506784"
             },
             "line": {
              "color": "rgb(17,17,17)"
             }
            },
            "header": {
             "fill": {
              "color": "#2a3f5f"
             },
             "line": {
              "color": "rgb(17,17,17)"
             }
            },
            "type": "table"
           }
          ],
          "barpolar": [
           {
            "marker": {
             "line": {
              "color": "rgb(17,17,17)",
              "width": 0.5
             },
             "pattern": {
              "fillmode": "overlay",
              "size": 10,
              "solidity": 0.2
             }
            },
            "type": "barpolar"
           }
          ],
          "pie": [
           {
            "automargin": true,
            "type": "pie"
           }
          ]
         },
         "layout": {
          "autotypenumbers": "strict",
          "colorway": [
           "#636efa",
           "#EF553B",
           "#00cc96",
           "#ab63fa",
           "#FFA15A",
           "#19d3f3",
           "#FF6692",
           "#B6E880",
           "#FF97FF",
           "#FECB52"
          ],
          "font": {
           "color": "#f2f5fa"
          },
          "hovermode": "closest",
          "hoverlabel": {
           "align": "left"
          },
          "paper_bgcolor": "rgb(17,17,17)",
          "plot_bgcolor": "rgb(17,17,17)",
          "polar": {
           "bgcolor": "rgb(17,17,17)",
           "angularaxis": {
            "gridcolor": "#506784",
            "linecolor": "#506784",
            "ticks": ""
           },
           "radialaxis": {
            "gridcolor": "#506784",
            "linecolor": "#506784",
            "ticks": ""
           }
          },
          "ternary": {
           "bgcolor": "rgb(17,17,17)",
           "aaxis": {
            "gridcolor": "#506784",
            "linecolor": "#506784",
            "ticks": ""
           },
           "baxis": {
            "gridcolor": "#506784",
            "linecolor": "#506784",
            "ticks": ""
           },
           "caxis": {
            "gridcolor": "#506784",
            "linecolor": "#506784",
            "ticks": ""
           }
          },
          "coloraxis": {
           "colorbar": {
            "outlinewidth": 0,
            "ticks": ""
           }
          },
          "colorscale": {
           "sequential": [
            [
             0.0,
             "#0d0887"
            ],
            [
             0.1111111111111111,
             "#46039f"
            ],
            [
             0.2222222222222222,
             "#7201a8"
            ],
            [
             0.3333333333333333,
             "#9c179e"
            ],
            [
             0.4444444444444444,
             "#bd3786"
            ],
            [
             0.5555555555555556,
             "#d8576b"
            ],
            [
             0.6666666666666666,
             "#ed7953"
            ],
            [
             0.7777777777777778,
             "#fb9f3a"
            ],
            [
             0.8888888888888888,
             "#fdca26"
            ],
            [
             1.0,
             "#f0f921"
            ]
           ],
           "sequentialminus": [
            [
             0.0,
             "#0d0887"
            ],
            [
             0.1111111111111111,
             "#46039f"
            ],
            [
             0.2222222222222222,
             "#7201a8"
            ],
            [
             0.3333333333333333,
             "#9c179e"
            ],
            [
             0.4444444444444444,
             "#bd3786"
            ],
            [
             0.5555555555555556,
             "#d8576b"
            ],
            [
             0.6666666666666666,
             "#ed7953"
            ],
            [
             0.7777777777777778,
             "#fb9f3a"
            ],
            [
             0.8888888888888888,
             "#fdca26"
            ],
            [
             1.0,
             "#f0f921"
            ]
           ],
           "diverging": [
            [
             0,
             "#8e0152"
            ],
            [
             0.1,
             "#c51b7d"
            ],
            [
             0.2,
             "#de77ae"
            ],
            [
             0.3,
             "#f1b6da"
            ],
            [
             0.4,
             "#fde0ef"
            ],
            [
             0.5,
             "#f7f7f7"
            ],
            [
             0.6,
             "#e6f5d0"
            ],
            [
             0.7,
             "#b8e186"
            ],
            [
             0.8,
             "#7fbc41"
            ],
            [
             0.9,
             "#4d9221"
            ],
            [
             1,
             "#276419"
            ]
           ]
          },
          "xaxis": {
           "gridcolor": "#283442",
           "linecolor": "#506784",
           "ticks": "",
           "title": {
            "standoff": 15
           },
           "zerolinecolor": "#283442",
           "automargin": true,
           "zerolinewidth": 2
          },
          "yaxis": {
           "gridcolor": "#283442",
           "linecolor": "#506784",
           "ticks": "",
           "title": {
            "standoff": 15
           },
           "zerolinecolor": "#283442",
           "automargin": true,
           "zerolinewidth": 2
          },
          "scene": {
           "xaxis": {
            "backgroundcolor": "rgb(17,17,17)",
            "gridcolor": "#506784",
            "linecolor": "#506784",
            "showbackground": true,
            "ticks": "",
            "zerolinecolor": "#C8D4E3",
            "gridwidth": 2
           },
           "yaxis": {
            "backgroundcolor": "rgb(17,17,17)",
            "gridcolor": "#506784",
            "linecolor": "#506784",
            "showbackground": true,
            "ticks": "",
            "zerolinecolor": "#C8D4E3",
            "gridwidth": 2
           },
           "zaxis": {
            "backgroundcolor": "rgb(17,17,17)",
            "gridcolor": "#506784",
            "linecolor": "#506784",
            "showbackground": true,
            "ticks": "",
            "zerolinecolor": "#C8D4E3",
            "gridwidth": 2
           }
          },
          "shapedefaults": {
           "line": {
            "color": "#f2f5fa"
           }
          },
          "annotationdefaults": {
           "arrowcolor": "#f2f5fa",
           "arrowhead": 0,
           "arrowwidth": 1
          },
          "geo": {
           "bgcolor": "rgb(17,17,17)",
           "landcolor": "rgb(17,17,17)",
           "subunitcolor": "#506784",
           "showland": true,
           "showlakes": true,
           "lakecolor": "rgb(17,17,17)"
          },
          "title": {
           "x": 0.05
          },
          "updatemenudefaults": {
           "bgcolor": "#506784",
           "borderwidth": 0
          },
          "sliderdefaults": {
           "bgcolor": "#C8D4E3",
           "borderwidth": 1,
           "bordercolor": "rgb(17,17,17)",
           "tickwidth": 0
          },
          "mapbox": {
           "style": "dark"
          }
         }
        },
        "xaxis": {
         "anchor": "y",
         "domain": [
          0.0,
          1.0
         ],
         "title": {
          "text": "pct_both_over_benchmark"
         }
        },
        "yaxis": {
         "anchor": "x",
         "domain": [
          0.0,
          1.0
         ],
         "title": {
          "text": "avg_tchr_edu_lvl"
         }
        },
        "legend": {
         "tracegroupgap": 0
        },
        "margin": {
         "t": 60
        }
       },
       "config": {
        "plotlyServerURL": "https://plot.ly"
       }
      },
      "text/html": "<div>                            <div id=\"b2ec9263-dbae-4c35-905a-6882da609fa9\" class=\"plotly-graph-div\" style=\"height:525px; width:100%;\"></div>            <script type=\"text/javascript\">                require([\"plotly\"], function(Plotly) {                    window.PLOTLYENV=window.PLOTLYENV || {};                                    if (document.getElementById(\"b2ec9263-dbae-4c35-905a-6882da609fa9\")) {                    Plotly.newPlot(                        \"b2ec9263-dbae-4c35-905a-6882da609fa9\",                        [{\"hovertemplate\":\"pct_both_over_benchmark=%{x}<br>avg_tchr_edu_lvl=%{y}<extra></extra>\",\"legendgroup\":\"\",\"marker\":{\"color\":\"#636efa\",\"symbol\":\"circle\"},\"mode\":\"markers\",\"name\":\"\",\"orientation\":\"v\",\"showlegend\":false,\"x\":[70.204,93.44,47.599999999999994,64.33,95.92,73.9675,null,18.81,85.565,59.141999999999996,54.32,null,18.058461538461536,54.3825,41.239999999999995,93.9,70.55000000000001,17.3775,44.0125,41.27,58.49,36.84,77.78,28.265,64.45,84.51,78.6,72.97,null,null,null,null,null,58.82,null,58.29666666666666,70.37,null,39.26,88.03,82.86,88.91333333333334,null,78.57,57.75,56.55,null,9.68,80.29166666666667,82.34625,83.86,96.7,71.43,20.9,83.71,76.265,24.085,29.71,55.24,36.82,56.88333333333333,69.3,39.14333333333334,86.38499999999999,33.589999999999996,41.54,83.12,56.52,71.15333333333334,32.4125,35.94,null,33.385,63.16,16.19333333333333,86.57,13.89,null,65.38428571428571,91.62,67.83,22.66,70.9,15.04,null,87.81,null,56.06,40.0525,22.03,18.81375,47.59,70.37,63.33,29.91,48.8525,92.17,null,71.43,40.54,32.55136363636364,null,86.412,50.26,33.53666666666667,86.71,null,64.96799999999999,26.42,74.51,58.464285714285715,61.11,53.265,67.03999999999999,61.11,64.81,8.33,null,20.54,18.87,85.5675,16.91,58.97,null,56.41,27.66,91.93666666666667,93.20833333333333,26.66769230769231,74.64571428571428,59.21666666666667,60.09375,80.0,null,70.1525,81.798,90.14,0.96,71.88,12.9,42.55,67.59384615384616,32.86,29.17,53.7525,44.40833333333333,58.59,50.08,48.216,48.48,42.86,54.17,78.02571428571427,68.33,19.912,95.53166666666668,77.34166666666665,61.67,null,34.0875,33.33,26.62,53.150555555555556,31.237499999999997,69.09,null,36.230000000000004,97.75,76.47,90.32,55.489999999999995,77.14,null,74.68,84.90666666666668,71.43,null,null,26.15,null,58.663333333333334,67.6,79.76,37.5,21.88,41.91,87.39666666666666,73.58571428571429,28.7,null,31.275333333333332,80.61500000000001,20.65160975609756,48.586666666666666,95.98,null,62.5,61.635000000000005,9.23,12.775,76.47,96.92,57.32833333333334,null,87.18,80.005,55.88333333333333,null,null,null,27.63,42.36571428571428,49.739999999999995,86.655,null,47.06,66.02,42.291999999999994,44.055,85.565,33.334,75.33,60.446666666666665,37.74,null,87.87,63.14000000000001,76.33,65.3275,49.056,32.309999999999995,null,88.905,72.66499999999999,71.07,23.53,70.93833333333333,35.29,71.51,18.214,76.28666666666668,93.805,70.0,33.53130434782609,64.045,84.0,77.628,50.0,71.01666666666667,null,24.967000000000002,93.59,45.256,38.642,96.62666666666667,33.93,90.61333333333334,74.595,10.666666666666666,18.18,51.068,73.61,31.94,41.872,98.96000000000001,44.74,38.855000000000004,85.868,84.1525,93.40666666666668,56.207499999999996,33.9075,46.146,null,91.505,null,82.04333333333334,68.57,44.94333333333333,90.67,27.12,20.2425,73.64,28.213333333333335,26.92,41.3,62.285,88.3375,78.06666666666666,null,66.41666666666667,27.912,82.482,67.35,47.906,60.23,19.56222222222222,50.415757575757574,91.772,56.02125,63.96333333333333,18.11,33.968,57.9725,26.64,65.73,71.45,84.81333333333333,96.34,81.58,5.88,72.38,92.30799999999999,54.555,47.519,79.8,51.815,50.075,83.73333333333333,49.14,75.0,72.73,86.84,39.52,60.66,null,84.752,81.63,60.87,null,null,83.1225,62.125,65.25,23.46,54.47,71.43,31.383333333333336,93.96,72.71333333333332,null,null,null,45.64545454545455,null,62.5,null,69.77,55.65846153846154,35.42,76.3,87.724,87.76,73.44800000000001,87.88,83.095,82.208,71.992,71.53,62.07,null,49.8475,null,65.42999999999999,70.6,41.830000000000005,65.20333333333333,68.44,null,71.495,17.0025,41.915,66.67,70.72,22.737142857142857,65.474,69.622,92.33,null,55.17,39.792500000000004,39.792500000000004,68.44,51.66111111111111,62.3675,75.54,71.70500000000001,null,57.14,56.60666666666666,76.53222222222222,31.25,35.415,50.0,64.05,56.0,43.3975,37.5,47.19,78.5,62.5,63.346666666666664,66.75],\"xaxis\":\"x\",\"y\":[5.763992537313433,5.497109826589595,4.3913352272727275,4.706997084548105,4.780701754385965,6.177966101694915,4.653225806451613,6.862595419847328,4.569105691056911,5.301410541945063,4.44,4.093023255813954,5.2113271344040575,4.2930845225027445,4.5557029177718835,6.693069306930693,4.654929577464789,6.763052208835341,5.459915611814346,4.715355805243446,5.065625,5.6767676767676765,5.190839694656488,5.36443661971831,5.62012987012987,4.984615384615385,4.854755784061696,6.377104377104377,3.740740740740741,4.695652173913044,4.0,3.5454545454545454,3.7948717948717947,4.852173913043479,3.78125,6.576146788990826,4.744827586206896,3.5,5.267326732673268,5.666666666666667,4.717391304347826,4.855569155446757,4.391304347826087,4.595375722543353,4.019108280254777,5.0615711252653925,4.25,4.296875,5.282110091743119,5.572741806554756,6.981574539363484,5.158730158730159,5.503496503496503,4.954022988505747,5.183752417794971,4.681481481481481,5.843267108167771,4.048206278026906,4.785087719298246,3.609988109393579,5.058617672790901,6.3694779116465865,4.220779220779221,4.25,3.743050847457627,4.80327868852459,5.888888888888889,4.553191489361702,4.14987298899238,5.782010582010582,3.625,4.520833333333333,5.072050673000792,3.8941176470588235,4.555473916238061,6.0091093117408905,3.5473684210526315,3.0517241379310347,6.5064935064935066,5.838888888888889,4.498666666666667,6.461194029850747,5.816582914572864,4.775933609958506,4.821167883211679,4.762152777777778,5.5,3.5063291139240507,4.3852813852813854,3.8865248226950353,5.667580534612749,4.375,4.018264840182648,4.503703703703704,4.755226480836237,5.897163120567376,4.80030959752322,3.5,4.136363636363637,4.2,5.009097270818755,4.6,4.6023054755043225,6.047131147540983,5.765591397849462,6.354497354497354,3.871794871794872,3.7576013513513513,4.314814814814815,4.0426829268292686,5.64221824686941,4.622641509433962,3.8741721854304636,4.062226117440841,4.063291139240507,4.7190082644628095,4.417218543046357,3.1463414634146343,4.808219178082192,3.4671052631578947,4.685045948203843,5.6100782778864975,4.204379562043796,3.6,3.6769230769230767,4.139072847682119,4.607681088964512,5.675126903553299,4.279305036287663,6.2,4.6434108527131785,3.0207231040564375,4.379518072289157,4.363636363636363,4.413223140495868,6.1782407407407405,5.40979381443299,3.2346938775510203,3.6194690265486726,4.985294117647059,3.231578947368421,5.294657762938231,3.3564356435643563,3.875,4.175,4.5424739195231,4.56701030927835,6.020064205457464,4.989583333333333,3.8698630136986303,4.314814814814815,3.618181818181818,6.276081424936387,5.033492822966507,5.59009009009009,5.872706422018348,4.853146853146853,4.034883720930233,4.454545454545454,7.272638753651412,3.779816513761468,3.660377358490566,5.399808703969392,3.836693548387097,3.681159420289855,3.9404761904761907,3.9585492227979273,6.06140350877193,5.129032258064516,6.858695652173913,6.0427715996578275,4.1,3.758241758241758,3.957095709570957,7.401273885350318,4.976744186046512,3.3454545454545452,4.0,4.03030303030303,3.230769230769231,4.317073170731708,4.695754716981132,4.426691729323308,4.308943089430894,4.093877551020408,4.225225225225225,5.057324840764331,4.521598272138229,5.085427135678392,5.333333333333333,5.750393700787401,6.46218487394958,4.633090352538328,3.5375,6.14975845410628,3.6315789473684212,4.307894736842106,3.9363636363636365,5.6803977272727275,4.295150501672241,4.6521739130434785,6.894021739130435,4.288683602771362,4.518256772673734,3.976923076923077,4.716599190283401,2.984189723320158,2.6,4.285714285714286,4.372549019607843,3.443243243243243,3.8919860627177703,4.276666666666666,5.310408921933085,3.9245283018867925,4.228758169934641,5.401315789473684,4.783719074221867,3.8693009118541033,5.0700280112044815,5.778272980501392,4.747844827586207,4.511156186612576,5.0125,3.9,6.717314487632509,4.271305285868393,4.196261682242991,5.390893470790378,4.737383177570093,4.31216361679225,6.087719298245614,4.31413612565445,3.8967741935483873,4.175572519083969,3.802139037433155,6.247278382581649,3.4427480916030535,4.449612403100775,5.743027888446215,4.830472103004292,5.4025423728813555,3.8065693430656933,3.082939048149179,5.268984446477584,5.417218543046357,5.501766784452297,3.806201550387597,3.656,5.0,4.855039637599094,5.583333333333333,3.2130777903043968,6.058148431522571,5.930327868852459,5.086705202312139,6.805280528052806,3.8634538152610443,6.205649717514124,5.171717171717172,5.116910229645094,4.425196850393701,3.945945945945946,5.53411306042885,5.674311926605505,3.4444444444444446,4.869760479041916,5.349320543565148,4.6255506607929515,4.414035087719299,3.6923076923076925,4.372847011144883,4.13550135501355,3.55,5.69905462184874,2.3076923076923075,5.22027972027972,4.346534653465347,4.7434554973821985,5.678776290630975,3.357142857142857,5.5380597014925375,4.230232558139535,3.9708029197080292,3.8011049723756907,4.479166666666667,5.583599088838269,4.783042394014963,6.092896174863388,2.972972972972973,5.623152709359606,3.5602455871066767,4.453883495145631,5.89622641509434,5.264434180138569,5.414285714285715,4.214172227518271,5.741881443298969,6.103343465045593,2.4391066160977664,4.983516483516484,5.688693098384729,4.253448275862069,4.557512953367875,5.01980198019802,3.957055214723926,4.914754098360656,4.59275053304904,6.13903743315508,5.763333333333334,3.857142857142857,4.863636363636363,5.204799107142857,4.386271870794078,5.645645645645645,5.321029082774049,4.788418708240535,4.424170616113744,5.404129793510324,4.96,5.163636363636364,3.74,5.617647058823529,5.076923076923077,5.28134110787172,4.28,4.5495207667731625,4.303630363036303,4.329411764705882,3.774193548387097,4.104477611940299,4.349384098544233,4.239130434782608,6.205555555555556,4.898550724637682,4.115942028985507,4.5,4.532786885245901,6.176706827309237,4.302734375,3.422222222222222,3.699074074074074,3.0833333333333335,4.543509965969859,3.75,3.463768115942029,4.3,3.763157894736842,5.328223624887285,5.472222222222222,4.762987012987013,5.073654390934844,3.8009049773755654,6.16258064516129,5.551839464882943,4.6015625,5.389521640091116,4.49877750611247,4.872549019607843,4.711538461538462,3.9672544080604535,5.268456375838926,4.392857142857143,4.434058898847631,5.925699300699301,4.174746936600959,3.925581395348837,5.485165794066318,4.188679245283019,3.5685019206145965,6.2536873156342185,4.4013793103448275,4.464454976303317,5.312831389183457,4.351145038167939,4.460688758934373,5.711648631444939,5.827027027027027,5.258503401360544,4.337078651685394,3.6889580093312597,3.6889580093312597,3.7191489361702126,3.9733481399222654,5.211538461538462,4.184873949579832,4.330783938814531,4.181818181818182,4.425,5.380106571936057,4.708364174685419,4.341772151898734,3.8615384615384616,4.061728395061729,3.9938650306748467,4.548387096774194,5.354014598540146,3.630630630630631,4.201907790143085,4.364406779661017,4.511627906976744,4.460093896713615,5.632798573975045],\"yaxis\":\"y\",\"type\":\"scatter\"},{\"hovertemplate\":\"<b>OLS trendline</b><br>avg_tchr_edu_lvl = 0.00963694 * pct_both_over_benchmark + 4.24783<br>R<sup>2</sup>=0.065770<br><br>pct_both_over_benchmark=%{x}<br>avg_tchr_edu_lvl=%{y} <b>(trend)</b><extra></extra>\",\"legendgroup\":\"\",\"marker\":{\"color\":\"#636efa\",\"symbol\":\"circle\"},\"mode\":\"lines\",\"name\":\"\",\"showlegend\":false,\"x\":[0.96,5.88,8.33,9.23,9.68,10.666666666666666,12.775,12.9,13.89,15.04,16.19333333333333,16.91,17.0025,17.3775,18.058461538461536,18.11,18.18,18.214,18.81,18.81375,18.87,19.56222222222222,19.912,20.2425,20.54,20.65160975609756,20.9,21.88,22.03,22.66,22.737142857142857,23.46,23.53,24.085,24.967000000000002,26.15,26.42,26.62,26.64,26.66769230769231,26.92,27.12,27.63,27.66,27.912,28.213333333333335,28.265,28.7,29.17,29.71,29.91,31.237499999999997,31.25,31.275333333333332,31.383333333333336,31.94,32.309999999999995,32.4125,32.55136363636364,32.86,33.33,33.334,33.385,33.53130434782609,33.53666666666667,33.589999999999996,33.9075,33.93,33.968,34.0875,35.29,35.415,35.42,35.94,36.230000000000004,36.82,36.84,37.5,37.5,37.74,38.642,38.855000000000004,39.14333333333334,39.26,39.52,39.792500000000004,39.792500000000004,40.0525,40.54,41.239999999999995,41.27,41.3,41.54,41.830000000000005,41.872,41.91,41.915,42.291999999999994,42.36571428571428,42.55,42.86,43.3975,44.0125,44.055,44.40833333333333,44.74,44.94333333333333,45.256,45.64545454545455,46.146,47.06,47.19,47.519,47.59,47.599999999999994,47.906,48.216,48.48,48.586666666666666,48.8525,49.056,49.14,49.739999999999995,49.8475,50.0,50.0,50.075,50.08,50.26,50.415757575757574,51.068,51.66111111111111,51.815,53.150555555555556,53.265,53.7525,54.17,54.32,54.3825,54.47,54.555,55.17,55.24,55.489999999999995,55.65846153846154,55.88333333333333,56.0,56.02125,56.06,56.207499999999996,56.41,56.52,56.55,56.60666666666666,56.88333333333333,57.14,57.32833333333334,57.75,57.9725,58.29666666666666,58.464285714285715,58.49,58.59,58.663333333333334,58.82,58.97,59.141999999999996,59.21666666666667,60.09375,60.23,60.446666666666665,60.66,60.87,61.11,61.11,61.635000000000005,61.67,62.07,62.125,62.285,62.3675,62.5,62.5,62.5,63.14000000000001,63.16,63.33,63.346666666666664,63.96333333333333,64.045,64.05,64.33,64.45,64.81,64.96799999999999,65.20333333333333,65.25,65.3275,65.38428571428571,65.42999999999999,65.474,65.73,66.02,66.41666666666667,66.67,66.75,67.03999999999999,67.35,67.59384615384616,67.6,67.83,68.33,68.44,68.44,68.57,69.09,69.3,69.622,69.77,70.0,70.1525,70.204,70.37,70.37,70.55000000000001,70.6,70.72,70.9,70.93833333333333,71.01666666666667,71.07,71.15333333333334,71.43,71.43,71.43,71.43,71.45,71.495,71.51,71.53,71.70500000000001,71.88,71.992,72.38,72.66499999999999,72.71333333333332,72.73,72.97,73.44800000000001,73.58571428571429,73.61,73.64,73.9675,74.51,74.595,74.64571428571428,74.68,75.0,75.33,75.54,76.265,76.28666666666668,76.3,76.33,76.47,76.47,76.53222222222222,77.14,77.34166666666665,77.628,77.78,78.02571428571427,78.06666666666666,78.5,78.57,78.6,79.76,79.8,80.0,80.005,80.29166666666667,80.61500000000001,81.58,81.63,81.798,82.04333333333334,82.208,82.34625,82.482,82.86,83.095,83.12,83.1225,83.71,83.73333333333333,83.86,84.0,84.1525,84.51,84.752,84.81333333333333,84.90666666666668,85.565,85.565,85.5675,85.868,86.38499999999999,86.412,86.57,86.655,86.71,86.84,87.18,87.39666666666666,87.724,87.76,87.81,87.87,87.88,88.03,88.3375,88.905,88.91333333333334,90.14,90.32,90.61333333333334,90.67,91.505,91.62,91.772,91.93666666666667,92.17,92.30799999999999,92.33,93.20833333333333,93.40666666666668,93.44,93.59,93.805,93.9,93.96,95.53166666666668,95.92,95.98,96.34,96.62666666666667,96.7,96.92,97.75,98.96000000000001],\"xaxis\":\"x\",\"y\":[4.257076715331616,4.304490443793891,4.328100938658236,4.336774181669628,4.341110803175324,4.35061924736559,4.370937122197833,4.372141739282749,4.3816823065952795,4.392764783776503,4.40387938407999,4.410785855366839,4.411677272009677,4.415291123264423,4.421853506491632,4.422350179382028,4.423024764949581,4.423352420796678,4.4290960350575554,4.429132173570103,4.429674251258315,4.436345152981891,4.439715939278171,4.4429009468506875,4.445767935512786,4.446843511665094,4.449237232717343,4.4586814306630815,4.46012697116498,4.466198241272954,4.466941662102502,4.473907790616414,4.4745823761839665,4.479930876040991,4.488430654192156,4.499831150283796,4.502433123187214,4.504360510523079,4.504553249256666,4.5048201182724,4.5072515915268765,4.5091789788627405,4.514093816569196,4.514382924669576,4.516811432712766,4.519715362965469,4.520213271360568,4.524405338816074,4.528934699055356,4.534138644862191,4.536066032198056,4.548859065639859,4.548979527348351,4.54922366307756,4.5502644522389275,4.555629013657084,4.559194680228434,4.560182466238065,4.5615206863087625,4.564494995402063,4.5690243556413455,4.569062903388063,4.569554387158708,4.570964312894618,4.571015989221739,4.57152995917797,4.574589686573655,4.57480651764894,4.575172721242755,4.576324335175934,4.587912751532821,4.589117368617736,4.589165553301133,4.594176760374382,4.596971472011386,4.602657264652187,4.6028500033857735,4.609210381594128,4.609210381594128,4.611523246397166,4.620215763281917,4.6222684307946125,4.625047080870484,4.6261713901497385,4.628676993686363,4.631303058931479,4.631303058931479,4.633808662468104,4.638506669099274,4.645252524774801,4.64554163287518,4.64583074097556,4.648143605778598,4.650938317415602,4.651343068756134,4.651709272349948,4.651757457033345,4.65539058216145,4.65610096206524,4.657876911824716,4.660864362195307,4.666044215660444,4.671970931718228,4.672380501527099,4.6757855524871275,4.678981803152436,4.680941313610566,4.683954462478968,4.687707611272988,4.692531336123566,4.701339496248469,4.702592298016781,4.7057628501842785,4.706447072688511,4.706543442055304,4.709492344679178,4.712479795049768,4.715023946333109,4.7160518862455705,4.718613705246158,4.7205748218604,4.7213843245414635,4.727166486549058,4.7282024572420855,4.729672090085683,4.729672090085683,4.730394860336632,4.730443045020029,4.732177693622307,4.733678719517208,4.739964338459201,4.745680112680782,4.747163130158656,4.760033794479265,4.761136688343677,4.765834694974847,4.769858116038465,4.771303656540364,4.771905965082822,4.772749197042263,4.773568336660005,4.77949505271779,4.780169638285342,4.782578872455173,4.7842023256342285,4.786369400882374,4.787493710161629,4.787698495066064,4.788071926362388,4.789493374522588,4.791444854200152,4.7925049172348775,4.792794025335257,4.793340118413752,4.796006337561699,4.798479817976059,4.800294774383998,4.804358349350446,4.806502567761596,4.80962654140181,4.811241875549964,4.811489682493146,4.812453376161079,4.813160084850896,4.8146698715973235,4.816115412099222,4.817772965208066,4.818492523146789,4.826944919692613,4.8282579523151705,4.8303459552623575,4.83240183508728,4.834425591789938,4.836738456592976,4.836738456592976,4.841797848349621,4.842135141133398,4.845989915805128,4.8465199473224905,4.848061857191182,4.848856904467227,4.850133798577237,4.850133798577237,4.850133798577237,4.856301438052005,4.856494176785591,4.858132456021076,4.858293071632398,4.864235849251315,4.865022865746793,4.86507105043019,4.867769392700401,4.86892582510192,4.872395122306476,4.873917758301809,4.876185650733677,4.876635374445379,4.877382237038027,4.8779294773708886,4.878370023047657,4.878794048261548,4.881261104051455,4.884055815688459,4.8878784672379245,4.89031982453002,4.891090779464366,4.893885491101369,4.89687294147196,4.899222871416073,4.899282175641791,4.901498671078036,4.906317139417698,4.907377202452424,4.907377202452424,4.908630004220736,4.913641211293985,4.915664967996642,4.918768061607385,4.920194328235925,4.92241082367217,4.923880456515767,4.924376758754752,4.92597649024352,4.92597649024352,4.927711138845798,4.928192985679765,4.929349418081284,4.931084066683562,4.931453482589602,4.932208375962817,4.932722345919047,4.933525423975658,4.936191643123604,4.936191643123604,4.936191643123604,4.936191643123604,4.936384381857191,4.93681804400776,4.93696259805795,4.937155336791536,4.938841800710418,4.940528264629299,4.941607601537384,4.945346732968962,4.948093259922569,4.948559045195403,4.948719660806725,4.951032525609763,4.955638981342481,4.956966125193747,4.957200165084531,4.957489273184911,4.96064536994739,4.965873408095923,4.966692547713666,4.967181278073831,4.967511687331408,4.970595507068792,4.973775696172969,4.975799452875627,4.982786231968137,4.982995032262856,4.983123524751914,4.983412632852293,4.984761803987398,4.984761803987398,4.985361435603001,4.991218551562546,4.9931620004595425,4.995921376662056,4.997386191037314,4.9997541240499475,5.000148779552053,5.0043247854464274,5.00499937101398,5.005288479114359,5.016467325662376,5.016852803129549,5.018780190465414,5.01882837514881,5.02159096366355,5.024706906523198,5.034006550418746,5.034488397252712,5.036107402614839,5.0384716644135,5.040058546653362,5.041390853149278,5.042699067303497,5.046341829368282,5.0486065094879224,5.048847432904906,5.048871525246604,5.054533225545707,5.054758087401558,5.055978766047605,5.057327937182711,5.058797570026308,5.0622427748891665,5.064574913565563,5.065165979015228,5.066065426438632,5.072409743085854,5.072409743085854,5.072433835427552,5.075329734899689,5.0803120311629,5.080572228453241,5.082094864448575,5.082914004066318,5.08344403558368,5.084696837351992,5.087973395822963,5.09006139877015,5.093215889376515,5.093562819096971,5.094044665930937,5.094622882131697,5.094719251498489,5.096164792000389,5.099128150029281,5.1045971115947975,5.104677419400458,5.116498728393763,5.1182333769960415,5.12106021175531,5.121606304833804,5.12965314696104,5.130761394679163,5.13222620905442,5.133813091294282,5.136061709852791,5.137391607114538,5.137603619721483,5.1460680624381565,5.147979388212889,5.148300619435533,5.149746159937432,5.151818101323487,5.152733610308022,5.153311826508782,5.1684578786564535,5.1722002224002575,5.172778438601017,5.176247735805574,5.179010324320314,5.179717033010131,5.181837159079582,5.189835816523421,5.201496509905404],\"yaxis\":\"y\",\"type\":\"scatter\"}],                        {\"template\":{\"data\":{\"histogram2dcontour\":[{\"type\":\"histogram2dcontour\",\"colorbar\":{\"outlinewidth\":0,\"ticks\":\"\"},\"colorscale\":[[0.0,\"#0d0887\"],[0.1111111111111111,\"#46039f\"],[0.2222222222222222,\"#7201a8\"],[0.3333333333333333,\"#9c179e\"],[0.4444444444444444,\"#bd3786\"],[0.5555555555555556,\"#d8576b\"],[0.6666666666666666,\"#ed7953\"],[0.7777777777777778,\"#fb9f3a\"],[0.8888888888888888,\"#fdca26\"],[1.0,\"#f0f921\"]]}],\"choropleth\":[{\"type\":\"choropleth\",\"colorbar\":{\"outlinewidth\":0,\"ticks\":\"\"}}],\"histogram2d\":[{\"type\":\"histogram2d\",\"colorbar\":{\"outlinewidth\":0,\"ticks\":\"\"},\"colorscale\":[[0.0,\"#0d0887\"],[0.1111111111111111,\"#46039f\"],[0.2222222222222222,\"#7201a8\"],[0.3333333333333333,\"#9c179e\"],[0.4444444444444444,\"#bd3786\"],[0.5555555555555556,\"#d8576b\"],[0.6666666666666666,\"#ed7953\"],[0.7777777777777778,\"#fb9f3a\"],[0.8888888888888888,\"#fdca26\"],[1.0,\"#f0f921\"]]}],\"heatmap\":[{\"type\":\"heatmap\",\"colorbar\":{\"outlinewidth\":0,\"ticks\":\"\"},\"colorscale\":[[0.0,\"#0d0887\"],[0.1111111111111111,\"#46039f\"],[0.2222222222222222,\"#7201a8\"],[0.3333333333333333,\"#9c179e\"],[0.4444444444444444,\"#bd3786\"],[0.5555555555555556,\"#d8576b\"],[0.6666666666666666,\"#ed7953\"],[0.7777777777777778,\"#fb9f3a\"],[0.8888888888888888,\"#fdca26\"],[1.0,\"#f0f921\"]]}],\"heatmapgl\":[{\"type\":\"heatmapgl\",\"colorbar\":{\"outlinewidth\":0,\"ticks\":\"\"},\"colorscale\":[[0.0,\"#0d0887\"],[0.1111111111111111,\"#46039f\"],[0.2222222222222222,\"#7201a8\"],[0.3333333333333333,\"#9c179e\"],[0.4444444444444444,\"#bd3786\"],[0.5555555555555556,\"#d8576b\"],[0.6666666666666666,\"#ed7953\"],[0.7777777777777778,\"#fb9f3a\"],[0.8888888888888888,\"#fdca26\"],[1.0,\"#f0f921\"]]}],\"contourcarpet\":[{\"type\":\"contourcarpet\",\"colorbar\":{\"outlinewidth\":0,\"ticks\":\"\"}}],\"contour\":[{\"type\":\"contour\",\"colorbar\":{\"outlinewidth\":0,\"ticks\":\"\"},\"colorscale\":[[0.0,\"#0d0887\"],[0.1111111111111111,\"#46039f\"],[0.2222222222222222,\"#7201a8\"],[0.3333333333333333,\"#9c179e\"],[0.4444444444444444,\"#bd3786\"],[0.5555555555555556,\"#d8576b\"],[0.6666666666666666,\"#ed7953\"],[0.7777777777777778,\"#fb9f3a\"],[0.8888888888888888,\"#fdca26\"],[1.0,\"#f0f921\"]]}],\"surface\":[{\"type\":\"surface\",\"colorbar\":{\"outlinewidth\":0,\"ticks\":\"\"},\"colorscale\":[[0.0,\"#0d0887\"],[0.1111111111111111,\"#46039f\"],[0.2222222222222222,\"#7201a8\"],[0.3333333333333333,\"#9c179e\"],[0.4444444444444444,\"#bd3786\"],[0.5555555555555556,\"#d8576b\"],[0.6666666666666666,\"#ed7953\"],[0.7777777777777778,\"#fb9f3a\"],[0.8888888888888888,\"#fdca26\"],[1.0,\"#f0f921\"]]}],\"mesh3d\":[{\"type\":\"mesh3d\",\"colorbar\":{\"outlinewidth\":0,\"ticks\":\"\"}}],\"scatter\":[{\"marker\":{\"line\":{\"color\":\"#283442\"}},\"type\":\"scatter\"}],\"parcoords\":[{\"type\":\"parcoords\",\"line\":{\"colorbar\":{\"outlinewidth\":0,\"ticks\":\"\"}}}],\"scatterpolargl\":[{\"type\":\"scatterpolargl\",\"marker\":{\"colorbar\":{\"outlinewidth\":0,\"ticks\":\"\"}}}],\"bar\":[{\"error_x\":{\"color\":\"#f2f5fa\"},\"error_y\":{\"color\":\"#f2f5fa\"},\"marker\":{\"line\":{\"color\":\"rgb(17,17,17)\",\"width\":0.5},\"pattern\":{\"fillmode\":\"overlay\",\"size\":10,\"solidity\":0.2}},\"type\":\"bar\"}],\"scattergeo\":[{\"type\":\"scattergeo\",\"marker\":{\"colorbar\":{\"outlinewidth\":0,\"ticks\":\"\"}}}],\"scatterpolar\":[{\"type\":\"scatterpolar\",\"marker\":{\"colorbar\":{\"outlinewidth\":0,\"ticks\":\"\"}}}],\"histogram\":[{\"marker\":{\"pattern\":{\"fillmode\":\"overlay\",\"size\":10,\"solidity\":0.2}},\"type\":\"histogram\"}],\"scattergl\":[{\"marker\":{\"line\":{\"color\":\"#283442\"}},\"type\":\"scattergl\"}],\"scatter3d\":[{\"type\":\"scatter3d\",\"line\":{\"colorbar\":{\"outlinewidth\":0,\"ticks\":\"\"}},\"marker\":{\"colorbar\":{\"outlinewidth\":0,\"ticks\":\"\"}}}],\"scattermapbox\":[{\"type\":\"scattermapbox\",\"marker\":{\"colorbar\":{\"outlinewidth\":0,\"ticks\":\"\"}}}],\"scatterternary\":[{\"type\":\"scatterternary\",\"marker\":{\"colorbar\":{\"outlinewidth\":0,\"ticks\":\"\"}}}],\"scattercarpet\":[{\"type\":\"scattercarpet\",\"marker\":{\"colorbar\":{\"outlinewidth\":0,\"ticks\":\"\"}}}],\"carpet\":[{\"aaxis\":{\"endlinecolor\":\"#A2B1C6\",\"gridcolor\":\"#506784\",\"linecolor\":\"#506784\",\"minorgridcolor\":\"#506784\",\"startlinecolor\":\"#A2B1C6\"},\"baxis\":{\"endlinecolor\":\"#A2B1C6\",\"gridcolor\":\"#506784\",\"linecolor\":\"#506784\",\"minorgridcolor\":\"#506784\",\"startlinecolor\":\"#A2B1C6\"},\"type\":\"carpet\"}],\"table\":[{\"cells\":{\"fill\":{\"color\":\"#506784\"},\"line\":{\"color\":\"rgb(17,17,17)\"}},\"header\":{\"fill\":{\"color\":\"#2a3f5f\"},\"line\":{\"color\":\"rgb(17,17,17)\"}},\"type\":\"table\"}],\"barpolar\":[{\"marker\":{\"line\":{\"color\":\"rgb(17,17,17)\",\"width\":0.5},\"pattern\":{\"fillmode\":\"overlay\",\"size\":10,\"solidity\":0.2}},\"type\":\"barpolar\"}],\"pie\":[{\"automargin\":true,\"type\":\"pie\"}]},\"layout\":{\"autotypenumbers\":\"strict\",\"colorway\":[\"#636efa\",\"#EF553B\",\"#00cc96\",\"#ab63fa\",\"#FFA15A\",\"#19d3f3\",\"#FF6692\",\"#B6E880\",\"#FF97FF\",\"#FECB52\"],\"font\":{\"color\":\"#f2f5fa\"},\"hovermode\":\"closest\",\"hoverlabel\":{\"align\":\"left\"},\"paper_bgcolor\":\"rgb(17,17,17)\",\"plot_bgcolor\":\"rgb(17,17,17)\",\"polar\":{\"bgcolor\":\"rgb(17,17,17)\",\"angularaxis\":{\"gridcolor\":\"#506784\",\"linecolor\":\"#506784\",\"ticks\":\"\"},\"radialaxis\":{\"gridcolor\":\"#506784\",\"linecolor\":\"#506784\",\"ticks\":\"\"}},\"ternary\":{\"bgcolor\":\"rgb(17,17,17)\",\"aaxis\":{\"gridcolor\":\"#506784\",\"linecolor\":\"#506784\",\"ticks\":\"\"},\"baxis\":{\"gridcolor\":\"#506784\",\"linecolor\":\"#506784\",\"ticks\":\"\"},\"caxis\":{\"gridcolor\":\"#506784\",\"linecolor\":\"#506784\",\"ticks\":\"\"}},\"coloraxis\":{\"colorbar\":{\"outlinewidth\":0,\"ticks\":\"\"}},\"colorscale\":{\"sequential\":[[0.0,\"#0d0887\"],[0.1111111111111111,\"#46039f\"],[0.2222222222222222,\"#7201a8\"],[0.3333333333333333,\"#9c179e\"],[0.4444444444444444,\"#bd3786\"],[0.5555555555555556,\"#d8576b\"],[0.6666666666666666,\"#ed7953\"],[0.7777777777777778,\"#fb9f3a\"],[0.8888888888888888,\"#fdca26\"],[1.0,\"#f0f921\"]],\"sequentialminus\":[[0.0,\"#0d0887\"],[0.1111111111111111,\"#46039f\"],[0.2222222222222222,\"#7201a8\"],[0.3333333333333333,\"#9c179e\"],[0.4444444444444444,\"#bd3786\"],[0.5555555555555556,\"#d8576b\"],[0.6666666666666666,\"#ed7953\"],[0.7777777777777778,\"#fb9f3a\"],[0.8888888888888888,\"#fdca26\"],[1.0,\"#f0f921\"]],\"diverging\":[[0,\"#8e0152\"],[0.1,\"#c51b7d\"],[0.2,\"#de77ae\"],[0.3,\"#f1b6da\"],[0.4,\"#fde0ef\"],[0.5,\"#f7f7f7\"],[0.6,\"#e6f5d0\"],[0.7,\"#b8e186\"],[0.8,\"#7fbc41\"],[0.9,\"#4d9221\"],[1,\"#276419\"]]},\"xaxis\":{\"gridcolor\":\"#283442\",\"linecolor\":\"#506784\",\"ticks\":\"\",\"title\":{\"standoff\":15},\"zerolinecolor\":\"#283442\",\"automargin\":true,\"zerolinewidth\":2},\"yaxis\":{\"gridcolor\":\"#283442\",\"linecolor\":\"#506784\",\"ticks\":\"\",\"title\":{\"standoff\":15},\"zerolinecolor\":\"#283442\",\"automargin\":true,\"zerolinewidth\":2},\"scene\":{\"xaxis\":{\"backgroundcolor\":\"rgb(17,17,17)\",\"gridcolor\":\"#506784\",\"linecolor\":\"#506784\",\"showbackground\":true,\"ticks\":\"\",\"zerolinecolor\":\"#C8D4E3\",\"gridwidth\":2},\"yaxis\":{\"backgroundcolor\":\"rgb(17,17,17)\",\"gridcolor\":\"#506784\",\"linecolor\":\"#506784\",\"showbackground\":true,\"ticks\":\"\",\"zerolinecolor\":\"#C8D4E3\",\"gridwidth\":2},\"zaxis\":{\"backgroundcolor\":\"rgb(17,17,17)\",\"gridcolor\":\"#506784\",\"linecolor\":\"#506784\",\"showbackground\":true,\"ticks\":\"\",\"zerolinecolor\":\"#C8D4E3\",\"gridwidth\":2}},\"shapedefaults\":{\"line\":{\"color\":\"#f2f5fa\"}},\"annotationdefaults\":{\"arrowcolor\":\"#f2f5fa\",\"arrowhead\":0,\"arrowwidth\":1},\"geo\":{\"bgcolor\":\"rgb(17,17,17)\",\"landcolor\":\"rgb(17,17,17)\",\"subunitcolor\":\"#506784\",\"showland\":true,\"showlakes\":true,\"lakecolor\":\"rgb(17,17,17)\"},\"title\":{\"x\":0.05},\"updatemenudefaults\":{\"bgcolor\":\"#506784\",\"borderwidth\":0},\"sliderdefaults\":{\"bgcolor\":\"#C8D4E3\",\"borderwidth\":1,\"bordercolor\":\"rgb(17,17,17)\",\"tickwidth\":0},\"mapbox\":{\"style\":\"dark\"}}},\"xaxis\":{\"anchor\":\"y\",\"domain\":[0.0,1.0],\"title\":{\"text\":\"pct_both_over_benchmark\"}},\"yaxis\":{\"anchor\":\"x\",\"domain\":[0.0,1.0],\"title\":{\"text\":\"avg_tchr_edu_lvl\"}},\"legend\":{\"tracegroupgap\":0},\"margin\":{\"t\":60}},                        {\"responsive\": true}                    ).then(function(){\n                            \nvar gd = document.getElementById('b2ec9263-dbae-4c35-905a-6882da609fa9');\nvar x = new MutationObserver(function (mutations, observer) {{\n        var display = window.getComputedStyle(gd).display;\n        if (!display || display === 'none') {{\n            console.log([gd, 'removed!']);\n            Plotly.purge(gd);\n            observer.disconnect();\n        }}\n}});\n\n// Listen for the removal of the full notebook cells\nvar notebookContainer = gd.closest('#notebook-container');\nif (notebookContainer) {{\n    x.observe(notebookContainer, {childList: true});\n}}\n\n// Listen for the clearing of the current output cell\nvar outputEl = gd.closest('.output');\nif (outputEl) {{\n    x.observe(outputEl, {childList: true});\n}}\n\n                        })                };                });            </script>        </div>"
     },
     "metadata": {},
     "output_type": "display_data"
    }
   ],
   "source": [
    "# Code\n",
    "px.scatter(final_merged_df,'pct_both_over_benchmark', 'avg_tchr_edu_lvl',trendline='ols')"
   ]
  },
  {
   "cell_type": "markdown",
   "metadata": {},
   "source": [
    "## Conclusions and Recommendations"
   ]
  },
  {
   "cell_type": "markdown",
   "metadata": {},
   "source": [
    "Based on your exploration of the data, what are you key takeaways and recommendations? Make sure to answer your question of interest or address your problem statement here."
   ]
  },
  {
   "cell_type": "markdown",
   "metadata": {},
   "source": [
    "**To-Do:** *Edit this cell with your conclusions and recommendations.*"
   ]
  },
  {
   "cell_type": "markdown",
   "metadata": {},
   "source": [
    "Don't forget to create your README!\n",
    "\n",
    "**To-Do:** *If you combine your problem statement, data dictionary, brief summary of your analysis, and conclusions/recommendations, you have an amazing README.md file that quickly aligns your audience to the contents of your project.* Don't forget to cite your data sources!"
   ]
  }
 ],
 "metadata": {
  "anaconda-cloud": {},
  "kernelspec": {
   "display_name": "Python 3.9.13 ('base')",
   "language": "python",
   "name": "python3"
  },
  "language_info": {
   "codemirror_mode": {
    "name": "ipython",
    "version": 3
   },
   "file_extension": ".py",
   "mimetype": "text/x-python",
   "name": "python",
   "nbconvert_exporter": "python",
   "pygments_lexer": "ipython3",
   "version": "3.9.13"
  },
  "vscode": {
   "interpreter": {
    "hash": "cda0ac541ab6c535dcb4ffe1de6394d0d0ba460ea4bcec2c3250fd08f595b9ac"
   }
  }
 },
 "nbformat": 4,
 "nbformat_minor": 4
}
